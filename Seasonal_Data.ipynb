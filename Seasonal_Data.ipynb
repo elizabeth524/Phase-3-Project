{
 "cells": [
  {
   "cell_type": "markdown",
   "metadata": {},
   "source": [
    "# Import Necessary Libraries and Data"
   ]
  },
  {
   "cell_type": "code",
   "execution_count": 1,
   "metadata": {
    "ExecuteTime": {
     "end_time": "2022-05-17T17:45:02.959197Z",
     "start_time": "2022-05-17T17:45:01.854494Z"
    }
   },
   "outputs": [],
   "source": [
    "import numpy as np\n",
    "import pandas as pd\n",
    "import matplotlib.pyplot as plt\n",
    "from sklearn.model_selection import train_test_split, GridSearchCV\n",
    "from sklearn.preprocessing import OneHotEncoder\n",
    "from sklearn.linear_model import LogisticRegression\n",
    "from sklearn.tree import DecisionTreeClassifier\n",
    "from sklearn.metrics import accuracy_score, classification_report\n",
    "from sklearn import tree\n",
    "from imblearn.over_sampling import SMOTE\n",
    "from sklearn.ensemble import RandomForestClassifier\n",
    "from xgboost import XGBClassifier\n",
    "import seaborn as sns\n",
    "import warnings\n",
    "warnings.filterwarnings('ignore')"
   ]
  },
  {
   "cell_type": "code",
   "execution_count": 2,
   "metadata": {
    "ExecuteTime": {
     "end_time": "2022-05-17T17:45:03.033868Z",
     "start_time": "2022-05-17T17:45:02.960379Z"
    }
   },
   "outputs": [],
   "source": [
    "training_labels = pd.read_csv('Data/training_set_labels.csv', index_col='respondent_id')\n",
    "training_features = pd.read_csv('Data/training_set_features.csv', index_col='respondent_id')"
   ]
  },
  {
   "cell_type": "markdown",
   "metadata": {},
   "source": [
    "# Explore the Data"
   ]
  },
  {
   "cell_type": "code",
   "execution_count": 3,
   "metadata": {
    "ExecuteTime": {
     "end_time": "2022-05-17T17:45:03.040877Z",
     "start_time": "2022-05-17T17:45:03.035103Z"
    }
   },
   "outputs": [
    {
     "name": "stdout",
     "output_type": "stream",
     "text": [
      "<class 'pandas.core.frame.DataFrame'>\n",
      "Int64Index: 26707 entries, 0 to 26706\n",
      "Data columns (total 2 columns):\n",
      " #   Column            Non-Null Count  Dtype\n",
      "---  ------            --------------  -----\n",
      " 0   h1n1_vaccine      26707 non-null  int64\n",
      " 1   seasonal_vaccine  26707 non-null  int64\n",
      "dtypes: int64(2)\n",
      "memory usage: 625.9 KB\n"
     ]
    }
   ],
   "source": [
    "training_labels.info()"
   ]
  },
  {
   "cell_type": "code",
   "execution_count": 4,
   "metadata": {
    "ExecuteTime": {
     "end_time": "2022-05-17T17:45:03.069108Z",
     "start_time": "2022-05-17T17:45:03.064202Z"
    }
   },
   "outputs": [
    {
     "data": {
      "text/plain": [
       "0    14272\n",
       "1    12435\n",
       "Name: seasonal_vaccine, dtype: int64"
      ]
     },
     "execution_count": 4,
     "metadata": {},
     "output_type": "execute_result"
    }
   ],
   "source": [
    "training_labels.seasonal_vaccine.value_counts()"
   ]
  },
  {
   "cell_type": "code",
   "execution_count": 5,
   "metadata": {
    "ExecuteTime": {
     "end_time": "2022-05-17T17:45:03.573775Z",
     "start_time": "2022-05-17T17:45:03.530353Z"
    }
   },
   "outputs": [
    {
     "name": "stdout",
     "output_type": "stream",
     "text": [
      "<class 'pandas.core.frame.DataFrame'>\n",
      "Int64Index: 26707 entries, 0 to 26706\n",
      "Data columns (total 35 columns):\n",
      " #   Column                       Non-Null Count  Dtype  \n",
      "---  ------                       --------------  -----  \n",
      " 0   h1n1_concern                 26615 non-null  float64\n",
      " 1   h1n1_knowledge               26591 non-null  float64\n",
      " 2   behavioral_antiviral_meds    26636 non-null  float64\n",
      " 3   behavioral_avoidance         26499 non-null  float64\n",
      " 4   behavioral_face_mask         26688 non-null  float64\n",
      " 5   behavioral_wash_hands        26665 non-null  float64\n",
      " 6   behavioral_large_gatherings  26620 non-null  float64\n",
      " 7   behavioral_outside_home      26625 non-null  float64\n",
      " 8   behavioral_touch_face        26579 non-null  float64\n",
      " 9   doctor_recc_h1n1             24547 non-null  float64\n",
      " 10  doctor_recc_seasonal         24547 non-null  float64\n",
      " 11  chronic_med_condition        25736 non-null  float64\n",
      " 12  child_under_6_months         25887 non-null  float64\n",
      " 13  health_worker                25903 non-null  float64\n",
      " 14  health_insurance             14433 non-null  float64\n",
      " 15  opinion_h1n1_vacc_effective  26316 non-null  float64\n",
      " 16  opinion_h1n1_risk            26319 non-null  float64\n",
      " 17  opinion_h1n1_sick_from_vacc  26312 non-null  float64\n",
      " 18  opinion_seas_vacc_effective  26245 non-null  float64\n",
      " 19  opinion_seas_risk            26193 non-null  float64\n",
      " 20  opinion_seas_sick_from_vacc  26170 non-null  float64\n",
      " 21  age_group                    26707 non-null  object \n",
      " 22  education                    25300 non-null  object \n",
      " 23  race                         26707 non-null  object \n",
      " 24  sex                          26707 non-null  object \n",
      " 25  income_poverty               22284 non-null  object \n",
      " 26  marital_status               25299 non-null  object \n",
      " 27  rent_or_own                  24665 non-null  object \n",
      " 28  employment_status            25244 non-null  object \n",
      " 29  hhs_geo_region               26707 non-null  object \n",
      " 30  census_msa                   26707 non-null  object \n",
      " 31  household_adults             26458 non-null  float64\n",
      " 32  household_children           26458 non-null  float64\n",
      " 33  employment_industry          13377 non-null  object \n",
      " 34  employment_occupation        13237 non-null  object \n",
      "dtypes: float64(23), object(12)\n",
      "memory usage: 7.3+ MB\n"
     ]
    }
   ],
   "source": [
    "training_features.info()"
   ]
  },
  {
   "cell_type": "code",
   "execution_count": 6,
   "metadata": {
    "ExecuteTime": {
     "end_time": "2022-05-17T17:45:03.863365Z",
     "start_time": "2022-05-17T17:45:03.843829Z"
    }
   },
   "outputs": [],
   "source": [
    "# Create one DataFrame to house all of our data\n",
    "data_df = pd.concat([training_features, training_labels], axis=1)"
   ]
  },
  {
   "cell_type": "code",
   "execution_count": 7,
   "metadata": {
    "ExecuteTime": {
     "end_time": "2022-05-17T17:45:04.238727Z",
     "start_time": "2022-05-17T17:45:04.200183Z"
    }
   },
   "outputs": [
    {
     "data": {
      "text/html": [
       "<div>\n",
       "<style scoped>\n",
       "    .dataframe tbody tr th:only-of-type {\n",
       "        vertical-align: middle;\n",
       "    }\n",
       "\n",
       "    .dataframe tbody tr th {\n",
       "        vertical-align: top;\n",
       "    }\n",
       "\n",
       "    .dataframe thead th {\n",
       "        text-align: right;\n",
       "    }\n",
       "</style>\n",
       "<table border=\"1\" class=\"dataframe\">\n",
       "  <thead>\n",
       "    <tr style=\"text-align: right;\">\n",
       "      <th></th>\n",
       "      <th>h1n1_concern</th>\n",
       "      <th>h1n1_knowledge</th>\n",
       "      <th>behavioral_antiviral_meds</th>\n",
       "      <th>behavioral_avoidance</th>\n",
       "      <th>behavioral_face_mask</th>\n",
       "      <th>behavioral_wash_hands</th>\n",
       "      <th>behavioral_large_gatherings</th>\n",
       "      <th>behavioral_outside_home</th>\n",
       "      <th>behavioral_touch_face</th>\n",
       "      <th>doctor_recc_h1n1</th>\n",
       "      <th>...</th>\n",
       "      <th>rent_or_own</th>\n",
       "      <th>employment_status</th>\n",
       "      <th>hhs_geo_region</th>\n",
       "      <th>census_msa</th>\n",
       "      <th>household_adults</th>\n",
       "      <th>household_children</th>\n",
       "      <th>employment_industry</th>\n",
       "      <th>employment_occupation</th>\n",
       "      <th>h1n1_vaccine</th>\n",
       "      <th>seasonal_vaccine</th>\n",
       "    </tr>\n",
       "    <tr>\n",
       "      <th>respondent_id</th>\n",
       "      <th></th>\n",
       "      <th></th>\n",
       "      <th></th>\n",
       "      <th></th>\n",
       "      <th></th>\n",
       "      <th></th>\n",
       "      <th></th>\n",
       "      <th></th>\n",
       "      <th></th>\n",
       "      <th></th>\n",
       "      <th></th>\n",
       "      <th></th>\n",
       "      <th></th>\n",
       "      <th></th>\n",
       "      <th></th>\n",
       "      <th></th>\n",
       "      <th></th>\n",
       "      <th></th>\n",
       "      <th></th>\n",
       "      <th></th>\n",
       "      <th></th>\n",
       "    </tr>\n",
       "  </thead>\n",
       "  <tbody>\n",
       "    <tr>\n",
       "      <th>0</th>\n",
       "      <td>1.0</td>\n",
       "      <td>0.0</td>\n",
       "      <td>0.0</td>\n",
       "      <td>0.0</td>\n",
       "      <td>0.0</td>\n",
       "      <td>0.0</td>\n",
       "      <td>0.0</td>\n",
       "      <td>1.0</td>\n",
       "      <td>1.0</td>\n",
       "      <td>0.0</td>\n",
       "      <td>...</td>\n",
       "      <td>Own</td>\n",
       "      <td>Not in Labor Force</td>\n",
       "      <td>oxchjgsf</td>\n",
       "      <td>Non-MSA</td>\n",
       "      <td>0.0</td>\n",
       "      <td>0.0</td>\n",
       "      <td>NaN</td>\n",
       "      <td>NaN</td>\n",
       "      <td>0</td>\n",
       "      <td>0</td>\n",
       "    </tr>\n",
       "    <tr>\n",
       "      <th>1</th>\n",
       "      <td>3.0</td>\n",
       "      <td>2.0</td>\n",
       "      <td>0.0</td>\n",
       "      <td>1.0</td>\n",
       "      <td>0.0</td>\n",
       "      <td>1.0</td>\n",
       "      <td>0.0</td>\n",
       "      <td>1.0</td>\n",
       "      <td>1.0</td>\n",
       "      <td>0.0</td>\n",
       "      <td>...</td>\n",
       "      <td>Rent</td>\n",
       "      <td>Employed</td>\n",
       "      <td>bhuqouqj</td>\n",
       "      <td>MSA, Not Principle  City</td>\n",
       "      <td>0.0</td>\n",
       "      <td>0.0</td>\n",
       "      <td>pxcmvdjn</td>\n",
       "      <td>xgwztkwe</td>\n",
       "      <td>0</td>\n",
       "      <td>1</td>\n",
       "    </tr>\n",
       "    <tr>\n",
       "      <th>2</th>\n",
       "      <td>1.0</td>\n",
       "      <td>1.0</td>\n",
       "      <td>0.0</td>\n",
       "      <td>1.0</td>\n",
       "      <td>0.0</td>\n",
       "      <td>0.0</td>\n",
       "      <td>0.0</td>\n",
       "      <td>0.0</td>\n",
       "      <td>0.0</td>\n",
       "      <td>NaN</td>\n",
       "      <td>...</td>\n",
       "      <td>Own</td>\n",
       "      <td>Employed</td>\n",
       "      <td>qufhixun</td>\n",
       "      <td>MSA, Not Principle  City</td>\n",
       "      <td>2.0</td>\n",
       "      <td>0.0</td>\n",
       "      <td>rucpziij</td>\n",
       "      <td>xtkaffoo</td>\n",
       "      <td>0</td>\n",
       "      <td>0</td>\n",
       "    </tr>\n",
       "    <tr>\n",
       "      <th>3</th>\n",
       "      <td>1.0</td>\n",
       "      <td>1.0</td>\n",
       "      <td>0.0</td>\n",
       "      <td>1.0</td>\n",
       "      <td>0.0</td>\n",
       "      <td>1.0</td>\n",
       "      <td>1.0</td>\n",
       "      <td>0.0</td>\n",
       "      <td>0.0</td>\n",
       "      <td>0.0</td>\n",
       "      <td>...</td>\n",
       "      <td>Rent</td>\n",
       "      <td>Not in Labor Force</td>\n",
       "      <td>lrircsnp</td>\n",
       "      <td>MSA, Principle City</td>\n",
       "      <td>0.0</td>\n",
       "      <td>0.0</td>\n",
       "      <td>NaN</td>\n",
       "      <td>NaN</td>\n",
       "      <td>0</td>\n",
       "      <td>1</td>\n",
       "    </tr>\n",
       "    <tr>\n",
       "      <th>4</th>\n",
       "      <td>2.0</td>\n",
       "      <td>1.0</td>\n",
       "      <td>0.0</td>\n",
       "      <td>1.0</td>\n",
       "      <td>0.0</td>\n",
       "      <td>1.0</td>\n",
       "      <td>1.0</td>\n",
       "      <td>0.0</td>\n",
       "      <td>1.0</td>\n",
       "      <td>0.0</td>\n",
       "      <td>...</td>\n",
       "      <td>Own</td>\n",
       "      <td>Employed</td>\n",
       "      <td>qufhixun</td>\n",
       "      <td>MSA, Not Principle  City</td>\n",
       "      <td>1.0</td>\n",
       "      <td>0.0</td>\n",
       "      <td>wxleyezf</td>\n",
       "      <td>emcorrxb</td>\n",
       "      <td>0</td>\n",
       "      <td>0</td>\n",
       "    </tr>\n",
       "  </tbody>\n",
       "</table>\n",
       "<p>5 rows × 37 columns</p>\n",
       "</div>"
      ],
      "text/plain": [
       "               h1n1_concern  h1n1_knowledge  behavioral_antiviral_meds  \\\n",
       "respondent_id                                                            \n",
       "0                       1.0             0.0                        0.0   \n",
       "1                       3.0             2.0                        0.0   \n",
       "2                       1.0             1.0                        0.0   \n",
       "3                       1.0             1.0                        0.0   \n",
       "4                       2.0             1.0                        0.0   \n",
       "\n",
       "               behavioral_avoidance  behavioral_face_mask  \\\n",
       "respondent_id                                               \n",
       "0                               0.0                   0.0   \n",
       "1                               1.0                   0.0   \n",
       "2                               1.0                   0.0   \n",
       "3                               1.0                   0.0   \n",
       "4                               1.0                   0.0   \n",
       "\n",
       "               behavioral_wash_hands  behavioral_large_gatherings  \\\n",
       "respondent_id                                                       \n",
       "0                                0.0                          0.0   \n",
       "1                                1.0                          0.0   \n",
       "2                                0.0                          0.0   \n",
       "3                                1.0                          1.0   \n",
       "4                                1.0                          1.0   \n",
       "\n",
       "               behavioral_outside_home  behavioral_touch_face  \\\n",
       "respondent_id                                                   \n",
       "0                                  1.0                    1.0   \n",
       "1                                  1.0                    1.0   \n",
       "2                                  0.0                    0.0   \n",
       "3                                  0.0                    0.0   \n",
       "4                                  0.0                    1.0   \n",
       "\n",
       "               doctor_recc_h1n1  ...  rent_or_own   employment_status  \\\n",
       "respondent_id                    ...                                    \n",
       "0                           0.0  ...          Own  Not in Labor Force   \n",
       "1                           0.0  ...         Rent            Employed   \n",
       "2                           NaN  ...          Own            Employed   \n",
       "3                           0.0  ...         Rent  Not in Labor Force   \n",
       "4                           0.0  ...          Own            Employed   \n",
       "\n",
       "               hhs_geo_region                census_msa  household_adults  \\\n",
       "respondent_id                                                               \n",
       "0                    oxchjgsf                   Non-MSA               0.0   \n",
       "1                    bhuqouqj  MSA, Not Principle  City               0.0   \n",
       "2                    qufhixun  MSA, Not Principle  City               2.0   \n",
       "3                    lrircsnp       MSA, Principle City               0.0   \n",
       "4                    qufhixun  MSA, Not Principle  City               1.0   \n",
       "\n",
       "               household_children  employment_industry  employment_occupation  \\\n",
       "respondent_id                                                                   \n",
       "0                             0.0                  NaN                    NaN   \n",
       "1                             0.0             pxcmvdjn               xgwztkwe   \n",
       "2                             0.0             rucpziij               xtkaffoo   \n",
       "3                             0.0                  NaN                    NaN   \n",
       "4                             0.0             wxleyezf               emcorrxb   \n",
       "\n",
       "               h1n1_vaccine  seasonal_vaccine  \n",
       "respondent_id                                  \n",
       "0                         0                 0  \n",
       "1                         0                 1  \n",
       "2                         0                 0  \n",
       "3                         0                 1  \n",
       "4                         0                 0  \n",
       "\n",
       "[5 rows x 37 columns]"
      ]
     },
     "execution_count": 7,
     "metadata": {},
     "output_type": "execute_result"
    }
   ],
   "source": [
    "data_df.head()"
   ]
  },
  {
   "cell_type": "markdown",
   "metadata": {},
   "source": [
    "# Clean the Data"
   ]
  },
  {
   "cell_type": "markdown",
   "metadata": {},
   "source": [
    "## Remove Unnecessary Columns"
   ]
  },
  {
   "cell_type": "markdown",
   "metadata": {},
   "source": [
    "The columns that we are removing either have to do with the H1N1 Vaccine, or have too much missing data."
   ]
  },
  {
   "cell_type": "code",
   "execution_count": 8,
   "metadata": {
    "ExecuteTime": {
     "end_time": "2022-05-17T17:45:05.566585Z",
     "start_time": "2022-05-17T17:45:05.512267Z"
    }
   },
   "outputs": [
    {
     "name": "stdout",
     "output_type": "stream",
     "text": [
      "<class 'pandas.core.frame.DataFrame'>\n",
      "Int64Index: 26707 entries, 0 to 26706\n",
      "Data columns (total 27 columns):\n",
      " #   Column                       Non-Null Count  Dtype  \n",
      "---  ------                       --------------  -----  \n",
      " 0   behavioral_antiviral_meds    26636 non-null  float64\n",
      " 1   behavioral_avoidance         26499 non-null  float64\n",
      " 2   behavioral_face_mask         26688 non-null  float64\n",
      " 3   behavioral_wash_hands        26665 non-null  float64\n",
      " 4   behavioral_large_gatherings  26620 non-null  float64\n",
      " 5   behavioral_outside_home      26625 non-null  float64\n",
      " 6   behavioral_touch_face        26579 non-null  float64\n",
      " 7   doctor_recc_seasonal         24547 non-null  float64\n",
      " 8   chronic_med_condition        25736 non-null  float64\n",
      " 9   child_under_6_months         25887 non-null  float64\n",
      " 10  health_worker                25903 non-null  float64\n",
      " 11  opinion_seas_vacc_effective  26245 non-null  float64\n",
      " 12  opinion_seas_risk            26193 non-null  float64\n",
      " 13  opinion_seas_sick_from_vacc  26170 non-null  float64\n",
      " 14  age_group                    26707 non-null  object \n",
      " 15  education                    25300 non-null  object \n",
      " 16  race                         26707 non-null  object \n",
      " 17  sex                          26707 non-null  object \n",
      " 18  income_poverty               22284 non-null  object \n",
      " 19  marital_status               25299 non-null  object \n",
      " 20  rent_or_own                  24665 non-null  object \n",
      " 21  employment_status            25244 non-null  object \n",
      " 22  hhs_geo_region               26707 non-null  object \n",
      " 23  census_msa                   26707 non-null  object \n",
      " 24  household_adults             26458 non-null  float64\n",
      " 25  household_children           26458 non-null  float64\n",
      " 26  seasonal_vaccine             26707 non-null  int64  \n",
      "dtypes: float64(16), int64(1), object(10)\n",
      "memory usage: 5.7+ MB\n"
     ]
    }
   ],
   "source": [
    "seasonal_df = data_df.drop(['h1n1_concern',\n",
    "                            'h1n1_knowledge',\n",
    "                            'health_insurance',\n",
    "                            'opinion_h1n1_vacc_effective',\n",
    "                            'opinion_h1n1_risk',\n",
    "                            'opinion_h1n1_sick_from_vacc',\n",
    "                            'doctor_recc_h1n1',\n",
    "                            'employment_industry',\n",
    "                            'employment_occupation',\n",
    "                            'h1n1_vaccine'], axis=1)\n",
    "seasonal_df.info()"
   ]
  },
  {
   "cell_type": "markdown",
   "metadata": {},
   "source": [
    "## Dealing with Missing Data\n"
   ]
  },
  {
   "cell_type": "code",
   "execution_count": 9,
   "metadata": {
    "ExecuteTime": {
     "end_time": "2022-05-17T17:45:06.091909Z",
     "start_time": "2022-05-17T17:45:06.060610Z"
    }
   },
   "outputs": [
    {
     "data": {
      "text/plain": [
       "behavioral_antiviral_meds        71\n",
       "behavioral_avoidance            208\n",
       "behavioral_face_mask             19\n",
       "behavioral_wash_hands            42\n",
       "behavioral_large_gatherings      87\n",
       "behavioral_outside_home          82\n",
       "behavioral_touch_face           128\n",
       "doctor_recc_seasonal           2160\n",
       "chronic_med_condition           971\n",
       "child_under_6_months            820\n",
       "health_worker                   804\n",
       "opinion_seas_vacc_effective     462\n",
       "opinion_seas_risk               514\n",
       "opinion_seas_sick_from_vacc     537\n",
       "age_group                         0\n",
       "education                      1407\n",
       "race                              0\n",
       "sex                               0\n",
       "income_poverty                 4423\n",
       "marital_status                 1408\n",
       "rent_or_own                    2042\n",
       "employment_status              1463\n",
       "hhs_geo_region                    0\n",
       "census_msa                        0\n",
       "household_adults                249\n",
       "household_children              249\n",
       "seasonal_vaccine                  0\n",
       "dtype: int64"
      ]
     },
     "execution_count": 9,
     "metadata": {},
     "output_type": "execute_result"
    }
   ],
   "source": [
    "# Check for missing data\n",
    "seasonal_df.isna().sum()"
   ]
  },
  {
   "cell_type": "markdown",
   "metadata": {
    "ExecuteTime": {
     "end_time": "2022-05-17T16:25:01.840375Z",
     "start_time": "2022-05-17T16:25:01.835675Z"
    }
   },
   "source": [
    "We will want to create a new value for columns missing between 5 and 10 percent of the data.  If the column is missing less than 5 percent of data values, we will drop those values."
   ]
  },
  {
   "cell_type": "code",
   "execution_count": 10,
   "metadata": {
    "ExecuteTime": {
     "end_time": "2022-05-17T17:45:06.591140Z",
     "start_time": "2022-05-17T17:45:06.585774Z"
    }
   },
   "outputs": [
    {
     "name": "stdout",
     "output_type": "stream",
     "text": [
      "5% of data: 1335.35\n",
      "10% of data: 2670.7\n"
     ]
    }
   ],
   "source": [
    "print('5% of data:', round(26707*.05, 2))\n",
    "print('10% of data:', round(26707*.1, 2))"
   ]
  },
  {
   "cell_type": "markdown",
   "metadata": {},
   "source": [
    "Create a new category \"unknown\" for the columns with 1000+ missing entries.\n",
    "Drop rows if the column is missing less than 1000 entries.\n",
    "Columns to adjust: doctor_recc_seasonal, education, income_poverty, marital_status, rent_or_own, and employment_status."
   ]
  },
  {
   "cell_type": "code",
   "execution_count": 11,
   "metadata": {
    "ExecuteTime": {
     "end_time": "2022-05-17T17:45:07.164237Z",
     "start_time": "2022-05-17T17:45:07.142763Z"
    }
   },
   "outputs": [],
   "source": [
    "# Change doctor recc to an object dtype\n",
    "seasonal_df['doctor_recc_seasonal'].fillna(value='unknown', inplace=True)\n",
    "seasonal_df['doctor_recc_seasonal'].replace(to_replace=0.0, value='No', inplace=True)\n",
    "seasonal_df['doctor_recc_seasonal'].replace(to_replace=1.0, value='Yes', inplace=True)"
   ]
  },
  {
   "cell_type": "code",
   "execution_count": 12,
   "metadata": {
    "ExecuteTime": {
     "end_time": "2022-05-17T17:45:07.412968Z",
     "start_time": "2022-05-17T17:45:07.390440Z"
    }
   },
   "outputs": [],
   "source": [
    "# Create an unknown category for missing data\n",
    "need_new_category = ['education', \n",
    "                     'income_poverty', \n",
    "                     'marital_status', \n",
    "                     'rent_or_own', \n",
    "                     'employment_status']\n",
    "for column in need_new_category:\n",
    "    seasonal_df[column].fillna(value='unknown', inplace=True)"
   ]
  },
  {
   "cell_type": "code",
   "execution_count": 13,
   "metadata": {
    "ExecuteTime": {
     "end_time": "2022-05-17T17:45:07.665639Z",
     "start_time": "2022-05-17T17:45:07.631042Z"
    }
   },
   "outputs": [
    {
     "data": {
      "text/plain": [
       "behavioral_antiviral_meds       71\n",
       "behavioral_avoidance           208\n",
       "behavioral_face_mask            19\n",
       "behavioral_wash_hands           42\n",
       "behavioral_large_gatherings     87\n",
       "behavioral_outside_home         82\n",
       "behavioral_touch_face          128\n",
       "doctor_recc_seasonal             0\n",
       "chronic_med_condition          971\n",
       "child_under_6_months           820\n",
       "health_worker                  804\n",
       "opinion_seas_vacc_effective    462\n",
       "opinion_seas_risk              514\n",
       "opinion_seas_sick_from_vacc    537\n",
       "age_group                        0\n",
       "education                        0\n",
       "race                             0\n",
       "sex                              0\n",
       "income_poverty                   0\n",
       "marital_status                   0\n",
       "rent_or_own                      0\n",
       "employment_status                0\n",
       "hhs_geo_region                   0\n",
       "census_msa                       0\n",
       "household_adults               249\n",
       "household_children             249\n",
       "seasonal_vaccine                 0\n",
       "dtype: int64"
      ]
     },
     "execution_count": 13,
     "metadata": {},
     "output_type": "execute_result"
    }
   ],
   "source": [
    "# Check our remaining null values\n",
    "seasonal_df.isna().sum()"
   ]
  },
  {
   "cell_type": "code",
   "execution_count": 14,
   "metadata": {
    "ExecuteTime": {
     "end_time": "2022-05-17T17:45:07.961286Z",
     "start_time": "2022-05-17T17:45:07.895243Z"
    }
   },
   "outputs": [
    {
     "data": {
      "text/plain": [
       "behavioral_antiviral_meds      0\n",
       "behavioral_avoidance           0\n",
       "behavioral_face_mask           0\n",
       "behavioral_wash_hands          0\n",
       "behavioral_large_gatherings    0\n",
       "behavioral_outside_home        0\n",
       "behavioral_touch_face          0\n",
       "doctor_recc_seasonal           0\n",
       "chronic_med_condition          0\n",
       "child_under_6_months           0\n",
       "health_worker                  0\n",
       "opinion_seas_vacc_effective    0\n",
       "opinion_seas_risk              0\n",
       "opinion_seas_sick_from_vacc    0\n",
       "age_group                      0\n",
       "education                      0\n",
       "race                           0\n",
       "sex                            0\n",
       "income_poverty                 0\n",
       "marital_status                 0\n",
       "rent_or_own                    0\n",
       "employment_status              0\n",
       "hhs_geo_region                 0\n",
       "census_msa                     0\n",
       "household_adults               0\n",
       "household_children             0\n",
       "seasonal_vaccine               0\n",
       "dtype: int64"
      ]
     },
     "execution_count": 14,
     "metadata": {},
     "output_type": "execute_result"
    }
   ],
   "source": [
    "# Drop the remaining null values from the dataset\n",
    "seasonal_df.dropna(inplace=True)\n",
    "seasonal_df.isna().sum()"
   ]
  },
  {
   "cell_type": "markdown",
   "metadata": {},
   "source": [
    "## Split our Data"
   ]
  },
  {
   "cell_type": "markdown",
   "metadata": {
    "ExecuteTime": {
     "end_time": "2022-05-17T16:28:19.442663Z",
     "start_time": "2022-05-17T16:28:19.437770Z"
    }
   },
   "source": [
    "Now that we have taken care of our null values, we can split our data into features and labels for our train test split."
   ]
  },
  {
   "cell_type": "code",
   "execution_count": 15,
   "metadata": {
    "ExecuteTime": {
     "end_time": "2022-05-17T17:45:08.723390Z",
     "start_time": "2022-05-17T17:45:08.717842Z"
    }
   },
   "outputs": [],
   "source": [
    "# Split our data into features and labels\n",
    "seasonal_features = seasonal_df.drop('seasonal_vaccine', axis=1)\n",
    "seasonal_labels = seasonal_df['seasonal_vaccine']"
   ]
  },
  {
   "cell_type": "code",
   "execution_count": 16,
   "metadata": {
    "ExecuteTime": {
     "end_time": "2022-05-17T17:45:08.940099Z",
     "start_time": "2022-05-17T17:45:08.919336Z"
    }
   },
   "outputs": [],
   "source": [
    "# Perform a train test split\n",
    "X_train, X_test, y_train, y_test = train_test_split(seasonal_features,\n",
    "                                                   seasonal_labels,\n",
    "                                                   test_size=.25,\n",
    "                                                   random_state=42)"
   ]
  },
  {
   "cell_type": "markdown",
   "metadata": {},
   "source": [
    "## Encoding Categorical Columns"
   ]
  },
  {
   "cell_type": "markdown",
   "metadata": {},
   "source": [
    "Before we can use this data to create models, we need all of our data values to be numeric.  We will use a OneHotEncoder to achieve this."
   ]
  },
  {
   "cell_type": "code",
   "execution_count": 17,
   "metadata": {
    "ExecuteTime": {
     "end_time": "2022-05-17T17:45:10.269882Z",
     "start_time": "2022-05-17T17:45:10.239003Z"
    }
   },
   "outputs": [
    {
     "name": "stdout",
     "output_type": "stream",
     "text": [
      "<class 'pandas.core.frame.DataFrame'>\n",
      "Int64Index: 18769 entries, 7170 to 25243\n",
      "Data columns (total 26 columns):\n",
      " #   Column                       Non-Null Count  Dtype  \n",
      "---  ------                       --------------  -----  \n",
      " 0   behavioral_antiviral_meds    18769 non-null  float64\n",
      " 1   behavioral_avoidance         18769 non-null  float64\n",
      " 2   behavioral_face_mask         18769 non-null  float64\n",
      " 3   behavioral_wash_hands        18769 non-null  float64\n",
      " 4   behavioral_large_gatherings  18769 non-null  float64\n",
      " 5   behavioral_outside_home      18769 non-null  float64\n",
      " 6   behavioral_touch_face        18769 non-null  float64\n",
      " 7   doctor_recc_seasonal         18769 non-null  object \n",
      " 8   chronic_med_condition        18769 non-null  float64\n",
      " 9   child_under_6_months         18769 non-null  float64\n",
      " 10  health_worker                18769 non-null  float64\n",
      " 11  opinion_seas_vacc_effective  18769 non-null  float64\n",
      " 12  opinion_seas_risk            18769 non-null  float64\n",
      " 13  opinion_seas_sick_from_vacc  18769 non-null  float64\n",
      " 14  age_group                    18769 non-null  object \n",
      " 15  education                    18769 non-null  object \n",
      " 16  race                         18769 non-null  object \n",
      " 17  sex                          18769 non-null  object \n",
      " 18  income_poverty               18769 non-null  object \n",
      " 19  marital_status               18769 non-null  object \n",
      " 20  rent_or_own                  18769 non-null  object \n",
      " 21  employment_status            18769 non-null  object \n",
      " 22  hhs_geo_region               18769 non-null  object \n",
      " 23  census_msa                   18769 non-null  object \n",
      " 24  household_adults             18769 non-null  float64\n",
      " 25  household_children           18769 non-null  float64\n",
      "dtypes: float64(15), object(11)\n",
      "memory usage: 3.9+ MB\n"
     ]
    }
   ],
   "source": [
    "X_train.info()"
   ]
  },
  {
   "cell_type": "code",
   "execution_count": 18,
   "metadata": {
    "ExecuteTime": {
     "end_time": "2022-05-17T17:45:10.685250Z",
     "start_time": "2022-05-17T17:45:10.679956Z"
    }
   },
   "outputs": [],
   "source": [
    "categoricals = ['age_group',\n",
    "               'education',\n",
    "               'sex',\n",
    "               'income_poverty',\n",
    "               'marital_status',\n",
    "               'rent_or_own',\n",
    "               'employment_status',\n",
    "               'hhs_geo_region',\n",
    "               'census_msa',\n",
    "               'race',\n",
    "               'doctor_recc_seasonal']"
   ]
  },
  {
   "cell_type": "code",
   "execution_count": 19,
   "metadata": {
    "ExecuteTime": {
     "end_time": "2022-05-17T17:45:12.809435Z",
     "start_time": "2022-05-17T17:45:12.715638Z"
    }
   },
   "outputs": [],
   "source": [
    "ohe = OneHotEncoder()\n",
    "ohe.fit(X_train[categoricals])\n",
    "X_train_ohe = ohe.transform(X_train[categoricals]).toarray()\n",
    "X_train_ohe_df = pd.DataFrame(X_train_ohe, columns = ohe.get_feature_names(categoricals), index = X_train.index)"
   ]
  },
  {
   "cell_type": "code",
   "execution_count": 20,
   "metadata": {
    "ExecuteTime": {
     "end_time": "2022-05-17T17:45:13.868016Z",
     "start_time": "2022-05-17T17:45:13.847365Z"
    }
   },
   "outputs": [],
   "source": [
    "X_train.drop(categoricals, axis=1, inplace=True)\n",
    "X_train_final = pd.concat([X_train_ohe_df, X_train], axis=1)"
   ]
  },
  {
   "cell_type": "code",
   "execution_count": 21,
   "metadata": {
    "ExecuteTime": {
     "end_time": "2022-05-17T17:45:14.270926Z",
     "start_time": "2022-05-17T17:45:14.236734Z"
    }
   },
   "outputs": [
    {
     "name": "stdout",
     "output_type": "stream",
     "text": [
      "<class 'pandas.core.frame.DataFrame'>\n",
      "Int64Index: 18769 entries, 7170 to 25243\n",
      "Data columns (total 61 columns):\n",
      " #   Column                                    Non-Null Count  Dtype  \n",
      "---  ------                                    --------------  -----  \n",
      " 0   age_group_18 - 34 Years                   18769 non-null  float64\n",
      " 1   age_group_35 - 44 Years                   18769 non-null  float64\n",
      " 2   age_group_45 - 54 Years                   18769 non-null  float64\n",
      " 3   age_group_55 - 64 Years                   18769 non-null  float64\n",
      " 4   age_group_65+ Years                       18769 non-null  float64\n",
      " 5   education_12 Years                        18769 non-null  float64\n",
      " 6   education_< 12 Years                      18769 non-null  float64\n",
      " 7   education_College Graduate                18769 non-null  float64\n",
      " 8   education_Some College                    18769 non-null  float64\n",
      " 9   education_unknown                         18769 non-null  float64\n",
      " 10  sex_Female                                18769 non-null  float64\n",
      " 11  sex_Male                                  18769 non-null  float64\n",
      " 12  income_poverty_<= $75,000, Above Poverty  18769 non-null  float64\n",
      " 13  income_poverty_> $75,000                  18769 non-null  float64\n",
      " 14  income_poverty_Below Poverty              18769 non-null  float64\n",
      " 15  income_poverty_unknown                    18769 non-null  float64\n",
      " 16  marital_status_Married                    18769 non-null  float64\n",
      " 17  marital_status_Not Married                18769 non-null  float64\n",
      " 18  marital_status_unknown                    18769 non-null  float64\n",
      " 19  rent_or_own_Own                           18769 non-null  float64\n",
      " 20  rent_or_own_Rent                          18769 non-null  float64\n",
      " 21  rent_or_own_unknown                       18769 non-null  float64\n",
      " 22  employment_status_Employed                18769 non-null  float64\n",
      " 23  employment_status_Not in Labor Force      18769 non-null  float64\n",
      " 24  employment_status_Unemployed              18769 non-null  float64\n",
      " 25  employment_status_unknown                 18769 non-null  float64\n",
      " 26  hhs_geo_region_atmpeygn                   18769 non-null  float64\n",
      " 27  hhs_geo_region_bhuqouqj                   18769 non-null  float64\n",
      " 28  hhs_geo_region_dqpwygqj                   18769 non-null  float64\n",
      " 29  hhs_geo_region_fpwskwrf                   18769 non-null  float64\n",
      " 30  hhs_geo_region_kbazzjca                   18769 non-null  float64\n",
      " 31  hhs_geo_region_lrircsnp                   18769 non-null  float64\n",
      " 32  hhs_geo_region_lzgpxyit                   18769 non-null  float64\n",
      " 33  hhs_geo_region_mlyzmhmf                   18769 non-null  float64\n",
      " 34  hhs_geo_region_oxchjgsf                   18769 non-null  float64\n",
      " 35  hhs_geo_region_qufhixun                   18769 non-null  float64\n",
      " 36  census_msa_MSA, Not Principle  City       18769 non-null  float64\n",
      " 37  census_msa_MSA, Principle City            18769 non-null  float64\n",
      " 38  census_msa_Non-MSA                        18769 non-null  float64\n",
      " 39  race_Black                                18769 non-null  float64\n",
      " 40  race_Hispanic                             18769 non-null  float64\n",
      " 41  race_Other or Multiple                    18769 non-null  float64\n",
      " 42  race_White                                18769 non-null  float64\n",
      " 43  doctor_recc_seasonal_No                   18769 non-null  float64\n",
      " 44  doctor_recc_seasonal_Yes                  18769 non-null  float64\n",
      " 45  doctor_recc_seasonal_unknown              18769 non-null  float64\n",
      " 46  behavioral_antiviral_meds                 18769 non-null  float64\n",
      " 47  behavioral_avoidance                      18769 non-null  float64\n",
      " 48  behavioral_face_mask                      18769 non-null  float64\n",
      " 49  behavioral_wash_hands                     18769 non-null  float64\n",
      " 50  behavioral_large_gatherings               18769 non-null  float64\n",
      " 51  behavioral_outside_home                   18769 non-null  float64\n",
      " 52  behavioral_touch_face                     18769 non-null  float64\n",
      " 53  chronic_med_condition                     18769 non-null  float64\n",
      " 54  child_under_6_months                      18769 non-null  float64\n",
      " 55  health_worker                             18769 non-null  float64\n",
      " 56  opinion_seas_vacc_effective               18769 non-null  float64\n",
      " 57  opinion_seas_risk                         18769 non-null  float64\n",
      " 58  opinion_seas_sick_from_vacc               18769 non-null  float64\n",
      " 59  household_adults                          18769 non-null  float64\n",
      " 60  household_children                        18769 non-null  float64\n",
      "dtypes: float64(61)\n",
      "memory usage: 8.9 MB\n"
     ]
    }
   ],
   "source": [
    "X_train_final.info()"
   ]
  },
  {
   "cell_type": "code",
   "execution_count": 22,
   "metadata": {
    "ExecuteTime": {
     "end_time": "2022-05-17T17:45:14.828870Z",
     "start_time": "2022-05-17T17:45:14.818771Z"
    }
   },
   "outputs": [],
   "source": [
    "X_train_final.rename(columns = {'age_group_18 - 34 Years' : 'age_group_18_34',\n",
    "                            'age_group_35 - 44 Years' : 'age_group_35_44',\n",
    "                            'age_group_45 - 54 Years' : 'age_group_45_54',\n",
    "                            'age_group_55 - 64 Years' : 'age_group_55_64',\n",
    "                            'age_group_65+ Years' : 'age_group_over_65',\n",
    "                            'education_12 Years' : 'education_12_years',\n",
    "                            'education_< 12 Years' : 'education_less_than_12',\n",
    "                            'education_College Graduate' : 'education_college_grad',\n",
    "                            'education_Some College': 'education_some_college',\n",
    "                            'race_Other or Multiple' : 'race_other',\n",
    "                            'income_poverty_<= $75,000, Above Poverty' : 'income_poverty_lessorequal_75k',\n",
    "                            'income_poverty_> $75,000' : 'income_poverty_morethan_75k',\n",
    "                            'income_poverty_Below Poverty' : 'income_poverty_below_poverty',\n",
    "                            'marital_status_Not Married': 'marital_status_Unmarried',\n",
    "                            'employment_status_Not in Labor Force' : 'employment_status_not_in_labor_force',\n",
    "                            'census_msa_MSA, Not Principle  City' : 'census_msa_not_in_principle',\n",
    "                            'census_msa_MSA, Principle City' : 'census_msa_in_principle',\n",
    "                            'census_msa_Non-MSA' : 'census_msa_non_msa'},\n",
    "                 inplace=True)"
   ]
  },
  {
   "cell_type": "code",
   "execution_count": 23,
   "metadata": {
    "ExecuteTime": {
     "end_time": "2022-05-17T17:45:15.210021Z",
     "start_time": "2022-05-17T17:45:15.167754Z"
    }
   },
   "outputs": [],
   "source": [
    "X_test_ohe = ohe.transform(X_test[categoricals]).toarray()\n",
    "X_test_ohe_df = pd.DataFrame(X_test_ohe, columns = ohe.get_feature_names(categoricals), index = X_test.index)"
   ]
  },
  {
   "cell_type": "code",
   "execution_count": 24,
   "metadata": {
    "ExecuteTime": {
     "end_time": "2022-05-17T17:45:15.562088Z",
     "start_time": "2022-05-17T17:45:15.552033Z"
    }
   },
   "outputs": [],
   "source": [
    "X_test.drop(categoricals, axis=1, inplace=True)\n",
    "X_test_final = pd.concat([X_test_ohe_df, X_test], axis=1)"
   ]
  },
  {
   "cell_type": "code",
   "execution_count": 25,
   "metadata": {
    "ExecuteTime": {
     "end_time": "2022-05-17T17:45:15.923186Z",
     "start_time": "2022-05-17T17:45:15.915438Z"
    }
   },
   "outputs": [],
   "source": [
    "X_test_final.rename(columns = {'age_group_18 - 34 Years' : 'age_group_18_34',\n",
    "                            'age_group_35 - 44 Years' : 'age_group_35_44',\n",
    "                            'age_group_45 - 54 Years' : 'age_group_45_54',\n",
    "                            'age_group_55 - 64 Years' : 'age_group_55_64',\n",
    "                            'age_group_65+ Years' : 'age_group_over_65',\n",
    "                            'education_12 Years' : 'education_12_years',\n",
    "                            'education_< 12 Years' : 'education_less_than_12',\n",
    "                            'education_College Graduate' : 'education_college_grad',\n",
    "                            'education_Some College': 'education_some_college',\n",
    "                            'race_Other or Multiple' : 'race_other',\n",
    "                            'income_poverty_<= $75,000, Above Poverty' : 'income_poverty_lessorequal_75k',\n",
    "                            'income_poverty_> $75,000' : 'income_poverty_morethan_75k',\n",
    "                            'income_poverty_Below Poverty' : 'income_poverty_below_poverty',\n",
    "                            'marital_status_Not Married': 'marital_status_Unmarried',\n",
    "                            'employment_status_Not in Labor Force' : 'employment_status_not_in_labor_force',\n",
    "                            'census_msa_MSA, Not Principle  City' : 'census_msa_not_in_principle',\n",
    "                            'census_msa_MSA, Principle City' : 'census_msa_in_principle',\n",
    "                            'census_msa_Non-MSA' : 'census_msa_non_msa'},\n",
    "                 inplace=True)"
   ]
  },
  {
   "cell_type": "markdown",
   "metadata": {},
   "source": [
    "Now that our data is cleaned, we will begin making models."
   ]
  },
  {
   "cell_type": "markdown",
   "metadata": {},
   "source": [
    "# Models"
   ]
  },
  {
   "cell_type": "markdown",
   "metadata": {},
   "source": [
    "For our baseline model, we will use a decision stump.  After finding our baseline scores, we will then move on to more advanced models to improve our scores."
   ]
  },
  {
   "cell_type": "markdown",
   "metadata": {},
   "source": [
    "## Baseline Model"
   ]
  },
  {
   "cell_type": "code",
   "execution_count": 26,
   "metadata": {
    "ExecuteTime": {
     "end_time": "2022-05-17T17:45:17.956376Z",
     "start_time": "2022-05-17T17:45:17.899559Z"
    }
   },
   "outputs": [
    {
     "data": {
      "text/plain": [
       "DecisionTreeClassifier(max_depth=3, random_state=42)"
      ]
     },
     "execution_count": 26,
     "metadata": {},
     "output_type": "execute_result"
    }
   ],
   "source": [
    "# Create a basic decision stump model\n",
    "clf = DecisionTreeClassifier(random_state=42, max_depth=3)\n",
    "clf.fit(X_train_final, y_train)"
   ]
  },
  {
   "cell_type": "code",
   "execution_count": 27,
   "metadata": {
    "ExecuteTime": {
     "end_time": "2022-05-17T17:45:18.584469Z",
     "start_time": "2022-05-17T17:45:18.517414Z"
    }
   },
   "outputs": [
    {
     "name": "stdout",
     "output_type": "stream",
     "text": [
      "Decision Stump Model Training Scores: \n",
      "               precision    recall  f1-score   support\n",
      "\n",
      "           0       0.70      0.86      0.77      9991\n",
      "           1       0.79      0.59      0.67      8778\n",
      "\n",
      "    accuracy                           0.73     18769\n",
      "   macro avg       0.74      0.72      0.72     18769\n",
      "weighted avg       0.74      0.73      0.73     18769\n",
      "\n",
      "Decision Stump Model Test Scores: \n",
      "               precision    recall  f1-score   support\n",
      "\n",
      "           0       0.70      0.86      0.78      3321\n",
      "           1       0.79      0.59      0.68      2936\n",
      "\n",
      "    accuracy                           0.73      6257\n",
      "   macro avg       0.75      0.73      0.73      6257\n",
      "weighted avg       0.74      0.73      0.73      6257\n",
      "\n"
     ]
    }
   ],
   "source": [
    "print('Decision Stump Model Training Scores: \\n', \n",
    "      classification_report(y_train, clf.predict(X_train_final)))\n",
    "print('Decision Stump Model Test Scores: \\n', \n",
    "      classification_report(y_test, clf.predict(X_test_final)))"
   ]
  },
  {
   "cell_type": "markdown",
   "metadata": {},
   "source": [
    "## Tuned Decision Tree"
   ]
  },
  {
   "cell_type": "code",
   "execution_count": 28,
   "metadata": {
    "ExecuteTime": {
     "end_time": "2022-05-17T17:45:22.810980Z",
     "start_time": "2022-05-17T17:45:20.471014Z"
    }
   },
   "outputs": [
    {
     "data": {
      "text/plain": [
       "GridSearchCV(cv=3,\n",
       "             estimator=DecisionTreeClassifier(max_depth=3, random_state=42),\n",
       "             param_grid={'criterion': ['gini', 'entropy'],\n",
       "                         'max_depth': [1, 2, 5, 10],\n",
       "                         'min_samples_split': [2, 3, 10, 20]})"
      ]
     },
     "execution_count": 28,
     "metadata": {},
     "output_type": "execute_result"
    }
   ],
   "source": [
    "param_grid = {'criterion': ['gini', 'entropy'],\n",
    "             'max_depth' : [1, 2, 5, 10],\n",
    "             'min_samples_split' : [2, 3, 10, 20]}\n",
    "\n",
    "gs_tree = GridSearchCV(clf, param_grid, cv=3)\n",
    "gs_tree.fit(X_train_final, y_train)"
   ]
  },
  {
   "cell_type": "code",
   "execution_count": 29,
   "metadata": {
    "ExecuteTime": {
     "end_time": "2022-05-17T17:45:22.813942Z",
     "start_time": "2022-05-17T17:45:22.811967Z"
    }
   },
   "outputs": [
    {
     "data": {
      "text/plain": [
       "{'criterion': 'gini', 'max_depth': 5, 'min_samples_split': 2}"
      ]
     },
     "execution_count": 29,
     "metadata": {},
     "output_type": "execute_result"
    }
   ],
   "source": [
    "gs_tree.best_params_"
   ]
  },
  {
   "cell_type": "code",
   "execution_count": 30,
   "metadata": {
    "ExecuteTime": {
     "end_time": "2022-05-17T17:45:27.517771Z",
     "start_time": "2022-05-17T17:45:27.443334Z"
    }
   },
   "outputs": [
    {
     "data": {
      "text/plain": [
       "DecisionTreeClassifier(max_depth=5, random_state=42)"
      ]
     },
     "execution_count": 30,
     "metadata": {},
     "output_type": "execute_result"
    }
   ],
   "source": [
    "clf_2 = DecisionTreeClassifier(random_state=42, \n",
    "                               criterion = 'gini', \n",
    "                               min_samples_split = 2, \n",
    "                               max_depth = 5)\n",
    "clf_2.fit(X_train_final, y_train)"
   ]
  },
  {
   "cell_type": "code",
   "execution_count": 31,
   "metadata": {
    "ExecuteTime": {
     "end_time": "2022-05-17T17:45:28.239369Z",
     "start_time": "2022-05-17T17:45:28.142007Z"
    }
   },
   "outputs": [
    {
     "name": "stdout",
     "output_type": "stream",
     "text": [
      "Decision Stump Model Training Scores: \n",
      "               precision    recall  f1-score   support\n",
      "\n",
      "           0       0.70      0.86      0.77      9991\n",
      "           1       0.79      0.59      0.67      8778\n",
      "\n",
      "    accuracy                           0.73     18769\n",
      "   macro avg       0.74      0.72      0.72     18769\n",
      "weighted avg       0.74      0.73      0.73     18769\n",
      "\n",
      "Decision Stump Model Test Scores: \n",
      "               precision    recall  f1-score   support\n",
      "\n",
      "           0       0.70      0.86      0.78      3321\n",
      "           1       0.79      0.59      0.68      2936\n",
      "\n",
      "    accuracy                           0.73      6257\n",
      "   macro avg       0.75      0.73      0.73      6257\n",
      "weighted avg       0.74      0.73      0.73      6257\n",
      "\n",
      "Decision Tree Model Training Scores: \n",
      "               precision    recall  f1-score   support\n",
      "\n",
      "           0       0.74      0.84      0.79      9991\n",
      "           1       0.79      0.66      0.72      8778\n",
      "\n",
      "    accuracy                           0.76     18769\n",
      "   macro avg       0.76      0.75      0.76     18769\n",
      "weighted avg       0.76      0.76      0.76     18769\n",
      "\n",
      "Decision Tree Model Test Scores: \n",
      "               precision    recall  f1-score   support\n",
      "\n",
      "           0       0.74      0.85      0.79      3321\n",
      "           1       0.80      0.67      0.72      2936\n",
      "\n",
      "    accuracy                           0.76      6257\n",
      "   macro avg       0.77      0.76      0.76      6257\n",
      "weighted avg       0.77      0.76      0.76      6257\n",
      "\n"
     ]
    }
   ],
   "source": [
    "print('Decision Stump Model Training Scores: \\n', \n",
    "      classification_report(y_train, clf.predict(X_train_final)))\n",
    "print('Decision Stump Model Test Scores: \\n', \n",
    "      classification_report(y_test, clf.predict(X_test_final)))\n",
    "print('Decision Tree Model Training Scores: \\n',\n",
    "     classification_report(y_train, clf_2.predict(X_train_final)))\n",
    "print('Decision Tree Model Test Scores: \\n',\n",
    "     classification_report(y_test, clf_2.predict(X_test_final)))"
   ]
  },
  {
   "cell_type": "markdown",
   "metadata": {},
   "source": [
    "## Random Forests"
   ]
  },
  {
   "cell_type": "code",
   "execution_count": 32,
   "metadata": {
    "ExecuteTime": {
     "end_time": "2022-05-17T17:45:31.216952Z",
     "start_time": "2022-05-17T17:45:29.831506Z"
    }
   },
   "outputs": [
    {
     "data": {
      "text/plain": [
       "RandomForestClassifier(random_state=42)"
      ]
     },
     "execution_count": 32,
     "metadata": {},
     "output_type": "execute_result"
    }
   ],
   "source": [
    "forest = RandomForestClassifier(random_state=42)\n",
    "forest.fit(X_train_final, y_train)"
   ]
  },
  {
   "cell_type": "code",
   "execution_count": 33,
   "metadata": {
    "ExecuteTime": {
     "end_time": "2022-05-17T17:45:31.637910Z",
     "start_time": "2022-05-17T17:45:31.217955Z"
    }
   },
   "outputs": [
    {
     "name": "stdout",
     "output_type": "stream",
     "text": [
      "Random Forests Model Training Scores: \n",
      "               precision    recall  f1-score   support\n",
      "\n",
      "           0       1.00      1.00      1.00      9991\n",
      "           1       1.00      1.00      1.00      8778\n",
      "\n",
      "    accuracy                           1.00     18769\n",
      "   macro avg       1.00      1.00      1.00     18769\n",
      "weighted avg       1.00      1.00      1.00     18769\n",
      "\n",
      "Random Forests Model Test Scores: \n",
      "               precision    recall  f1-score   support\n",
      "\n",
      "           0       0.78      0.80      0.79      3321\n",
      "           1       0.77      0.74      0.75      2936\n",
      "\n",
      "    accuracy                           0.77      6257\n",
      "   macro avg       0.77      0.77      0.77      6257\n",
      "weighted avg       0.77      0.77      0.77      6257\n",
      "\n"
     ]
    }
   ],
   "source": [
    "print('Random Forests Model Training Scores: \\n',\n",
    "     classification_report(y_train, forest.predict(X_train_final)))\n",
    "print('Random Forests Model Test Scores: \\n',\n",
    "     classification_report(y_test, forest.predict(X_test_final)))"
   ]
  },
  {
   "cell_type": "code",
   "execution_count": 34,
   "metadata": {
    "ExecuteTime": {
     "end_time": "2022-05-17T17:49:24.479528Z",
     "start_time": "2022-05-17T17:45:32.516849Z"
    }
   },
   "outputs": [
    {
     "data": {
      "text/plain": [
       "GridSearchCV(cv=3, estimator=RandomForestClassifier(random_state=42),\n",
       "             param_grid={'criterion': ['gini', 'entropy'],\n",
       "                         'max_depth': [5, 10, 20, 25],\n",
       "                         'min_samples_split': [2, 5, 10, 20, 25],\n",
       "                         'n_estimators': [50, 100, 150]})"
      ]
     },
     "execution_count": 34,
     "metadata": {},
     "output_type": "execute_result"
    }
   ],
   "source": [
    "forest_param_grid = {'n_estimators' : [50, 100, 150],\n",
    "                    'criterion' : ['gini', 'entropy'],\n",
    "                    'max_depth' : [5, 10, 20, 25],\n",
    "                    'min_samples_split' : [2, 5, 10, 20, 25]}\n",
    "\n",
    "forest_gs = GridSearchCV(forest, forest_param_grid, cv=3)\n",
    "forest_gs.fit(X_train_final, y_train)"
   ]
  },
  {
   "cell_type": "code",
   "execution_count": 35,
   "metadata": {
    "ExecuteTime": {
     "end_time": "2022-05-17T17:49:27.254197Z",
     "start_time": "2022-05-17T17:49:27.249006Z"
    }
   },
   "outputs": [
    {
     "data": {
      "text/plain": [
       "{'criterion': 'gini',\n",
       " 'max_depth': 20,\n",
       " 'min_samples_split': 20,\n",
       " 'n_estimators': 150}"
      ]
     },
     "execution_count": 35,
     "metadata": {},
     "output_type": "execute_result"
    }
   ],
   "source": [
    "forest_gs.best_params_"
   ]
  },
  {
   "cell_type": "code",
   "execution_count": 36,
   "metadata": {
    "ExecuteTime": {
     "end_time": "2022-05-17T17:49:33.299582Z",
     "start_time": "2022-05-17T17:49:31.814167Z"
    }
   },
   "outputs": [
    {
     "data": {
      "text/plain": [
       "RandomForestClassifier(max_depth=20, min_samples_split=20, n_estimators=150,\n",
       "                       random_state=42)"
      ]
     },
     "execution_count": 36,
     "metadata": {},
     "output_type": "execute_result"
    }
   ],
   "source": [
    "forest_2 = RandomForestClassifier(random_state=42, \n",
    "                                  criterion='gini', \n",
    "                                  max_depth=20, \n",
    "                                  min_samples_split=20, \n",
    "                                  n_estimators=150)\n",
    "forest_2.fit(X_train_final, y_train)"
   ]
  },
  {
   "cell_type": "code",
   "execution_count": 37,
   "metadata": {
    "ExecuteTime": {
     "end_time": "2022-05-17T17:49:33.779759Z",
     "start_time": "2022-05-17T17:49:33.300731Z"
    }
   },
   "outputs": [
    {
     "name": "stdout",
     "output_type": "stream",
     "text": [
      "Second Random Forests Model Training Scores: \n",
      "               precision    recall  f1-score   support\n",
      "\n",
      "           0       0.85      0.88      0.86      9991\n",
      "           1       0.86      0.83      0.84      8778\n",
      "\n",
      "    accuracy                           0.85     18769\n",
      "   macro avg       0.85      0.85      0.85     18769\n",
      "weighted avg       0.85      0.85      0.85     18769\n",
      "\n",
      "Second Random Forests Model Test Scores: \n",
      "               precision    recall  f1-score   support\n",
      "\n",
      "           0       0.78      0.81      0.79      3321\n",
      "           1       0.77      0.74      0.76      2936\n",
      "\n",
      "    accuracy                           0.78      6257\n",
      "   macro avg       0.78      0.78      0.78      6257\n",
      "weighted avg       0.78      0.78      0.78      6257\n",
      "\n"
     ]
    }
   ],
   "source": [
    "print('Second Random Forests Model Training Scores: \\n',\n",
    "     classification_report(y_train, forest_2.predict(X_train_final)))\n",
    "print('Second Random Forests Model Test Scores: \\n',\n",
    "     classification_report(y_test, forest_2.predict(X_test_final)))"
   ]
  },
  {
   "cell_type": "code",
   "execution_count": 38,
   "metadata": {
    "ExecuteTime": {
     "end_time": "2022-05-17T17:49:38.252116Z",
     "start_time": "2022-05-17T17:49:38.243199Z"
    }
   },
   "outputs": [],
   "source": [
    "def plot_feature_importance(model):\n",
    "    sns.set_style('darkgrid')\n",
    "    importances = model.feature_importances_\n",
    "    sorted_indices = np.argsort(importances)[::-1]\n",
    "    n_features = 10\n",
    "    plt.figure(figsize=(8,8))\n",
    "    plt.barh(range(10), importances[sorted_indices][:10], align = 'center')\n",
    "    plt.yticks(range(n_features), X_train_final.columns[sorted_indices][:10])\n",
    "    plt.xlabel('Feature Importance', fontsize=16)\n",
    "    plt.ylabel('Feature', fontsize=16)\n",
    "    plt.title('Model Feature Importances', fontsize=20)"
   ]
  },
  {
   "cell_type": "code",
   "execution_count": 39,
   "metadata": {
    "ExecuteTime": {
     "end_time": "2022-05-17T17:49:38.748311Z",
     "start_time": "2022-05-17T17:49:38.568131Z"
    }
   },
   "outputs": [
    {
     "data": {
      "image/png": "[encoded data removed]",
      "text/plain": [
       "<Figure size 576x576 with 1 Axes>"
      ]
     },
     "metadata": {},
     "output_type": "display_data"
    }
   ],
   "source": [
    "plot_feature_importance(forest_2)"
   ]
  },
  {
   "cell_type": "markdown",
   "metadata": {},
   "source": [
    "## XG Boost"
   ]
  },
  {
   "cell_type": "code",
   "execution_count": 40,
   "metadata": {
    "ExecuteTime": {
     "end_time": "2022-05-17T17:49:44.422211Z",
     "start_time": "2022-05-17T17:49:43.095009Z"
    }
   },
   "outputs": [
    {
     "data": {
      "text/plain": [
       "XGBClassifier(base_score=0.5, booster='gbtree', colsample_bylevel=1,\n",
       "              colsample_bynode=1, colsample_bytree=1, gamma=0, gpu_id=-1,\n",
       "              importance_type='gain', interaction_constraints='',\n",
       "              learning_rate=0.300000012, max_delta_step=0, max_depth=6,\n",
       "              min_child_weight=1, missing=nan, monotone_constraints='()',\n",
       "              n_estimators=100, n_jobs=0, num_parallel_tree=1, random_state=42,\n",
       "              reg_alpha=0, reg_lambda=1, scale_pos_weight=1, subsample=1,\n",
       "              tree_method='exact', validate_parameters=1, verbosity=None)"
      ]
     },
     "execution_count": 40,
     "metadata": {},
     "output_type": "execute_result"
    }
   ],
   "source": [
    "boost = XGBClassifier(random_state=42)\n",
    "boost.fit(X_train_final, y_train)"
   ]
  },
  {
   "cell_type": "code",
   "execution_count": 41,
   "metadata": {
    "ExecuteTime": {
     "end_time": "2022-05-17T17:49:44.488437Z",
     "start_time": "2022-05-17T17:49:44.423769Z"
    }
   },
   "outputs": [
    {
     "name": "stdout",
     "output_type": "stream",
     "text": [
      "XG Boost Model Training Scores: \n",
      "               precision    recall  f1-score   support\n",
      "\n",
      "           0       0.89      0.89      0.89      9991\n",
      "           1       0.88      0.87      0.87      8778\n",
      "\n",
      "    accuracy                           0.88     18769\n",
      "   macro avg       0.88      0.88      0.88     18769\n",
      "weighted avg       0.88      0.88      0.88     18769\n",
      "\n",
      "XG Boost Model Test Scores: \n",
      "               precision    recall  f1-score   support\n",
      "\n",
      "           0       0.78      0.79      0.78      3321\n",
      "           1       0.75      0.74      0.75      2936\n",
      "\n",
      "    accuracy                           0.77      6257\n",
      "   macro avg       0.76      0.76      0.76      6257\n",
      "weighted avg       0.77      0.77      0.77      6257\n",
      "\n"
     ]
    }
   ],
   "source": [
    "print('XG Boost Model Training Scores: \\n',\n",
    "     classification_report(y_train, boost.predict(X_train_final)))\n",
    "print('XG Boost Model Test Scores: \\n',\n",
    "     classification_report(y_test, boost.predict(X_test_final)))"
   ]
  },
  {
   "cell_type": "code",
   "execution_count": 42,
   "metadata": {
    "ExecuteTime": {
     "end_time": "2022-05-17T17:55:01.601942Z",
     "start_time": "2022-05-17T17:49:49.815153Z"
    }
   },
   "outputs": [
    {
     "data": {
      "text/plain": [
       "GridSearchCV(cv=3,\n",
       "             estimator=XGBClassifier(base_score=0.5, booster='gbtree',\n",
       "                                     colsample_bylevel=1, colsample_bynode=1,\n",
       "                                     colsample_bytree=1, gamma=0, gpu_id=-1,\n",
       "                                     importance_type='gain',\n",
       "                                     interaction_constraints='',\n",
       "                                     learning_rate=0.300000012,\n",
       "                                     max_delta_step=0, max_depth=6,\n",
       "                                     min_child_weight=1, missing=nan,\n",
       "                                     monotone_constraints='()',\n",
       "                                     n_estimators=100, n_jobs=0,\n",
       "                                     num_parallel_tree=1, random_state=42,\n",
       "                                     reg_alpha=0, reg_lambda=1,\n",
       "                                     scale_pos_weight=1, subsample=1,\n",
       "                                     tree_method='exact', validate_parameters=1,\n",
       "                                     verbosity=None),\n",
       "             param_grid={'learning_rate': [0.1, 0.2, 0.3],\n",
       "                         'max_depth': [4, 5, 6],\n",
       "                         'min_child_weight': [0.5, 0.7, 1],\n",
       "                         'n_estimators': [100, 150, 200]})"
      ]
     },
     "execution_count": 42,
     "metadata": {},
     "output_type": "execute_result"
    }
   ],
   "source": [
    "boost_param_grid = {'learning_rate' : [.1, .2, .3],\n",
    "                   'max_depth' : [4, 5, 6],\n",
    "                   'min_child_weight' : [.5, .7, 1],\n",
    "                   'n_estimators' : [100, 150, 200]}\n",
    "\n",
    "gs_boost = GridSearchCV(boost, boost_param_grid, cv=3)\n",
    "gs_boost.fit(X_train_final, y_train)"
   ]
  },
  {
   "cell_type": "code",
   "execution_count": 43,
   "metadata": {
    "ExecuteTime": {
     "end_time": "2022-05-17T17:55:04.563828Z",
     "start_time": "2022-05-17T17:55:04.558869Z"
    }
   },
   "outputs": [
    {
     "data": {
      "text/plain": [
       "{'learning_rate': 0.1,\n",
       " 'max_depth': 4,\n",
       " 'min_child_weight': 0.7,\n",
       " 'n_estimators': 100}"
      ]
     },
     "execution_count": 43,
     "metadata": {},
     "output_type": "execute_result"
    }
   ],
   "source": [
    "gs_boost.best_params_"
   ]
  },
  {
   "cell_type": "code",
   "execution_count": 44,
   "metadata": {
    "ExecuteTime": {
     "end_time": "2022-05-17T17:55:18.410212Z",
     "start_time": "2022-05-17T17:55:17.469322Z"
    }
   },
   "outputs": [
    {
     "data": {
      "text/plain": [
       "XGBClassifier(base_score=0.5, booster='gbtree', colsample_bylevel=1,\n",
       "              colsample_bynode=1, colsample_bytree=1, gamma=0, gpu_id=-1,\n",
       "              importance_type='gain', interaction_constraints='',\n",
       "              learning_rate=0.1, max_delta_step=0, max_depth=4,\n",
       "              min_child_weight=0.7, missing=nan, monotone_constraints='()',\n",
       "              n_estimators=100, n_jobs=0, num_parallel_tree=1, random_state=42,\n",
       "              reg_alpha=0, reg_lambda=1, scale_pos_weight=1, subsample=1,\n",
       "              tree_method='exact', validate_parameters=1, verbosity=None)"
      ]
     },
     "execution_count": 44,
     "metadata": {},
     "output_type": "execute_result"
    }
   ],
   "source": [
    "boost_2 = XGBClassifier(random_state=42, \n",
    "                            learning_rate=.1, \n",
    "                            max_depth = 4, \n",
    "                            min_child_weight = .7, \n",
    "                            n_estimators = 100)\n",
    "boost_2.fit(X_train_final, y_train)"
   ]
  },
  {
   "cell_type": "code",
   "execution_count": 45,
   "metadata": {
    "ExecuteTime": {
     "end_time": "2022-05-17T17:55:20.336269Z",
     "start_time": "2022-05-17T17:55:20.180081Z"
    }
   },
   "outputs": [
    {
     "name": "stdout",
     "output_type": "stream",
     "text": [
      "XG Boost Model Training Scores: \n",
      "               precision    recall  f1-score   support\n",
      "\n",
      "           0       0.89      0.89      0.89      9991\n",
      "           1       0.88      0.87      0.87      8778\n",
      "\n",
      "    accuracy                           0.88     18769\n",
      "   macro avg       0.88      0.88      0.88     18769\n",
      "weighted avg       0.88      0.88      0.88     18769\n",
      "\n",
      "XG Boost Model Test Scores: \n",
      "               precision    recall  f1-score   support\n",
      "\n",
      "           0       0.78      0.79      0.78      3321\n",
      "           1       0.75      0.74      0.75      2936\n",
      "\n",
      "    accuracy                           0.77      6257\n",
      "   macro avg       0.76      0.76      0.76      6257\n",
      "weighted avg       0.77      0.77      0.77      6257\n",
      "\n",
      "Second XG Boost Model Training Scores: \n",
      "               precision    recall  f1-score   support\n",
      "\n",
      "           0       0.80      0.83      0.81      9991\n",
      "           1       0.79      0.77      0.78      8778\n",
      "\n",
      "    accuracy                           0.80     18769\n",
      "   macro avg       0.80      0.80      0.80     18769\n",
      "weighted avg       0.80      0.80      0.80     18769\n",
      "\n",
      "Second XG Boost Model Test Scores: \n",
      "               precision    recall  f1-score   support\n",
      "\n",
      "           0       0.79      0.80      0.79      3321\n",
      "           1       0.77      0.76      0.76      2936\n",
      "\n",
      "    accuracy                           0.78      6257\n",
      "   macro avg       0.78      0.78      0.78      6257\n",
      "weighted avg       0.78      0.78      0.78      6257\n",
      "\n"
     ]
    }
   ],
   "source": [
    "print('XG Boost Model Training Scores: \\n',\n",
    "     classification_report(y_train, boost.predict(X_train_final)))\n",
    "print('XG Boost Model Test Scores: \\n',\n",
    "     classification_report(y_test, boost.predict(X_test_final)))\n",
    "print('Second XG Boost Model Training Scores: \\n',\n",
    "     classification_report(y_train, boost_2.predict(X_train_final)))\n",
    "print('Second XG Boost Model Test Scores: \\n',\n",
    "     classification_report(y_test, boost_2.predict(X_test_final)))"
   ]
  },
  {
   "cell_type": "code",
   "execution_count": 46,
   "metadata": {
    "ExecuteTime": {
     "end_time": "2022-05-17T17:55:26.562935Z",
     "start_time": "2022-05-17T17:55:26.400616Z"
    }
   },
   "outputs": [
    {
     "data": {
      "image/png": "[encoded data removed]",
      "text/plain": [
       "<Figure size 576x576 with 1 Axes>"
      ]
     },
     "metadata": {},
     "output_type": "display_data"
    }
   ],
   "source": [
    "plot_feature_importance(boost_2)"
   ]
  },
  {
   "cell_type": "code",
   "execution_count": null,
   "metadata": {},
   "outputs": [],
   "source": []
  }
 ],
 "metadata": {
  "kernelspec": {
   "display_name": "Python 3",
   "language": "python",
   "name": "python3"
  },
  "language_info": {
   "codemirror_mode": {
    "name": "ipython",
    "version": 3
   },
   "file_extension": ".py",
   "mimetype": "text/x-python",
   "name": "python",
   "nbconvert_exporter": "python",
   "pygments_lexer": "ipython3",
   "version": "3.8.5"
  },
  "toc": {
   "base_numbering": 1,
   "nav_menu": {},
   "number_sections": true,
   "sideBar": true,
   "skip_h1_title": false,
   "title_cell": "Table of Contents",
   "title_sidebar": "Contents",
   "toc_cell": false,
   "toc_position": {},
   "toc_section_display": true,
   "toc_window_display": false
  }
 },
 "nbformat": 4,
 "nbformat_minor": 4
}
