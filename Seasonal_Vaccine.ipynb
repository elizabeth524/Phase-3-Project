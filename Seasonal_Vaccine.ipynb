{
 "cells": [
  {
   "cell_type": "markdown",
   "metadata": {},
   "source": [
    "# Import Necessary Libraries and Data"
   ]
  },
  {
   "cell_type": "code",
   "execution_count": 10,
   "metadata": {
    "ExecuteTime": {
     "end_time": "2022-05-15T16:59:27.192463Z",
     "start_time": "2022-05-15T16:59:27.185621Z"
    }
   },
   "outputs": [],
   "source": [
    "import numpy as np\n",
    "import pandas as pd\n",
    "import matplotlib.pyplot as plt\n",
    "from sklearn.model_selection import train_test_split, GridSearchCV\n",
    "from sklearn.linear_model import LogisticRegression\n",
    "from sklearn.tree import DecisionTreeClassifier\n",
    "from sklearn.metrics import accuracy_score, classification_report\n",
    "from sklearn import tree\n",
    "from imblearn.over_sampling import SMOTE\n",
    "from sklearn.ensemble import RandomForestClassifier\n",
    "from xgboost import XGBClassifier\n",
    "import seaborn as sns"
   ]
  },
  {
   "cell_type": "code",
   "execution_count": 11,
   "metadata": {
    "ExecuteTime": {
     "end_time": "2022-05-15T16:59:27.897503Z",
     "start_time": "2022-05-15T16:59:27.781700Z"
    }
   },
   "outputs": [],
   "source": [
    "training_labels = pd.read_csv('Data/training_set_labels.csv', index_col='respondent_id')\n",
    "training_features = pd.read_csv('Data/training_set_features.csv', index_col='respondent_id')"
   ]
  },
  {
   "cell_type": "markdown",
   "metadata": {},
   "source": [
    "# Explore the Data"
   ]
  },
  {
   "cell_type": "code",
   "execution_count": 12,
   "metadata": {
    "ExecuteTime": {
     "end_time": "2022-05-15T16:59:28.758305Z",
     "start_time": "2022-05-15T16:59:28.741518Z"
    }
   },
   "outputs": [
    {
     "name": "stdout",
     "output_type": "stream",
     "text": [
      "<class 'pandas.core.frame.DataFrame'>\n",
      "Int64Index: 26707 entries, 0 to 26706\n",
      "Data columns (total 2 columns):\n",
      " #   Column            Non-Null Count  Dtype\n",
      "---  ------            --------------  -----\n",
      " 0   h1n1_vaccine      26707 non-null  int64\n",
      " 1   seasonal_vaccine  26707 non-null  int64\n",
      "dtypes: int64(2)\n",
      "memory usage: 625.9 KB\n"
     ]
    }
   ],
   "source": [
    "training_labels.info()"
   ]
  },
  {
   "cell_type": "code",
   "execution_count": 13,
   "metadata": {
    "ExecuteTime": {
     "end_time": "2022-05-15T16:59:29.158603Z",
     "start_time": "2022-05-15T16:59:29.147214Z"
    }
   },
   "outputs": [
    {
     "data": {
      "text/plain": [
       "0    14272\n",
       "1    12435\n",
       "Name: seasonal_vaccine, dtype: int64"
      ]
     },
     "execution_count": 13,
     "metadata": {},
     "output_type": "execute_result"
    }
   ],
   "source": [
    "training_labels.seasonal_vaccine.value_counts()"
   ]
  },
  {
   "cell_type": "code",
   "execution_count": 14,
   "metadata": {
    "ExecuteTime": {
     "end_time": "2022-05-15T16:59:29.798438Z",
     "start_time": "2022-05-15T16:59:29.757850Z"
    }
   },
   "outputs": [
    {
     "name": "stdout",
     "output_type": "stream",
     "text": [
      "<class 'pandas.core.frame.DataFrame'>\n",
      "Int64Index: 26707 entries, 0 to 26706\n",
      "Data columns (total 35 columns):\n",
      " #   Column                       Non-Null Count  Dtype  \n",
      "---  ------                       --------------  -----  \n",
      " 0   h1n1_concern                 26615 non-null  float64\n",
      " 1   h1n1_knowledge               26591 non-null  float64\n",
      " 2   behavioral_antiviral_meds    26636 non-null  float64\n",
      " 3   behavioral_avoidance         26499 non-null  float64\n",
      " 4   behavioral_face_mask         26688 non-null  float64\n",
      " 5   behavioral_wash_hands        26665 non-null  float64\n",
      " 6   behavioral_large_gatherings  26620 non-null  float64\n",
      " 7   behavioral_outside_home      26625 non-null  float64\n",
      " 8   behavioral_touch_face        26579 non-null  float64\n",
      " 9   doctor_recc_h1n1             24547 non-null  float64\n",
      " 10  doctor_recc_seasonal         24547 non-null  float64\n",
      " 11  chronic_med_condition        25736 non-null  float64\n",
      " 12  child_under_6_months         25887 non-null  float64\n",
      " 13  health_worker                25903 non-null  float64\n",
      " 14  health_insurance             14433 non-null  float64\n",
      " 15  opinion_h1n1_vacc_effective  26316 non-null  float64\n",
      " 16  opinion_h1n1_risk            26319 non-null  float64\n",
      " 17  opinion_h1n1_sick_from_vacc  26312 non-null  float64\n",
      " 18  opinion_seas_vacc_effective  26245 non-null  float64\n",
      " 19  opinion_seas_risk            26193 non-null  float64\n",
      " 20  opinion_seas_sick_from_vacc  26170 non-null  float64\n",
      " 21  age_group                    26707 non-null  object \n",
      " 22  education                    25300 non-null  object \n",
      " 23  race                         26707 non-null  object \n",
      " 24  sex                          26707 non-null  object \n",
      " 25  income_poverty               22284 non-null  object \n",
      " 26  marital_status               25299 non-null  object \n",
      " 27  rent_or_own                  24665 non-null  object \n",
      " 28  employment_status            25244 non-null  object \n",
      " 29  hhs_geo_region               26707 non-null  object \n",
      " 30  census_msa                   26707 non-null  object \n",
      " 31  household_adults             26458 non-null  float64\n",
      " 32  household_children           26458 non-null  float64\n",
      " 33  employment_industry          13377 non-null  object \n",
      " 34  employment_occupation        13237 non-null  object \n",
      "dtypes: float64(23), object(12)\n",
      "memory usage: 7.3+ MB\n"
     ]
    }
   ],
   "source": [
    "training_features.info()"
   ]
  },
  {
   "cell_type": "code",
   "execution_count": 15,
   "metadata": {
    "ExecuteTime": {
     "end_time": "2022-05-15T16:59:30.562864Z",
     "start_time": "2022-05-15T16:59:30.516315Z"
    }
   },
   "outputs": [
    {
     "data": {
      "text/html": [
       "<div>\n",
       "<style scoped>\n",
       "    .dataframe tbody tr th:only-of-type {\n",
       "        vertical-align: middle;\n",
       "    }\n",
       "\n",
       "    .dataframe tbody tr th {\n",
       "        vertical-align: top;\n",
       "    }\n",
       "\n",
       "    .dataframe thead th {\n",
       "        text-align: right;\n",
       "    }\n",
       "</style>\n",
       "<table border=\"1\" class=\"dataframe\">\n",
       "  <thead>\n",
       "    <tr style=\"text-align: right;\">\n",
       "      <th></th>\n",
       "      <th>h1n1_concern</th>\n",
       "      <th>h1n1_knowledge</th>\n",
       "      <th>behavioral_antiviral_meds</th>\n",
       "      <th>behavioral_avoidance</th>\n",
       "      <th>behavioral_face_mask</th>\n",
       "      <th>behavioral_wash_hands</th>\n",
       "      <th>behavioral_large_gatherings</th>\n",
       "      <th>behavioral_outside_home</th>\n",
       "      <th>behavioral_touch_face</th>\n",
       "      <th>doctor_recc_h1n1</th>\n",
       "      <th>...</th>\n",
       "      <th>rent_or_own</th>\n",
       "      <th>employment_status</th>\n",
       "      <th>hhs_geo_region</th>\n",
       "      <th>census_msa</th>\n",
       "      <th>household_adults</th>\n",
       "      <th>household_children</th>\n",
       "      <th>employment_industry</th>\n",
       "      <th>employment_occupation</th>\n",
       "      <th>h1n1_vaccine</th>\n",
       "      <th>seasonal_vaccine</th>\n",
       "    </tr>\n",
       "    <tr>\n",
       "      <th>respondent_id</th>\n",
       "      <th></th>\n",
       "      <th></th>\n",
       "      <th></th>\n",
       "      <th></th>\n",
       "      <th></th>\n",
       "      <th></th>\n",
       "      <th></th>\n",
       "      <th></th>\n",
       "      <th></th>\n",
       "      <th></th>\n",
       "      <th></th>\n",
       "      <th></th>\n",
       "      <th></th>\n",
       "      <th></th>\n",
       "      <th></th>\n",
       "      <th></th>\n",
       "      <th></th>\n",
       "      <th></th>\n",
       "      <th></th>\n",
       "      <th></th>\n",
       "      <th></th>\n",
       "    </tr>\n",
       "  </thead>\n",
       "  <tbody>\n",
       "    <tr>\n",
       "      <th>0</th>\n",
       "      <td>1.0</td>\n",
       "      <td>0.0</td>\n",
       "      <td>0.0</td>\n",
       "      <td>0.0</td>\n",
       "      <td>0.0</td>\n",
       "      <td>0.0</td>\n",
       "      <td>0.0</td>\n",
       "      <td>1.0</td>\n",
       "      <td>1.0</td>\n",
       "      <td>0.0</td>\n",
       "      <td>...</td>\n",
       "      <td>Own</td>\n",
       "      <td>Not in Labor Force</td>\n",
       "      <td>oxchjgsf</td>\n",
       "      <td>Non-MSA</td>\n",
       "      <td>0.0</td>\n",
       "      <td>0.0</td>\n",
       "      <td>NaN</td>\n",
       "      <td>NaN</td>\n",
       "      <td>0</td>\n",
       "      <td>0</td>\n",
       "    </tr>\n",
       "    <tr>\n",
       "      <th>1</th>\n",
       "      <td>3.0</td>\n",
       "      <td>2.0</td>\n",
       "      <td>0.0</td>\n",
       "      <td>1.0</td>\n",
       "      <td>0.0</td>\n",
       "      <td>1.0</td>\n",
       "      <td>0.0</td>\n",
       "      <td>1.0</td>\n",
       "      <td>1.0</td>\n",
       "      <td>0.0</td>\n",
       "      <td>...</td>\n",
       "      <td>Rent</td>\n",
       "      <td>Employed</td>\n",
       "      <td>bhuqouqj</td>\n",
       "      <td>MSA, Not Principle  City</td>\n",
       "      <td>0.0</td>\n",
       "      <td>0.0</td>\n",
       "      <td>pxcmvdjn</td>\n",
       "      <td>xgwztkwe</td>\n",
       "      <td>0</td>\n",
       "      <td>1</td>\n",
       "    </tr>\n",
       "    <tr>\n",
       "      <th>2</th>\n",
       "      <td>1.0</td>\n",
       "      <td>1.0</td>\n",
       "      <td>0.0</td>\n",
       "      <td>1.0</td>\n",
       "      <td>0.0</td>\n",
       "      <td>0.0</td>\n",
       "      <td>0.0</td>\n",
       "      <td>0.0</td>\n",
       "      <td>0.0</td>\n",
       "      <td>NaN</td>\n",
       "      <td>...</td>\n",
       "      <td>Own</td>\n",
       "      <td>Employed</td>\n",
       "      <td>qufhixun</td>\n",
       "      <td>MSA, Not Principle  City</td>\n",
       "      <td>2.0</td>\n",
       "      <td>0.0</td>\n",
       "      <td>rucpziij</td>\n",
       "      <td>xtkaffoo</td>\n",
       "      <td>0</td>\n",
       "      <td>0</td>\n",
       "    </tr>\n",
       "    <tr>\n",
       "      <th>3</th>\n",
       "      <td>1.0</td>\n",
       "      <td>1.0</td>\n",
       "      <td>0.0</td>\n",
       "      <td>1.0</td>\n",
       "      <td>0.0</td>\n",
       "      <td>1.0</td>\n",
       "      <td>1.0</td>\n",
       "      <td>0.0</td>\n",
       "      <td>0.0</td>\n",
       "      <td>0.0</td>\n",
       "      <td>...</td>\n",
       "      <td>Rent</td>\n",
       "      <td>Not in Labor Force</td>\n",
       "      <td>lrircsnp</td>\n",
       "      <td>MSA, Principle City</td>\n",
       "      <td>0.0</td>\n",
       "      <td>0.0</td>\n",
       "      <td>NaN</td>\n",
       "      <td>NaN</td>\n",
       "      <td>0</td>\n",
       "      <td>1</td>\n",
       "    </tr>\n",
       "    <tr>\n",
       "      <th>4</th>\n",
       "      <td>2.0</td>\n",
       "      <td>1.0</td>\n",
       "      <td>0.0</td>\n",
       "      <td>1.0</td>\n",
       "      <td>0.0</td>\n",
       "      <td>1.0</td>\n",
       "      <td>1.0</td>\n",
       "      <td>0.0</td>\n",
       "      <td>1.0</td>\n",
       "      <td>0.0</td>\n",
       "      <td>...</td>\n",
       "      <td>Own</td>\n",
       "      <td>Employed</td>\n",
       "      <td>qufhixun</td>\n",
       "      <td>MSA, Not Principle  City</td>\n",
       "      <td>1.0</td>\n",
       "      <td>0.0</td>\n",
       "      <td>wxleyezf</td>\n",
       "      <td>emcorrxb</td>\n",
       "      <td>0</td>\n",
       "      <td>0</td>\n",
       "    </tr>\n",
       "  </tbody>\n",
       "</table>\n",
       "<p>5 rows × 37 columns</p>\n",
       "</div>"
      ],
      "text/plain": [
       "               h1n1_concern  h1n1_knowledge  behavioral_antiviral_meds  \\\n",
       "respondent_id                                                            \n",
       "0                       1.0             0.0                        0.0   \n",
       "1                       3.0             2.0                        0.0   \n",
       "2                       1.0             1.0                        0.0   \n",
       "3                       1.0             1.0                        0.0   \n",
       "4                       2.0             1.0                        0.0   \n",
       "\n",
       "               behavioral_avoidance  behavioral_face_mask  \\\n",
       "respondent_id                                               \n",
       "0                               0.0                   0.0   \n",
       "1                               1.0                   0.0   \n",
       "2                               1.0                   0.0   \n",
       "3                               1.0                   0.0   \n",
       "4                               1.0                   0.0   \n",
       "\n",
       "               behavioral_wash_hands  behavioral_large_gatherings  \\\n",
       "respondent_id                                                       \n",
       "0                                0.0                          0.0   \n",
       "1                                1.0                          0.0   \n",
       "2                                0.0                          0.0   \n",
       "3                                1.0                          1.0   \n",
       "4                                1.0                          1.0   \n",
       "\n",
       "               behavioral_outside_home  behavioral_touch_face  \\\n",
       "respondent_id                                                   \n",
       "0                                  1.0                    1.0   \n",
       "1                                  1.0                    1.0   \n",
       "2                                  0.0                    0.0   \n",
       "3                                  0.0                    0.0   \n",
       "4                                  0.0                    1.0   \n",
       "\n",
       "               doctor_recc_h1n1  ...  rent_or_own   employment_status  \\\n",
       "respondent_id                    ...                                    \n",
       "0                           0.0  ...          Own  Not in Labor Force   \n",
       "1                           0.0  ...         Rent            Employed   \n",
       "2                           NaN  ...          Own            Employed   \n",
       "3                           0.0  ...         Rent  Not in Labor Force   \n",
       "4                           0.0  ...          Own            Employed   \n",
       "\n",
       "               hhs_geo_region                census_msa  household_adults  \\\n",
       "respondent_id                                                               \n",
       "0                    oxchjgsf                   Non-MSA               0.0   \n",
       "1                    bhuqouqj  MSA, Not Principle  City               0.0   \n",
       "2                    qufhixun  MSA, Not Principle  City               2.0   \n",
       "3                    lrircsnp       MSA, Principle City               0.0   \n",
       "4                    qufhixun  MSA, Not Principle  City               1.0   \n",
       "\n",
       "               household_children  employment_industry  employment_occupation  \\\n",
       "respondent_id                                                                   \n",
       "0                             0.0                  NaN                    NaN   \n",
       "1                             0.0             pxcmvdjn               xgwztkwe   \n",
       "2                             0.0             rucpziij               xtkaffoo   \n",
       "3                             0.0                  NaN                    NaN   \n",
       "4                             0.0             wxleyezf               emcorrxb   \n",
       "\n",
       "               h1n1_vaccine  seasonal_vaccine  \n",
       "respondent_id                                  \n",
       "0                         0                 0  \n",
       "1                         0                 1  \n",
       "2                         0                 0  \n",
       "3                         0                 1  \n",
       "4                         0                 0  \n",
       "\n",
       "[5 rows x 37 columns]"
      ]
     },
     "execution_count": 15,
     "metadata": {},
     "output_type": "execute_result"
    }
   ],
   "source": [
    "# Create one DataFrame to house all of our data\n",
    "data_df = pd.concat([training_features, training_labels], axis=1)\n",
    "data_df.head()"
   ]
  },
  {
   "cell_type": "markdown",
   "metadata": {},
   "source": [
    "# Clean the Data"
   ]
  },
  {
   "cell_type": "markdown",
   "metadata": {},
   "source": [
    "## Remove Unnecessary Columns"
   ]
  },
  {
   "cell_type": "code",
   "execution_count": 16,
   "metadata": {
    "ExecuteTime": {
     "end_time": "2022-05-15T17:00:08.111688Z",
     "start_time": "2022-05-15T17:00:08.106820Z"
    }
   },
   "outputs": [
    {
     "ename": "SyntaxError",
     "evalue": "invalid syntax (<ipython-input-16-9c1c1d77a75b>, line 1)",
     "output_type": "error",
     "traceback": [
      "\u001b[0;36m  File \u001b[0;32m\"<ipython-input-16-9c1c1d77a75b>\"\u001b[0;36m, line \u001b[0;32m1\u001b[0m\n\u001b[0;31m    The columns that we are removing either have to do with the H1N1 Vaccine, or have too much missing data.\u001b[0m\n\u001b[0m        ^\u001b[0m\n\u001b[0;31mSyntaxError\u001b[0m\u001b[0;31m:\u001b[0m invalid syntax\n"
     ]
    }
   ],
   "source": [
    "The columns that we are removing either have to do with the H1N1 Vaccine, or have too much missing data."
   ]
  },
  {
   "cell_type": "code",
   "execution_count": 17,
   "metadata": {
    "ExecuteTime": {
     "end_time": "2022-05-15T17:00:10.388489Z",
     "start_time": "2022-05-15T17:00:10.332287Z"
    }
   },
   "outputs": [
    {
     "name": "stdout",
     "output_type": "stream",
     "text": [
      "<class 'pandas.core.frame.DataFrame'>\n",
      "Int64Index: 26707 entries, 0 to 26706\n",
      "Data columns (total 27 columns):\n",
      " #   Column                       Non-Null Count  Dtype  \n",
      "---  ------                       --------------  -----  \n",
      " 0   behavioral_antiviral_meds    26636 non-null  float64\n",
      " 1   behavioral_avoidance         26499 non-null  float64\n",
      " 2   behavioral_face_mask         26688 non-null  float64\n",
      " 3   behavioral_wash_hands        26665 non-null  float64\n",
      " 4   behavioral_large_gatherings  26620 non-null  float64\n",
      " 5   behavioral_outside_home      26625 non-null  float64\n",
      " 6   behavioral_touch_face        26579 non-null  float64\n",
      " 7   doctor_recc_seasonal         24547 non-null  float64\n",
      " 8   chronic_med_condition        25736 non-null  float64\n",
      " 9   child_under_6_months         25887 non-null  float64\n",
      " 10  health_worker                25903 non-null  float64\n",
      " 11  opinion_seas_vacc_effective  26245 non-null  float64\n",
      " 12  opinion_seas_risk            26193 non-null  float64\n",
      " 13  opinion_seas_sick_from_vacc  26170 non-null  float64\n",
      " 14  age_group                    26707 non-null  object \n",
      " 15  education                    25300 non-null  object \n",
      " 16  race                         26707 non-null  object \n",
      " 17  sex                          26707 non-null  object \n",
      " 18  income_poverty               22284 non-null  object \n",
      " 19  marital_status               25299 non-null  object \n",
      " 20  rent_or_own                  24665 non-null  object \n",
      " 21  employment_status            25244 non-null  object \n",
      " 22  hhs_geo_region               26707 non-null  object \n",
      " 23  census_msa                   26707 non-null  object \n",
      " 24  household_adults             26458 non-null  float64\n",
      " 25  household_children           26458 non-null  float64\n",
      " 26  seasonal_vaccine             26707 non-null  int64  \n",
      "dtypes: float64(16), int64(1), object(10)\n",
      "memory usage: 5.7+ MB\n"
     ]
    }
   ],
   "source": [
    "seasonal_df = data_df.drop(['h1n1_concern',\n",
    "                            'h1n1_knowledge',\n",
    "                            'health_insurance',\n",
    "                            'opinion_h1n1_vacc_effective',\n",
    "                            'opinion_h1n1_risk',\n",
    "                            'opinion_h1n1_sick_from_vacc',\n",
    "                            'doctor_recc_h1n1',\n",
    "                            'employment_industry',\n",
    "                            'employment_occupation',\n",
    "                            'h1n1_vaccine'], axis=1)\n",
    "seasonal_df.info()"
   ]
  },
  {
   "cell_type": "markdown",
   "metadata": {},
   "source": [
    "## Dealing with Missing Data"
   ]
  },
  {
   "cell_type": "code",
   "execution_count": 18,
   "metadata": {
    "ExecuteTime": {
     "end_time": "2022-05-15T17:00:29.608484Z",
     "start_time": "2022-05-15T17:00:29.573648Z"
    }
   },
   "outputs": [
    {
     "data": {
      "text/plain": [
       "behavioral_antiviral_meds        71\n",
       "behavioral_avoidance            208\n",
       "behavioral_face_mask             19\n",
       "behavioral_wash_hands            42\n",
       "behavioral_large_gatherings      87\n",
       "behavioral_outside_home          82\n",
       "behavioral_touch_face           128\n",
       "doctor_recc_seasonal           2160\n",
       "chronic_med_condition           971\n",
       "child_under_6_months            820\n",
       "health_worker                   804\n",
       "opinion_seas_vacc_effective     462\n",
       "opinion_seas_risk               514\n",
       "opinion_seas_sick_from_vacc     537\n",
       "age_group                         0\n",
       "education                      1407\n",
       "race                              0\n",
       "sex                               0\n",
       "income_poverty                 4423\n",
       "marital_status                 1408\n",
       "rent_or_own                    2042\n",
       "employment_status              1463\n",
       "hhs_geo_region                    0\n",
       "census_msa                        0\n",
       "household_adults                249\n",
       "household_children              249\n",
       "seasonal_vaccine                  0\n",
       "dtype: int64"
      ]
     },
     "execution_count": 18,
     "metadata": {},
     "output_type": "execute_result"
    }
   ],
   "source": [
    "# Check for missing data\n",
    "seasonal_df.isna().sum()"
   ]
  },
  {
   "cell_type": "markdown",
   "metadata": {},
   "source": [
    "We will want to create a new value for columns missing between 5 and 10 percent of the data.  If the column is missing less than 5 percent of data values, we will drop those values."
   ]
  },
  {
   "cell_type": "code",
   "execution_count": 19,
   "metadata": {
    "ExecuteTime": {
     "end_time": "2022-05-15T17:00:55.828531Z",
     "start_time": "2022-05-15T17:00:55.824359Z"
    }
   },
   "outputs": [
    {
     "name": "stdout",
     "output_type": "stream",
     "text": [
      "5% of data: 1335.35\n",
      "10% of data: 2670.7\n"
     ]
    }
   ],
   "source": [
    "print('5% of data:', round(26707*.05, 2))\n",
    "print('10% of data:', round(26707*.1, 2))"
   ]
  },
  {
   "cell_type": "markdown",
   "metadata": {},
   "source": [
    "Create a new category \"unknown\" for the columns with 1000+ missing entries.\n",
    "Drop rows if the column is missing less than 1000 entries.\n",
    "Columns to adjust: doctor_recc_seasonal, education, income_poverty, marital_status, rent_or_own, and employment_status."
   ]
  },
  {
   "cell_type": "code",
   "execution_count": 20,
   "metadata": {
    "ExecuteTime": {
     "end_time": "2022-05-15T17:01:19.023201Z",
     "start_time": "2022-05-15T17:01:18.995439Z"
    }
   },
   "outputs": [],
   "source": [
    "# Create an unknown category for missing data\n",
    "need_new_category = ['doctor_recc_seasonal', \n",
    "                     'education', \n",
    "                     'income_poverty', \n",
    "                     'marital_status', \n",
    "                     'rent_or_own', \n",
    "                     'employment_status']\n",
    "for column in need_new_category:\n",
    "    seasonal_df[column].fillna(value='unknown', inplace=True)"
   ]
  },
  {
   "cell_type": "code",
   "execution_count": 21,
   "metadata": {
    "ExecuteTime": {
     "end_time": "2022-05-15T17:01:34.661568Z",
     "start_time": "2022-05-15T17:01:34.627776Z"
    }
   },
   "outputs": [
    {
     "data": {
      "text/plain": [
       "behavioral_antiviral_meds       71\n",
       "behavioral_avoidance           208\n",
       "behavioral_face_mask            19\n",
       "behavioral_wash_hands           42\n",
       "behavioral_large_gatherings     87\n",
       "behavioral_outside_home         82\n",
       "behavioral_touch_face          128\n",
       "doctor_recc_seasonal             0\n",
       "chronic_med_condition          971\n",
       "child_under_6_months           820\n",
       "health_worker                  804\n",
       "opinion_seas_vacc_effective    462\n",
       "opinion_seas_risk              514\n",
       "opinion_seas_sick_from_vacc    537\n",
       "age_group                        0\n",
       "education                        0\n",
       "race                             0\n",
       "sex                              0\n",
       "income_poverty                   0\n",
       "marital_status                   0\n",
       "rent_or_own                      0\n",
       "employment_status                0\n",
       "hhs_geo_region                   0\n",
       "census_msa                       0\n",
       "household_adults               249\n",
       "household_children             249\n",
       "seasonal_vaccine                 0\n",
       "dtype: int64"
      ]
     },
     "execution_count": 21,
     "metadata": {},
     "output_type": "execute_result"
    }
   ],
   "source": [
    "# Check our remaining null values\n",
    "seasonal_df.isna().sum()"
   ]
  },
  {
   "cell_type": "code",
   "execution_count": 22,
   "metadata": {
    "ExecuteTime": {
     "end_time": "2022-05-15T17:01:53.909829Z",
     "start_time": "2022-05-15T17:01:53.848366Z"
    }
   },
   "outputs": [
    {
     "data": {
      "text/plain": [
       "behavioral_antiviral_meds      0\n",
       "behavioral_avoidance           0\n",
       "behavioral_face_mask           0\n",
       "behavioral_wash_hands          0\n",
       "behavioral_large_gatherings    0\n",
       "behavioral_outside_home        0\n",
       "behavioral_touch_face          0\n",
       "doctor_recc_seasonal           0\n",
       "chronic_med_condition          0\n",
       "child_under_6_months           0\n",
       "health_worker                  0\n",
       "opinion_seas_vacc_effective    0\n",
       "opinion_seas_risk              0\n",
       "opinion_seas_sick_from_vacc    0\n",
       "age_group                      0\n",
       "education                      0\n",
       "race                           0\n",
       "sex                            0\n",
       "income_poverty                 0\n",
       "marital_status                 0\n",
       "rent_or_own                    0\n",
       "employment_status              0\n",
       "hhs_geo_region                 0\n",
       "census_msa                     0\n",
       "household_adults               0\n",
       "household_children             0\n",
       "seasonal_vaccine               0\n",
       "dtype: int64"
      ]
     },
     "execution_count": 22,
     "metadata": {},
     "output_type": "execute_result"
    }
   ],
   "source": [
    "# Drop the remaining null values from the dataset\n",
    "seasonal_df.dropna(inplace=True)\n",
    "seasonal_df.isna().sum()"
   ]
  },
  {
   "cell_type": "code",
   "execution_count": 23,
   "metadata": {
    "ExecuteTime": {
     "end_time": "2022-05-15T17:02:12.268433Z",
     "start_time": "2022-05-15T17:02:12.254352Z"
    }
   },
   "outputs": [],
   "source": [
    "# Split our data into features and labels\n",
    "seasonal_features = seasonal_df.drop('seasonal_vaccine', axis=1)\n",
    "seasonal_labels = seasonal_df['seasonal_vaccine']"
   ]
  },
  {
   "cell_type": "code",
   "execution_count": 24,
   "metadata": {
    "ExecuteTime": {
     "end_time": "2022-05-15T17:02:12.972945Z",
     "start_time": "2022-05-15T17:02:12.939222Z"
    }
   },
   "outputs": [
    {
     "data": {
      "text/html": [
       "<div>\n",
       "<style scoped>\n",
       "    .dataframe tbody tr th:only-of-type {\n",
       "        vertical-align: middle;\n",
       "    }\n",
       "\n",
       "    .dataframe tbody tr th {\n",
       "        vertical-align: top;\n",
       "    }\n",
       "\n",
       "    .dataframe thead th {\n",
       "        text-align: right;\n",
       "    }\n",
       "</style>\n",
       "<table border=\"1\" class=\"dataframe\">\n",
       "  <thead>\n",
       "    <tr style=\"text-align: right;\">\n",
       "      <th></th>\n",
       "      <th>behavioral_antiviral_meds</th>\n",
       "      <th>behavioral_avoidance</th>\n",
       "      <th>behavioral_face_mask</th>\n",
       "      <th>behavioral_wash_hands</th>\n",
       "      <th>behavioral_large_gatherings</th>\n",
       "      <th>behavioral_outside_home</th>\n",
       "      <th>behavioral_touch_face</th>\n",
       "      <th>doctor_recc_seasonal</th>\n",
       "      <th>chronic_med_condition</th>\n",
       "      <th>child_under_6_months</th>\n",
       "      <th>...</th>\n",
       "      <th>race</th>\n",
       "      <th>sex</th>\n",
       "      <th>income_poverty</th>\n",
       "      <th>marital_status</th>\n",
       "      <th>rent_or_own</th>\n",
       "      <th>employment_status</th>\n",
       "      <th>hhs_geo_region</th>\n",
       "      <th>census_msa</th>\n",
       "      <th>household_adults</th>\n",
       "      <th>household_children</th>\n",
       "    </tr>\n",
       "    <tr>\n",
       "      <th>respondent_id</th>\n",
       "      <th></th>\n",
       "      <th></th>\n",
       "      <th></th>\n",
       "      <th></th>\n",
       "      <th></th>\n",
       "      <th></th>\n",
       "      <th></th>\n",
       "      <th></th>\n",
       "      <th></th>\n",
       "      <th></th>\n",
       "      <th></th>\n",
       "      <th></th>\n",
       "      <th></th>\n",
       "      <th></th>\n",
       "      <th></th>\n",
       "      <th></th>\n",
       "      <th></th>\n",
       "      <th></th>\n",
       "      <th></th>\n",
       "      <th></th>\n",
       "      <th></th>\n",
       "    </tr>\n",
       "  </thead>\n",
       "  <tbody>\n",
       "    <tr>\n",
       "      <th>0</th>\n",
       "      <td>0.0</td>\n",
       "      <td>0.0</td>\n",
       "      <td>0.0</td>\n",
       "      <td>0.0</td>\n",
       "      <td>0.0</td>\n",
       "      <td>1.0</td>\n",
       "      <td>1.0</td>\n",
       "      <td>0</td>\n",
       "      <td>0.0</td>\n",
       "      <td>0.0</td>\n",
       "      <td>...</td>\n",
       "      <td>White</td>\n",
       "      <td>Female</td>\n",
       "      <td>Below Poverty</td>\n",
       "      <td>Not Married</td>\n",
       "      <td>Own</td>\n",
       "      <td>Not in Labor Force</td>\n",
       "      <td>oxchjgsf</td>\n",
       "      <td>Non-MSA</td>\n",
       "      <td>0.0</td>\n",
       "      <td>0.0</td>\n",
       "    </tr>\n",
       "    <tr>\n",
       "      <th>1</th>\n",
       "      <td>0.0</td>\n",
       "      <td>1.0</td>\n",
       "      <td>0.0</td>\n",
       "      <td>1.0</td>\n",
       "      <td>0.0</td>\n",
       "      <td>1.0</td>\n",
       "      <td>1.0</td>\n",
       "      <td>0</td>\n",
       "      <td>0.0</td>\n",
       "      <td>0.0</td>\n",
       "      <td>...</td>\n",
       "      <td>White</td>\n",
       "      <td>Male</td>\n",
       "      <td>Below Poverty</td>\n",
       "      <td>Not Married</td>\n",
       "      <td>Rent</td>\n",
       "      <td>Employed</td>\n",
       "      <td>bhuqouqj</td>\n",
       "      <td>MSA, Not Principle  City</td>\n",
       "      <td>0.0</td>\n",
       "      <td>0.0</td>\n",
       "    </tr>\n",
       "    <tr>\n",
       "      <th>2</th>\n",
       "      <td>0.0</td>\n",
       "      <td>1.0</td>\n",
       "      <td>0.0</td>\n",
       "      <td>0.0</td>\n",
       "      <td>0.0</td>\n",
       "      <td>0.0</td>\n",
       "      <td>0.0</td>\n",
       "      <td>unknown</td>\n",
       "      <td>1.0</td>\n",
       "      <td>0.0</td>\n",
       "      <td>...</td>\n",
       "      <td>White</td>\n",
       "      <td>Male</td>\n",
       "      <td>&lt;= $75,000, Above Poverty</td>\n",
       "      <td>Not Married</td>\n",
       "      <td>Own</td>\n",
       "      <td>Employed</td>\n",
       "      <td>qufhixun</td>\n",
       "      <td>MSA, Not Principle  City</td>\n",
       "      <td>2.0</td>\n",
       "      <td>0.0</td>\n",
       "    </tr>\n",
       "    <tr>\n",
       "      <th>3</th>\n",
       "      <td>0.0</td>\n",
       "      <td>1.0</td>\n",
       "      <td>0.0</td>\n",
       "      <td>1.0</td>\n",
       "      <td>1.0</td>\n",
       "      <td>0.0</td>\n",
       "      <td>0.0</td>\n",
       "      <td>1</td>\n",
       "      <td>1.0</td>\n",
       "      <td>0.0</td>\n",
       "      <td>...</td>\n",
       "      <td>White</td>\n",
       "      <td>Female</td>\n",
       "      <td>Below Poverty</td>\n",
       "      <td>Not Married</td>\n",
       "      <td>Rent</td>\n",
       "      <td>Not in Labor Force</td>\n",
       "      <td>lrircsnp</td>\n",
       "      <td>MSA, Principle City</td>\n",
       "      <td>0.0</td>\n",
       "      <td>0.0</td>\n",
       "    </tr>\n",
       "    <tr>\n",
       "      <th>4</th>\n",
       "      <td>0.0</td>\n",
       "      <td>1.0</td>\n",
       "      <td>0.0</td>\n",
       "      <td>1.0</td>\n",
       "      <td>1.0</td>\n",
       "      <td>0.0</td>\n",
       "      <td>1.0</td>\n",
       "      <td>0</td>\n",
       "      <td>0.0</td>\n",
       "      <td>0.0</td>\n",
       "      <td>...</td>\n",
       "      <td>White</td>\n",
       "      <td>Female</td>\n",
       "      <td>&lt;= $75,000, Above Poverty</td>\n",
       "      <td>Married</td>\n",
       "      <td>Own</td>\n",
       "      <td>Employed</td>\n",
       "      <td>qufhixun</td>\n",
       "      <td>MSA, Not Principle  City</td>\n",
       "      <td>1.0</td>\n",
       "      <td>0.0</td>\n",
       "    </tr>\n",
       "  </tbody>\n",
       "</table>\n",
       "<p>5 rows × 26 columns</p>\n",
       "</div>"
      ],
      "text/plain": [
       "               behavioral_antiviral_meds  behavioral_avoidance  \\\n",
       "respondent_id                                                    \n",
       "0                                    0.0                   0.0   \n",
       "1                                    0.0                   1.0   \n",
       "2                                    0.0                   1.0   \n",
       "3                                    0.0                   1.0   \n",
       "4                                    0.0                   1.0   \n",
       "\n",
       "               behavioral_face_mask  behavioral_wash_hands  \\\n",
       "respondent_id                                                \n",
       "0                               0.0                    0.0   \n",
       "1                               0.0                    1.0   \n",
       "2                               0.0                    0.0   \n",
       "3                               0.0                    1.0   \n",
       "4                               0.0                    1.0   \n",
       "\n",
       "               behavioral_large_gatherings  behavioral_outside_home  \\\n",
       "respondent_id                                                         \n",
       "0                                      0.0                      1.0   \n",
       "1                                      0.0                      1.0   \n",
       "2                                      0.0                      0.0   \n",
       "3                                      1.0                      0.0   \n",
       "4                                      1.0                      0.0   \n",
       "\n",
       "               behavioral_touch_face doctor_recc_seasonal  \\\n",
       "respondent_id                                               \n",
       "0                                1.0                    0   \n",
       "1                                1.0                    0   \n",
       "2                                0.0              unknown   \n",
       "3                                0.0                    1   \n",
       "4                                1.0                    0   \n",
       "\n",
       "               chronic_med_condition  child_under_6_months  ...   race  \\\n",
       "respondent_id                                               ...          \n",
       "0                                0.0                   0.0  ...  White   \n",
       "1                                0.0                   0.0  ...  White   \n",
       "2                                1.0                   0.0  ...  White   \n",
       "3                                1.0                   0.0  ...  White   \n",
       "4                                0.0                   0.0  ...  White   \n",
       "\n",
       "                  sex             income_poverty  marital_status rent_or_own  \\\n",
       "respondent_id                                                                  \n",
       "0              Female              Below Poverty     Not Married         Own   \n",
       "1                Male              Below Poverty     Not Married        Rent   \n",
       "2                Male  <= $75,000, Above Poverty     Not Married         Own   \n",
       "3              Female              Below Poverty     Not Married        Rent   \n",
       "4              Female  <= $75,000, Above Poverty         Married         Own   \n",
       "\n",
       "                employment_status hhs_geo_region                census_msa  \\\n",
       "respondent_id                                                                \n",
       "0              Not in Labor Force       oxchjgsf                   Non-MSA   \n",
       "1                        Employed       bhuqouqj  MSA, Not Principle  City   \n",
       "2                        Employed       qufhixun  MSA, Not Principle  City   \n",
       "3              Not in Labor Force       lrircsnp       MSA, Principle City   \n",
       "4                        Employed       qufhixun  MSA, Not Principle  City   \n",
       "\n",
       "              household_adults household_children  \n",
       "respondent_id                                      \n",
       "0                          0.0                0.0  \n",
       "1                          0.0                0.0  \n",
       "2                          2.0                0.0  \n",
       "3                          0.0                0.0  \n",
       "4                          1.0                0.0  \n",
       "\n",
       "[5 rows x 26 columns]"
      ]
     },
     "execution_count": 24,
     "metadata": {},
     "output_type": "execute_result"
    }
   ],
   "source": [
    "seasonal_features.head()"
   ]
  },
  {
   "cell_type": "markdown",
   "metadata": {},
   "source": [
    "## Dummies for Categorical Columns"
   ]
  },
  {
   "cell_type": "markdown",
   "metadata": {},
   "source": [
    "Next we need to create dummies for our columns that are not numerical.  Before we do this, I would like to adjust the doctor recc seasonal values in order for their column names to make sense when we create our dummies."
   ]
  },
  {
   "cell_type": "code",
   "execution_count": 66,
   "metadata": {
    "ExecuteTime": {
     "end_time": "2022-05-14T23:11:44.405859Z",
     "start_time": "2022-05-14T23:11:44.389489Z"
    }
   },
   "outputs": [
    {
     "data": {
      "text/plain": [
       "0.0        15494\n",
       "1.0         7676\n",
       "unknown     1856\n",
       "Name: doctor_recc_seasonal, dtype: int64"
      ]
     },
     "execution_count": 66,
     "metadata": {},
     "output_type": "execute_result"
    }
   ],
   "source": [
    "seasonal_features['doctor_recc_seasonal'].value_counts()"
   ]
  },
  {
   "cell_type": "code",
   "execution_count": 25,
   "metadata": {
    "ExecuteTime": {
     "end_time": "2022-05-15T17:03:05.711402Z",
     "start_time": "2022-05-15T17:03:05.698297Z"
    }
   },
   "outputs": [],
   "source": [
    "# Replace 0 and 1 with No and Yes, respectively\n",
    "seasonal_features['doctor_recc_seasonal'].replace(to_replace=0.0, value='No', inplace=True)\n",
    "seasonal_features['doctor_recc_seasonal'].replace(to_replace=1.0, value='Yes', inplace=True)"
   ]
  },
  {
   "cell_type": "code",
   "execution_count": 26,
   "metadata": {
    "ExecuteTime": {
     "end_time": "2022-05-15T17:03:23.070444Z",
     "start_time": "2022-05-15T17:03:23.014096Z"
    }
   },
   "outputs": [],
   "source": [
    "# Create dummies for categorical columns\n",
    "seasonal_final = pd.get_dummies(seasonal_features)"
   ]
  },
  {
   "cell_type": "code",
   "execution_count": 27,
   "metadata": {
    "ExecuteTime": {
     "end_time": "2022-05-15T17:03:24.653441Z",
     "start_time": "2022-05-15T17:03:24.627261Z"
    }
   },
   "outputs": [
    {
     "name": "stdout",
     "output_type": "stream",
     "text": [
      "<class 'pandas.core.frame.DataFrame'>\n",
      "Int64Index: 25026 entries, 0 to 26706\n",
      "Data columns (total 61 columns):\n",
      " #   Column                                    Non-Null Count  Dtype  \n",
      "---  ------                                    --------------  -----  \n",
      " 0   behavioral_antiviral_meds                 25026 non-null  float64\n",
      " 1   behavioral_avoidance                      25026 non-null  float64\n",
      " 2   behavioral_face_mask                      25026 non-null  float64\n",
      " 3   behavioral_wash_hands                     25026 non-null  float64\n",
      " 4   behavioral_large_gatherings               25026 non-null  float64\n",
      " 5   behavioral_outside_home                   25026 non-null  float64\n",
      " 6   behavioral_touch_face                     25026 non-null  float64\n",
      " 7   chronic_med_condition                     25026 non-null  float64\n",
      " 8   child_under_6_months                      25026 non-null  float64\n",
      " 9   health_worker                             25026 non-null  float64\n",
      " 10  opinion_seas_vacc_effective               25026 non-null  float64\n",
      " 11  opinion_seas_risk                         25026 non-null  float64\n",
      " 12  opinion_seas_sick_from_vacc               25026 non-null  float64\n",
      " 13  household_adults                          25026 non-null  float64\n",
      " 14  household_children                        25026 non-null  float64\n",
      " 15  doctor_recc_seasonal_No                   25026 non-null  uint8  \n",
      " 16  doctor_recc_seasonal_Yes                  25026 non-null  uint8  \n",
      " 17  doctor_recc_seasonal_unknown              25026 non-null  uint8  \n",
      " 18  age_group_18 - 34 Years                   25026 non-null  uint8  \n",
      " 19  age_group_35 - 44 Years                   25026 non-null  uint8  \n",
      " 20  age_group_45 - 54 Years                   25026 non-null  uint8  \n",
      " 21  age_group_55 - 64 Years                   25026 non-null  uint8  \n",
      " 22  age_group_65+ Years                       25026 non-null  uint8  \n",
      " 23  education_12 Years                        25026 non-null  uint8  \n",
      " 24  education_< 12 Years                      25026 non-null  uint8  \n",
      " 25  education_College Graduate                25026 non-null  uint8  \n",
      " 26  education_Some College                    25026 non-null  uint8  \n",
      " 27  education_unknown                         25026 non-null  uint8  \n",
      " 28  race_Black                                25026 non-null  uint8  \n",
      " 29  race_Hispanic                             25026 non-null  uint8  \n",
      " 30  race_Other or Multiple                    25026 non-null  uint8  \n",
      " 31  race_White                                25026 non-null  uint8  \n",
      " 32  sex_Female                                25026 non-null  uint8  \n",
      " 33  sex_Male                                  25026 non-null  uint8  \n",
      " 34  income_poverty_<= $75,000, Above Poverty  25026 non-null  uint8  \n",
      " 35  income_poverty_> $75,000                  25026 non-null  uint8  \n",
      " 36  income_poverty_Below Poverty              25026 non-null  uint8  \n",
      " 37  income_poverty_unknown                    25026 non-null  uint8  \n",
      " 38  marital_status_Married                    25026 non-null  uint8  \n",
      " 39  marital_status_Not Married                25026 non-null  uint8  \n",
      " 40  marital_status_unknown                    25026 non-null  uint8  \n",
      " 41  rent_or_own_Own                           25026 non-null  uint8  \n",
      " 42  rent_or_own_Rent                          25026 non-null  uint8  \n",
      " 43  rent_or_own_unknown                       25026 non-null  uint8  \n",
      " 44  employment_status_Employed                25026 non-null  uint8  \n",
      " 45  employment_status_Not in Labor Force      25026 non-null  uint8  \n",
      " 46  employment_status_Unemployed              25026 non-null  uint8  \n",
      " 47  employment_status_unknown                 25026 non-null  uint8  \n",
      " 48  hhs_geo_region_atmpeygn                   25026 non-null  uint8  \n",
      " 49  hhs_geo_region_bhuqouqj                   25026 non-null  uint8  \n",
      " 50  hhs_geo_region_dqpwygqj                   25026 non-null  uint8  \n",
      " 51  hhs_geo_region_fpwskwrf                   25026 non-null  uint8  \n",
      " 52  hhs_geo_region_kbazzjca                   25026 non-null  uint8  \n",
      " 53  hhs_geo_region_lrircsnp                   25026 non-null  uint8  \n",
      " 54  hhs_geo_region_lzgpxyit                   25026 non-null  uint8  \n",
      " 55  hhs_geo_region_mlyzmhmf                   25026 non-null  uint8  \n",
      " 56  hhs_geo_region_oxchjgsf                   25026 non-null  uint8  \n",
      " 57  hhs_geo_region_qufhixun                   25026 non-null  uint8  \n",
      " 58  census_msa_MSA, Not Principle  City       25026 non-null  uint8  \n",
      " 59  census_msa_MSA, Principle City            25026 non-null  uint8  \n",
      " 60  census_msa_Non-MSA                        25026 non-null  uint8  \n",
      "dtypes: float64(15), uint8(46)\n",
      "memory usage: 4.2 MB\n"
     ]
    }
   ],
   "source": [
    "seasonal_final.info()"
   ]
  },
  {
   "cell_type": "markdown",
   "metadata": {},
   "source": [
    "All of our data is now in a numerical format.  However, some of the dummy column names include spaces and unusual characters (ie >). We will have to rename these columns so they are usable in later code, namely for XG Boost models."
   ]
  },
  {
   "cell_type": "code",
   "execution_count": 28,
   "metadata": {
    "ExecuteTime": {
     "end_time": "2022-05-15T17:04:02.500640Z",
     "start_time": "2022-05-15T17:04:02.490796Z"
    }
   },
   "outputs": [],
   "source": [
    "# Rename unusual columns\n",
    "seasonal_final.rename(columns = {'age_group_18 - 34 Years' : 'age_group_18_34',\n",
    "                            'age_group_35 - 44 Years' : 'age_group_35_44',\n",
    "                            'age_group_45 - 54 Years' : 'age_group_45_54',\n",
    "                            'age_group_55 - 64 Years' : 'age_group_55_64',\n",
    "                            'age_group_65+ Years' : 'age_group_over_65',\n",
    "                            'education_12 Years' : 'education_12_years',\n",
    "                            'education_< 12 Years' : 'education_less_than_12',\n",
    "                            'education_College Graduate' : 'education_college_grad',\n",
    "                            'education_Some College': 'education_some_college',\n",
    "                            'race_Other or Multiple' : 'race_other',\n",
    "                            'income_poverty_<= $75,000, Above Poverty' : 'income_poverty_lessorequal_75k',\n",
    "                            'income_poverty_> $75,000' : 'income_poverty_morethan_75k',\n",
    "                            'income_poverty_Below Poverty' : 'income_poverty_below_poverty',\n",
    "                            'marital_status_Not Married': 'marital_status_Unmarried',\n",
    "                            'employment_status_Not in Labor Force' : 'employment_status_not_in_labor_force',\n",
    "                            'census_msa_MSA, Not Principle  City' : 'census_msa_not_in_principle',\n",
    "                            'census_msa_MSA, Principle City' : 'census_msa_in_principle',\n",
    "                            'census_msa_Non-MSA' : 'census_msa_non_msa'},\n",
    "                 inplace=True)"
   ]
  },
  {
   "cell_type": "code",
   "execution_count": 29,
   "metadata": {
    "ExecuteTime": {
     "end_time": "2022-05-15T17:04:15.110142Z",
     "start_time": "2022-05-15T17:04:15.083665Z"
    }
   },
   "outputs": [
    {
     "name": "stdout",
     "output_type": "stream",
     "text": [
      "<class 'pandas.core.frame.DataFrame'>\n",
      "Int64Index: 25026 entries, 0 to 26706\n",
      "Data columns (total 61 columns):\n",
      " #   Column                                Non-Null Count  Dtype  \n",
      "---  ------                                --------------  -----  \n",
      " 0   behavioral_antiviral_meds             25026 non-null  float64\n",
      " 1   behavioral_avoidance                  25026 non-null  float64\n",
      " 2   behavioral_face_mask                  25026 non-null  float64\n",
      " 3   behavioral_wash_hands                 25026 non-null  float64\n",
      " 4   behavioral_large_gatherings           25026 non-null  float64\n",
      " 5   behavioral_outside_home               25026 non-null  float64\n",
      " 6   behavioral_touch_face                 25026 non-null  float64\n",
      " 7   chronic_med_condition                 25026 non-null  float64\n",
      " 8   child_under_6_months                  25026 non-null  float64\n",
      " 9   health_worker                         25026 non-null  float64\n",
      " 10  opinion_seas_vacc_effective           25026 non-null  float64\n",
      " 11  opinion_seas_risk                     25026 non-null  float64\n",
      " 12  opinion_seas_sick_from_vacc           25026 non-null  float64\n",
      " 13  household_adults                      25026 non-null  float64\n",
      " 14  household_children                    25026 non-null  float64\n",
      " 15  doctor_recc_seasonal_No               25026 non-null  uint8  \n",
      " 16  doctor_recc_seasonal_Yes              25026 non-null  uint8  \n",
      " 17  doctor_recc_seasonal_unknown          25026 non-null  uint8  \n",
      " 18  age_group_18_34                       25026 non-null  uint8  \n",
      " 19  age_group_35_44                       25026 non-null  uint8  \n",
      " 20  age_group_45_54                       25026 non-null  uint8  \n",
      " 21  age_group_55_64                       25026 non-null  uint8  \n",
      " 22  age_group_over_65                     25026 non-null  uint8  \n",
      " 23  education_12_years                    25026 non-null  uint8  \n",
      " 24  education_less_than_12                25026 non-null  uint8  \n",
      " 25  education_college_grad                25026 non-null  uint8  \n",
      " 26  education_some_college                25026 non-null  uint8  \n",
      " 27  education_unknown                     25026 non-null  uint8  \n",
      " 28  race_Black                            25026 non-null  uint8  \n",
      " 29  race_Hispanic                         25026 non-null  uint8  \n",
      " 30  race_other                            25026 non-null  uint8  \n",
      " 31  race_White                            25026 non-null  uint8  \n",
      " 32  sex_Female                            25026 non-null  uint8  \n",
      " 33  sex_Male                              25026 non-null  uint8  \n",
      " 34  income_poverty_lessorequal_75k        25026 non-null  uint8  \n",
      " 35  income_poverty_morethan_75k           25026 non-null  uint8  \n",
      " 36  income_poverty_below_poverty          25026 non-null  uint8  \n",
      " 37  income_poverty_unknown                25026 non-null  uint8  \n",
      " 38  marital_status_Married                25026 non-null  uint8  \n",
      " 39  marital_status_Unmarried              25026 non-null  uint8  \n",
      " 40  marital_status_unknown                25026 non-null  uint8  \n",
      " 41  rent_or_own_Own                       25026 non-null  uint8  \n",
      " 42  rent_or_own_Rent                      25026 non-null  uint8  \n",
      " 43  rent_or_own_unknown                   25026 non-null  uint8  \n",
      " 44  employment_status_Employed            25026 non-null  uint8  \n",
      " 45  employment_status_not_in_labor_force  25026 non-null  uint8  \n",
      " 46  employment_status_Unemployed          25026 non-null  uint8  \n",
      " 47  employment_status_unknown             25026 non-null  uint8  \n",
      " 48  hhs_geo_region_atmpeygn               25026 non-null  uint8  \n",
      " 49  hhs_geo_region_bhuqouqj               25026 non-null  uint8  \n",
      " 50  hhs_geo_region_dqpwygqj               25026 non-null  uint8  \n",
      " 51  hhs_geo_region_fpwskwrf               25026 non-null  uint8  \n",
      " 52  hhs_geo_region_kbazzjca               25026 non-null  uint8  \n",
      " 53  hhs_geo_region_lrircsnp               25026 non-null  uint8  \n",
      " 54  hhs_geo_region_lzgpxyit               25026 non-null  uint8  \n",
      " 55  hhs_geo_region_mlyzmhmf               25026 non-null  uint8  \n",
      " 56  hhs_geo_region_oxchjgsf               25026 non-null  uint8  \n",
      " 57  hhs_geo_region_qufhixun               25026 non-null  uint8  \n",
      " 58  census_msa_not_in_principle           25026 non-null  uint8  \n",
      " 59  census_msa_in_principle               25026 non-null  uint8  \n",
      " 60  census_msa_non_msa                    25026 non-null  uint8  \n",
      "dtypes: float64(15), uint8(46)\n",
      "memory usage: 4.2 MB\n"
     ]
    }
   ],
   "source": [
    "# Check column names\n",
    "seasonal_final.info()"
   ]
  },
  {
   "cell_type": "markdown",
   "metadata": {},
   "source": [
    "## Splitting the Data"
   ]
  },
  {
   "cell_type": "markdown",
   "metadata": {},
   "source": [
    "Now we are ready to perform a train test split on our data so that we can create models and test their performance."
   ]
  },
  {
   "cell_type": "code",
   "execution_count": 31,
   "metadata": {
    "ExecuteTime": {
     "end_time": "2022-05-15T17:05:21.453243Z",
     "start_time": "2022-05-15T17:05:21.434999Z"
    }
   },
   "outputs": [],
   "source": [
    "X_train, X_test, y_train, y_test = train_test_split(seasonal_final, \n",
    "                                                    seasonal_labels, \n",
    "                                                    test_size = .25, \n",
    "                                                    random_state = 42)"
   ]
  },
  {
   "cell_type": "code",
   "execution_count": 32,
   "metadata": {
    "ExecuteTime": {
     "end_time": "2022-05-15T17:05:22.012514Z",
     "start_time": "2022-05-15T17:05:22.002913Z"
    }
   },
   "outputs": [
    {
     "data": {
      "text/plain": [
       "0    9991\n",
       "1    8778\n",
       "Name: seasonal_vaccine, dtype: int64"
      ]
     },
     "execution_count": 32,
     "metadata": {},
     "output_type": "execute_result"
    }
   ],
   "source": [
    "y_train.value_counts()"
   ]
  },
  {
   "cell_type": "markdown",
   "metadata": {},
   "source": [
    "The counts for a positive vs a negative result are close enough to where we do not need to perform any functions to deal with a class imbalance."
   ]
  },
  {
   "cell_type": "markdown",
   "metadata": {},
   "source": [
    "# Creating Models"
   ]
  },
  {
   "cell_type": "markdown",
   "metadata": {},
   "source": [
    "For our baseline model, we will be using simple logistic regression.  After finding our baseline, we will use more advanced model techniques and grid searches to create the optimum model for our dataset."
   ]
  },
  {
   "cell_type": "markdown",
   "metadata": {},
   "source": [
    "## Making a Baseline Model"
   ]
  },
  {
   "cell_type": "code",
   "execution_count": 33,
   "metadata": {
    "ExecuteTime": {
     "end_time": "2022-05-15T17:05:24.423581Z",
     "start_time": "2022-05-15T17:05:24.319414Z"
    }
   },
   "outputs": [
    {
     "data": {
      "text/plain": [
       "LogisticRegression(fit_intercept=False, random_state=42, solver='liblinear')"
      ]
     },
     "execution_count": 33,
     "metadata": {},
     "output_type": "execute_result"
    }
   ],
   "source": [
    "logreg = LogisticRegression(random_state=42, fit_intercept=False, solver='liblinear')\n",
    "logreg.fit(X_train, y_train)"
   ]
  },
  {
   "cell_type": "code",
   "execution_count": 34,
   "metadata": {
    "ExecuteTime": {
     "end_time": "2022-05-15T17:05:36.215903Z",
     "start_time": "2022-05-15T17:05:36.186447Z"
    }
   },
   "outputs": [
    {
     "name": "stdout",
     "output_type": "stream",
     "text": [
      "Baseline Model Scores: \n",
      "               precision    recall  f1-score   support\n",
      "\n",
      "           0       0.78      0.80      0.79      3321\n",
      "           1       0.77      0.74      0.76      2936\n",
      "\n",
      "    accuracy                           0.78      6257\n",
      "   macro avg       0.78      0.77      0.77      6257\n",
      "weighted avg       0.78      0.78      0.78      6257\n",
      "\n"
     ]
    }
   ],
   "source": [
    "print('Baseline Model Scores: \\n', classification_report(y_test, logreg.predict(X_test)))"
   ]
  },
  {
   "cell_type": "markdown",
   "metadata": {},
   "source": [
    "Our baseline model functions fairly well.  Lets see if we can create a better model with decision trees, randoms forests, or XG Boost."
   ]
  },
  {
   "cell_type": "markdown",
   "metadata": {},
   "source": [
    "## Decision Tree Model"
   ]
  },
  {
   "cell_type": "code",
   "execution_count": 35,
   "metadata": {
    "ExecuteTime": {
     "end_time": "2022-05-15T17:07:01.482010Z",
     "start_time": "2022-05-15T17:07:01.338138Z"
    }
   },
   "outputs": [
    {
     "data": {
      "text/plain": [
       "DecisionTreeClassifier(random_state=42)"
      ]
     },
     "execution_count": 35,
     "metadata": {},
     "output_type": "execute_result"
    }
   ],
   "source": [
    "# Create a basic decision tree model\n",
    "clf = DecisionTreeClassifier(random_state=42)\n",
    "clf.fit(X_train, y_train)"
   ]
  },
  {
   "cell_type": "code",
   "execution_count": 40,
   "metadata": {
    "ExecuteTime": {
     "end_time": "2022-05-15T17:08:44.989362Z",
     "start_time": "2022-05-15T17:08:44.960102Z"
    }
   },
   "outputs": [
    {
     "name": "stdout",
     "output_type": "stream",
     "text": [
      "Decision Tree Scores: \n",
      "               precision    recall  f1-score   support\n",
      "\n",
      "           0       0.70      0.69      0.70      3321\n",
      "           1       0.66      0.67      0.66      2936\n",
      "\n",
      "    accuracy                           0.68      6257\n",
      "   macro avg       0.68      0.68      0.68      6257\n",
      "weighted avg       0.68      0.68      0.68      6257\n",
      "\n"
     ]
    }
   ],
   "source": [
    "print('Decision Tree Scores: \\n', classification_report(y_test, clf.predict(X_test)))"
   ]
  },
  {
   "cell_type": "markdown",
   "metadata": {},
   "source": [
    "Our baseline model performs much better than this decision tree model.  We will try to improve our scores with a grid search."
   ]
  },
  {
   "cell_type": "code",
   "execution_count": 37,
   "metadata": {
    "ExecuteTime": {
     "end_time": "2022-05-15T17:08:13.213222Z",
     "start_time": "2022-05-15T17:08:10.861760Z"
    }
   },
   "outputs": [
    {
     "data": {
      "text/plain": [
       "GridSearchCV(cv=3, estimator=DecisionTreeClassifier(random_state=42),\n",
       "             param_grid={'criterion': ['gini', 'entropy'],\n",
       "                         'max_depth': [1, 2, 5, 10],\n",
       "                         'min_samples_split': [2, 3, 10, 20]})"
      ]
     },
     "execution_count": 37,
     "metadata": {},
     "output_type": "execute_result"
    }
   ],
   "source": [
    "param_grid = {'criterion': ['gini', 'entropy'],\n",
    "             'max_depth' : [1, 2, 5, 10],\n",
    "             'min_samples_split' : [2, 3, 10, 20]}\n",
    "\n",
    "gs_tree = GridSearchCV(clf, param_grid, cv=3)\n",
    "gs_tree.fit(X_train, y_train)"
   ]
  },
  {
   "cell_type": "code",
   "execution_count": 38,
   "metadata": {
    "ExecuteTime": {
     "end_time": "2022-05-15T17:08:13.216470Z",
     "start_time": "2022-05-15T17:08:13.214278Z"
    }
   },
   "outputs": [
    {
     "data": {
      "text/plain": [
       "{'criterion': 'gini', 'max_depth': 5, 'min_samples_split': 2}"
      ]
     },
     "execution_count": 38,
     "metadata": {},
     "output_type": "execute_result"
    }
   ],
   "source": [
    "gs_tree.best_params_"
   ]
  },
  {
   "cell_type": "code",
   "execution_count": 39,
   "metadata": {
    "ExecuteTime": {
     "end_time": "2022-05-15T17:08:38.149654Z",
     "start_time": "2022-05-15T17:08:38.075714Z"
    }
   },
   "outputs": [
    {
     "data": {
      "text/plain": [
       "DecisionTreeClassifier(max_depth=5, random_state=42)"
      ]
     },
     "execution_count": 39,
     "metadata": {},
     "output_type": "execute_result"
    }
   ],
   "source": [
    "# Create a decision tree model with our best parameters\n",
    "clf_2 = DecisionTreeClassifier(criterion='gini', max_depth = 5, min_samples_split = 2, random_state = 42)\n",
    "clf_2.fit(X_train, y_train)"
   ]
  },
  {
   "cell_type": "code",
   "execution_count": 41,
   "metadata": {
    "ExecuteTime": {
     "end_time": "2022-05-15T17:08:54.287239Z",
     "start_time": "2022-05-15T17:08:54.242364Z"
    }
   },
   "outputs": [
    {
     "name": "stdout",
     "output_type": "stream",
     "text": [
      "Decision Tree Scores: \n",
      "               precision    recall  f1-score   support\n",
      "\n",
      "           0       0.70      0.69      0.70      3321\n",
      "           1       0.66      0.67      0.66      2936\n",
      "\n",
      "    accuracy                           0.68      6257\n",
      "   macro avg       0.68      0.68      0.68      6257\n",
      "weighted avg       0.68      0.68      0.68      6257\n",
      "\n",
      "Second Decision Tree Model Scores: \n",
      "               precision    recall  f1-score   support\n",
      "\n",
      "           0       0.74      0.85      0.79      3321\n",
      "           1       0.80      0.67      0.72      2936\n",
      "\n",
      "    accuracy                           0.76      6257\n",
      "   macro avg       0.77      0.76      0.76      6257\n",
      "weighted avg       0.77      0.76      0.76      6257\n",
      "\n"
     ]
    }
   ],
   "source": [
    "print('Decision Tree Scores: \\n', classification_report(y_test, clf.predict(X_test)))\n",
    "print('Second Decision Tree Model Scores: \\n', classification_report(y_test, clf_2.predict(X_test)))"
   ]
  },
  {
   "cell_type": "markdown",
   "metadata": {},
   "source": [
    "Tuning our model helped to improve our scores, but we are still not performing as well as our baseline.  Our next step will be to use Random Forests to create a model that performs even better."
   ]
  },
  {
   "cell_type": "markdown",
   "metadata": {},
   "source": [
    "## Random Forest Model"
   ]
  },
  {
   "cell_type": "code",
   "execution_count": 42,
   "metadata": {
    "ExecuteTime": {
     "end_time": "2022-05-15T17:10:24.266054Z",
     "start_time": "2022-05-15T17:10:22.923083Z"
    }
   },
   "outputs": [
    {
     "data": {
      "text/plain": [
       "RandomForestClassifier(random_state=42)"
      ]
     },
     "execution_count": 42,
     "metadata": {},
     "output_type": "execute_result"
    }
   ],
   "source": [
    "forest = RandomForestClassifier(random_state=42)\n",
    "forest.fit(X_train, y_train)"
   ]
  },
  {
   "cell_type": "code",
   "execution_count": 49,
   "metadata": {
    "ExecuteTime": {
     "end_time": "2022-05-15T17:15:17.354855Z",
     "start_time": "2022-05-15T17:15:17.205383Z"
    }
   },
   "outputs": [
    {
     "name": "stdout",
     "output_type": "stream",
     "text": [
      "Forest Model Scores: \n",
      "               precision    recall  f1-score   support\n",
      "\n",
      "           0       0.77      0.80      0.79      3321\n",
      "           1       0.76      0.74      0.75      2936\n",
      "\n",
      "    accuracy                           0.77      6257\n",
      "   macro avg       0.77      0.77      0.77      6257\n",
      "weighted avg       0.77      0.77      0.77      6257\n",
      "\n"
     ]
    }
   ],
   "source": [
    "print('Forest Model Scores: \\n', classification_report(y_test, forest.predict(X_test)))"
   ]
  },
  {
   "cell_type": "markdown",
   "metadata": {},
   "source": [
    "In most areas, this model is already performing better than our decision tree models.  By performing a grid search for the best parameters, lets try to optimize this model further."
   ]
  },
  {
   "cell_type": "code",
   "execution_count": 44,
   "metadata": {
    "ExecuteTime": {
     "end_time": "2022-05-15T17:14:01.577935Z",
     "start_time": "2022-05-15T17:11:37.549068Z"
    }
   },
   "outputs": [
    {
     "data": {
      "text/plain": [
       "GridSearchCV(cv=3, estimator=RandomForestClassifier(random_state=42),\n",
       "             param_grid={'criterion': ['gini', 'entropy'],\n",
       "                         'max_depth': [2, 5, 10, 20],\n",
       "                         'min_samples_split': [2, 5, 10, 20],\n",
       "                         'n_estimators': [50, 100, 150]})"
      ]
     },
     "execution_count": 44,
     "metadata": {},
     "output_type": "execute_result"
    }
   ],
   "source": [
    "forest_param_grid = {'n_estimators' : [50, 100, 150],\n",
    "                    'criterion' : ['gini', 'entropy'],\n",
    "                    'max_depth' : [2, 5, 10, 20],\n",
    "                    'min_samples_split' : [2, 5, 10, 20]}\n",
    "\n",
    "forest_gs = GridSearchCV(forest, forest_param_grid, cv=3)\n",
    "forest_gs.fit(X_train, y_train)"
   ]
  },
  {
   "cell_type": "code",
   "execution_count": 45,
   "metadata": {
    "ExecuteTime": {
     "end_time": "2022-05-15T17:14:01.580914Z",
     "start_time": "2022-05-15T17:14:01.578946Z"
    }
   },
   "outputs": [
    {
     "data": {
      "text/plain": [
       "{'criterion': 'entropy',\n",
       " 'max_depth': 20,\n",
       " 'min_samples_split': 20,\n",
       " 'n_estimators': 100}"
      ]
     },
     "execution_count": 45,
     "metadata": {},
     "output_type": "execute_result"
    }
   ],
   "source": [
    "forest_gs.best_params_"
   ]
  },
  {
   "cell_type": "code",
   "execution_count": 46,
   "metadata": {
    "ExecuteTime": {
     "end_time": "2022-05-15T17:14:32.122112Z",
     "start_time": "2022-05-15T17:14:12.504049Z"
    }
   },
   "outputs": [
    {
     "data": {
      "text/plain": [
       "GridSearchCV(cv=3, estimator=RandomForestClassifier(random_state=42),\n",
       "             param_grid={'criterion': ['entropy'], 'max_depth': [20, 30, 40],\n",
       "                         'min_samples_split': [20, 30, 40],\n",
       "                         'n_estimators': [100]})"
      ]
     },
     "execution_count": 46,
     "metadata": {},
     "output_type": "execute_result"
    }
   ],
   "source": [
    "forest_param_grid_2 = {'n_estimators' : [100],\n",
    "                      'criterion' : ['entropy'],\n",
    "                      'min_samples_split' : [20, 30, 40],\n",
    "                      'max_depth' : [20, 30,40]}\n",
    "\n",
    "forest_gs_2 = GridSearchCV(forest, forest_param_grid_2, cv=3)\n",
    "forest_gs_2.fit(X_train, y_train)"
   ]
  },
  {
   "cell_type": "code",
   "execution_count": 47,
   "metadata": {
    "ExecuteTime": {
     "end_time": "2022-05-15T17:14:32.125159Z",
     "start_time": "2022-05-15T17:14:32.123175Z"
    }
   },
   "outputs": [
    {
     "data": {
      "text/plain": [
       "{'criterion': 'entropy',\n",
       " 'max_depth': 20,\n",
       " 'min_samples_split': 30,\n",
       " 'n_estimators': 100}"
      ]
     },
     "execution_count": 47,
     "metadata": {},
     "output_type": "execute_result"
    }
   ],
   "source": [
    "forest_gs_2.best_params_"
   ]
  },
  {
   "cell_type": "code",
   "execution_count": 48,
   "metadata": {
    "ExecuteTime": {
     "end_time": "2022-05-15T17:15:07.261114Z",
     "start_time": "2022-05-15T17:15:06.291504Z"
    }
   },
   "outputs": [
    {
     "data": {
      "text/plain": [
       "RandomForestClassifier(criterion='entropy', max_depth=20, min_samples_split=30,\n",
       "                       random_state=42)"
      ]
     },
     "execution_count": 48,
     "metadata": {},
     "output_type": "execute_result"
    }
   ],
   "source": [
    "# Create a second model with our best parameters\n",
    "forest_2 = RandomForestClassifier(random_state = 42,\n",
    "                                 criterion = 'entropy',\n",
    "                                 max_depth = 20,\n",
    "                                 min_samples_split = 30,\n",
    "                                 n_estimators = 100)\n",
    "forest_2.fit(X_train, y_train)"
   ]
  },
  {
   "cell_type": "code",
   "execution_count": 50,
   "metadata": {
    "ExecuteTime": {
     "end_time": "2022-05-15T17:15:26.980153Z",
     "start_time": "2022-05-15T17:15:26.750097Z"
    },
    "scrolled": true
   },
   "outputs": [
    {
     "name": "stdout",
     "output_type": "stream",
     "text": [
      "Forest Model Scores: \n",
      "               precision    recall  f1-score   support\n",
      "\n",
      "           0       0.77      0.80      0.79      3321\n",
      "           1       0.76      0.74      0.75      2936\n",
      "\n",
      "    accuracy                           0.77      6257\n",
      "   macro avg       0.77      0.77      0.77      6257\n",
      "weighted avg       0.77      0.77      0.77      6257\n",
      "\n",
      "Second Forest Model Scores: \n",
      "               precision    recall  f1-score   support\n",
      "\n",
      "           0       0.78      0.80      0.79      3321\n",
      "           1       0.77      0.75      0.76      2936\n",
      "\n",
      "    accuracy                           0.78      6257\n",
      "   macro avg       0.78      0.78      0.78      6257\n",
      "weighted avg       0.78      0.78      0.78      6257\n",
      "\n"
     ]
    }
   ],
   "source": [
    "print('Forest Model Scores: \\n', classification_report(y_test, forest.predict(X_test)))\n",
    "print('Second Forest Model Scores: \\n', classification_report(y_test, forest_2.predict(X_test)))"
   ]
  },
  {
   "cell_type": "markdown",
   "metadata": {},
   "source": [
    "This tuned model is very slightly better than our baseline model.  Before we test XG Boost, lets take a look at the most important features in this model."
   ]
  },
  {
   "cell_type": "code",
   "execution_count": 51,
   "metadata": {
    "ExecuteTime": {
     "end_time": "2022-05-15T17:16:37.626078Z",
     "start_time": "2022-05-15T17:16:37.617889Z"
    }
   },
   "outputs": [],
   "source": [
    "def plot_feature_importance(model):\n",
    "    sns.set_style('darkgrid')\n",
    "    importances = model.feature_importances_\n",
    "    sorted_indices = np.argsort(importances)[::-1]\n",
    "    n_features = 10\n",
    "    plt.figure(figsize=(8,8))\n",
    "    plt.barh(range(10), importances[sorted_indices][:10], align = 'center')\n",
    "    plt.yticks(range(n_features), X_train.columns[sorted_indices][:10])\n",
    "    plt.xlabel('Feature Importance', fontsize=16)\n",
    "    plt.ylabel('Feature', fontsize=16)\n",
    "    plt.title('Model Feature Importances', fontsize=20)"
   ]
  },
  {
   "cell_type": "code",
   "execution_count": 52,
   "metadata": {
    "ExecuteTime": {
     "end_time": "2022-05-15T17:16:38.362300Z",
     "start_time": "2022-05-15T17:16:38.181207Z"
    }
   },
   "outputs": [
    {
     "data": {
      "image/png": "[encoded data removed]",
      "text/plain": [
       "<Figure size 576x576 with 1 Axes>"
      ]
     },
     "metadata": {},
     "output_type": "display_data"
    }
   ],
   "source": [
    "plot_feature_importance(forest_2)"
   ]
  },
  {
   "cell_type": "markdown",
   "metadata": {},
   "source": [
    "## XG Boost Model"
   ]
  },
  {
   "cell_type": "markdown",
   "metadata": {},
   "source": [
    "The last model that we will try is XG Boost, the top gradient boosting algorithm."
   ]
  },
  {
   "cell_type": "code",
   "execution_count": 53,
   "metadata": {
    "ExecuteTime": {
     "end_time": "2022-05-15T17:17:07.065545Z",
     "start_time": "2022-05-15T17:17:05.638380Z"
    }
   },
   "outputs": [
    {
     "data": {
      "text/plain": [
       "XGBClassifier(base_score=0.5, booster='gbtree', colsample_bylevel=1,\n",
       "              colsample_bynode=1, colsample_bytree=1, gamma=0, gpu_id=-1,\n",
       "              importance_type='gain', interaction_constraints='',\n",
       "              learning_rate=0.300000012, max_delta_step=0, max_depth=6,\n",
       "              min_child_weight=1, missing=nan, monotone_constraints='()',\n",
       "              n_estimators=100, n_jobs=0, num_parallel_tree=1, random_state=42,\n",
       "              reg_alpha=0, reg_lambda=1, scale_pos_weight=1, subsample=1,\n",
       "              tree_method='exact', validate_parameters=1, verbosity=None)"
      ]
     },
     "execution_count": 53,
     "metadata": {},
     "output_type": "execute_result"
    }
   ],
   "source": [
    "boost = XGBClassifier(random_state=42)\n",
    "boost.fit(X_train, y_train)"
   ]
  },
  {
   "cell_type": "code",
   "execution_count": 56,
   "metadata": {
    "ExecuteTime": {
     "end_time": "2022-05-15T17:18:05.472531Z",
     "start_time": "2022-05-15T17:18:05.427773Z"
    }
   },
   "outputs": [
    {
     "name": "stdout",
     "output_type": "stream",
     "text": [
      "Boost Model Scores: \n",
      "               precision    recall  f1-score   support\n",
      "\n",
      "           0       0.78      0.79      0.78      3321\n",
      "           1       0.75      0.74      0.75      2936\n",
      "\n",
      "    accuracy                           0.77      6257\n",
      "   macro avg       0.76      0.76      0.76      6257\n",
      "weighted avg       0.77      0.77      0.77      6257\n",
      "\n"
     ]
    }
   ],
   "source": [
    "print('Boost Model Scores: \\n', classification_report(y_test, boost.predict(X_test)))"
   ]
  },
  {
   "cell_type": "code",
   "execution_count": 97,
   "metadata": {
    "ExecuteTime": {
     "end_time": "2022-05-14T23:40:40.873360Z",
     "start_time": "2022-05-14T23:35:44.101690Z"
    }
   },
   "outputs": [
    {
     "data": {
      "text/plain": [
       "GridSearchCV(cv=3,\n",
       "             estimator=XGBClassifier(base_score=0.5, booster='gbtree',\n",
       "                                     colsample_bylevel=1, colsample_bynode=1,\n",
       "                                     colsample_bytree=1, gamma=0, gpu_id=-1,\n",
       "                                     importance_type='gain',\n",
       "                                     interaction_constraints='',\n",
       "                                     learning_rate=0.300000012,\n",
       "                                     max_delta_step=0, max_depth=6,\n",
       "                                     min_child_weight=1, missing=nan,\n",
       "                                     monotone_constraints='()',\n",
       "                                     n_estimators=100, n_jobs=0,\n",
       "                                     num_parallel_tree=1, random_state=42,\n",
       "                                     reg_alpha=0, reg_lambda=1,\n",
       "                                     scale_pos_weight=1, subsample=1,\n",
       "                                     tree_method='exact', validate_parameters=1,\n",
       "                                     verbosity=None),\n",
       "             param_grid={'learning_rate': [0.1, 0.2, 0.3],\n",
       "                         'max_depth': [4, 5, 6],\n",
       "                         'min_child_weight': [0.5, 0.7, 1],\n",
       "                         'n_estimators': [100, 150, 200]})"
      ]
     },
     "execution_count": 97,
     "metadata": {},
     "output_type": "execute_result"
    }
   ],
   "source": [
    "# Use a grid search to find optimum parameters\n",
    "boost_param_grid = {'learning_rate' : [.1, .2, .3],\n",
    "                   'max_depth' : [4, 5, 6],\n",
    "                   'min_child_weight' : [.5, .7, 1],\n",
    "                   'n_estimators' : [100, 150, 200]}\n",
    "\n",
    "gs_boost = GridSearchCV(boost, boost_param_grid, cv=3)\n",
    "gs_boost.fit(X_train, y_train)"
   ]
  },
  {
   "cell_type": "code",
   "execution_count": 98,
   "metadata": {
    "ExecuteTime": {
     "end_time": "2022-05-14T23:40:46.386941Z",
     "start_time": "2022-05-14T23:40:46.379898Z"
    }
   },
   "outputs": [
    {
     "data": {
      "text/plain": [
       "{'learning_rate': 0.1,\n",
       " 'max_depth': 4,\n",
       " 'min_child_weight': 0.7,\n",
       " 'n_estimators': 100}"
      ]
     },
     "execution_count": 98,
     "metadata": {},
     "output_type": "execute_result"
    }
   ],
   "source": [
    "gs_boost.best_params_"
   ]
  },
  {
   "cell_type": "code",
   "execution_count": 55,
   "metadata": {
    "ExecuteTime": {
     "end_time": "2022-05-15T17:17:58.579972Z",
     "start_time": "2022-05-15T17:17:57.649177Z"
    }
   },
   "outputs": [
    {
     "data": {
      "text/plain": [
       "XGBClassifier(base_score=0.5, booster='gbtree', colsample_bylevel=1,\n",
       "              colsample_bynode=1, colsample_bytree=1, gamma=0, gpu_id=-1,\n",
       "              importance_type='gain', interaction_constraints='',\n",
       "              learning_rate=0.1, max_delta_step=0, max_depth=4,\n",
       "              min_child_weight=0.7, missing=nan, monotone_constraints='()',\n",
       "              n_estimators=100, n_jobs=0, num_parallel_tree=1, random_state=42,\n",
       "              reg_alpha=0, reg_lambda=1, scale_pos_weight=1, subsample=1,\n",
       "              tree_method='exact', validate_parameters=1, verbosity=None)"
      ]
     },
     "execution_count": 55,
     "metadata": {},
     "output_type": "execute_result"
    }
   ],
   "source": [
    "# Create a second model with best parameters\n",
    "boost_2 = XGBClassifier(random_state=42, \n",
    "                            learning_rate=.1, \n",
    "                            max_depth = 4, \n",
    "                            min_child_weight = .7, \n",
    "                            n_estimators = 100)\n",
    "boost_2.fit(X_train, y_train)"
   ]
  },
  {
   "cell_type": "code",
   "execution_count": 61,
   "metadata": {
    "ExecuteTime": {
     "end_time": "2022-05-15T17:20:05.578714Z",
     "start_time": "2022-05-15T17:20:05.512882Z"
    }
   },
   "outputs": [
    {
     "name": "stdout",
     "output_type": "stream",
     "text": [
      "Boost Model Scores: \n",
      "               precision    recall  f1-score   support\n",
      "\n",
      "           0       0.78      0.79      0.78      3321\n",
      "           1       0.75      0.74      0.75      2936\n",
      "\n",
      "    accuracy                           0.77      6257\n",
      "   macro avg       0.76      0.76      0.76      6257\n",
      "weighted avg       0.77      0.77      0.77      6257\n",
      "\n",
      "Second Boost Model Scores: \n",
      "               precision    recall  f1-score   support\n",
      "\n",
      "           0       0.79      0.80      0.79      3321\n",
      "           1       0.77      0.76      0.76      2936\n",
      "\n",
      "    accuracy                           0.78      6257\n",
      "   macro avg       0.78      0.78      0.78      6257\n",
      "weighted avg       0.78      0.78      0.78      6257\n",
      "\n"
     ]
    }
   ],
   "source": [
    "print('Boost Model Scores: \\n', classification_report(y_test, boost.predict(X_test)))\n",
    "print('Second Boost Model Scores: \\n', classification_report(y_test, boost_2.predict(X_test)))"
   ]
  },
  {
   "cell_type": "code",
   "execution_count": 58,
   "metadata": {
    "ExecuteTime": {
     "end_time": "2022-05-15T17:18:40.969133Z",
     "start_time": "2022-05-15T17:18:40.806554Z"
    }
   },
   "outputs": [
    {
     "data": {
      "image/png": "[encoded data removed]",
      "text/plain": [
       "<Figure size 576x576 with 1 Axes>"
      ]
     },
     "metadata": {},
     "output_type": "display_data"
    }
   ],
   "source": [
    "# Look at the top 10 most important features\n",
    "plot_feature_importance(boost_2)"
   ]
  },
  {
   "cell_type": "markdown",
   "metadata": {},
   "source": [
    "## Comparing Model Scores"
   ]
  },
  {
   "cell_type": "code",
   "execution_count": 60,
   "metadata": {
    "ExecuteTime": {
     "end_time": "2022-05-15T17:20:00.993623Z",
     "start_time": "2022-05-15T17:20:00.840679Z"
    }
   },
   "outputs": [
    {
     "name": "stdout",
     "output_type": "stream",
     "text": [
      "Baseline Model Scores: \n",
      "               precision    recall  f1-score   support\n",
      "\n",
      "           0       0.78      0.80      0.79      3321\n",
      "           1       0.77      0.74      0.76      2936\n",
      "\n",
      "    accuracy                           0.78      6257\n",
      "   macro avg       0.78      0.77      0.77      6257\n",
      "weighted avg       0.78      0.78      0.78      6257\n",
      "\n",
      "Second Decision Tree Model Scores: \n",
      "               precision    recall  f1-score   support\n",
      "\n",
      "           0       0.74      0.85      0.79      3321\n",
      "           1       0.80      0.67      0.72      2936\n",
      "\n",
      "    accuracy                           0.76      6257\n",
      "   macro avg       0.77      0.76      0.76      6257\n",
      "weighted avg       0.77      0.76      0.76      6257\n",
      "\n",
      "Second Forest Model Scores: \n",
      "               precision    recall  f1-score   support\n",
      "\n",
      "           0       0.78      0.80      0.79      3321\n",
      "           1       0.77      0.75      0.76      2936\n",
      "\n",
      "    accuracy                           0.78      6257\n",
      "   macro avg       0.78      0.78      0.78      6257\n",
      "weighted avg       0.78      0.78      0.78      6257\n",
      "\n",
      "Second Boost Model Scores: \n",
      "               precision    recall  f1-score   support\n",
      "\n",
      "           0       0.79      0.80      0.79      3321\n",
      "           1       0.77      0.76      0.76      2936\n",
      "\n",
      "    accuracy                           0.78      6257\n",
      "   macro avg       0.78      0.78      0.78      6257\n",
      "weighted avg       0.78      0.78      0.78      6257\n",
      "\n"
     ]
    }
   ],
   "source": [
    "print('Baseline Model Scores: \\n', classification_report(y_test, logreg.predict(X_test)))\n",
    "print('Second Decision Tree Model Scores: \\n', classification_report(y_test, clf_2.predict(X_test)))\n",
    "print('Second Forest Model Scores: \\n', classification_report(y_test, forest_2.predict(X_test)))\n",
    "print('Second Boost Model Scores: \\n', classification_report(y_test, boost_2.predict(X_test)))"
   ]
  },
  {
   "cell_type": "markdown",
   "metadata": {},
   "source": [
    "Although all of our models are very similar, our XG Boost model slightly outperformed all the others."
   ]
  },
  {
   "cell_type": "code",
   "execution_count": null,
   "metadata": {},
   "outputs": [],
   "source": []
  }
 ],
 "metadata": {
  "kernelspec": {
   "display_name": "Python 3",
   "language": "python",
   "name": "python3"
  },
  "language_info": {
   "codemirror_mode": {
    "name": "ipython",
    "version": 3
   },
   "file_extension": ".py",
   "mimetype": "text/x-python",
   "name": "python",
   "nbconvert_exporter": "python",
   "pygments_lexer": "ipython3",
   "version": "3.8.5"
  },
  "toc": {
   "base_numbering": 1,
   "nav_menu": {},
   "number_sections": true,
   "sideBar": true,
   "skip_h1_title": false,
   "title_cell": "Table of Contents",
   "title_sidebar": "Contents",
   "toc_cell": false,
   "toc_position": {},
   "toc_section_display": true,
   "toc_window_display": false
  }
 },
 "nbformat": 4,
 "nbformat_minor": 4
}
