{
 "cells": [
  {
   "cell_type": "markdown",
   "metadata": {},
   "source": [
    "# Import Necessary Libraries and Data"
   ]
  },
  {
   "cell_type": "code",
   "execution_count": 163,
   "metadata": {
    "ExecuteTime": {
     "end_time": "2022-05-17T15:13:14.248415Z",
     "start_time": "2022-05-17T15:13:14.223969Z"
    }
   },
   "outputs": [],
   "source": [
    "import numpy as np\n",
    "import pandas as pd\n",
    "import matplotlib.pyplot as plt\n",
    "from sklearn.model_selection import train_test_split, GridSearchCV\n",
    "from sklearn.preprocessing import OneHotEncoder\n",
    "from sklearn.linear_model import LogisticRegression\n",
    "from sklearn.tree import DecisionTreeClassifier\n",
    "from sklearn.metrics import accuracy_score, classification_report\n",
    "from sklearn import tree\n",
    "from imblearn.over_sampling import SMOTE\n",
    "from sklearn.ensemble import RandomForestClassifier\n",
    "from xgboost import XGBClassifier\n",
    "import seaborn as sns\n",
    "import warnings\n",
    "warnings.filterwarnings('ignore')"
   ]
  },
  {
   "cell_type": "code",
   "execution_count": 164,
   "metadata": {
    "ExecuteTime": {
     "end_time": "2022-05-17T15:13:14.950609Z",
     "start_time": "2022-05-17T15:13:14.808001Z"
    }
   },
   "outputs": [],
   "source": [
    "training_labels = pd.read_csv('Data/training_set_labels.csv', index_col='respondent_id')\n",
    "training_features = pd.read_csv('Data/training_set_features.csv', index_col='respondent_id')"
   ]
  },
  {
   "cell_type": "markdown",
   "metadata": {},
   "source": [
    "# Explore the Data"
   ]
  },
  {
   "cell_type": "code",
   "execution_count": 165,
   "metadata": {
    "ExecuteTime": {
     "end_time": "2022-05-17T15:13:16.015265Z",
     "start_time": "2022-05-17T15:13:15.999318Z"
    }
   },
   "outputs": [
    {
     "name": "stdout",
     "output_type": "stream",
     "text": [
      "<class 'pandas.core.frame.DataFrame'>\n",
      "Int64Index: 26707 entries, 0 to 26706\n",
      "Data columns (total 2 columns):\n",
      " #   Column            Non-Null Count  Dtype\n",
      "---  ------            --------------  -----\n",
      " 0   h1n1_vaccine      26707 non-null  int64\n",
      " 1   seasonal_vaccine  26707 non-null  int64\n",
      "dtypes: int64(2)\n",
      "memory usage: 625.9 KB\n"
     ]
    }
   ],
   "source": [
    "training_labels.info()"
   ]
  },
  {
   "cell_type": "code",
   "execution_count": 166,
   "metadata": {
    "ExecuteTime": {
     "end_time": "2022-05-17T15:13:16.410203Z",
     "start_time": "2022-05-17T15:13:16.394876Z"
    }
   },
   "outputs": [
    {
     "data": {
      "text/plain": [
       "0    21033\n",
       "1     5674\n",
       "Name: h1n1_vaccine, dtype: int64"
      ]
     },
     "execution_count": 166,
     "metadata": {},
     "output_type": "execute_result"
    }
   ],
   "source": [
    "training_labels.h1n1_vaccine.value_counts()"
   ]
  },
  {
   "cell_type": "markdown",
   "metadata": {},
   "source": [
    "** Note this class imbalance for later. **"
   ]
  },
  {
   "cell_type": "code",
   "execution_count": 167,
   "metadata": {
    "ExecuteTime": {
     "end_time": "2022-05-17T15:13:17.087449Z",
     "start_time": "2022-05-17T15:13:17.040224Z"
    }
   },
   "outputs": [
    {
     "name": "stdout",
     "output_type": "stream",
     "text": [
      "<class 'pandas.core.frame.DataFrame'>\n",
      "Int64Index: 26707 entries, 0 to 26706\n",
      "Data columns (total 35 columns):\n",
      " #   Column                       Non-Null Count  Dtype  \n",
      "---  ------                       --------------  -----  \n",
      " 0   h1n1_concern                 26615 non-null  float64\n",
      " 1   h1n1_knowledge               26591 non-null  float64\n",
      " 2   behavioral_antiviral_meds    26636 non-null  float64\n",
      " 3   behavioral_avoidance         26499 non-null  float64\n",
      " 4   behavioral_face_mask         26688 non-null  float64\n",
      " 5   behavioral_wash_hands        26665 non-null  float64\n",
      " 6   behavioral_large_gatherings  26620 non-null  float64\n",
      " 7   behavioral_outside_home      26625 non-null  float64\n",
      " 8   behavioral_touch_face        26579 non-null  float64\n",
      " 9   doctor_recc_h1n1             24547 non-null  float64\n",
      " 10  doctor_recc_seasonal         24547 non-null  float64\n",
      " 11  chronic_med_condition        25736 non-null  float64\n",
      " 12  child_under_6_months         25887 non-null  float64\n",
      " 13  health_worker                25903 non-null  float64\n",
      " 14  health_insurance             14433 non-null  float64\n",
      " 15  opinion_h1n1_vacc_effective  26316 non-null  float64\n",
      " 16  opinion_h1n1_risk            26319 non-null  float64\n",
      " 17  opinion_h1n1_sick_from_vacc  26312 non-null  float64\n",
      " 18  opinion_seas_vacc_effective  26245 non-null  float64\n",
      " 19  opinion_seas_risk            26193 non-null  float64\n",
      " 20  opinion_seas_sick_from_vacc  26170 non-null  float64\n",
      " 21  age_group                    26707 non-null  object \n",
      " 22  education                    25300 non-null  object \n",
      " 23  race                         26707 non-null  object \n",
      " 24  sex                          26707 non-null  object \n",
      " 25  income_poverty               22284 non-null  object \n",
      " 26  marital_status               25299 non-null  object \n",
      " 27  rent_or_own                  24665 non-null  object \n",
      " 28  employment_status            25244 non-null  object \n",
      " 29  hhs_geo_region               26707 non-null  object \n",
      " 30  census_msa                   26707 non-null  object \n",
      " 31  household_adults             26458 non-null  float64\n",
      " 32  household_children           26458 non-null  float64\n",
      " 33  employment_industry          13377 non-null  object \n",
      " 34  employment_occupation        13237 non-null  object \n",
      "dtypes: float64(23), object(12)\n",
      "memory usage: 7.3+ MB\n"
     ]
    }
   ],
   "source": [
    "training_features.info()"
   ]
  },
  {
   "cell_type": "code",
   "execution_count": 168,
   "metadata": {
    "ExecuteTime": {
     "end_time": "2022-05-17T15:13:17.427520Z",
     "start_time": "2022-05-17T15:13:17.399630Z"
    }
   },
   "outputs": [],
   "source": [
    "# Create one DataFrame to house all of our data\n",
    "data_df = pd.concat([training_features, training_labels], axis=1)"
   ]
  },
  {
   "cell_type": "code",
   "execution_count": 169,
   "metadata": {
    "ExecuteTime": {
     "end_time": "2022-05-17T15:13:17.710973Z",
     "start_time": "2022-05-17T15:13:17.674386Z"
    }
   },
   "outputs": [
    {
     "data": {
      "text/html": [
       "<div>\n",
       "<style scoped>\n",
       "    .dataframe tbody tr th:only-of-type {\n",
       "        vertical-align: middle;\n",
       "    }\n",
       "\n",
       "    .dataframe tbody tr th {\n",
       "        vertical-align: top;\n",
       "    }\n",
       "\n",
       "    .dataframe thead th {\n",
       "        text-align: right;\n",
       "    }\n",
       "</style>\n",
       "<table border=\"1\" class=\"dataframe\">\n",
       "  <thead>\n",
       "    <tr style=\"text-align: right;\">\n",
       "      <th></th>\n",
       "      <th>h1n1_concern</th>\n",
       "      <th>h1n1_knowledge</th>\n",
       "      <th>behavioral_antiviral_meds</th>\n",
       "      <th>behavioral_avoidance</th>\n",
       "      <th>behavioral_face_mask</th>\n",
       "      <th>behavioral_wash_hands</th>\n",
       "      <th>behavioral_large_gatherings</th>\n",
       "      <th>behavioral_outside_home</th>\n",
       "      <th>behavioral_touch_face</th>\n",
       "      <th>doctor_recc_h1n1</th>\n",
       "      <th>...</th>\n",
       "      <th>rent_or_own</th>\n",
       "      <th>employment_status</th>\n",
       "      <th>hhs_geo_region</th>\n",
       "      <th>census_msa</th>\n",
       "      <th>household_adults</th>\n",
       "      <th>household_children</th>\n",
       "      <th>employment_industry</th>\n",
       "      <th>employment_occupation</th>\n",
       "      <th>h1n1_vaccine</th>\n",
       "      <th>seasonal_vaccine</th>\n",
       "    </tr>\n",
       "    <tr>\n",
       "      <th>respondent_id</th>\n",
       "      <th></th>\n",
       "      <th></th>\n",
       "      <th></th>\n",
       "      <th></th>\n",
       "      <th></th>\n",
       "      <th></th>\n",
       "      <th></th>\n",
       "      <th></th>\n",
       "      <th></th>\n",
       "      <th></th>\n",
       "      <th></th>\n",
       "      <th></th>\n",
       "      <th></th>\n",
       "      <th></th>\n",
       "      <th></th>\n",
       "      <th></th>\n",
       "      <th></th>\n",
       "      <th></th>\n",
       "      <th></th>\n",
       "      <th></th>\n",
       "      <th></th>\n",
       "    </tr>\n",
       "  </thead>\n",
       "  <tbody>\n",
       "    <tr>\n",
       "      <th>0</th>\n",
       "      <td>1.0</td>\n",
       "      <td>0.0</td>\n",
       "      <td>0.0</td>\n",
       "      <td>0.0</td>\n",
       "      <td>0.0</td>\n",
       "      <td>0.0</td>\n",
       "      <td>0.0</td>\n",
       "      <td>1.0</td>\n",
       "      <td>1.0</td>\n",
       "      <td>0.0</td>\n",
       "      <td>...</td>\n",
       "      <td>Own</td>\n",
       "      <td>Not in Labor Force</td>\n",
       "      <td>oxchjgsf</td>\n",
       "      <td>Non-MSA</td>\n",
       "      <td>0.0</td>\n",
       "      <td>0.0</td>\n",
       "      <td>NaN</td>\n",
       "      <td>NaN</td>\n",
       "      <td>0</td>\n",
       "      <td>0</td>\n",
       "    </tr>\n",
       "    <tr>\n",
       "      <th>1</th>\n",
       "      <td>3.0</td>\n",
       "      <td>2.0</td>\n",
       "      <td>0.0</td>\n",
       "      <td>1.0</td>\n",
       "      <td>0.0</td>\n",
       "      <td>1.0</td>\n",
       "      <td>0.0</td>\n",
       "      <td>1.0</td>\n",
       "      <td>1.0</td>\n",
       "      <td>0.0</td>\n",
       "      <td>...</td>\n",
       "      <td>Rent</td>\n",
       "      <td>Employed</td>\n",
       "      <td>bhuqouqj</td>\n",
       "      <td>MSA, Not Principle  City</td>\n",
       "      <td>0.0</td>\n",
       "      <td>0.0</td>\n",
       "      <td>pxcmvdjn</td>\n",
       "      <td>xgwztkwe</td>\n",
       "      <td>0</td>\n",
       "      <td>1</td>\n",
       "    </tr>\n",
       "    <tr>\n",
       "      <th>2</th>\n",
       "      <td>1.0</td>\n",
       "      <td>1.0</td>\n",
       "      <td>0.0</td>\n",
       "      <td>1.0</td>\n",
       "      <td>0.0</td>\n",
       "      <td>0.0</td>\n",
       "      <td>0.0</td>\n",
       "      <td>0.0</td>\n",
       "      <td>0.0</td>\n",
       "      <td>NaN</td>\n",
       "      <td>...</td>\n",
       "      <td>Own</td>\n",
       "      <td>Employed</td>\n",
       "      <td>qufhixun</td>\n",
       "      <td>MSA, Not Principle  City</td>\n",
       "      <td>2.0</td>\n",
       "      <td>0.0</td>\n",
       "      <td>rucpziij</td>\n",
       "      <td>xtkaffoo</td>\n",
       "      <td>0</td>\n",
       "      <td>0</td>\n",
       "    </tr>\n",
       "    <tr>\n",
       "      <th>3</th>\n",
       "      <td>1.0</td>\n",
       "      <td>1.0</td>\n",
       "      <td>0.0</td>\n",
       "      <td>1.0</td>\n",
       "      <td>0.0</td>\n",
       "      <td>1.0</td>\n",
       "      <td>1.0</td>\n",
       "      <td>0.0</td>\n",
       "      <td>0.0</td>\n",
       "      <td>0.0</td>\n",
       "      <td>...</td>\n",
       "      <td>Rent</td>\n",
       "      <td>Not in Labor Force</td>\n",
       "      <td>lrircsnp</td>\n",
       "      <td>MSA, Principle City</td>\n",
       "      <td>0.0</td>\n",
       "      <td>0.0</td>\n",
       "      <td>NaN</td>\n",
       "      <td>NaN</td>\n",
       "      <td>0</td>\n",
       "      <td>1</td>\n",
       "    </tr>\n",
       "    <tr>\n",
       "      <th>4</th>\n",
       "      <td>2.0</td>\n",
       "      <td>1.0</td>\n",
       "      <td>0.0</td>\n",
       "      <td>1.0</td>\n",
       "      <td>0.0</td>\n",
       "      <td>1.0</td>\n",
       "      <td>1.0</td>\n",
       "      <td>0.0</td>\n",
       "      <td>1.0</td>\n",
       "      <td>0.0</td>\n",
       "      <td>...</td>\n",
       "      <td>Own</td>\n",
       "      <td>Employed</td>\n",
       "      <td>qufhixun</td>\n",
       "      <td>MSA, Not Principle  City</td>\n",
       "      <td>1.0</td>\n",
       "      <td>0.0</td>\n",
       "      <td>wxleyezf</td>\n",
       "      <td>emcorrxb</td>\n",
       "      <td>0</td>\n",
       "      <td>0</td>\n",
       "    </tr>\n",
       "  </tbody>\n",
       "</table>\n",
       "<p>5 rows × 37 columns</p>\n",
       "</div>"
      ],
      "text/plain": [
       "               h1n1_concern  h1n1_knowledge  behavioral_antiviral_meds  \\\n",
       "respondent_id                                                            \n",
       "0                       1.0             0.0                        0.0   \n",
       "1                       3.0             2.0                        0.0   \n",
       "2                       1.0             1.0                        0.0   \n",
       "3                       1.0             1.0                        0.0   \n",
       "4                       2.0             1.0                        0.0   \n",
       "\n",
       "               behavioral_avoidance  behavioral_face_mask  \\\n",
       "respondent_id                                               \n",
       "0                               0.0                   0.0   \n",
       "1                               1.0                   0.0   \n",
       "2                               1.0                   0.0   \n",
       "3                               1.0                   0.0   \n",
       "4                               1.0                   0.0   \n",
       "\n",
       "               behavioral_wash_hands  behavioral_large_gatherings  \\\n",
       "respondent_id                                                       \n",
       "0                                0.0                          0.0   \n",
       "1                                1.0                          0.0   \n",
       "2                                0.0                          0.0   \n",
       "3                                1.0                          1.0   \n",
       "4                                1.0                          1.0   \n",
       "\n",
       "               behavioral_outside_home  behavioral_touch_face  \\\n",
       "respondent_id                                                   \n",
       "0                                  1.0                    1.0   \n",
       "1                                  1.0                    1.0   \n",
       "2                                  0.0                    0.0   \n",
       "3                                  0.0                    0.0   \n",
       "4                                  0.0                    1.0   \n",
       "\n",
       "               doctor_recc_h1n1  ...  rent_or_own   employment_status  \\\n",
       "respondent_id                    ...                                    \n",
       "0                           0.0  ...          Own  Not in Labor Force   \n",
       "1                           0.0  ...         Rent            Employed   \n",
       "2                           NaN  ...          Own            Employed   \n",
       "3                           0.0  ...         Rent  Not in Labor Force   \n",
       "4                           0.0  ...          Own            Employed   \n",
       "\n",
       "               hhs_geo_region                census_msa  household_adults  \\\n",
       "respondent_id                                                               \n",
       "0                    oxchjgsf                   Non-MSA               0.0   \n",
       "1                    bhuqouqj  MSA, Not Principle  City               0.0   \n",
       "2                    qufhixun  MSA, Not Principle  City               2.0   \n",
       "3                    lrircsnp       MSA, Principle City               0.0   \n",
       "4                    qufhixun  MSA, Not Principle  City               1.0   \n",
       "\n",
       "               household_children  employment_industry  employment_occupation  \\\n",
       "respondent_id                                                                   \n",
       "0                             0.0                  NaN                    NaN   \n",
       "1                             0.0             pxcmvdjn               xgwztkwe   \n",
       "2                             0.0             rucpziij               xtkaffoo   \n",
       "3                             0.0                  NaN                    NaN   \n",
       "4                             0.0             wxleyezf               emcorrxb   \n",
       "\n",
       "               h1n1_vaccine  seasonal_vaccine  \n",
       "respondent_id                                  \n",
       "0                         0                 0  \n",
       "1                         0                 1  \n",
       "2                         0                 0  \n",
       "3                         0                 1  \n",
       "4                         0                 0  \n",
       "\n",
       "[5 rows x 37 columns]"
      ]
     },
     "execution_count": 169,
     "metadata": {},
     "output_type": "execute_result"
    }
   ],
   "source": [
    "data_df.head()"
   ]
  },
  {
   "cell_type": "markdown",
   "metadata": {},
   "source": [
    "# Clean the Data"
   ]
  },
  {
   "cell_type": "markdown",
   "metadata": {},
   "source": [
    "## Remove Unnecessary Columns"
   ]
  },
  {
   "cell_type": "markdown",
   "metadata": {},
   "source": [
    "The columns that we are removing either have to do with the Seasonal Vaccine, or have too much missing data."
   ]
  },
  {
   "cell_type": "code",
   "execution_count": 170,
   "metadata": {
    "ExecuteTime": {
     "end_time": "2022-05-17T15:13:19.217069Z",
     "start_time": "2022-05-17T15:13:19.157524Z"
    }
   },
   "outputs": [
    {
     "name": "stdout",
     "output_type": "stream",
     "text": [
      "<class 'pandas.core.frame.DataFrame'>\n",
      "Int64Index: 26707 entries, 0 to 26706\n",
      "Data columns (total 29 columns):\n",
      " #   Column                       Non-Null Count  Dtype  \n",
      "---  ------                       --------------  -----  \n",
      " 0   h1n1_concern                 26615 non-null  float64\n",
      " 1   h1n1_knowledge               26591 non-null  float64\n",
      " 2   behavioral_antiviral_meds    26636 non-null  float64\n",
      " 3   behavioral_avoidance         26499 non-null  float64\n",
      " 4   behavioral_face_mask         26688 non-null  float64\n",
      " 5   behavioral_wash_hands        26665 non-null  float64\n",
      " 6   behavioral_large_gatherings  26620 non-null  float64\n",
      " 7   behavioral_outside_home      26625 non-null  float64\n",
      " 8   behavioral_touch_face        26579 non-null  float64\n",
      " 9   doctor_recc_h1n1             24547 non-null  float64\n",
      " 10  chronic_med_condition        25736 non-null  float64\n",
      " 11  child_under_6_months         25887 non-null  float64\n",
      " 12  health_worker                25903 non-null  float64\n",
      " 13  opinion_h1n1_vacc_effective  26316 non-null  float64\n",
      " 14  opinion_h1n1_risk            26319 non-null  float64\n",
      " 15  opinion_h1n1_sick_from_vacc  26312 non-null  float64\n",
      " 16  age_group                    26707 non-null  object \n",
      " 17  education                    25300 non-null  object \n",
      " 18  race                         26707 non-null  object \n",
      " 19  sex                          26707 non-null  object \n",
      " 20  income_poverty               22284 non-null  object \n",
      " 21  marital_status               25299 non-null  object \n",
      " 22  rent_or_own                  24665 non-null  object \n",
      " 23  employment_status            25244 non-null  object \n",
      " 24  hhs_geo_region               26707 non-null  object \n",
      " 25  census_msa                   26707 non-null  object \n",
      " 26  household_adults             26458 non-null  float64\n",
      " 27  household_children           26458 non-null  float64\n",
      " 28  h1n1_vaccine                 26707 non-null  int64  \n",
      "dtypes: float64(18), int64(1), object(10)\n",
      "memory usage: 6.1+ MB\n"
     ]
    }
   ],
   "source": [
    "h1n1_df = data_df.drop(['health_insurance',\n",
    "                              'opinion_seas_vacc_effective',\n",
    "                              'opinion_seas_risk',\n",
    "                              'opinion_seas_sick_from_vacc',\n",
    "                              'doctor_recc_seasonal',\n",
    "                              'employment_industry',\n",
    "                              'employment_occupation',\n",
    "                              'seasonal_vaccine'], axis=1)\n",
    "h1n1_df.info()"
   ]
  },
  {
   "cell_type": "markdown",
   "metadata": {},
   "source": [
    "## Dealing with Missing Data"
   ]
  },
  {
   "cell_type": "code",
   "execution_count": 171,
   "metadata": {
    "ExecuteTime": {
     "end_time": "2022-05-17T15:13:20.022971Z",
     "start_time": "2022-05-17T15:13:19.993644Z"
    }
   },
   "outputs": [
    {
     "name": "stdout",
     "output_type": "stream",
     "text": [
      "Missing Data: \n",
      " h1n1_concern                     92\n",
      "h1n1_knowledge                  116\n",
      "behavioral_antiviral_meds        71\n",
      "behavioral_avoidance            208\n",
      "behavioral_face_mask             19\n",
      "behavioral_wash_hands            42\n",
      "behavioral_large_gatherings      87\n",
      "behavioral_outside_home          82\n",
      "behavioral_touch_face           128\n",
      "doctor_recc_h1n1               2160\n",
      "chronic_med_condition           971\n",
      "child_under_6_months            820\n",
      "health_worker                   804\n",
      "opinion_h1n1_vacc_effective     391\n",
      "opinion_h1n1_risk               388\n",
      "opinion_h1n1_sick_from_vacc     395\n",
      "age_group                         0\n",
      "education                      1407\n",
      "race                              0\n",
      "sex                               0\n",
      "income_poverty                 4423\n",
      "marital_status                 1408\n",
      "rent_or_own                    2042\n",
      "employment_status              1463\n",
      "hhs_geo_region                    0\n",
      "census_msa                        0\n",
      "household_adults                249\n",
      "household_children              249\n",
      "h1n1_vaccine                      0\n",
      "dtype: int64\n"
     ]
    }
   ],
   "source": [
    "# Check for missing data\n",
    "print('Missing Data: \\n',h1n1_df.isna().sum())"
   ]
  },
  {
   "cell_type": "markdown",
   "metadata": {},
   "source": [
    "We will want to create a new value for columns missing between 5 and 10 percent of the data.  If the column is missing less than 5 percent of data values, we will drop those values."
   ]
  },
  {
   "cell_type": "code",
   "execution_count": 172,
   "metadata": {
    "ExecuteTime": {
     "end_time": "2022-05-17T15:13:20.749124Z",
     "start_time": "2022-05-17T15:13:20.744487Z"
    }
   },
   "outputs": [
    {
     "name": "stdout",
     "output_type": "stream",
     "text": [
      "5% of data: 1335.35\n",
      "10% of data: 2670.7\n"
     ]
    }
   ],
   "source": [
    "print('5% of data:', round(26707*.05, 2))\n",
    "print('10% of data:', round(26707*.1, 2))"
   ]
  },
  {
   "cell_type": "markdown",
   "metadata": {},
   "source": [
    "Create a new category \"unknown\" for the columns with 1000+ missing entries.\n",
    "Drop rows if the column is missing less than 1000 entries.\n",
    "Columns to adjust: doctor_recc_h1n1, education, income_poverty, marital_status, rent_or_own, employment_status."
   ]
  },
  {
   "cell_type": "code",
   "execution_count": 173,
   "metadata": {
    "ExecuteTime": {
     "end_time": "2022-05-17T15:13:21.569567Z",
     "start_time": "2022-05-17T15:13:21.565364Z"
    }
   },
   "outputs": [],
   "source": [
    "# Since doctor recc h1n1 is already a float, we will create a numeric value, .5, to stand in for our unknown category\n",
    "h1n1_df['doctor_recc_h1n1'].fillna(value=.5, inplace=True)"
   ]
  },
  {
   "cell_type": "code",
   "execution_count": 174,
   "metadata": {
    "ExecuteTime": {
     "end_time": "2022-05-17T15:13:22.052403Z",
     "start_time": "2022-05-17T15:13:22.026385Z"
    }
   },
   "outputs": [],
   "source": [
    "# Create an unknown category for missing data\n",
    "need_new_category = ['education', \n",
    "                     'income_poverty', \n",
    "                     'marital_status', \n",
    "                     'rent_or_own', \n",
    "                     'employment_status']\n",
    "for column in need_new_category:\n",
    "    h1n1_df[column].fillna(value='unknown', inplace=True)"
   ]
  },
  {
   "cell_type": "code",
   "execution_count": 175,
   "metadata": {
    "ExecuteTime": {
     "end_time": "2022-05-17T15:13:22.555504Z",
     "start_time": "2022-05-17T15:13:22.525289Z"
    }
   },
   "outputs": [
    {
     "data": {
      "text/plain": [
       "h1n1_concern                    92\n",
       "h1n1_knowledge                 116\n",
       "behavioral_antiviral_meds       71\n",
       "behavioral_avoidance           208\n",
       "behavioral_face_mask            19\n",
       "behavioral_wash_hands           42\n",
       "behavioral_large_gatherings     87\n",
       "behavioral_outside_home         82\n",
       "behavioral_touch_face          128\n",
       "doctor_recc_h1n1                 0\n",
       "chronic_med_condition          971\n",
       "child_under_6_months           820\n",
       "health_worker                  804\n",
       "opinion_h1n1_vacc_effective    391\n",
       "opinion_h1n1_risk              388\n",
       "opinion_h1n1_sick_from_vacc    395\n",
       "age_group                        0\n",
       "education                        0\n",
       "race                             0\n",
       "sex                              0\n",
       "income_poverty                   0\n",
       "marital_status                   0\n",
       "rent_or_own                      0\n",
       "employment_status                0\n",
       "hhs_geo_region                   0\n",
       "census_msa                       0\n",
       "household_adults               249\n",
       "household_children             249\n",
       "h1n1_vaccine                     0\n",
       "dtype: int64"
      ]
     },
     "execution_count": 175,
     "metadata": {},
     "output_type": "execute_result"
    }
   ],
   "source": [
    "# Check our remaining null values\n",
    "h1n1_df.isna().sum()"
   ]
  },
  {
   "cell_type": "code",
   "execution_count": 176,
   "metadata": {
    "ExecuteTime": {
     "end_time": "2022-05-17T15:13:23.054618Z",
     "start_time": "2022-05-17T15:13:22.992545Z"
    }
   },
   "outputs": [
    {
     "data": {
      "text/plain": [
       "h1n1_concern                   0\n",
       "h1n1_knowledge                 0\n",
       "behavioral_antiviral_meds      0\n",
       "behavioral_avoidance           0\n",
       "behavioral_face_mask           0\n",
       "behavioral_wash_hands          0\n",
       "behavioral_large_gatherings    0\n",
       "behavioral_outside_home        0\n",
       "behavioral_touch_face          0\n",
       "doctor_recc_h1n1               0\n",
       "chronic_med_condition          0\n",
       "child_under_6_months           0\n",
       "health_worker                  0\n",
       "opinion_h1n1_vacc_effective    0\n",
       "opinion_h1n1_risk              0\n",
       "opinion_h1n1_sick_from_vacc    0\n",
       "age_group                      0\n",
       "education                      0\n",
       "race                           0\n",
       "sex                            0\n",
       "income_poverty                 0\n",
       "marital_status                 0\n",
       "rent_or_own                    0\n",
       "employment_status              0\n",
       "hhs_geo_region                 0\n",
       "census_msa                     0\n",
       "household_adults               0\n",
       "household_children             0\n",
       "h1n1_vaccine                   0\n",
       "dtype: int64"
      ]
     },
     "execution_count": 176,
     "metadata": {},
     "output_type": "execute_result"
    }
   ],
   "source": [
    "# Drop the remaining null values from the dataset\n",
    "h1n1_df.dropna(inplace=True)\n",
    "h1n1_df.isna().sum()"
   ]
  },
  {
   "cell_type": "markdown",
   "metadata": {},
   "source": [
    "## Split our Data"
   ]
  },
  {
   "cell_type": "markdown",
   "metadata": {},
   "source": [
    "Now that we have taken care of our null values, we can split our data into features and labels for our train test split."
   ]
  },
  {
   "cell_type": "code",
   "execution_count": 177,
   "metadata": {
    "ExecuteTime": {
     "end_time": "2022-05-17T15:13:30.280232Z",
     "start_time": "2022-05-17T15:13:30.261089Z"
    }
   },
   "outputs": [],
   "source": [
    "# Create features and labels\n",
    "h1n1_features = h1n1_df.drop('h1n1_vaccine', axis=1)\n",
    "h1n1_labels = h1n1_df['h1n1_vaccine']"
   ]
  },
  {
   "cell_type": "code",
   "execution_count": 178,
   "metadata": {
    "ExecuteTime": {
     "end_time": "2022-05-17T15:13:30.689669Z",
     "start_time": "2022-05-17T15:13:30.664733Z"
    }
   },
   "outputs": [],
   "source": [
    "# Perform a train test split\n",
    "X_train, X_test, y_train, y_test = train_test_split(h1n1_features,\n",
    "                                                   h1n1_labels,\n",
    "                                                   test_size=.25,\n",
    "                                                   random_state=42)"
   ]
  },
  {
   "cell_type": "markdown",
   "metadata": {},
   "source": [
    "## Encoding Categorical Columns"
   ]
  },
  {
   "cell_type": "markdown",
   "metadata": {},
   "source": [
    "Before we can use this data to create models, we need all of our data values to be numeric.  We will use a OneHotEncoder to achieve this."
   ]
  },
  {
   "cell_type": "code",
   "execution_count": 179,
   "metadata": {
    "ExecuteTime": {
     "end_time": "2022-05-17T15:13:34.111908Z",
     "start_time": "2022-05-17T15:13:34.079708Z"
    }
   },
   "outputs": [
    {
     "name": "stdout",
     "output_type": "stream",
     "text": [
      "<class 'pandas.core.frame.DataFrame'>\n",
      "Int64Index: 18621 entries, 18434 to 25446\n",
      "Data columns (total 28 columns):\n",
      " #   Column                       Non-Null Count  Dtype  \n",
      "---  ------                       --------------  -----  \n",
      " 0   h1n1_concern                 18621 non-null  float64\n",
      " 1   h1n1_knowledge               18621 non-null  float64\n",
      " 2   behavioral_antiviral_meds    18621 non-null  float64\n",
      " 3   behavioral_avoidance         18621 non-null  float64\n",
      " 4   behavioral_face_mask         18621 non-null  float64\n",
      " 5   behavioral_wash_hands        18621 non-null  float64\n",
      " 6   behavioral_large_gatherings  18621 non-null  float64\n",
      " 7   behavioral_outside_home      18621 non-null  float64\n",
      " 8   behavioral_touch_face        18621 non-null  float64\n",
      " 9   doctor_recc_h1n1             18621 non-null  float64\n",
      " 10  chronic_med_condition        18621 non-null  float64\n",
      " 11  child_under_6_months         18621 non-null  float64\n",
      " 12  health_worker                18621 non-null  float64\n",
      " 13  opinion_h1n1_vacc_effective  18621 non-null  float64\n",
      " 14  opinion_h1n1_risk            18621 non-null  float64\n",
      " 15  opinion_h1n1_sick_from_vacc  18621 non-null  float64\n",
      " 16  age_group                    18621 non-null  object \n",
      " 17  education                    18621 non-null  object \n",
      " 18  race                         18621 non-null  object \n",
      " 19  sex                          18621 non-null  object \n",
      " 20  income_poverty               18621 non-null  object \n",
      " 21  marital_status               18621 non-null  object \n",
      " 22  rent_or_own                  18621 non-null  object \n",
      " 23  employment_status            18621 non-null  object \n",
      " 24  hhs_geo_region               18621 non-null  object \n",
      " 25  census_msa                   18621 non-null  object \n",
      " 26  household_adults             18621 non-null  float64\n",
      " 27  household_children           18621 non-null  float64\n",
      "dtypes: float64(18), object(10)\n",
      "memory usage: 4.1+ MB\n"
     ]
    }
   ],
   "source": [
    "X_train.info()"
   ]
  },
  {
   "cell_type": "code",
   "execution_count": 180,
   "metadata": {
    "ExecuteTime": {
     "end_time": "2022-05-17T15:13:34.481282Z",
     "start_time": "2022-05-17T15:13:34.477642Z"
    }
   },
   "outputs": [],
   "source": [
    "categoricals = ['age_group',\n",
    "               'education',\n",
    "               'sex',\n",
    "               'income_poverty',\n",
    "               'marital_status',\n",
    "               'rent_or_own',\n",
    "               'employment_status',\n",
    "               'hhs_geo_region',\n",
    "               'census_msa',\n",
    "               'race']"
   ]
  },
  {
   "cell_type": "code",
   "execution_count": 181,
   "metadata": {
    "ExecuteTime": {
     "end_time": "2022-05-17T15:13:35.578111Z",
     "start_time": "2022-05-17T15:13:35.486660Z"
    }
   },
   "outputs": [],
   "source": [
    "ohe = OneHotEncoder()\n",
    "ohe.fit(X_train[categoricals])\n",
    "X_train_ohe = ohe.transform(X_train[categoricals]).toarray()\n",
    "X_train_ohe_df = pd.DataFrame(X_train_ohe, columns = ohe.get_feature_names(categoricals), index = X_train.index)"
   ]
  },
  {
   "cell_type": "code",
   "execution_count": 182,
   "metadata": {
    "ExecuteTime": {
     "end_time": "2022-05-17T15:13:36.100307Z",
     "start_time": "2022-05-17T15:13:36.077779Z"
    }
   },
   "outputs": [],
   "source": [
    "X_train.drop(categoricals, axis=1, inplace=True)\n",
    "X_train_final = pd.concat([X_train_ohe_df, X_train], axis=1)"
   ]
  },
  {
   "cell_type": "code",
   "execution_count": 183,
   "metadata": {
    "ExecuteTime": {
     "end_time": "2022-05-17T15:13:36.952521Z",
     "start_time": "2022-05-17T15:13:36.916499Z"
    }
   },
   "outputs": [
    {
     "name": "stdout",
     "output_type": "stream",
     "text": [
      "<class 'pandas.core.frame.DataFrame'>\n",
      "Int64Index: 18621 entries, 18434 to 25446\n",
      "Data columns (total 61 columns):\n",
      " #   Column                                    Non-Null Count  Dtype  \n",
      "---  ------                                    --------------  -----  \n",
      " 0   age_group_18 - 34 Years                   18621 non-null  float64\n",
      " 1   age_group_35 - 44 Years                   18621 non-null  float64\n",
      " 2   age_group_45 - 54 Years                   18621 non-null  float64\n",
      " 3   age_group_55 - 64 Years                   18621 non-null  float64\n",
      " 4   age_group_65+ Years                       18621 non-null  float64\n",
      " 5   education_12 Years                        18621 non-null  float64\n",
      " 6   education_< 12 Years                      18621 non-null  float64\n",
      " 7   education_College Graduate                18621 non-null  float64\n",
      " 8   education_Some College                    18621 non-null  float64\n",
      " 9   education_unknown                         18621 non-null  float64\n",
      " 10  sex_Female                                18621 non-null  float64\n",
      " 11  sex_Male                                  18621 non-null  float64\n",
      " 12  income_poverty_<= $75,000, Above Poverty  18621 non-null  float64\n",
      " 13  income_poverty_> $75,000                  18621 non-null  float64\n",
      " 14  income_poverty_Below Poverty              18621 non-null  float64\n",
      " 15  income_poverty_unknown                    18621 non-null  float64\n",
      " 16  marital_status_Married                    18621 non-null  float64\n",
      " 17  marital_status_Not Married                18621 non-null  float64\n",
      " 18  marital_status_unknown                    18621 non-null  float64\n",
      " 19  rent_or_own_Own                           18621 non-null  float64\n",
      " 20  rent_or_own_Rent                          18621 non-null  float64\n",
      " 21  rent_or_own_unknown                       18621 non-null  float64\n",
      " 22  employment_status_Employed                18621 non-null  float64\n",
      " 23  employment_status_Not in Labor Force      18621 non-null  float64\n",
      " 24  employment_status_Unemployed              18621 non-null  float64\n",
      " 25  employment_status_unknown                 18621 non-null  float64\n",
      " 26  hhs_geo_region_atmpeygn                   18621 non-null  float64\n",
      " 27  hhs_geo_region_bhuqouqj                   18621 non-null  float64\n",
      " 28  hhs_geo_region_dqpwygqj                   18621 non-null  float64\n",
      " 29  hhs_geo_region_fpwskwrf                   18621 non-null  float64\n",
      " 30  hhs_geo_region_kbazzjca                   18621 non-null  float64\n",
      " 31  hhs_geo_region_lrircsnp                   18621 non-null  float64\n",
      " 32  hhs_geo_region_lzgpxyit                   18621 non-null  float64\n",
      " 33  hhs_geo_region_mlyzmhmf                   18621 non-null  float64\n",
      " 34  hhs_geo_region_oxchjgsf                   18621 non-null  float64\n",
      " 35  hhs_geo_region_qufhixun                   18621 non-null  float64\n",
      " 36  census_msa_MSA, Not Principle  City       18621 non-null  float64\n",
      " 37  census_msa_MSA, Principle City            18621 non-null  float64\n",
      " 38  census_msa_Non-MSA                        18621 non-null  float64\n",
      " 39  race_Black                                18621 non-null  float64\n",
      " 40  race_Hispanic                             18621 non-null  float64\n",
      " 41  race_Other or Multiple                    18621 non-null  float64\n",
      " 42  race_White                                18621 non-null  float64\n",
      " 43  h1n1_concern                              18621 non-null  float64\n",
      " 44  h1n1_knowledge                            18621 non-null  float64\n",
      " 45  behavioral_antiviral_meds                 18621 non-null  float64\n",
      " 46  behavioral_avoidance                      18621 non-null  float64\n",
      " 47  behavioral_face_mask                      18621 non-null  float64\n",
      " 48  behavioral_wash_hands                     18621 non-null  float64\n",
      " 49  behavioral_large_gatherings               18621 non-null  float64\n",
      " 50  behavioral_outside_home                   18621 non-null  float64\n",
      " 51  behavioral_touch_face                     18621 non-null  float64\n",
      " 52  doctor_recc_h1n1                          18621 non-null  float64\n",
      " 53  chronic_med_condition                     18621 non-null  float64\n",
      " 54  child_under_6_months                      18621 non-null  float64\n",
      " 55  health_worker                             18621 non-null  float64\n",
      " 56  opinion_h1n1_vacc_effective               18621 non-null  float64\n",
      " 57  opinion_h1n1_risk                         18621 non-null  float64\n",
      " 58  opinion_h1n1_sick_from_vacc               18621 non-null  float64\n",
      " 59  household_adults                          18621 non-null  float64\n",
      " 60  household_children                        18621 non-null  float64\n",
      "dtypes: float64(61)\n",
      "memory usage: 8.8 MB\n"
     ]
    }
   ],
   "source": [
    "X_train_final.info()"
   ]
  },
  {
   "cell_type": "code",
   "execution_count": 184,
   "metadata": {
    "ExecuteTime": {
     "end_time": "2022-05-17T15:13:43.342261Z",
     "start_time": "2022-05-17T15:13:43.332824Z"
    }
   },
   "outputs": [],
   "source": [
    "X_train_final.rename(columns = {'age_group_18 - 34 Years' : 'age_group_18_34',\n",
    "                            'age_group_35 - 44 Years' : 'age_group_35_44',\n",
    "                            'age_group_45 - 54 Years' : 'age_group_45_54',\n",
    "                            'age_group_55 - 64 Years' : 'age_group_55_64',\n",
    "                            'age_group_65+ Years' : 'age_group_over_65',\n",
    "                            'education_12 Years' : 'education_12_years',\n",
    "                            'education_< 12 Years' : 'education_less_than_12',\n",
    "                            'education_College Graduate' : 'education_college_grad',\n",
    "                            'education_Some College': 'education_some_college',\n",
    "                            'race_Other or Multiple' : 'race_other',\n",
    "                            'income_poverty_<= $75,000, Above Poverty' : 'income_poverty_lessorequal_75k',\n",
    "                            'income_poverty_> $75,000' : 'income_poverty_morethan_75k',\n",
    "                            'income_poverty_Below Poverty' : 'income_poverty_below_poverty',\n",
    "                            'marital_status_Not Married': 'marital_status_Unmarried',\n",
    "                            'employment_status_Not in Labor Force' : 'employment_status_not_in_labor_force',\n",
    "                            'census_msa_MSA, Not Principle  City' : 'census_msa_not_in_principle',\n",
    "                            'census_msa_MSA, Principle City' : 'census_msa_in_principle',\n",
    "                            'census_msa_Non-MSA' : 'census_msa_non_msa'},\n",
    "                 inplace=True)"
   ]
  },
  {
   "cell_type": "code",
   "execution_count": 185,
   "metadata": {
    "ExecuteTime": {
     "end_time": "2022-05-17T15:13:43.727831Z",
     "start_time": "2022-05-17T15:13:43.689043Z"
    }
   },
   "outputs": [],
   "source": [
    "X_test_ohe = ohe.transform(X_test[categoricals]).toarray()\n",
    "X_test_ohe_df = pd.DataFrame(X_test_ohe, columns = ohe.get_feature_names(categoricals), index = X_test.index)"
   ]
  },
  {
   "cell_type": "code",
   "execution_count": 186,
   "metadata": {
    "ExecuteTime": {
     "end_time": "2022-05-17T15:13:44.132130Z",
     "start_time": "2022-05-17T15:13:44.121369Z"
    }
   },
   "outputs": [],
   "source": [
    "X_test.drop(categoricals, axis=1, inplace=True)\n",
    "X_test_final = pd.concat([X_test_ohe_df, X_test], axis=1)"
   ]
  },
  {
   "cell_type": "code",
   "execution_count": 187,
   "metadata": {
    "ExecuteTime": {
     "end_time": "2022-05-17T15:13:45.790420Z",
     "start_time": "2022-05-17T15:13:45.781981Z"
    }
   },
   "outputs": [],
   "source": [
    "X_test_final.rename(columns = {'age_group_18 - 34 Years' : 'age_group_18_34',\n",
    "                            'age_group_35 - 44 Years' : 'age_group_35_44',\n",
    "                            'age_group_45 - 54 Years' : 'age_group_45_54',\n",
    "                            'age_group_55 - 64 Years' : 'age_group_55_64',\n",
    "                            'age_group_65+ Years' : 'age_group_over_65',\n",
    "                            'education_12 Years' : 'education_12_years',\n",
    "                            'education_< 12 Years' : 'education_less_than_12',\n",
    "                            'education_College Graduate' : 'education_college_grad',\n",
    "                            'education_Some College': 'education_some_college',\n",
    "                            'race_Other or Multiple' : 'race_other',\n",
    "                            'income_poverty_<= $75,000, Above Poverty' : 'income_poverty_lessorequal_75k',\n",
    "                            'income_poverty_> $75,000' : 'income_poverty_morethan_75k',\n",
    "                            'income_poverty_Below Poverty' : 'income_poverty_below_poverty',\n",
    "                            'marital_status_Not Married': 'marital_status_Unmarried',\n",
    "                            'employment_status_Not in Labor Force' : 'employment_status_not_in_labor_force',\n",
    "                            'census_msa_MSA, Not Principle  City' : 'census_msa_not_in_principle',\n",
    "                            'census_msa_MSA, Principle City' : 'census_msa_in_principle',\n",
    "                            'census_msa_Non-MSA' : 'census_msa_non_msa'},\n",
    "                 inplace=True)"
   ]
  },
  {
   "cell_type": "markdown",
   "metadata": {},
   "source": [
    "## Class Imbalance"
   ]
  },
  {
   "cell_type": "markdown",
   "metadata": {},
   "source": [
    "As we noted earlier, this dataset has a significant class imbalance.  In order to get the best model results, we will use SMOTE to adjust our training dataset."
   ]
  },
  {
   "cell_type": "code",
   "execution_count": 188,
   "metadata": {
    "ExecuteTime": {
     "end_time": "2022-05-17T15:15:25.976149Z",
     "start_time": "2022-05-17T15:15:25.968987Z"
    }
   },
   "outputs": [
    {
     "data": {
      "text/plain": [
       "0    14615\n",
       "1     4006\n",
       "Name: h1n1_vaccine, dtype: int64"
      ]
     },
     "execution_count": 188,
     "metadata": {},
     "output_type": "execute_result"
    }
   ],
   "source": [
    "y_train.value_counts()"
   ]
  },
  {
   "cell_type": "code",
   "execution_count": 189,
   "metadata": {
    "ExecuteTime": {
     "end_time": "2022-05-17T15:15:32.120491Z",
     "start_time": "2022-05-17T15:15:31.223982Z"
    }
   },
   "outputs": [],
   "source": [
    "smote = SMOTE(random_state=42)\n",
    "X_train_resampled, y_train_resampled = smote.fit_sample(X_train_final, y_train)"
   ]
  },
  {
   "cell_type": "code",
   "execution_count": 190,
   "metadata": {
    "ExecuteTime": {
     "end_time": "2022-05-17T15:15:42.246014Z",
     "start_time": "2022-05-17T15:15:42.238198Z"
    }
   },
   "outputs": [
    {
     "data": {
      "text/plain": [
       "1    14615\n",
       "0    14615\n",
       "Name: h1n1_vaccine, dtype: int64"
      ]
     },
     "execution_count": 190,
     "metadata": {},
     "output_type": "execute_result"
    }
   ],
   "source": [
    "y_train_resampled.value_counts()"
   ]
  },
  {
   "cell_type": "markdown",
   "metadata": {},
   "source": [
    "Now that our data is cleaned, we will begin making models."
   ]
  },
  {
   "cell_type": "markdown",
   "metadata": {},
   "source": [
    "# Models"
   ]
  },
  {
   "cell_type": "markdown",
   "metadata": {},
   "source": [
    "For our baseline model, we will use a decision stump.  After finding our baseline scores, we will then move on to more advanced models to improve our scores."
   ]
  },
  {
   "cell_type": "markdown",
   "metadata": {},
   "source": [
    "## Baseline Model"
   ]
  },
  {
   "cell_type": "code",
   "execution_count": 191,
   "metadata": {
    "ExecuteTime": {
     "end_time": "2022-05-17T15:20:16.320548Z",
     "start_time": "2022-05-17T15:20:16.213614Z"
    }
   },
   "outputs": [
    {
     "data": {
      "text/plain": [
       "DecisionTreeClassifier(max_depth=3, random_state=42)"
      ]
     },
     "execution_count": 191,
     "metadata": {},
     "output_type": "execute_result"
    }
   ],
   "source": [
    "# Create a basic decision stump model\n",
    "clf = DecisionTreeClassifier(random_state=42, max_depth=3)\n",
    "clf.fit(X_train_resampled, y_train_resampled)"
   ]
  },
  {
   "cell_type": "code",
   "execution_count": 200,
   "metadata": {
    "ExecuteTime": {
     "end_time": "2022-05-17T15:32:01.802403Z",
     "start_time": "2022-05-17T15:32:01.730343Z"
    }
   },
   "outputs": [
    {
     "name": "stdout",
     "output_type": "stream",
     "text": [
      "Decision Stump Model Training Scores: \n",
      "               precision    recall  f1-score   support\n",
      "\n",
      "           0       0.72      0.79      0.75     14615\n",
      "           1       0.77      0.70      0.73     14615\n",
      "\n",
      "    accuracy                           0.74     29230\n",
      "   macro avg       0.75      0.74      0.74     29230\n",
      "weighted avg       0.75      0.74      0.74     29230\n",
      "\n",
      "Decision Stump Model Test Scores: \n",
      "               precision    recall  f1-score   support\n",
      "\n",
      "           0       0.87      0.79      0.83      4898\n",
      "           1       0.42      0.55      0.47      1309\n",
      "\n",
      "    accuracy                           0.74      6207\n",
      "   macro avg       0.64      0.67      0.65      6207\n",
      "weighted avg       0.77      0.74      0.75      6207\n",
      "\n"
     ]
    }
   ],
   "source": [
    "print('Decision Stump Model Training Scores: \\n', \n",
    "      classification_report(y_train_resampled, clf.predict(X_train_resampled)))\n",
    "print('Decision Stump Model Test Scores: \\n', \n",
    "      classification_report(y_test, clf.predict(X_test_final)))"
   ]
  },
  {
   "cell_type": "markdown",
   "metadata": {},
   "source": [
    "## Tuned Decision Tree"
   ]
  },
  {
   "cell_type": "code",
   "execution_count": 195,
   "metadata": {
    "ExecuteTime": {
     "end_time": "2022-05-17T15:29:10.717486Z",
     "start_time": "2022-05-17T15:29:05.583607Z"
    }
   },
   "outputs": [
    {
     "data": {
      "text/plain": [
       "GridSearchCV(cv=3,\n",
       "             estimator=DecisionTreeClassifier(max_depth=3, random_state=42),\n",
       "             param_grid={'criterion': ['gini', 'entropy'],\n",
       "                         'max_depth': [1, 2, 5, 10],\n",
       "                         'min_samples_split': [2, 3, 10, 20]})"
      ]
     },
     "execution_count": 195,
     "metadata": {},
     "output_type": "execute_result"
    }
   ],
   "source": [
    "param_grid = {'criterion': ['gini', 'entropy'],\n",
    "             'max_depth' : [1, 2, 5, 10],\n",
    "             'min_samples_split' : [2, 3, 10, 20]}\n",
    "\n",
    "gs_tree = GridSearchCV(clf, param_grid, cv=3)\n",
    "gs_tree.fit(X_train_resampled, y_train_resampled)"
   ]
  },
  {
   "cell_type": "code",
   "execution_count": 196,
   "metadata": {
    "ExecuteTime": {
     "end_time": "2022-05-17T15:29:24.520769Z",
     "start_time": "2022-05-17T15:29:24.515532Z"
    }
   },
   "outputs": [
    {
     "data": {
      "text/plain": [
       "{'criterion': 'gini', 'max_depth': 10, 'min_samples_split': 2}"
      ]
     },
     "execution_count": 196,
     "metadata": {},
     "output_type": "execute_result"
    }
   ],
   "source": [
    "gs_tree.best_params_"
   ]
  },
  {
   "cell_type": "code",
   "execution_count": 197,
   "metadata": {
    "ExecuteTime": {
     "end_time": "2022-05-17T15:30:14.383198Z",
     "start_time": "2022-05-17T15:30:13.090083Z"
    }
   },
   "outputs": [
    {
     "data": {
      "text/plain": [
       "GridSearchCV(cv=3,\n",
       "             estimator=DecisionTreeClassifier(max_depth=3, random_state=42),\n",
       "             param_grid={'criterion': ['gini'], 'max_depth': [10, 15, 20],\n",
       "                         'min_samples_split': [2]})"
      ]
     },
     "execution_count": 197,
     "metadata": {},
     "output_type": "execute_result"
    }
   ],
   "source": [
    "param_grid_2 = {'criterion' : ['gini'],\n",
    "               'max_depth' : [10, 15, 20],\n",
    "               'min_samples_split' : [2]}\n",
    "\n",
    "gs_tree_2 = GridSearchCV(clf, param_grid_2, cv=3)\n",
    "gs_tree_2.fit(X_train_resampled, y_train_resampled)"
   ]
  },
  {
   "cell_type": "code",
   "execution_count": 198,
   "metadata": {
    "ExecuteTime": {
     "end_time": "2022-05-17T15:30:23.513084Z",
     "start_time": "2022-05-17T15:30:23.507374Z"
    }
   },
   "outputs": [
    {
     "data": {
      "text/plain": [
       "{'criterion': 'gini', 'max_depth': 15, 'min_samples_split': 2}"
      ]
     },
     "execution_count": 198,
     "metadata": {},
     "output_type": "execute_result"
    }
   ],
   "source": [
    "gs_tree_2.best_params_"
   ]
  },
  {
   "cell_type": "code",
   "execution_count": 199,
   "metadata": {
    "ExecuteTime": {
     "end_time": "2022-05-17T15:31:35.806540Z",
     "start_time": "2022-05-17T15:31:35.591483Z"
    }
   },
   "outputs": [
    {
     "data": {
      "text/plain": [
       "DecisionTreeClassifier(max_depth=15, random_state=42)"
      ]
     },
     "execution_count": 199,
     "metadata": {},
     "output_type": "execute_result"
    }
   ],
   "source": [
    "clf_2 = DecisionTreeClassifier(random_state=42, \n",
    "                               criterion = 'gini', \n",
    "                               min_samples_split = 2, \n",
    "                               max_depth = 15)\n",
    "clf_2.fit(X_train_resampled, y_train_resampled)"
   ]
  },
  {
   "cell_type": "code",
   "execution_count": 201,
   "metadata": {
    "ExecuteTime": {
     "end_time": "2022-05-17T15:33:27.693146Z",
     "start_time": "2022-05-17T15:33:27.586487Z"
    }
   },
   "outputs": [
    {
     "name": "stdout",
     "output_type": "stream",
     "text": [
      "Decision Stump Model Training Scores: \n",
      "               precision    recall  f1-score   support\n",
      "\n",
      "           0       0.72      0.79      0.75     14615\n",
      "           1       0.77      0.70      0.73     14615\n",
      "\n",
      "    accuracy                           0.74     29230\n",
      "   macro avg       0.75      0.74      0.74     29230\n",
      "weighted avg       0.75      0.74      0.74     29230\n",
      "\n",
      "Decision Stump Model Test Scores: \n",
      "               precision    recall  f1-score   support\n",
      "\n",
      "           0       0.87      0.79      0.83      4898\n",
      "           1       0.42      0.55      0.47      1309\n",
      "\n",
      "    accuracy                           0.74      6207\n",
      "   macro avg       0.64      0.67      0.65      6207\n",
      "weighted avg       0.77      0.74      0.75      6207\n",
      "\n",
      "Decision Tree Model Training Scores: \n",
      "               precision    recall  f1-score   support\n",
      "\n",
      "           0       0.92      0.94      0.93     14615\n",
      "           1       0.94      0.92      0.93     14615\n",
      "\n",
      "    accuracy                           0.93     29230\n",
      "   macro avg       0.93      0.93      0.93     29230\n",
      "weighted avg       0.93      0.93      0.93     29230\n",
      "\n",
      "Decision Tree Model Test Scores: \n",
      "               precision    recall  f1-score   support\n",
      "\n",
      "           0       0.87      0.87      0.87      4898\n",
      "           1       0.51      0.52      0.51      1309\n",
      "\n",
      "    accuracy                           0.79      6207\n",
      "   macro avg       0.69      0.69      0.69      6207\n",
      "weighted avg       0.79      0.79      0.79      6207\n",
      "\n"
     ]
    }
   ],
   "source": [
    "print('Decision Stump Model Training Scores: \\n', \n",
    "      classification_report(y_train_resampled, clf.predict(X_train_resampled)))\n",
    "print('Decision Stump Model Test Scores: \\n', \n",
    "      classification_report(y_test, clf.predict(X_test_final)))\n",
    "print('Decision Tree Model Training Scores: \\n',\n",
    "     classification_report(y_train_resampled, clf_2.predict(X_train_resampled)))\n",
    "print('Decision Tree Model Test Scores: \\n',\n",
    "     classification_report(y_test, clf_2.predict(X_test_final)))"
   ]
  },
  {
   "cell_type": "markdown",
   "metadata": {},
   "source": [
    "## Random Forests"
   ]
  },
  {
   "cell_type": "code",
   "execution_count": 202,
   "metadata": {
    "ExecuteTime": {
     "end_time": "2022-05-17T15:37:01.014758Z",
     "start_time": "2022-05-17T15:36:58.596818Z"
    }
   },
   "outputs": [
    {
     "data": {
      "text/plain": [
       "RandomForestClassifier(random_state=42)"
      ]
     },
     "execution_count": 202,
     "metadata": {},
     "output_type": "execute_result"
    }
   ],
   "source": [
    "forest = RandomForestClassifier(random_state=42)\n",
    "forest.fit(X_train_resampled, y_train_resampled)"
   ]
  },
  {
   "cell_type": "code",
   "execution_count": 203,
   "metadata": {
    "ExecuteTime": {
     "end_time": "2022-05-17T15:38:16.133052Z",
     "start_time": "2022-05-17T15:38:15.582122Z"
    }
   },
   "outputs": [
    {
     "name": "stdout",
     "output_type": "stream",
     "text": [
      "Random Forests Model Training Scores: \n",
      "               precision    recall  f1-score   support\n",
      "\n",
      "           0       1.00      1.00      1.00     14615\n",
      "           1       1.00      1.00      1.00     14615\n",
      "\n",
      "    accuracy                           1.00     29230\n",
      "   macro avg       1.00      1.00      1.00     29230\n",
      "weighted avg       1.00      1.00      1.00     29230\n",
      "\n",
      "Random Forests Model Test Scores: \n",
      "               precision    recall  f1-score   support\n",
      "\n",
      "           0       0.86      0.94      0.90      4898\n",
      "           1       0.66      0.42      0.51      1309\n",
      "\n",
      "    accuracy                           0.83      6207\n",
      "   macro avg       0.76      0.68      0.70      6207\n",
      "weighted avg       0.82      0.83      0.82      6207\n",
      "\n"
     ]
    }
   ],
   "source": [
    "print('Random Forests Model Training Scores: \\n',\n",
    "     classification_report(y_train_resampled, forest.predict(X_train_resampled)))\n",
    "print('Random Forests Model Test Scores: \\n',\n",
    "     classification_report(y_test, forest.predict(X_test_final)))"
   ]
  },
  {
   "cell_type": "code",
   "execution_count": 204,
   "metadata": {
    "ExecuteTime": {
     "end_time": "2022-05-17T15:45:31.314481Z",
     "start_time": "2022-05-17T15:40:54.319957Z"
    }
   },
   "outputs": [
    {
     "data": {
      "text/plain": [
       "GridSearchCV(cv=3, estimator=RandomForestClassifier(random_state=42),\n",
       "             param_grid={'criterion': ['gini', 'entropy'],\n",
       "                         'max_depth': [2, 5, 10, 20],\n",
       "                         'min_samples_split': [2, 5, 10, 20],\n",
       "                         'n_estimators': [50, 100, 150]})"
      ]
     },
     "execution_count": 204,
     "metadata": {},
     "output_type": "execute_result"
    }
   ],
   "source": [
    "forest_param_grid = {'n_estimators' : [50, 100, 150],\n",
    "                    'criterion' : ['gini', 'entropy'],\n",
    "                    'max_depth' : [2, 5, 10, 20],\n",
    "                    'min_samples_split' : [2, 5, 10, 20]}\n",
    "\n",
    "forest_gs = GridSearchCV(forest, forest_param_grid, cv=3)\n",
    "forest_gs.fit(X_train_resampled, y_train_resampled)"
   ]
  },
  {
   "cell_type": "code",
   "execution_count": 205,
   "metadata": {
    "ExecuteTime": {
     "end_time": "2022-05-17T15:45:43.145386Z",
     "start_time": "2022-05-17T15:45:43.140522Z"
    }
   },
   "outputs": [
    {
     "data": {
      "text/plain": [
       "{'criterion': 'gini',\n",
       " 'max_depth': 20,\n",
       " 'min_samples_split': 2,\n",
       " 'n_estimators': 100}"
      ]
     },
     "execution_count": 205,
     "metadata": {},
     "output_type": "execute_result"
    }
   ],
   "source": [
    "forest_gs.best_params_"
   ]
  },
  {
   "cell_type": "code",
   "execution_count": 217,
   "metadata": {
    "ExecuteTime": {
     "end_time": "2022-05-17T15:52:38.080625Z",
     "start_time": "2022-05-17T15:52:35.788284Z"
    }
   },
   "outputs": [
    {
     "data": {
      "text/plain": [
       "RandomForestClassifier(max_depth=20, random_state=42)"
      ]
     },
     "execution_count": 217,
     "metadata": {},
     "output_type": "execute_result"
    }
   ],
   "source": [
    "forest_2 = RandomForestClassifier(random_state=42, max_depth=20)\n",
    "forest_2.fit(X_train_resampled, y_train_resampled)"
   ]
  },
  {
   "cell_type": "code",
   "execution_count": 218,
   "metadata": {
    "ExecuteTime": {
     "end_time": "2022-05-17T15:52:38.570813Z",
     "start_time": "2022-05-17T15:52:38.081621Z"
    }
   },
   "outputs": [
    {
     "name": "stdout",
     "output_type": "stream",
     "text": [
      "Second Random Forests Model Training Scores: \n",
      "               precision    recall  f1-score   support\n",
      "\n",
      "           0       0.98      1.00      0.99     14615\n",
      "           1       1.00      0.98      0.99     14615\n",
      "\n",
      "    accuracy                           0.99     29230\n",
      "   macro avg       0.99      0.99      0.99     29230\n",
      "weighted avg       0.99      0.99      0.99     29230\n",
      "\n",
      "Second Random Forests Model Test Scores: \n",
      "               precision    recall  f1-score   support\n",
      "\n",
      "           0       0.86      0.93      0.90      4898\n",
      "           1       0.64      0.44      0.53      1309\n",
      "\n",
      "    accuracy                           0.83      6207\n",
      "   macro avg       0.75      0.69      0.71      6207\n",
      "weighted avg       0.82      0.83      0.82      6207\n",
      "\n"
     ]
    }
   ],
   "source": [
    "print('Second Random Forests Model Training Scores: \\n',\n",
    "     classification_report(y_train_resampled, forest_2.predict(X_train_resampled)))\n",
    "print('Second Random Forests Model Test Scores: \\n',\n",
    "     classification_report(y_test, forest_2.predict(X_test_final)))"
   ]
  },
  {
   "cell_type": "code",
   "execution_count": 221,
   "metadata": {
    "ExecuteTime": {
     "end_time": "2022-05-17T15:58:01.532432Z",
     "start_time": "2022-05-17T15:57:57.796792Z"
    }
   },
   "outputs": [
    {
     "data": {
      "text/plain": [
       "RandomForestClassifier(max_depth=15, min_samples_split=15, n_estimators=200,\n",
       "                       random_state=42)"
      ]
     },
     "execution_count": 221,
     "metadata": {},
     "output_type": "execute_result"
    }
   ],
   "source": [
    "# Decrease our max depth\n",
    "# Increase our number of estimators and min samples split\n",
    "forest_3 = RandomForestClassifier(random_state=42, \n",
    "                                  max_depth=15, \n",
    "                                  n_estimators=200, \n",
    "                                  min_samples_split=15)\n",
    "forest_3.fit(X_train_resampled, y_train_resampled)"
   ]
  },
  {
   "cell_type": "code",
   "execution_count": 222,
   "metadata": {
    "ExecuteTime": {
     "end_time": "2022-05-17T15:58:02.279450Z",
     "start_time": "2022-05-17T15:58:01.533506Z"
    }
   },
   "outputs": [
    {
     "name": "stdout",
     "output_type": "stream",
     "text": [
      "Third Random Forests Model Training Scores: \n",
      "               precision    recall  f1-score   support\n",
      "\n",
      "           0       0.91      0.95      0.93     14615\n",
      "           1       0.95      0.90      0.93     14615\n",
      "\n",
      "    accuracy                           0.93     29230\n",
      "   macro avg       0.93      0.93      0.93     29230\n",
      "weighted avg       0.93      0.93      0.93     29230\n",
      "\n",
      "Third Random Forests Model Test Scores: \n",
      "               precision    recall  f1-score   support\n",
      "\n",
      "           0       0.87      0.92      0.89      4898\n",
      "           1       0.62      0.50      0.55      1309\n",
      "\n",
      "    accuracy                           0.83      6207\n",
      "   macro avg       0.74      0.71      0.72      6207\n",
      "weighted avg       0.82      0.83      0.82      6207\n",
      "\n"
     ]
    }
   ],
   "source": [
    "print('Third Random Forests Model Training Scores: \\n',\n",
    "     classification_report(y_train_resampled, forest_3.predict(X_train_resampled)))\n",
    "print('Third Random Forests Model Test Scores: \\n',\n",
    "     classification_report(y_test, forest_3.predict(X_test_final)))"
   ]
  },
  {
   "cell_type": "markdown",
   "metadata": {},
   "source": [
    "This seemed to help us decrease the overfitting in our model."
   ]
  },
  {
   "cell_type": "code",
   "execution_count": 223,
   "metadata": {
    "ExecuteTime": {
     "end_time": "2022-05-17T15:59:25.718941Z",
     "start_time": "2022-05-17T15:59:25.711754Z"
    }
   },
   "outputs": [],
   "source": [
    "def plot_feature_importance(model):\n",
    "    sns.set_style('darkgrid')\n",
    "    importances = model.feature_importances_\n",
    "    sorted_indices = np.argsort(importances)[::-1]\n",
    "    n_features = 10\n",
    "    plt.figure(figsize=(8,8))\n",
    "    plt.barh(range(10), importances[sorted_indices][:10], align = 'center')\n",
    "    plt.yticks(range(n_features), X_train_resampled.columns[sorted_indices][:10])\n",
    "    plt.xlabel('Feature Importance', fontsize=16)\n",
    "    plt.ylabel('Feature', fontsize=16)\n",
    "    plt.title('Model Feature Importances', fontsize=20)"
   ]
  },
  {
   "cell_type": "code",
   "execution_count": 224,
   "metadata": {
    "ExecuteTime": {
     "end_time": "2022-05-17T15:59:40.758607Z",
     "start_time": "2022-05-17T15:59:40.567093Z"
    }
   },
   "outputs": [
    {
     "data": {
      "image/png": "[encoded data removed]",
      "text/plain": [
       "<Figure size 576x576 with 1 Axes>"
      ]
     },
     "metadata": {},
     "output_type": "display_data"
    }
   ],
   "source": [
    "plot_feature_importance(forest_3)"
   ]
  },
  {
   "cell_type": "markdown",
   "metadata": {},
   "source": [
    "## XG Boost"
   ]
  },
  {
   "cell_type": "code",
   "execution_count": 225,
   "metadata": {
    "ExecuteTime": {
     "end_time": "2022-05-17T16:00:28.158130Z",
     "start_time": "2022-05-17T16:00:25.928486Z"
    }
   },
   "outputs": [
    {
     "data": {
      "text/plain": [
       "XGBClassifier(base_score=0.5, booster='gbtree', colsample_bylevel=1,\n",
       "              colsample_bynode=1, colsample_bytree=1, gamma=0, gpu_id=-1,\n",
       "              importance_type='gain', interaction_constraints='',\n",
       "              learning_rate=0.300000012, max_delta_step=0, max_depth=6,\n",
       "              min_child_weight=1, missing=nan, monotone_constraints='()',\n",
       "              n_estimators=100, n_jobs=0, num_parallel_tree=1, random_state=42,\n",
       "              reg_alpha=0, reg_lambda=1, scale_pos_weight=1, subsample=1,\n",
       "              tree_method='exact', validate_parameters=1, verbosity=None)"
      ]
     },
     "execution_count": 225,
     "metadata": {},
     "output_type": "execute_result"
    }
   ],
   "source": [
    "boost = XGBClassifier(random_state=42)\n",
    "boost.fit(X_train_resampled, y_train_resampled)"
   ]
  },
  {
   "cell_type": "code",
   "execution_count": 226,
   "metadata": {
    "ExecuteTime": {
     "end_time": "2022-05-17T16:01:37.490108Z",
     "start_time": "2022-05-17T16:01:37.370818Z"
    }
   },
   "outputs": [
    {
     "name": "stdout",
     "output_type": "stream",
     "text": [
      "XG Boost Model Training Scores: \n",
      "               precision    recall  f1-score   support\n",
      "\n",
      "           0       0.91      0.97      0.94     14615\n",
      "           1       0.97      0.90      0.94     14615\n",
      "\n",
      "    accuracy                           0.94     29230\n",
      "   macro avg       0.94      0.94      0.94     29230\n",
      "weighted avg       0.94      0.94      0.94     29230\n",
      "\n",
      "XG Boost Model Test Scores: \n",
      "               precision    recall  f1-score   support\n",
      "\n",
      "           0       0.87      0.93      0.90      4898\n",
      "           1       0.64      0.48      0.55      1309\n",
      "\n",
      "    accuracy                           0.83      6207\n",
      "   macro avg       0.75      0.70      0.72      6207\n",
      "weighted avg       0.82      0.83      0.82      6207\n",
      "\n"
     ]
    }
   ],
   "source": [
    "print('XG Boost Model Training Scores: \\n',\n",
    "     classification_report(y_train_resampled, boost.predict(X_train_resampled)))\n",
    "print('XG Boost Model Test Scores: \\n',\n",
    "     classification_report(y_test, boost.predict(X_test_final)))"
   ]
  },
  {
   "cell_type": "code",
   "execution_count": 227,
   "metadata": {
    "ExecuteTime": {
     "end_time": "2022-05-17T16:11:15.522381Z",
     "start_time": "2022-05-17T16:02:37.753228Z"
    }
   },
   "outputs": [
    {
     "data": {
      "text/plain": [
       "GridSearchCV(cv=3,\n",
       "             estimator=XGBClassifier(base_score=0.5, booster='gbtree',\n",
       "                                     colsample_bylevel=1, colsample_bynode=1,\n",
       "                                     colsample_bytree=1, gamma=0, gpu_id=-1,\n",
       "                                     importance_type='gain',\n",
       "                                     interaction_constraints='',\n",
       "                                     learning_rate=0.300000012,\n",
       "                                     max_delta_step=0, max_depth=6,\n",
       "                                     min_child_weight=1, missing=nan,\n",
       "                                     monotone_constraints='()',\n",
       "                                     n_estimators=100, n_jobs=0,\n",
       "                                     num_parallel_tree=1, random_state=42,\n",
       "                                     reg_alpha=0, reg_lambda=1,\n",
       "                                     scale_pos_weight=1, subsample=1,\n",
       "                                     tree_method='exact', validate_parameters=1,\n",
       "                                     verbosity=None),\n",
       "             param_grid={'learning_rate': [0.1, 0.2, 0.3],\n",
       "                         'max_depth': [4, 5, 6],\n",
       "                         'min_child_weight': [0.5, 0.7, 1],\n",
       "                         'n_estimators': [100, 150, 200]})"
      ]
     },
     "execution_count": 227,
     "metadata": {},
     "output_type": "execute_result"
    }
   ],
   "source": [
    "boost_param_grid = {'learning_rate' : [.1, .2, .3],\n",
    "                   'max_depth' : [4, 5, 6],\n",
    "                   'min_child_weight' : [.5, .7, 1],\n",
    "                   'n_estimators' : [100, 150, 200]}\n",
    "\n",
    "gs_boost = GridSearchCV(boost, boost_param_grid, cv=3)\n",
    "gs_boost.fit(X_train_resampled, y_train_resampled)"
   ]
  },
  {
   "cell_type": "code",
   "execution_count": 228,
   "metadata": {
    "ExecuteTime": {
     "end_time": "2022-05-17T16:11:28.865961Z",
     "start_time": "2022-05-17T16:11:28.858902Z"
    }
   },
   "outputs": [
    {
     "data": {
      "text/plain": [
       "{'learning_rate': 0.1,\n",
       " 'max_depth': 5,\n",
       " 'min_child_weight': 0.5,\n",
       " 'n_estimators': 100}"
      ]
     },
     "execution_count": 228,
     "metadata": {},
     "output_type": "execute_result"
    }
   ],
   "source": [
    "gs_boost.best_params_"
   ]
  },
  {
   "cell_type": "code",
   "execution_count": 229,
   "metadata": {
    "ExecuteTime": {
     "end_time": "2022-05-17T16:11:45.351285Z",
     "start_time": "2022-05-17T16:11:43.408634Z"
    }
   },
   "outputs": [
    {
     "data": {
      "text/plain": [
       "XGBClassifier(base_score=0.5, booster='gbtree', colsample_bylevel=1,\n",
       "              colsample_bynode=1, colsample_bytree=1, gamma=0, gpu_id=-1,\n",
       "              importance_type='gain', interaction_constraints='',\n",
       "              learning_rate=0.1, max_delta_step=0, max_depth=5,\n",
       "              min_child_weight=0.5, missing=nan, monotone_constraints='()',\n",
       "              n_estimators=100, n_jobs=0, num_parallel_tree=1, random_state=42,\n",
       "              reg_alpha=0, reg_lambda=1, scale_pos_weight=1, subsample=1,\n",
       "              tree_method='exact', validate_parameters=1, verbosity=None)"
      ]
     },
     "execution_count": 229,
     "metadata": {},
     "output_type": "execute_result"
    }
   ],
   "source": [
    "boost_2 = XGBClassifier(random_state=42, \n",
    "                            learning_rate=.1, \n",
    "                            max_depth = 5, \n",
    "                            min_child_weight = .5, \n",
    "                            n_estimators = 100)\n",
    "boost_2.fit(X_train_resampled, y_train_resampled)"
   ]
  },
  {
   "cell_type": "code",
   "execution_count": 230,
   "metadata": {
    "ExecuteTime": {
     "end_time": "2022-05-17T16:12:14.244150Z",
     "start_time": "2022-05-17T16:12:14.128687Z"
    }
   },
   "outputs": [
    {
     "name": "stdout",
     "output_type": "stream",
     "text": [
      "Second XG Boost Model Training Scores: \n",
      "               precision    recall  f1-score   support\n",
      "\n",
      "           0       0.87      0.94      0.91     14615\n",
      "           1       0.94      0.86      0.90     14615\n",
      "\n",
      "    accuracy                           0.90     29230\n",
      "   macro avg       0.91      0.90      0.90     29230\n",
      "weighted avg       0.91      0.90      0.90     29230\n",
      "\n",
      "Second XG Boost Model Test Scores: \n",
      "               precision    recall  f1-score   support\n",
      "\n",
      "           0       0.87      0.93      0.90      4898\n",
      "           1       0.66      0.48      0.56      1309\n",
      "\n",
      "    accuracy                           0.84      6207\n",
      "   macro avg       0.76      0.71      0.73      6207\n",
      "weighted avg       0.83      0.84      0.83      6207\n",
      "\n"
     ]
    }
   ],
   "source": [
    "print('XG Boost Model Training Scores: \\n',\n",
    "     classification_report(y_train_resampled, boost.predict(X_train_resampled)))\n",
    "print('XG Boost Model Test Scores: \\n',\n",
    "     classification_report(y_test, boost.predict(X_test_final)))\n",
    "print('Second XG Boost Model Training Scores: \\n',\n",
    "     classification_report(y_train_resampled, boost_2.predict(X_train_resampled)))\n",
    "print('Second XG Boost Model Test Scores: \\n',\n",
    "     classification_report(y_test, boost_2.predict(X_test_final)))"
   ]
  },
  {
   "cell_type": "code",
   "execution_count": 231,
   "metadata": {
    "ExecuteTime": {
     "end_time": "2022-05-17T16:13:25.735281Z",
     "start_time": "2022-05-17T16:13:25.573971Z"
    }
   },
   "outputs": [
    {
     "data": {
      "image/png": "[encoded data removed]",
      "text/plain": [
       "<Figure size 576x576 with 1 Axes>"
      ]
     },
     "metadata": {},
     "output_type": "display_data"
    }
   ],
   "source": [
    "plot_feature_importance(boost_2)"
   ]
  },
  {
   "cell_type": "code",
   "execution_count": null,
   "metadata": {},
   "outputs": [],
   "source": []
  }
 ],
 "metadata": {
  "kernelspec": {
   "display_name": "Python 3",
   "language": "python",
   "name": "python3"
  },
  "language_info": {
   "codemirror_mode": {
    "name": "ipython",
    "version": 3
   },
   "file_extension": ".py",
   "mimetype": "text/x-python",
   "name": "python",
   "nbconvert_exporter": "python",
   "pygments_lexer": "ipython3",
   "version": "3.8.5"
  },
  "toc": {
   "base_numbering": 1,
   "nav_menu": {},
   "number_sections": true,
   "sideBar": true,
   "skip_h1_title": false,
   "title_cell": "Table of Contents",
   "title_sidebar": "Contents",
   "toc_cell": false,
   "toc_position": {},
   "toc_section_display": true,
   "toc_window_display": false
  }
 },
 "nbformat": 4,
 "nbformat_minor": 4
}
