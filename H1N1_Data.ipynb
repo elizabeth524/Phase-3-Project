{
 "cells": [
  {
   "cell_type": "markdown",
   "metadata": {},
   "source": [
    "# Import Necessary Libraries and Data"
   ]
  },
  {
   "cell_type": "code",
   "execution_count": 297,
   "metadata": {
    "ExecuteTime": {
     "end_time": "2022-05-17T20:25:54.492002Z",
     "start_time": "2022-05-17T20:25:54.485242Z"
    }
   },
   "outputs": [],
   "source": [
    "# Import Libraries\n",
    "import numpy as np\n",
    "import pandas as pd\n",
    "import matplotlib.pyplot as plt\n",
    "from sklearn.model_selection import train_test_split, GridSearchCV\n",
    "from sklearn.preprocessing import OneHotEncoder\n",
    "from sklearn.linear_model import LogisticRegression\n",
    "from sklearn.tree import DecisionTreeClassifier\n",
    "from sklearn.metrics import accuracy_score, classification_report\n",
    "from sklearn import tree\n",
    "from imblearn.over_sampling import SMOTE\n",
    "from sklearn.ensemble import RandomForestClassifier\n",
    "from xgboost import XGBClassifier\n",
    "import seaborn as sns\n",
    "import warnings\n",
    "warnings.filterwarnings('ignore')"
   ]
  },
  {
   "cell_type": "code",
   "execution_count": 298,
   "metadata": {
    "ExecuteTime": {
     "end_time": "2022-05-17T20:25:54.796591Z",
     "start_time": "2022-05-17T20:25:54.686215Z"
    }
   },
   "outputs": [],
   "source": [
    "# Import the Data\n",
    "training_labels = pd.read_csv('Data/training_set_labels.csv', index_col='respondent_id')\n",
    "training_features = pd.read_csv('Data/training_set_features.csv', index_col='respondent_id')"
   ]
  },
  {
   "cell_type": "markdown",
   "metadata": {},
   "source": [
    "# Explore the Data"
   ]
  },
  {
   "cell_type": "code",
   "execution_count": 299,
   "metadata": {
    "ExecuteTime": {
     "end_time": "2022-05-17T20:25:55.112451Z",
     "start_time": "2022-05-17T20:25:55.098889Z"
    }
   },
   "outputs": [
    {
     "name": "stdout",
     "output_type": "stream",
     "text": [
      "<class 'pandas.core.frame.DataFrame'>\n",
      "Int64Index: 26707 entries, 0 to 26706\n",
      "Data columns (total 2 columns):\n",
      " #   Column            Non-Null Count  Dtype\n",
      "---  ------            --------------  -----\n",
      " 0   h1n1_vaccine      26707 non-null  int64\n",
      " 1   seasonal_vaccine  26707 non-null  int64\n",
      "dtypes: int64(2)\n",
      "memory usage: 625.9 KB\n"
     ]
    }
   ],
   "source": [
    "training_labels.info()"
   ]
  },
  {
   "cell_type": "code",
   "execution_count": 300,
   "metadata": {
    "ExecuteTime": {
     "end_time": "2022-05-17T20:25:55.323970Z",
     "start_time": "2022-05-17T20:25:55.314358Z"
    }
   },
   "outputs": [
    {
     "data": {
      "text/plain": [
       "0    21033\n",
       "1     5674\n",
       "Name: h1n1_vaccine, dtype: int64"
      ]
     },
     "execution_count": 300,
     "metadata": {},
     "output_type": "execute_result"
    }
   ],
   "source": [
    "# Check H1N1 labels\n",
    "training_labels.h1n1_vaccine.value_counts()"
   ]
  },
  {
   "cell_type": "markdown",
   "metadata": {},
   "source": [
    "** Note this class imbalance for later. **"
   ]
  },
  {
   "cell_type": "code",
   "execution_count": 301,
   "metadata": {
    "ExecuteTime": {
     "end_time": "2022-05-17T20:25:55.731922Z",
     "start_time": "2022-05-17T20:25:55.690724Z"
    }
   },
   "outputs": [
    {
     "name": "stdout",
     "output_type": "stream",
     "text": [
      "<class 'pandas.core.frame.DataFrame'>\n",
      "Int64Index: 26707 entries, 0 to 26706\n",
      "Data columns (total 35 columns):\n",
      " #   Column                       Non-Null Count  Dtype  \n",
      "---  ------                       --------------  -----  \n",
      " 0   h1n1_concern                 26615 non-null  float64\n",
      " 1   h1n1_knowledge               26591 non-null  float64\n",
      " 2   behavioral_antiviral_meds    26636 non-null  float64\n",
      " 3   behavioral_avoidance         26499 non-null  float64\n",
      " 4   behavioral_face_mask         26688 non-null  float64\n",
      " 5   behavioral_wash_hands        26665 non-null  float64\n",
      " 6   behavioral_large_gatherings  26620 non-null  float64\n",
      " 7   behavioral_outside_home      26625 non-null  float64\n",
      " 8   behavioral_touch_face        26579 non-null  float64\n",
      " 9   doctor_recc_h1n1             24547 non-null  float64\n",
      " 10  doctor_recc_seasonal         24547 non-null  float64\n",
      " 11  chronic_med_condition        25736 non-null  float64\n",
      " 12  child_under_6_months         25887 non-null  float64\n",
      " 13  health_worker                25903 non-null  float64\n",
      " 14  health_insurance             14433 non-null  float64\n",
      " 15  opinion_h1n1_vacc_effective  26316 non-null  float64\n",
      " 16  opinion_h1n1_risk            26319 non-null  float64\n",
      " 17  opinion_h1n1_sick_from_vacc  26312 non-null  float64\n",
      " 18  opinion_seas_vacc_effective  26245 non-null  float64\n",
      " 19  opinion_seas_risk            26193 non-null  float64\n",
      " 20  opinion_seas_sick_from_vacc  26170 non-null  float64\n",
      " 21  age_group                    26707 non-null  object \n",
      " 22  education                    25300 non-null  object \n",
      " 23  race                         26707 non-null  object \n",
      " 24  sex                          26707 non-null  object \n",
      " 25  income_poverty               22284 non-null  object \n",
      " 26  marital_status               25299 non-null  object \n",
      " 27  rent_or_own                  24665 non-null  object \n",
      " 28  employment_status            25244 non-null  object \n",
      " 29  hhs_geo_region               26707 non-null  object \n",
      " 30  census_msa                   26707 non-null  object \n",
      " 31  household_adults             26458 non-null  float64\n",
      " 32  household_children           26458 non-null  float64\n",
      " 33  employment_industry          13377 non-null  object \n",
      " 34  employment_occupation        13237 non-null  object \n",
      "dtypes: float64(23), object(12)\n",
      "memory usage: 7.3+ MB\n"
     ]
    }
   ],
   "source": [
    "# Explore the training features\n",
    "training_features.info()"
   ]
  },
  {
   "cell_type": "code",
   "execution_count": 302,
   "metadata": {
    "ExecuteTime": {
     "end_time": "2022-05-17T20:25:55.889840Z",
     "start_time": "2022-05-17T20:25:55.870089Z"
    }
   },
   "outputs": [],
   "source": [
    "# Create one DataFrame to house all of our data\n",
    "data_df = pd.concat([training_features, training_labels], axis=1)"
   ]
  },
  {
   "cell_type": "code",
   "execution_count": 303,
   "metadata": {
    "ExecuteTime": {
     "end_time": "2022-05-17T20:25:56.127175Z",
     "start_time": "2022-05-17T20:25:56.091094Z"
    }
   },
   "outputs": [
    {
     "data": {
      "text/html": [
       "<div>\n",
       "<style scoped>\n",
       "    .dataframe tbody tr th:only-of-type {\n",
       "        vertical-align: middle;\n",
       "    }\n",
       "\n",
       "    .dataframe tbody tr th {\n",
       "        vertical-align: top;\n",
       "    }\n",
       "\n",
       "    .dataframe thead th {\n",
       "        text-align: right;\n",
       "    }\n",
       "</style>\n",
       "<table border=\"1\" class=\"dataframe\">\n",
       "  <thead>\n",
       "    <tr style=\"text-align: right;\">\n",
       "      <th></th>\n",
       "      <th>h1n1_concern</th>\n",
       "      <th>h1n1_knowledge</th>\n",
       "      <th>behavioral_antiviral_meds</th>\n",
       "      <th>behavioral_avoidance</th>\n",
       "      <th>behavioral_face_mask</th>\n",
       "      <th>behavioral_wash_hands</th>\n",
       "      <th>behavioral_large_gatherings</th>\n",
       "      <th>behavioral_outside_home</th>\n",
       "      <th>behavioral_touch_face</th>\n",
       "      <th>doctor_recc_h1n1</th>\n",
       "      <th>...</th>\n",
       "      <th>rent_or_own</th>\n",
       "      <th>employment_status</th>\n",
       "      <th>hhs_geo_region</th>\n",
       "      <th>census_msa</th>\n",
       "      <th>household_adults</th>\n",
       "      <th>household_children</th>\n",
       "      <th>employment_industry</th>\n",
       "      <th>employment_occupation</th>\n",
       "      <th>h1n1_vaccine</th>\n",
       "      <th>seasonal_vaccine</th>\n",
       "    </tr>\n",
       "    <tr>\n",
       "      <th>respondent_id</th>\n",
       "      <th></th>\n",
       "      <th></th>\n",
       "      <th></th>\n",
       "      <th></th>\n",
       "      <th></th>\n",
       "      <th></th>\n",
       "      <th></th>\n",
       "      <th></th>\n",
       "      <th></th>\n",
       "      <th></th>\n",
       "      <th></th>\n",
       "      <th></th>\n",
       "      <th></th>\n",
       "      <th></th>\n",
       "      <th></th>\n",
       "      <th></th>\n",
       "      <th></th>\n",
       "      <th></th>\n",
       "      <th></th>\n",
       "      <th></th>\n",
       "      <th></th>\n",
       "    </tr>\n",
       "  </thead>\n",
       "  <tbody>\n",
       "    <tr>\n",
       "      <th>0</th>\n",
       "      <td>1.0</td>\n",
       "      <td>0.0</td>\n",
       "      <td>0.0</td>\n",
       "      <td>0.0</td>\n",
       "      <td>0.0</td>\n",
       "      <td>0.0</td>\n",
       "      <td>0.0</td>\n",
       "      <td>1.0</td>\n",
       "      <td>1.0</td>\n",
       "      <td>0.0</td>\n",
       "      <td>...</td>\n",
       "      <td>Own</td>\n",
       "      <td>Not in Labor Force</td>\n",
       "      <td>oxchjgsf</td>\n",
       "      <td>Non-MSA</td>\n",
       "      <td>0.0</td>\n",
       "      <td>0.0</td>\n",
       "      <td>NaN</td>\n",
       "      <td>NaN</td>\n",
       "      <td>0</td>\n",
       "      <td>0</td>\n",
       "    </tr>\n",
       "    <tr>\n",
       "      <th>1</th>\n",
       "      <td>3.0</td>\n",
       "      <td>2.0</td>\n",
       "      <td>0.0</td>\n",
       "      <td>1.0</td>\n",
       "      <td>0.0</td>\n",
       "      <td>1.0</td>\n",
       "      <td>0.0</td>\n",
       "      <td>1.0</td>\n",
       "      <td>1.0</td>\n",
       "      <td>0.0</td>\n",
       "      <td>...</td>\n",
       "      <td>Rent</td>\n",
       "      <td>Employed</td>\n",
       "      <td>bhuqouqj</td>\n",
       "      <td>MSA, Not Principle  City</td>\n",
       "      <td>0.0</td>\n",
       "      <td>0.0</td>\n",
       "      <td>pxcmvdjn</td>\n",
       "      <td>xgwztkwe</td>\n",
       "      <td>0</td>\n",
       "      <td>1</td>\n",
       "    </tr>\n",
       "    <tr>\n",
       "      <th>2</th>\n",
       "      <td>1.0</td>\n",
       "      <td>1.0</td>\n",
       "      <td>0.0</td>\n",
       "      <td>1.0</td>\n",
       "      <td>0.0</td>\n",
       "      <td>0.0</td>\n",
       "      <td>0.0</td>\n",
       "      <td>0.0</td>\n",
       "      <td>0.0</td>\n",
       "      <td>NaN</td>\n",
       "      <td>...</td>\n",
       "      <td>Own</td>\n",
       "      <td>Employed</td>\n",
       "      <td>qufhixun</td>\n",
       "      <td>MSA, Not Principle  City</td>\n",
       "      <td>2.0</td>\n",
       "      <td>0.0</td>\n",
       "      <td>rucpziij</td>\n",
       "      <td>xtkaffoo</td>\n",
       "      <td>0</td>\n",
       "      <td>0</td>\n",
       "    </tr>\n",
       "    <tr>\n",
       "      <th>3</th>\n",
       "      <td>1.0</td>\n",
       "      <td>1.0</td>\n",
       "      <td>0.0</td>\n",
       "      <td>1.0</td>\n",
       "      <td>0.0</td>\n",
       "      <td>1.0</td>\n",
       "      <td>1.0</td>\n",
       "      <td>0.0</td>\n",
       "      <td>0.0</td>\n",
       "      <td>0.0</td>\n",
       "      <td>...</td>\n",
       "      <td>Rent</td>\n",
       "      <td>Not in Labor Force</td>\n",
       "      <td>lrircsnp</td>\n",
       "      <td>MSA, Principle City</td>\n",
       "      <td>0.0</td>\n",
       "      <td>0.0</td>\n",
       "      <td>NaN</td>\n",
       "      <td>NaN</td>\n",
       "      <td>0</td>\n",
       "      <td>1</td>\n",
       "    </tr>\n",
       "    <tr>\n",
       "      <th>4</th>\n",
       "      <td>2.0</td>\n",
       "      <td>1.0</td>\n",
       "      <td>0.0</td>\n",
       "      <td>1.0</td>\n",
       "      <td>0.0</td>\n",
       "      <td>1.0</td>\n",
       "      <td>1.0</td>\n",
       "      <td>0.0</td>\n",
       "      <td>1.0</td>\n",
       "      <td>0.0</td>\n",
       "      <td>...</td>\n",
       "      <td>Own</td>\n",
       "      <td>Employed</td>\n",
       "      <td>qufhixun</td>\n",
       "      <td>MSA, Not Principle  City</td>\n",
       "      <td>1.0</td>\n",
       "      <td>0.0</td>\n",
       "      <td>wxleyezf</td>\n",
       "      <td>emcorrxb</td>\n",
       "      <td>0</td>\n",
       "      <td>0</td>\n",
       "    </tr>\n",
       "  </tbody>\n",
       "</table>\n",
       "<p>5 rows × 37 columns</p>\n",
       "</div>"
      ],
      "text/plain": [
       "               h1n1_concern  h1n1_knowledge  behavioral_antiviral_meds  \\\n",
       "respondent_id                                                            \n",
       "0                       1.0             0.0                        0.0   \n",
       "1                       3.0             2.0                        0.0   \n",
       "2                       1.0             1.0                        0.0   \n",
       "3                       1.0             1.0                        0.0   \n",
       "4                       2.0             1.0                        0.0   \n",
       "\n",
       "               behavioral_avoidance  behavioral_face_mask  \\\n",
       "respondent_id                                               \n",
       "0                               0.0                   0.0   \n",
       "1                               1.0                   0.0   \n",
       "2                               1.0                   0.0   \n",
       "3                               1.0                   0.0   \n",
       "4                               1.0                   0.0   \n",
       "\n",
       "               behavioral_wash_hands  behavioral_large_gatherings  \\\n",
       "respondent_id                                                       \n",
       "0                                0.0                          0.0   \n",
       "1                                1.0                          0.0   \n",
       "2                                0.0                          0.0   \n",
       "3                                1.0                          1.0   \n",
       "4                                1.0                          1.0   \n",
       "\n",
       "               behavioral_outside_home  behavioral_touch_face  \\\n",
       "respondent_id                                                   \n",
       "0                                  1.0                    1.0   \n",
       "1                                  1.0                    1.0   \n",
       "2                                  0.0                    0.0   \n",
       "3                                  0.0                    0.0   \n",
       "4                                  0.0                    1.0   \n",
       "\n",
       "               doctor_recc_h1n1  ...  rent_or_own   employment_status  \\\n",
       "respondent_id                    ...                                    \n",
       "0                           0.0  ...          Own  Not in Labor Force   \n",
       "1                           0.0  ...         Rent            Employed   \n",
       "2                           NaN  ...          Own            Employed   \n",
       "3                           0.0  ...         Rent  Not in Labor Force   \n",
       "4                           0.0  ...          Own            Employed   \n",
       "\n",
       "               hhs_geo_region                census_msa  household_adults  \\\n",
       "respondent_id                                                               \n",
       "0                    oxchjgsf                   Non-MSA               0.0   \n",
       "1                    bhuqouqj  MSA, Not Principle  City               0.0   \n",
       "2                    qufhixun  MSA, Not Principle  City               2.0   \n",
       "3                    lrircsnp       MSA, Principle City               0.0   \n",
       "4                    qufhixun  MSA, Not Principle  City               1.0   \n",
       "\n",
       "               household_children  employment_industry  employment_occupation  \\\n",
       "respondent_id                                                                   \n",
       "0                             0.0                  NaN                    NaN   \n",
       "1                             0.0             pxcmvdjn               xgwztkwe   \n",
       "2                             0.0             rucpziij               xtkaffoo   \n",
       "3                             0.0                  NaN                    NaN   \n",
       "4                             0.0             wxleyezf               emcorrxb   \n",
       "\n",
       "               h1n1_vaccine  seasonal_vaccine  \n",
       "respondent_id                                  \n",
       "0                         0                 0  \n",
       "1                         0                 1  \n",
       "2                         0                 0  \n",
       "3                         0                 1  \n",
       "4                         0                 0  \n",
       "\n",
       "[5 rows x 37 columns]"
      ]
     },
     "execution_count": 303,
     "metadata": {},
     "output_type": "execute_result"
    }
   ],
   "source": [
    "data_df.head()"
   ]
  },
  {
   "cell_type": "markdown",
   "metadata": {},
   "source": [
    "# Clean the Data"
   ]
  },
  {
   "cell_type": "markdown",
   "metadata": {},
   "source": [
    "## Remove Unnecessary Columns"
   ]
  },
  {
   "cell_type": "markdown",
   "metadata": {},
   "source": [
    "The columns that we are removing either have to do with the Seasonal Vaccine, or have too much missing data."
   ]
  },
  {
   "cell_type": "code",
   "execution_count": 304,
   "metadata": {
    "ExecuteTime": {
     "end_time": "2022-05-17T20:25:57.015383Z",
     "start_time": "2022-05-17T20:25:56.962594Z"
    }
   },
   "outputs": [
    {
     "name": "stdout",
     "output_type": "stream",
     "text": [
      "<class 'pandas.core.frame.DataFrame'>\n",
      "Int64Index: 26707 entries, 0 to 26706\n",
      "Data columns (total 29 columns):\n",
      " #   Column                       Non-Null Count  Dtype  \n",
      "---  ------                       --------------  -----  \n",
      " 0   h1n1_concern                 26615 non-null  float64\n",
      " 1   h1n1_knowledge               26591 non-null  float64\n",
      " 2   behavioral_antiviral_meds    26636 non-null  float64\n",
      " 3   behavioral_avoidance         26499 non-null  float64\n",
      " 4   behavioral_face_mask         26688 non-null  float64\n",
      " 5   behavioral_wash_hands        26665 non-null  float64\n",
      " 6   behavioral_large_gatherings  26620 non-null  float64\n",
      " 7   behavioral_outside_home      26625 non-null  float64\n",
      " 8   behavioral_touch_face        26579 non-null  float64\n",
      " 9   doctor_recc_h1n1             24547 non-null  float64\n",
      " 10  chronic_med_condition        25736 non-null  float64\n",
      " 11  child_under_6_months         25887 non-null  float64\n",
      " 12  health_worker                25903 non-null  float64\n",
      " 13  opinion_h1n1_vacc_effective  26316 non-null  float64\n",
      " 14  opinion_h1n1_risk            26319 non-null  float64\n",
      " 15  opinion_h1n1_sick_from_vacc  26312 non-null  float64\n",
      " 16  age_group                    26707 non-null  object \n",
      " 17  education                    25300 non-null  object \n",
      " 18  race                         26707 non-null  object \n",
      " 19  sex                          26707 non-null  object \n",
      " 20  income_poverty               22284 non-null  object \n",
      " 21  marital_status               25299 non-null  object \n",
      " 22  rent_or_own                  24665 non-null  object \n",
      " 23  employment_status            25244 non-null  object \n",
      " 24  hhs_geo_region               26707 non-null  object \n",
      " 25  census_msa                   26707 non-null  object \n",
      " 26  household_adults             26458 non-null  float64\n",
      " 27  household_children           26458 non-null  float64\n",
      " 28  h1n1_vaccine                 26707 non-null  int64  \n",
      "dtypes: float64(18), int64(1), object(10)\n",
      "memory usage: 6.1+ MB\n"
     ]
    }
   ],
   "source": [
    "# Drop unnecessary columns\n",
    "h1n1_df = data_df.drop(['health_insurance',\n",
    "                              'opinion_seas_vacc_effective',\n",
    "                              'opinion_seas_risk',\n",
    "                              'opinion_seas_sick_from_vacc',\n",
    "                              'doctor_recc_seasonal',\n",
    "                              'employment_industry',\n",
    "                              'employment_occupation',\n",
    "                              'seasonal_vaccine'], axis=1)\n",
    "h1n1_df.info()"
   ]
  },
  {
   "cell_type": "markdown",
   "metadata": {},
   "source": [
    "## Dealing with Missing Data"
   ]
  },
  {
   "cell_type": "code",
   "execution_count": 95,
   "metadata": {
    "ExecuteTime": {
     "end_time": "2022-05-17T18:31:47.368620Z",
     "start_time": "2022-05-17T18:31:47.334943Z"
    }
   },
   "outputs": [
    {
     "name": "stdout",
     "output_type": "stream",
     "text": [
      "Missing Data: \n",
      " h1n1_concern                     92\n",
      "h1n1_knowledge                  116\n",
      "behavioral_antiviral_meds        71\n",
      "behavioral_avoidance            208\n",
      "behavioral_face_mask             19\n",
      "behavioral_wash_hands            42\n",
      "behavioral_large_gatherings      87\n",
      "behavioral_outside_home          82\n",
      "behavioral_touch_face           128\n",
      "doctor_recc_h1n1               2160\n",
      "chronic_med_condition           971\n",
      "child_under_6_months            820\n",
      "health_worker                   804\n",
      "opinion_h1n1_vacc_effective     391\n",
      "opinion_h1n1_risk               388\n",
      "opinion_h1n1_sick_from_vacc     395\n",
      "age_group                         0\n",
      "education                      1407\n",
      "race                              0\n",
      "sex                               0\n",
      "income_poverty                 4423\n",
      "marital_status                 1408\n",
      "rent_or_own                    2042\n",
      "employment_status              1463\n",
      "hhs_geo_region                    0\n",
      "census_msa                        0\n",
      "household_adults                249\n",
      "household_children              249\n",
      "h1n1_vaccine                      0\n",
      "dtype: int64\n"
     ]
    }
   ],
   "source": [
    "# Check for missing data\n",
    "print('Missing Data: \\n',h1n1_df.isna().sum())"
   ]
  },
  {
   "cell_type": "markdown",
   "metadata": {},
   "source": [
    "We will want to create a new value for columns missing between 5 and 10 percent of the data.  If the column is missing less than 5 percent of data values, we will drop those values."
   ]
  },
  {
   "cell_type": "code",
   "execution_count": 96,
   "metadata": {
    "ExecuteTime": {
     "end_time": "2022-05-17T18:31:47.869377Z",
     "start_time": "2022-05-17T18:31:47.865296Z"
    }
   },
   "outputs": [
    {
     "name": "stdout",
     "output_type": "stream",
     "text": [
      "5% of data: 1335.35\n",
      "10% of data: 2670.7\n"
     ]
    }
   ],
   "source": [
    "print('5% of data:', round(26707*.05, 2))\n",
    "print('10% of data:', round(26707*.1, 2))"
   ]
  },
  {
   "cell_type": "markdown",
   "metadata": {},
   "source": [
    "Create a new category \"unknown\" for the columns with 1000+ missing entries.\n",
    "Drop rows if the column is missing less than 1000 entries.\n",
    "Columns to adjust: doctor_recc_h1n1, education, income_poverty, marital_status, rent_or_own, employment_status."
   ]
  },
  {
   "cell_type": "code",
   "execution_count": 97,
   "metadata": {
    "ExecuteTime": {
     "end_time": "2022-05-17T18:31:48.382570Z",
     "start_time": "2022-05-17T18:31:48.362598Z"
    }
   },
   "outputs": [],
   "source": [
    "# Changing docter recc to an object dtype and filling NaN values\n",
    "h1n1_df['doctor_recc_h1n1'].fillna(value='unknown', inplace=True)\n",
    "h1n1_df['doctor_recc_h1n1'].replace(to_replace=0.0, value='No', inplace=True)\n",
    "h1n1_df['doctor_recc_h1n1'].replace(to_replace=1.0, value='Yes', inplace=True)"
   ]
  },
  {
   "cell_type": "code",
   "execution_count": 98,
   "metadata": {
    "ExecuteTime": {
     "end_time": "2022-05-17T18:31:48.646196Z",
     "start_time": "2022-05-17T18:31:48.620954Z"
    }
   },
   "outputs": [],
   "source": [
    "# Create an unknown category for missing data\n",
    "need_new_category = ['education', \n",
    "                     'income_poverty', \n",
    "                     'marital_status', \n",
    "                     'rent_or_own', \n",
    "                     'employment_status']\n",
    "for column in need_new_category:\n",
    "    h1n1_df[column].fillna(value='unknown', inplace=True)"
   ]
  },
  {
   "cell_type": "code",
   "execution_count": 99,
   "metadata": {
    "ExecuteTime": {
     "end_time": "2022-05-17T18:31:48.932005Z",
     "start_time": "2022-05-17T18:31:48.897534Z"
    }
   },
   "outputs": [
    {
     "data": {
      "text/plain": [
       "h1n1_concern                    92\n",
       "h1n1_knowledge                 116\n",
       "behavioral_antiviral_meds       71\n",
       "behavioral_avoidance           208\n",
       "behavioral_face_mask            19\n",
       "behavioral_wash_hands           42\n",
       "behavioral_large_gatherings     87\n",
       "behavioral_outside_home         82\n",
       "behavioral_touch_face          128\n",
       "doctor_recc_h1n1                 0\n",
       "chronic_med_condition          971\n",
       "child_under_6_months           820\n",
       "health_worker                  804\n",
       "opinion_h1n1_vacc_effective    391\n",
       "opinion_h1n1_risk              388\n",
       "opinion_h1n1_sick_from_vacc    395\n",
       "age_group                        0\n",
       "education                        0\n",
       "race                             0\n",
       "sex                              0\n",
       "income_poverty                   0\n",
       "marital_status                   0\n",
       "rent_or_own                      0\n",
       "employment_status                0\n",
       "hhs_geo_region                   0\n",
       "census_msa                       0\n",
       "household_adults               249\n",
       "household_children             249\n",
       "h1n1_vaccine                     0\n",
       "dtype: int64"
      ]
     },
     "execution_count": 99,
     "metadata": {},
     "output_type": "execute_result"
    }
   ],
   "source": [
    "# Check our remaining null values\n",
    "h1n1_df.isna().sum()"
   ]
  },
  {
   "cell_type": "code",
   "execution_count": 100,
   "metadata": {
    "ExecuteTime": {
     "end_time": "2022-05-17T18:31:49.182033Z",
     "start_time": "2022-05-17T18:31:49.120428Z"
    }
   },
   "outputs": [
    {
     "data": {
      "text/plain": [
       "h1n1_concern                   0\n",
       "h1n1_knowledge                 0\n",
       "behavioral_antiviral_meds      0\n",
       "behavioral_avoidance           0\n",
       "behavioral_face_mask           0\n",
       "behavioral_wash_hands          0\n",
       "behavioral_large_gatherings    0\n",
       "behavioral_outside_home        0\n",
       "behavioral_touch_face          0\n",
       "doctor_recc_h1n1               0\n",
       "chronic_med_condition          0\n",
       "child_under_6_months           0\n",
       "health_worker                  0\n",
       "opinion_h1n1_vacc_effective    0\n",
       "opinion_h1n1_risk              0\n",
       "opinion_h1n1_sick_from_vacc    0\n",
       "age_group                      0\n",
       "education                      0\n",
       "race                           0\n",
       "sex                            0\n",
       "income_poverty                 0\n",
       "marital_status                 0\n",
       "rent_or_own                    0\n",
       "employment_status              0\n",
       "hhs_geo_region                 0\n",
       "census_msa                     0\n",
       "household_adults               0\n",
       "household_children             0\n",
       "h1n1_vaccine                   0\n",
       "dtype: int64"
      ]
     },
     "execution_count": 100,
     "metadata": {},
     "output_type": "execute_result"
    }
   ],
   "source": [
    "# Drop the remaining null values from the dataset\n",
    "h1n1_df.dropna(inplace=True)\n",
    "h1n1_df.isna().sum()"
   ]
  },
  {
   "cell_type": "markdown",
   "metadata": {},
   "source": [
    "## Split our Data"
   ]
  },
  {
   "cell_type": "markdown",
   "metadata": {},
   "source": [
    "Now that we have taken care of our null values, we can split our data into features and labels for our train test split."
   ]
  },
  {
   "cell_type": "code",
   "execution_count": 101,
   "metadata": {
    "ExecuteTime": {
     "end_time": "2022-05-17T18:31:49.922792Z",
     "start_time": "2022-05-17T18:31:49.908970Z"
    }
   },
   "outputs": [],
   "source": [
    "# Create features and labels\n",
    "h1n1_features = h1n1_df.drop('h1n1_vaccine', axis=1)\n",
    "h1n1_labels = h1n1_df['h1n1_vaccine']"
   ]
  },
  {
   "cell_type": "code",
   "execution_count": 102,
   "metadata": {
    "ExecuteTime": {
     "end_time": "2022-05-17T18:31:50.188227Z",
     "start_time": "2022-05-17T18:31:50.167765Z"
    }
   },
   "outputs": [],
   "source": [
    "# Perform a train test split\n",
    "X_train, X_test, y_train, y_test = train_test_split(h1n1_features,\n",
    "                                                   h1n1_labels,\n",
    "                                                   test_size=.25,\n",
    "                                                   random_state=42)"
   ]
  },
  {
   "cell_type": "markdown",
   "metadata": {},
   "source": [
    "## Encoding Categorical Columns"
   ]
  },
  {
   "cell_type": "markdown",
   "metadata": {},
   "source": [
    "Before we can use this data to create models, we need all of our data values to be numeric.  We will use a OneHotEncoder to achieve this."
   ]
  },
  {
   "cell_type": "code",
   "execution_count": 103,
   "metadata": {
    "ExecuteTime": {
     "end_time": "2022-05-17T18:31:51.001278Z",
     "start_time": "2022-05-17T18:31:50.968639Z"
    }
   },
   "outputs": [
    {
     "name": "stdout",
     "output_type": "stream",
     "text": [
      "<class 'pandas.core.frame.DataFrame'>\n",
      "Int64Index: 18621 entries, 18434 to 25446\n",
      "Data columns (total 28 columns):\n",
      " #   Column                       Non-Null Count  Dtype  \n",
      "---  ------                       --------------  -----  \n",
      " 0   h1n1_concern                 18621 non-null  float64\n",
      " 1   h1n1_knowledge               18621 non-null  float64\n",
      " 2   behavioral_antiviral_meds    18621 non-null  float64\n",
      " 3   behavioral_avoidance         18621 non-null  float64\n",
      " 4   behavioral_face_mask         18621 non-null  float64\n",
      " 5   behavioral_wash_hands        18621 non-null  float64\n",
      " 6   behavioral_large_gatherings  18621 non-null  float64\n",
      " 7   behavioral_outside_home      18621 non-null  float64\n",
      " 8   behavioral_touch_face        18621 non-null  float64\n",
      " 9   doctor_recc_h1n1             18621 non-null  object \n",
      " 10  chronic_med_condition        18621 non-null  float64\n",
      " 11  child_under_6_months         18621 non-null  float64\n",
      " 12  health_worker                18621 non-null  float64\n",
      " 13  opinion_h1n1_vacc_effective  18621 non-null  float64\n",
      " 14  opinion_h1n1_risk            18621 non-null  float64\n",
      " 15  opinion_h1n1_sick_from_vacc  18621 non-null  float64\n",
      " 16  age_group                    18621 non-null  object \n",
      " 17  education                    18621 non-null  object \n",
      " 18  race                         18621 non-null  object \n",
      " 19  sex                          18621 non-null  object \n",
      " 20  income_poverty               18621 non-null  object \n",
      " 21  marital_status               18621 non-null  object \n",
      " 22  rent_or_own                  18621 non-null  object \n",
      " 23  employment_status            18621 non-null  object \n",
      " 24  hhs_geo_region               18621 non-null  object \n",
      " 25  census_msa                   18621 non-null  object \n",
      " 26  household_adults             18621 non-null  float64\n",
      " 27  household_children           18621 non-null  float64\n",
      "dtypes: float64(17), object(11)\n",
      "memory usage: 4.1+ MB\n"
     ]
    }
   ],
   "source": [
    "# Check for categorical columns\n",
    "X_train.info()"
   ]
  },
  {
   "cell_type": "code",
   "execution_count": 104,
   "metadata": {
    "ExecuteTime": {
     "end_time": "2022-05-17T18:31:51.270048Z",
     "start_time": "2022-05-17T18:31:51.265440Z"
    }
   },
   "outputs": [],
   "source": [
    "# Create a list of categoricals\n",
    "categoricals = ['age_group',\n",
    "               'education',\n",
    "               'sex',\n",
    "               'income_poverty',\n",
    "               'marital_status',\n",
    "               'rent_or_own',\n",
    "               'employment_status',\n",
    "               'hhs_geo_region',\n",
    "               'census_msa',\n",
    "               'race',\n",
    "               'doctor_recc_h1n1']"
   ]
  },
  {
   "cell_type": "code",
   "execution_count": 105,
   "metadata": {
    "ExecuteTime": {
     "end_time": "2022-05-17T18:31:51.611126Z",
     "start_time": "2022-05-17T18:31:51.522962Z"
    }
   },
   "outputs": [],
   "source": [
    "# Use One Hot Encode to transform categorical columns\n",
    "ohe = OneHotEncoder()\n",
    "ohe.fit(X_train[categoricals])\n",
    "X_train_ohe = ohe.transform(X_train[categoricals]).toarray()\n",
    "X_train_ohe_df = pd.DataFrame(X_train_ohe, columns = ohe.get_feature_names(categoricals), index = X_train.index)"
   ]
  },
  {
   "cell_type": "code",
   "execution_count": 106,
   "metadata": {
    "ExecuteTime": {
     "end_time": "2022-05-17T18:31:51.796681Z",
     "start_time": "2022-05-17T18:31:51.781202Z"
    }
   },
   "outputs": [],
   "source": [
    "# Create a new dataframe\n",
    "X_train_numerical = X_train.drop(categoricals, axis=1)\n",
    "X_train_final = pd.concat([X_train_ohe_df, X_train_numerical], axis=1)"
   ]
  },
  {
   "cell_type": "code",
   "execution_count": 107,
   "metadata": {
    "ExecuteTime": {
     "end_time": "2022-05-17T18:31:52.092818Z",
     "start_time": "2022-05-17T18:31:52.066391Z"
    }
   },
   "outputs": [
    {
     "name": "stdout",
     "output_type": "stream",
     "text": [
      "<class 'pandas.core.frame.DataFrame'>\n",
      "Int64Index: 18621 entries, 18434 to 25446\n",
      "Data columns (total 63 columns):\n",
      " #   Column                                    Non-Null Count  Dtype  \n",
      "---  ------                                    --------------  -----  \n",
      " 0   age_group_18 - 34 Years                   18621 non-null  float64\n",
      " 1   age_group_35 - 44 Years                   18621 non-null  float64\n",
      " 2   age_group_45 - 54 Years                   18621 non-null  float64\n",
      " 3   age_group_55 - 64 Years                   18621 non-null  float64\n",
      " 4   age_group_65+ Years                       18621 non-null  float64\n",
      " 5   education_12 Years                        18621 non-null  float64\n",
      " 6   education_< 12 Years                      18621 non-null  float64\n",
      " 7   education_College Graduate                18621 non-null  float64\n",
      " 8   education_Some College                    18621 non-null  float64\n",
      " 9   education_unknown                         18621 non-null  float64\n",
      " 10  sex_Female                                18621 non-null  float64\n",
      " 11  sex_Male                                  18621 non-null  float64\n",
      " 12  income_poverty_<= $75,000, Above Poverty  18621 non-null  float64\n",
      " 13  income_poverty_> $75,000                  18621 non-null  float64\n",
      " 14  income_poverty_Below Poverty              18621 non-null  float64\n",
      " 15  income_poverty_unknown                    18621 non-null  float64\n",
      " 16  marital_status_Married                    18621 non-null  float64\n",
      " 17  marital_status_Not Married                18621 non-null  float64\n",
      " 18  marital_status_unknown                    18621 non-null  float64\n",
      " 19  rent_or_own_Own                           18621 non-null  float64\n",
      " 20  rent_or_own_Rent                          18621 non-null  float64\n",
      " 21  rent_or_own_unknown                       18621 non-null  float64\n",
      " 22  employment_status_Employed                18621 non-null  float64\n",
      " 23  employment_status_Not in Labor Force      18621 non-null  float64\n",
      " 24  employment_status_Unemployed              18621 non-null  float64\n",
      " 25  employment_status_unknown                 18621 non-null  float64\n",
      " 26  hhs_geo_region_atmpeygn                   18621 non-null  float64\n",
      " 27  hhs_geo_region_bhuqouqj                   18621 non-null  float64\n",
      " 28  hhs_geo_region_dqpwygqj                   18621 non-null  float64\n",
      " 29  hhs_geo_region_fpwskwrf                   18621 non-null  float64\n",
      " 30  hhs_geo_region_kbazzjca                   18621 non-null  float64\n",
      " 31  hhs_geo_region_lrircsnp                   18621 non-null  float64\n",
      " 32  hhs_geo_region_lzgpxyit                   18621 non-null  float64\n",
      " 33  hhs_geo_region_mlyzmhmf                   18621 non-null  float64\n",
      " 34  hhs_geo_region_oxchjgsf                   18621 non-null  float64\n",
      " 35  hhs_geo_region_qufhixun                   18621 non-null  float64\n",
      " 36  census_msa_MSA, Not Principle  City       18621 non-null  float64\n",
      " 37  census_msa_MSA, Principle City            18621 non-null  float64\n",
      " 38  census_msa_Non-MSA                        18621 non-null  float64\n",
      " 39  race_Black                                18621 non-null  float64\n",
      " 40  race_Hispanic                             18621 non-null  float64\n",
      " 41  race_Other or Multiple                    18621 non-null  float64\n",
      " 42  race_White                                18621 non-null  float64\n",
      " 43  doctor_recc_h1n1_No                       18621 non-null  float64\n",
      " 44  doctor_recc_h1n1_Yes                      18621 non-null  float64\n",
      " 45  doctor_recc_h1n1_unknown                  18621 non-null  float64\n",
      " 46  h1n1_concern                              18621 non-null  float64\n",
      " 47  h1n1_knowledge                            18621 non-null  float64\n",
      " 48  behavioral_antiviral_meds                 18621 non-null  float64\n",
      " 49  behavioral_avoidance                      18621 non-null  float64\n",
      " 50  behavioral_face_mask                      18621 non-null  float64\n",
      " 51  behavioral_wash_hands                     18621 non-null  float64\n",
      " 52  behavioral_large_gatherings               18621 non-null  float64\n",
      " 53  behavioral_outside_home                   18621 non-null  float64\n",
      " 54  behavioral_touch_face                     18621 non-null  float64\n",
      " 55  chronic_med_condition                     18621 non-null  float64\n",
      " 56  child_under_6_months                      18621 non-null  float64\n",
      " 57  health_worker                             18621 non-null  float64\n",
      " 58  opinion_h1n1_vacc_effective               18621 non-null  float64\n",
      " 59  opinion_h1n1_risk                         18621 non-null  float64\n",
      " 60  opinion_h1n1_sick_from_vacc               18621 non-null  float64\n",
      " 61  household_adults                          18621 non-null  float64\n",
      " 62  household_children                        18621 non-null  float64\n",
      "dtypes: float64(63)\n",
      "memory usage: 9.1 MB\n"
     ]
    }
   ],
   "source": [
    "# Check that all our columns are in numerical format\n",
    "X_train_final.info()"
   ]
  },
  {
   "cell_type": "markdown",
   "metadata": {},
   "source": [
    "There are many column names that now include spaces or odd numbers because of our One Hot Encoding.  We will rename these columns in order to be able to use them in our models."
   ]
  },
  {
   "cell_type": "code",
   "execution_count": 108,
   "metadata": {
    "ExecuteTime": {
     "end_time": "2022-05-17T18:31:52.493214Z",
     "start_time": "2022-05-17T18:31:52.482379Z"
    }
   },
   "outputs": [],
   "source": [
    "# Rename unconventional column names\n",
    "X_train_final.rename(columns = {'age_group_18 - 34 Years' : 'age_group_18_34',\n",
    "                            'age_group_35 - 44 Years' : 'age_group_35_44',\n",
    "                            'age_group_45 - 54 Years' : 'age_group_45_54',\n",
    "                            'age_group_55 - 64 Years' : 'age_group_55_64',\n",
    "                            'age_group_65+ Years' : 'age_group_over_65',\n",
    "                            'education_12 Years' : 'education_12_years',\n",
    "                            'education_< 12 Years' : 'education_less_than_12',\n",
    "                            'education_College Graduate' : 'education_college_grad',\n",
    "                            'education_Some College': 'education_some_college',\n",
    "                            'race_Other or Multiple' : 'race_other',\n",
    "                            'income_poverty_<= $75,000, Above Poverty' : 'income_poverty_lessorequal_75k',\n",
    "                            'income_poverty_> $75,000' : 'income_poverty_morethan_75k',\n",
    "                            'income_poverty_Below Poverty' : 'income_poverty_below_poverty',\n",
    "                            'marital_status_Not Married': 'marital_status_Unmarried',\n",
    "                            'employment_status_Not in Labor Force' : 'employment_status_not_in_labor_force',\n",
    "                            'census_msa_MSA, Not Principle  City' : 'census_msa_not_in_principle',\n",
    "                            'census_msa_MSA, Principle City' : 'census_msa_in_principle',\n",
    "                            'census_msa_Non-MSA' : 'census_msa_non_msa'},\n",
    "                 inplace=True)"
   ]
  },
  {
   "cell_type": "code",
   "execution_count": 109,
   "metadata": {
    "ExecuteTime": {
     "end_time": "2022-05-17T18:31:53.022955Z",
     "start_time": "2022-05-17T18:31:52.981822Z"
    }
   },
   "outputs": [],
   "source": [
    "# One Hot Encode the test data\n",
    "X_test_ohe = ohe.transform(X_test[categoricals]).toarray()\n",
    "X_test_ohe_df = pd.DataFrame(X_test_ohe, columns = ohe.get_feature_names(categoricals), index = X_test.index)"
   ]
  },
  {
   "cell_type": "code",
   "execution_count": 110,
   "metadata": {
    "ExecuteTime": {
     "end_time": "2022-05-17T18:31:53.308801Z",
     "start_time": "2022-05-17T18:31:53.300287Z"
    }
   },
   "outputs": [],
   "source": [
    "# Create a final test dataframe\n",
    "X_test.drop(categoricals, axis=1, inplace=True)\n",
    "X_test_final = pd.concat([X_test_ohe_df, X_test], axis=1)"
   ]
  },
  {
   "cell_type": "code",
   "execution_count": 111,
   "metadata": {
    "ExecuteTime": {
     "end_time": "2022-05-17T18:31:53.756451Z",
     "start_time": "2022-05-17T18:31:53.747108Z"
    }
   },
   "outputs": [],
   "source": [
    "# Rename unconventional columns\n",
    "X_test_final.rename(columns = {'age_group_18 - 34 Years' : 'age_group_18_34',\n",
    "                            'age_group_35 - 44 Years' : 'age_group_35_44',\n",
    "                            'age_group_45 - 54 Years' : 'age_group_45_54',\n",
    "                            'age_group_55 - 64 Years' : 'age_group_55_64',\n",
    "                            'age_group_65+ Years' : 'age_group_over_65',\n",
    "                            'education_12 Years' : 'education_12_years',\n",
    "                            'education_< 12 Years' : 'education_less_than_12',\n",
    "                            'education_College Graduate' : 'education_college_grad',\n",
    "                            'education_Some College': 'education_some_college',\n",
    "                            'race_Other or Multiple' : 'race_other',\n",
    "                            'income_poverty_<= $75,000, Above Poverty' : 'income_poverty_lessorequal_75k',\n",
    "                            'income_poverty_> $75,000' : 'income_poverty_morethan_75k',\n",
    "                            'income_poverty_Below Poverty' : 'income_poverty_below_poverty',\n",
    "                            'marital_status_Not Married': 'marital_status_Unmarried',\n",
    "                            'employment_status_Not in Labor Force' : 'employment_status_not_in_labor_force',\n",
    "                            'census_msa_MSA, Not Principle  City' : 'census_msa_not_in_principle',\n",
    "                            'census_msa_MSA, Principle City' : 'census_msa_in_principle',\n",
    "                            'census_msa_Non-MSA' : 'census_msa_non_msa'},\n",
    "                 inplace=True)"
   ]
  },
  {
   "cell_type": "markdown",
   "metadata": {},
   "source": [
    "## Class Imbalance"
   ]
  },
  {
   "cell_type": "markdown",
   "metadata": {},
   "source": [
    "As we noted earlier, this dataset has a significant class imbalance.  In order to get the best model results, we will use SMOTE to adjust our training dataset."
   ]
  },
  {
   "cell_type": "code",
   "execution_count": 112,
   "metadata": {
    "ExecuteTime": {
     "end_time": "2022-05-17T18:31:55.205913Z",
     "start_time": "2022-05-17T18:31:55.197979Z"
    }
   },
   "outputs": [
    {
     "data": {
      "text/plain": [
       "0    14615\n",
       "1     4006\n",
       "Name: h1n1_vaccine, dtype: int64"
      ]
     },
     "execution_count": 112,
     "metadata": {},
     "output_type": "execute_result"
    }
   ],
   "source": [
    "# Check our current label values\n",
    "y_train.value_counts()"
   ]
  },
  {
   "cell_type": "code",
   "execution_count": 113,
   "metadata": {
    "ExecuteTime": {
     "end_time": "2022-05-17T18:31:56.413751Z",
     "start_time": "2022-05-17T18:31:55.473204Z"
    }
   },
   "outputs": [],
   "source": [
    "# Perform SMOTE to combat class imbalance\n",
    "smote = SMOTE(random_state=42)\n",
    "X_train_resampled, y_train_resampled = smote.fit_sample(X_train_final, y_train)"
   ]
  },
  {
   "cell_type": "code",
   "execution_count": 114,
   "metadata": {
    "ExecuteTime": {
     "end_time": "2022-05-17T18:31:56.417724Z",
     "start_time": "2022-05-17T18:31:56.414855Z"
    }
   },
   "outputs": [
    {
     "data": {
      "text/plain": [
       "1    14615\n",
       "0    14615\n",
       "Name: h1n1_vaccine, dtype: int64"
      ]
     },
     "execution_count": 114,
     "metadata": {},
     "output_type": "execute_result"
    }
   ],
   "source": [
    "# Check our new label values\n",
    "y_train_resampled.value_counts()"
   ]
  },
  {
   "cell_type": "markdown",
   "metadata": {},
   "source": [
    "Now that our data is cleaned, we will begin making models."
   ]
  },
  {
   "cell_type": "markdown",
   "metadata": {},
   "source": [
    "# Models"
   ]
  },
  {
   "cell_type": "markdown",
   "metadata": {},
   "source": [
    "For our baseline model, we will use a Decision Stump.  After finding our baseline scores, we will then move on to more advanced models to improve our scores."
   ]
  },
  {
   "cell_type": "markdown",
   "metadata": {},
   "source": [
    "## Baseline Model"
   ]
  },
  {
   "cell_type": "markdown",
   "metadata": {},
   "source": [
    "Our baseline model is a Decision Stump.  This model uses the Decision Tree Classifier, but with a very small max depth (three)."
   ]
  },
  {
   "cell_type": "code",
   "execution_count": 29,
   "metadata": {
    "ExecuteTime": {
     "end_time": "2022-05-17T17:29:32.728213Z",
     "start_time": "2022-05-17T17:29:32.622551Z"
    }
   },
   "outputs": [
    {
     "data": {
      "text/plain": [
       "DecisionTreeClassifier(max_depth=3, random_state=42)"
      ]
     },
     "execution_count": 29,
     "metadata": {},
     "output_type": "execute_result"
    }
   ],
   "source": [
    "# Create a basic decision stump model\n",
    "clf = DecisionTreeClassifier(random_state=42, max_depth=3)\n",
    "clf.fit(X_train_resampled, y_train_resampled)"
   ]
  },
  {
   "cell_type": "code",
   "execution_count": 30,
   "metadata": {
    "ExecuteTime": {
     "end_time": "2022-05-17T17:29:33.067832Z",
     "start_time": "2022-05-17T17:29:32.995802Z"
    }
   },
   "outputs": [
    {
     "name": "stdout",
     "output_type": "stream",
     "text": [
      "Decision Stump Model Training Scores: \n",
      "               precision    recall  f1-score   support\n",
      "\n",
      "           0       0.71      0.88      0.79     14615\n",
      "           1       0.84      0.64      0.73     14615\n",
      "\n",
      "    accuracy                           0.76     29230\n",
      "   macro avg       0.78      0.76      0.76     29230\n",
      "weighted avg       0.78      0.76      0.76     29230\n",
      "\n",
      "Decision Stump Model Test Scores: \n",
      "               precision    recall  f1-score   support\n",
      "\n",
      "           0       0.87      0.88      0.88      4898\n",
      "           1       0.54      0.53      0.53      1309\n",
      "\n",
      "    accuracy                           0.80      6207\n",
      "   macro avg       0.71      0.70      0.70      6207\n",
      "weighted avg       0.80      0.80      0.80      6207\n",
      "\n"
     ]
    }
   ],
   "source": [
    "print('Decision Stump Model Training Scores: \\n', \n",
    "      classification_report(y_train_resampled, clf.predict(X_train_resampled)))\n",
    "print('Decision Stump Model Test Scores: \\n', \n",
    "      classification_report(y_test, clf.predict(X_test_final)))"
   ]
  },
  {
   "cell_type": "markdown",
   "metadata": {},
   "source": [
    "Overall, this model did not perform terribly, but we will try to improve it by tuning it's parameters."
   ]
  },
  {
   "cell_type": "markdown",
   "metadata": {},
   "source": [
    "## Tuned Decision Tree"
   ]
  },
  {
   "cell_type": "code",
   "execution_count": 31,
   "metadata": {
    "ExecuteTime": {
     "end_time": "2022-05-17T17:29:39.401764Z",
     "start_time": "2022-05-17T17:29:34.078692Z"
    }
   },
   "outputs": [
    {
     "data": {
      "text/plain": [
       "GridSearchCV(cv=3,\n",
       "             estimator=DecisionTreeClassifier(max_depth=3, random_state=42),\n",
       "             param_grid={'criterion': ['gini', 'entropy'],\n",
       "                         'max_depth': [1, 2, 5, 10],\n",
       "                         'min_samples_split': [2, 3, 10, 20]})"
      ]
     },
     "execution_count": 31,
     "metadata": {},
     "output_type": "execute_result"
    }
   ],
   "source": [
    "# Create a parameter grid and perform a grid search\n",
    "param_grid = {'criterion': ['gini', 'entropy'],\n",
    "             'max_depth' : [1, 2, 5, 10],\n",
    "             'min_samples_split' : [2, 3, 10, 20]}\n",
    "\n",
    "gs_tree = GridSearchCV(clf, param_grid, cv=3)\n",
    "gs_tree.fit(X_train_resampled, y_train_resampled)"
   ]
  },
  {
   "cell_type": "code",
   "execution_count": 32,
   "metadata": {
    "ExecuteTime": {
     "end_time": "2022-05-17T17:29:40.515184Z",
     "start_time": "2022-05-17T17:29:40.510083Z"
    }
   },
   "outputs": [
    {
     "data": {
      "text/plain": [
       "{'criterion': 'gini', 'max_depth': 10, 'min_samples_split': 3}"
      ]
     },
     "execution_count": 32,
     "metadata": {},
     "output_type": "execute_result"
    }
   ],
   "source": [
    "# Find the best parameters\n",
    "gs_tree.best_params_"
   ]
  },
  {
   "cell_type": "markdown",
   "metadata": {},
   "source": [
    "Our best max depth is the value that was the highest in our parameter search.  Let's try one more search to make sure that that is the optimum value."
   ]
  },
  {
   "cell_type": "code",
   "execution_count": 33,
   "metadata": {
    "ExecuteTime": {
     "end_time": "2022-05-17T17:29:42.255610Z",
     "start_time": "2022-05-17T17:29:40.984936Z"
    }
   },
   "outputs": [
    {
     "data": {
      "text/plain": [
       "GridSearchCV(cv=3,\n",
       "             estimator=DecisionTreeClassifier(max_depth=3, random_state=42),\n",
       "             param_grid={'criterion': ['gini'], 'max_depth': [10, 15, 20],\n",
       "                         'min_samples_split': [3]})"
      ]
     },
     "execution_count": 33,
     "metadata": {},
     "output_type": "execute_result"
    }
   ],
   "source": [
    "# Create second parameter grid and grid search\n",
    "param_grid_2 = {'criterion' : ['gini'],\n",
    "               'max_depth' : [10, 15, 20],\n",
    "               'min_samples_split' : [3]}\n",
    "\n",
    "gs_tree_2 = GridSearchCV(clf, param_grid_2, cv=3)\n",
    "gs_tree_2.fit(X_train_resampled, y_train_resampled)"
   ]
  },
  {
   "cell_type": "code",
   "execution_count": 34,
   "metadata": {
    "ExecuteTime": {
     "end_time": "2022-05-17T17:29:43.207575Z",
     "start_time": "2022-05-17T17:29:43.202534Z"
    }
   },
   "outputs": [
    {
     "data": {
      "text/plain": [
       "{'criterion': 'gini', 'max_depth': 10, 'min_samples_split': 3}"
      ]
     },
     "execution_count": 34,
     "metadata": {},
     "output_type": "execute_result"
    }
   ],
   "source": [
    "gs_tree_2.best_params_"
   ]
  },
  {
   "cell_type": "code",
   "execution_count": 35,
   "metadata": {
    "ExecuteTime": {
     "end_time": "2022-05-17T17:29:44.311057Z",
     "start_time": "2022-05-17T17:29:44.126891Z"
    }
   },
   "outputs": [
    {
     "data": {
      "text/plain": [
       "DecisionTreeClassifier(max_depth=10, min_samples_split=3, random_state=42)"
      ]
     },
     "execution_count": 35,
     "metadata": {},
     "output_type": "execute_result"
    }
   ],
   "source": [
    "# Create a decision tree model with the best parameters\n",
    "clf_2 = DecisionTreeClassifier(random_state=42, \n",
    "                               criterion = 'gini', \n",
    "                               min_samples_split = 3, \n",
    "                               max_depth = 10)\n",
    "clf_2.fit(X_train_resampled, y_train_resampled)"
   ]
  },
  {
   "cell_type": "code",
   "execution_count": 36,
   "metadata": {
    "ExecuteTime": {
     "end_time": "2022-05-17T17:29:49.676507Z",
     "start_time": "2022-05-17T17:29:49.568637Z"
    },
    "scrolled": true
   },
   "outputs": [
    {
     "name": "stdout",
     "output_type": "stream",
     "text": [
      "Decision Stump Model Training Scores: \n",
      "               precision    recall  f1-score   support\n",
      "\n",
      "           0       0.71      0.88      0.79     14615\n",
      "           1       0.84      0.64      0.73     14615\n",
      "\n",
      "    accuracy                           0.76     29230\n",
      "   macro avg       0.78      0.76      0.76     29230\n",
      "weighted avg       0.78      0.76      0.76     29230\n",
      "\n",
      "Decision Stump Model Test Scores: \n",
      "               precision    recall  f1-score   support\n",
      "\n",
      "           0       0.87      0.88      0.88      4898\n",
      "           1       0.54      0.53      0.53      1309\n",
      "\n",
      "    accuracy                           0.80      6207\n",
      "   macro avg       0.71      0.70      0.70      6207\n",
      "weighted avg       0.80      0.80      0.80      6207\n",
      "\n",
      "Decision Tree Model Training Scores: \n",
      "               precision    recall  f1-score   support\n",
      "\n",
      "           0       0.84      0.90      0.87     14615\n",
      "           1       0.90      0.83      0.86     14615\n",
      "\n",
      "    accuracy                           0.87     29230\n",
      "   macro avg       0.87      0.87      0.87     29230\n",
      "weighted avg       0.87      0.87      0.87     29230\n",
      "\n",
      "Decision Tree Model Test Scores: \n",
      "               precision    recall  f1-score   support\n",
      "\n",
      "           0       0.88      0.88      0.88      4898\n",
      "           1       0.55      0.55      0.55      1309\n",
      "\n",
      "    accuracy                           0.81      6207\n",
      "   macro avg       0.72      0.71      0.72      6207\n",
      "weighted avg       0.81      0.81      0.81      6207\n",
      "\n"
     ]
    }
   ],
   "source": [
    "print('Decision Stump Model Training Scores: \\n', \n",
    "      classification_report(y_train_resampled, clf.predict(X_train_resampled)))\n",
    "print('Decision Stump Model Test Scores: \\n', \n",
    "      classification_report(y_test, clf.predict(X_test_final)))\n",
    "print('Decision Tree Model Training Scores: \\n',\n",
    "     classification_report(y_train_resampled, clf_2.predict(X_train_resampled)))\n",
    "print('Decision Tree Model Test Scores: \\n',\n",
    "     classification_report(y_test, clf_2.predict(X_test_final)))"
   ]
  },
  {
   "cell_type": "markdown",
   "metadata": {},
   "source": [
    "By tuning our decision tree model, we increased our accuracy from 76% to 87% for the training data and from 80% to 81% for the test data.  Since there was a much larger jump in accuracy for the training data, this could imply that we are starting to overfit our data."
   ]
  },
  {
   "cell_type": "markdown",
   "metadata": {},
   "source": [
    "## Random Forests"
   ]
  },
  {
   "cell_type": "markdown",
   "metadata": {},
   "source": [
    "The next model type we will try is Random Forests.  Since this model uses multiple trees, instead of only one like the Decision Tree model, it should be more accurate."
   ]
  },
  {
   "cell_type": "code",
   "execution_count": 37,
   "metadata": {
    "ExecuteTime": {
     "end_time": "2022-05-17T17:29:53.094166Z",
     "start_time": "2022-05-17T17:29:50.676381Z"
    }
   },
   "outputs": [
    {
     "data": {
      "text/plain": [
       "RandomForestClassifier(random_state=42)"
      ]
     },
     "execution_count": 37,
     "metadata": {},
     "output_type": "execute_result"
    }
   ],
   "source": [
    "# Create a basic random forest model\n",
    "forest = RandomForestClassifier(random_state=42)\n",
    "forest.fit(X_train_resampled, y_train_resampled)"
   ]
  },
  {
   "cell_type": "code",
   "execution_count": 38,
   "metadata": {
    "ExecuteTime": {
     "end_time": "2022-05-17T17:29:53.618005Z",
     "start_time": "2022-05-17T17:29:53.095186Z"
    }
   },
   "outputs": [
    {
     "name": "stdout",
     "output_type": "stream",
     "text": [
      "Random Forests Model Training Scores: \n",
      "               precision    recall  f1-score   support\n",
      "\n",
      "           0       1.00      1.00      1.00     14615\n",
      "           1       1.00      1.00      1.00     14615\n",
      "\n",
      "    accuracy                           1.00     29230\n",
      "   macro avg       1.00      1.00      1.00     29230\n",
      "weighted avg       1.00      1.00      1.00     29230\n",
      "\n",
      "Random Forests Model Test Scores: \n",
      "               precision    recall  f1-score   support\n",
      "\n",
      "           0       0.87      0.93      0.90      4898\n",
      "           1       0.65      0.46      0.54      1309\n",
      "\n",
      "    accuracy                           0.83      6207\n",
      "   macro avg       0.76      0.69      0.72      6207\n",
      "weighted avg       0.82      0.83      0.82      6207\n",
      "\n"
     ]
    }
   ],
   "source": [
    "print('Random Forests Model Training Scores: \\n',\n",
    "     classification_report(y_train_resampled, forest.predict(X_train_resampled)))\n",
    "print('Random Forests Model Test Scores: \\n',\n",
    "     classification_report(y_test, forest.predict(X_test_final)))"
   ]
  },
  {
   "cell_type": "markdown",
   "metadata": {},
   "source": [
    "This base model is very highly overfit!  The training scores are all 100%.  Our next step is to tune this model to see if that helps our overfitting problem."
   ]
  },
  {
   "cell_type": "code",
   "execution_count": 39,
   "metadata": {
    "ExecuteTime": {
     "end_time": "2022-05-17T17:34:32.177883Z",
     "start_time": "2022-05-17T17:29:54.468333Z"
    }
   },
   "outputs": [
    {
     "data": {
      "text/plain": [
       "GridSearchCV(cv=3, estimator=RandomForestClassifier(random_state=42),\n",
       "             param_grid={'criterion': ['gini', 'entropy'],\n",
       "                         'max_depth': [2, 5, 10, 20],\n",
       "                         'min_samples_split': [2, 5, 10, 20],\n",
       "                         'n_estimators': [50, 100, 150]})"
      ]
     },
     "execution_count": 39,
     "metadata": {},
     "output_type": "execute_result"
    }
   ],
   "source": [
    "# Create a parameter grid and perform a grid search\n",
    "forest_param_grid = {'n_estimators' : [50, 100, 150],\n",
    "                    'criterion' : ['gini', 'entropy'],\n",
    "                    'max_depth' : [2, 5, 10, 20],\n",
    "                    'min_samples_split' : [2, 5, 10, 20]}\n",
    "\n",
    "forest_gs = GridSearchCV(forest, forest_param_grid, cv=3)\n",
    "forest_gs.fit(X_train_resampled, y_train_resampled)"
   ]
  },
  {
   "cell_type": "code",
   "execution_count": 40,
   "metadata": {
    "ExecuteTime": {
     "end_time": "2022-05-17T17:35:02.020995Z",
     "start_time": "2022-05-17T17:35:02.016236Z"
    }
   },
   "outputs": [
    {
     "data": {
      "text/plain": [
       "{'criterion': 'gini',\n",
       " 'max_depth': 20,\n",
       " 'min_samples_split': 2,\n",
       " 'n_estimators': 150}"
      ]
     },
     "execution_count": 40,
     "metadata": {},
     "output_type": "execute_result"
    }
   ],
   "source": [
    "# Find the best parameters\n",
    "forest_gs.best_params_"
   ]
  },
  {
   "cell_type": "code",
   "execution_count": 41,
   "metadata": {
    "ExecuteTime": {
     "end_time": "2022-05-17T17:35:10.273884Z",
     "start_time": "2022-05-17T17:35:06.846617Z"
    }
   },
   "outputs": [
    {
     "data": {
      "text/plain": [
       "RandomForestClassifier(max_depth=20, n_estimators=150, random_state=42)"
      ]
     },
     "execution_count": 41,
     "metadata": {},
     "output_type": "execute_result"
    }
   ],
   "source": [
    "# Create a second model with the best parameters\n",
    "forest_2 = RandomForestClassifier(random_state=42, \n",
    "                                  criterion='gini', \n",
    "                                  max_depth=20, \n",
    "                                  min_samples_split=2, \n",
    "                                  n_estimators=150)\n",
    "forest_2.fit(X_train_resampled, y_train_resampled)"
   ]
  },
  {
   "cell_type": "code",
   "execution_count": 42,
   "metadata": {
    "ExecuteTime": {
     "end_time": "2022-05-17T17:35:10.990398Z",
     "start_time": "2022-05-17T17:35:10.274924Z"
    }
   },
   "outputs": [
    {
     "name": "stdout",
     "output_type": "stream",
     "text": [
      "Second Random Forests Model Training Scores: \n",
      "               precision    recall  f1-score   support\n",
      "\n",
      "           0       0.98      0.99      0.99     14615\n",
      "           1       0.99      0.98      0.99     14615\n",
      "\n",
      "    accuracy                           0.99     29230\n",
      "   macro avg       0.99      0.99      0.99     29230\n",
      "weighted avg       0.99      0.99      0.99     29230\n",
      "\n",
      "Second Random Forests Model Test Scores: \n",
      "               precision    recall  f1-score   support\n",
      "\n",
      "           0       0.87      0.93      0.90      4898\n",
      "           1       0.64      0.47      0.54      1309\n",
      "\n",
      "    accuracy                           0.83      6207\n",
      "   macro avg       0.75      0.70      0.72      6207\n",
      "weighted avg       0.82      0.83      0.82      6207\n",
      "\n"
     ]
    }
   ],
   "source": [
    "print('Second Random Forests Model Training Scores: \\n',\n",
    "     classification_report(y_train_resampled, forest_2.predict(X_train_resampled)))\n",
    "print('Second Random Forests Model Test Scores: \\n',\n",
    "     classification_report(y_test, forest_2.predict(X_test_final)))"
   ]
  },
  {
   "cell_type": "markdown",
   "metadata": {},
   "source": [
    "Our second model is slightly better, but still overfitting to the training data.  In order to help solve this problem, we will decrease our max depth and increase both the number of estimators (more trees) and min samples split."
   ]
  },
  {
   "cell_type": "code",
   "execution_count": 43,
   "metadata": {
    "ExecuteTime": {
     "end_time": "2022-05-17T17:35:21.431590Z",
     "start_time": "2022-05-17T17:35:17.654767Z"
    }
   },
   "outputs": [
    {
     "data": {
      "text/plain": [
       "RandomForestClassifier(max_depth=15, min_samples_split=15, n_estimators=200,\n",
       "                       random_state=42)"
      ]
     },
     "execution_count": 43,
     "metadata": {},
     "output_type": "execute_result"
    }
   ],
   "source": [
    "# Decrease our max depth\n",
    "# Increase our number of estimators and min samples split\n",
    "forest_3 = RandomForestClassifier(random_state=42, \n",
    "                                  max_depth=15, \n",
    "                                  n_estimators=200, \n",
    "                                  min_samples_split=15)\n",
    "forest_3.fit(X_train_resampled, y_train_resampled)"
   ]
  },
  {
   "cell_type": "code",
   "execution_count": 44,
   "metadata": {
    "ExecuteTime": {
     "end_time": "2022-05-17T17:35:22.184130Z",
     "start_time": "2022-05-17T17:35:21.432654Z"
    }
   },
   "outputs": [
    {
     "name": "stdout",
     "output_type": "stream",
     "text": [
      "Third Random Forests Model Training Scores: \n",
      "               precision    recall  f1-score   support\n",
      "\n",
      "           0       0.91      0.94      0.92     14615\n",
      "           1       0.94      0.90      0.92     14615\n",
      "\n",
      "    accuracy                           0.92     29230\n",
      "   macro avg       0.92      0.92      0.92     29230\n",
      "weighted avg       0.92      0.92      0.92     29230\n",
      "\n",
      "Third Random Forests Model Test Scores: \n",
      "               precision    recall  f1-score   support\n",
      "\n",
      "           0       0.88      0.91      0.90      4898\n",
      "           1       0.62      0.53      0.57      1309\n",
      "\n",
      "    accuracy                           0.83      6207\n",
      "   macro avg       0.75      0.72      0.73      6207\n",
      "weighted avg       0.82      0.83      0.83      6207\n",
      "\n"
     ]
    }
   ],
   "source": [
    "print('Third Random Forests Model Training Scores: \\n',\n",
    "     classification_report(y_train_resampled, forest_3.predict(X_train_resampled)))\n",
    "print('Third Random Forests Model Test Scores: \\n',\n",
    "     classification_report(y_test, forest_3.predict(X_test_final)))"
   ]
  },
  {
   "cell_type": "markdown",
   "metadata": {},
   "source": [
    "Although our training scores are still higher than our test scores, this seemed to help us decrease the overfitting in our model."
   ]
  },
  {
   "cell_type": "markdown",
   "metadata": {},
   "source": [
    "### Feature Importance"
   ]
  },
  {
   "cell_type": "markdown",
   "metadata": {},
   "source": [
    "Before moving on to XG Boost, lets take a look at the top ten most important features in deciding if someone will get a vaccine according to our Random Forests Model."
   ]
  },
  {
   "cell_type": "code",
   "execution_count": 45,
   "metadata": {
    "ExecuteTime": {
     "end_time": "2022-05-17T17:35:28.881087Z",
     "start_time": "2022-05-17T17:35:28.874285Z"
    }
   },
   "outputs": [],
   "source": [
    "# Create a function for plotting feature importance\n",
    "def plot_feature_importance(model):\n",
    "    sns.set_style('darkgrid')\n",
    "    importances = model.feature_importances_\n",
    "    sorted_indices = np.argsort(importances)[::-1]\n",
    "    n_features = 10\n",
    "    plt.figure(figsize=(8,8))\n",
    "    plt.barh(range(10), importances[sorted_indices][:10], align = 'center')\n",
    "    plt.yticks(range(n_features), X_train_resampled.columns[sorted_indices][:10])\n",
    "    plt.xlabel('Feature Importance', fontsize=16)\n",
    "    plt.ylabel('Feature', fontsize=16)\n",
    "    plt.title('Model Feature Importances', fontsize=20)"
   ]
  },
  {
   "cell_type": "code",
   "execution_count": 46,
   "metadata": {
    "ExecuteTime": {
     "end_time": "2022-05-17T17:35:29.745731Z",
     "start_time": "2022-05-17T17:35:29.565844Z"
    },
    "scrolled": true
   },
   "outputs": [
    {
     "data": {
      "image/png": "[encoded data removed]",
      "text/plain": [
       "<Figure size 576x576 with 1 Axes>"
      ]
     },
     "metadata": {},
     "output_type": "display_data"
    }
   ],
   "source": [
    "# Plot top 10 most important features\n",
    "plot_feature_importance(forest_3)"
   ]
  },
  {
   "cell_type": "markdown",
   "metadata": {},
   "source": [
    "Unsurprisingly, the most important factors are a person's opinion on the vaccine's effectiveness and their risk for getting the virus along with their doctor's recommendation."
   ]
  },
  {
   "cell_type": "markdown",
   "metadata": {},
   "source": [
    "## XG Boost"
   ]
  },
  {
   "cell_type": "markdown",
   "metadata": {},
   "source": [
    "The last model we will be creating is an XG Boost model, one of the top gradient boosting algorithms."
   ]
  },
  {
   "cell_type": "code",
   "execution_count": 47,
   "metadata": {
    "ExecuteTime": {
     "end_time": "2022-05-17T17:35:35.167785Z",
     "start_time": "2022-05-17T17:35:32.972211Z"
    }
   },
   "outputs": [
    {
     "data": {
      "text/plain": [
       "XGBClassifier(base_score=0.5, booster='gbtree', colsample_bylevel=1,\n",
       "              colsample_bynode=1, colsample_bytree=1, gamma=0, gpu_id=-1,\n",
       "              importance_type='gain', interaction_constraints='',\n",
       "              learning_rate=0.300000012, max_delta_step=0, max_depth=6,\n",
       "              min_child_weight=1, missing=nan, monotone_constraints='()',\n",
       "              n_estimators=100, n_jobs=0, num_parallel_tree=1, random_state=42,\n",
       "              reg_alpha=0, reg_lambda=1, scale_pos_weight=1, subsample=1,\n",
       "              tree_method='exact', validate_parameters=1, verbosity=None)"
      ]
     },
     "execution_count": 47,
     "metadata": {},
     "output_type": "execute_result"
    }
   ],
   "source": [
    "# Create an XG Boost Model\n",
    "boost = XGBClassifier(random_state=42)\n",
    "boost.fit(X_train_resampled, y_train_resampled)"
   ]
  },
  {
   "cell_type": "code",
   "execution_count": 48,
   "metadata": {
    "ExecuteTime": {
     "end_time": "2022-05-17T17:35:35.255479Z",
     "start_time": "2022-05-17T17:35:35.169699Z"
    }
   },
   "outputs": [
    {
     "name": "stdout",
     "output_type": "stream",
     "text": [
      "XG Boost Model Training Scores: \n",
      "               precision    recall  f1-score   support\n",
      "\n",
      "           0       0.91      0.97      0.94     14615\n",
      "           1       0.97      0.91      0.94     14615\n",
      "\n",
      "    accuracy                           0.94     29230\n",
      "   macro avg       0.94      0.94      0.94     29230\n",
      "weighted avg       0.94      0.94      0.94     29230\n",
      "\n",
      "XG Boost Model Test Scores: \n",
      "               precision    recall  f1-score   support\n",
      "\n",
      "           0       0.87      0.93      0.90      4898\n",
      "           1       0.64      0.46      0.53      1309\n",
      "\n",
      "    accuracy                           0.83      6207\n",
      "   macro avg       0.75      0.69      0.71      6207\n",
      "weighted avg       0.82      0.83      0.82      6207\n",
      "\n"
     ]
    }
   ],
   "source": [
    "print('XG Boost Model Training Scores: \\n',\n",
    "     classification_report(y_train_resampled, boost.predict(X_train_resampled)))\n",
    "print('XG Boost Model Test Scores: \\n',\n",
    "     classification_report(y_test, boost.predict(X_test_final)))"
   ]
  },
  {
   "cell_type": "markdown",
   "metadata": {},
   "source": [
    "Without any tuning, the training scores are performing better than the test scores."
   ]
  },
  {
   "cell_type": "code",
   "execution_count": 49,
   "metadata": {
    "ExecuteTime": {
     "end_time": "2022-05-17T17:44:20.352607Z",
     "start_time": "2022-05-17T17:35:42.194886Z"
    }
   },
   "outputs": [
    {
     "data": {
      "text/plain": [
       "GridSearchCV(cv=3,\n",
       "             estimator=XGBClassifier(base_score=0.5, booster='gbtree',\n",
       "                                     colsample_bylevel=1, colsample_bynode=1,\n",
       "                                     colsample_bytree=1, gamma=0, gpu_id=-1,\n",
       "                                     importance_type='gain',\n",
       "                                     interaction_constraints='',\n",
       "                                     learning_rate=0.300000012,\n",
       "                                     max_delta_step=0, max_depth=6,\n",
       "                                     min_child_weight=1, missing=nan,\n",
       "                                     monotone_constraints='()',\n",
       "                                     n_estimators=100, n_jobs=0,\n",
       "                                     num_parallel_tree=1, random_state=42,\n",
       "                                     reg_alpha=0, reg_lambda=1,\n",
       "                                     scale_pos_weight=1, subsample=1,\n",
       "                                     tree_method='exact', validate_parameters=1,\n",
       "                                     verbosity=None),\n",
       "             param_grid={'learning_rate': [0.1, 0.2, 0.3],\n",
       "                         'max_depth': [4, 5, 6],\n",
       "                         'min_child_weight': [0.5, 0.7, 1],\n",
       "                         'n_estimators': [100, 150, 200]})"
      ]
     },
     "execution_count": 49,
     "metadata": {},
     "output_type": "execute_result"
    }
   ],
   "source": [
    "# Create a parameter grid and grid search for tuning the model\n",
    "boost_param_grid = {'learning_rate' : [.1, .2, .3],\n",
    "                   'max_depth' : [4, 5, 6],\n",
    "                   'min_child_weight' : [.5, .7, 1],\n",
    "                   'n_estimators' : [100, 150, 200]}\n",
    "\n",
    "gs_boost = GridSearchCV(boost, boost_param_grid, cv=3)\n",
    "gs_boost.fit(X_train_resampled, y_train_resampled)"
   ]
  },
  {
   "cell_type": "code",
   "execution_count": 50,
   "metadata": {
    "ExecuteTime": {
     "end_time": "2022-05-17T17:44:25.401308Z",
     "start_time": "2022-05-17T17:44:25.394583Z"
    }
   },
   "outputs": [
    {
     "data": {
      "text/plain": [
       "{'learning_rate': 0.1,\n",
       " 'max_depth': 4,\n",
       " 'min_child_weight': 0.7,\n",
       " 'n_estimators': 100}"
      ]
     },
     "execution_count": 50,
     "metadata": {},
     "output_type": "execute_result"
    }
   ],
   "source": [
    "# Find the best parameters\n",
    "gs_boost.best_params_"
   ]
  },
  {
   "cell_type": "code",
   "execution_count": 51,
   "metadata": {
    "ExecuteTime": {
     "end_time": "2022-05-17T17:44:39.346587Z",
     "start_time": "2022-05-17T17:44:37.748529Z"
    }
   },
   "outputs": [
    {
     "data": {
      "text/plain": [
       "XGBClassifier(base_score=0.5, booster='gbtree', colsample_bylevel=1,\n",
       "              colsample_bynode=1, colsample_bytree=1, gamma=0, gpu_id=-1,\n",
       "              importance_type='gain', interaction_constraints='',\n",
       "              learning_rate=0.1, max_delta_step=0, max_depth=4,\n",
       "              min_child_weight=0.7, missing=nan, monotone_constraints='()',\n",
       "              n_estimators=100, n_jobs=0, num_parallel_tree=1, random_state=42,\n",
       "              reg_alpha=0, reg_lambda=1, scale_pos_weight=1, subsample=1,\n",
       "              tree_method='exact', validate_parameters=1, verbosity=None)"
      ]
     },
     "execution_count": 51,
     "metadata": {},
     "output_type": "execute_result"
    }
   ],
   "source": [
    "# Create a second model with the best parameters\n",
    "boost_2 = XGBClassifier(random_state=42, \n",
    "                            learning_rate=.1, \n",
    "                            max_depth = 4, \n",
    "                            min_child_weight = .7, \n",
    "                            n_estimators = 100)\n",
    "boost_2.fit(X_train_resampled, y_train_resampled)"
   ]
  },
  {
   "cell_type": "code",
   "execution_count": 52,
   "metadata": {
    "ExecuteTime": {
     "end_time": "2022-05-17T17:44:39.514666Z",
     "start_time": "2022-05-17T17:44:39.347925Z"
    }
   },
   "outputs": [
    {
     "name": "stdout",
     "output_type": "stream",
     "text": [
      "XG Boost Model Training Scores: \n",
      "               precision    recall  f1-score   support\n",
      "\n",
      "           0       0.91      0.97      0.94     14615\n",
      "           1       0.97      0.91      0.94     14615\n",
      "\n",
      "    accuracy                           0.94     29230\n",
      "   macro avg       0.94      0.94      0.94     29230\n",
      "weighted avg       0.94      0.94      0.94     29230\n",
      "\n",
      "XG Boost Model Test Scores: \n",
      "               precision    recall  f1-score   support\n",
      "\n",
      "           0       0.87      0.93      0.90      4898\n",
      "           1       0.64      0.46      0.53      1309\n",
      "\n",
      "    accuracy                           0.83      6207\n",
      "   macro avg       0.75      0.69      0.71      6207\n",
      "weighted avg       0.82      0.83      0.82      6207\n",
      "\n",
      "Second XG Boost Model Training Scores: \n",
      "               precision    recall  f1-score   support\n",
      "\n",
      "           0       0.87      0.94      0.90     14615\n",
      "           1       0.93      0.86      0.90     14615\n",
      "\n",
      "    accuracy                           0.90     29230\n",
      "   macro avg       0.90      0.90      0.90     29230\n",
      "weighted avg       0.90      0.90      0.90     29230\n",
      "\n",
      "Second XG Boost Model Test Scores: \n",
      "               precision    recall  f1-score   support\n",
      "\n",
      "           0       0.87      0.93      0.90      4898\n",
      "           1       0.65      0.49      0.56      1309\n",
      "\n",
      "    accuracy                           0.84      6207\n",
      "   macro avg       0.76      0.71      0.73      6207\n",
      "weighted avg       0.83      0.84      0.83      6207\n",
      "\n"
     ]
    }
   ],
   "source": [
    "print('XG Boost Model Training Scores: \\n',\n",
    "     classification_report(y_train_resampled, boost.predict(X_train_resampled)))\n",
    "print('XG Boost Model Test Scores: \\n',\n",
    "     classification_report(y_test, boost.predict(X_test_final)))\n",
    "print('Second XG Boost Model Training Scores: \\n',\n",
    "     classification_report(y_train_resampled, boost_2.predict(X_train_resampled)))\n",
    "print('Second XG Boost Model Test Scores: \\n',\n",
    "     classification_report(y_test, boost_2.predict(X_test_final)))"
   ]
  },
  {
   "cell_type": "markdown",
   "metadata": {},
   "source": [
    "Tuning this model definitely helped us to decrease overfitting to the training data."
   ]
  },
  {
   "cell_type": "markdown",
   "metadata": {},
   "source": [
    "### Feature Importance"
   ]
  },
  {
   "cell_type": "code",
   "execution_count": 53,
   "metadata": {
    "ExecuteTime": {
     "end_time": "2022-05-17T17:44:54.525113Z",
     "start_time": "2022-05-17T17:44:54.369959Z"
    },
    "scrolled": true
   },
   "outputs": [
    {
     "data": {
      "image/png": "[encoded data removed]",
      "text/plain": [
       "<Figure size 576x576 with 1 Axes>"
      ]
     },
     "metadata": {},
     "output_type": "display_data"
    }
   ],
   "source": [
    "# Check the top ten most important features according to our XG Boost model\n",
    "plot_feature_importance(boost_2)"
   ]
  },
  {
   "cell_type": "markdown",
   "metadata": {},
   "source": [
    "Many of these top features are the same as the top ten features from our Random Forests Model."
   ]
  },
  {
   "cell_type": "markdown",
   "metadata": {},
   "source": [
    "# Comparing Model Scores"
   ]
  },
  {
   "cell_type": "code",
   "execution_count": null,
   "metadata": {},
   "outputs": [],
   "source": []
  },
  {
   "cell_type": "markdown",
   "metadata": {},
   "source": [
    "# Creating Visualizations"
   ]
  },
  {
   "cell_type": "markdown",
   "metadata": {},
   "source": [
    "I would like to look into the vaccination rates of some of our most important features: Doctor Recommendation, Education Level, and H1N1 Knowledge."
   ]
  },
  {
   "cell_type": "markdown",
   "metadata": {},
   "source": [
    "We will be using the data from our our original DataFrame in order to capture the most data."
   ]
  },
  {
   "cell_type": "code",
   "execution_count": 305,
   "metadata": {
    "ExecuteTime": {
     "end_time": "2022-05-17T20:26:08.651119Z",
     "start_time": "2022-05-17T20:26:08.610442Z"
    },
    "scrolled": true
   },
   "outputs": [
    {
     "name": "stdout",
     "output_type": "stream",
     "text": [
      "<class 'pandas.core.frame.DataFrame'>\n",
      "Int64Index: 26707 entries, 0 to 26706\n",
      "Data columns (total 37 columns):\n",
      " #   Column                       Non-Null Count  Dtype  \n",
      "---  ------                       --------------  -----  \n",
      " 0   h1n1_concern                 26615 non-null  float64\n",
      " 1   h1n1_knowledge               26591 non-null  float64\n",
      " 2   behavioral_antiviral_meds    26636 non-null  float64\n",
      " 3   behavioral_avoidance         26499 non-null  float64\n",
      " 4   behavioral_face_mask         26688 non-null  float64\n",
      " 5   behavioral_wash_hands        26665 non-null  float64\n",
      " 6   behavioral_large_gatherings  26620 non-null  float64\n",
      " 7   behavioral_outside_home      26625 non-null  float64\n",
      " 8   behavioral_touch_face        26579 non-null  float64\n",
      " 9   doctor_recc_h1n1             24547 non-null  float64\n",
      " 10  doctor_recc_seasonal         24547 non-null  float64\n",
      " 11  chronic_med_condition        25736 non-null  float64\n",
      " 12  child_under_6_months         25887 non-null  float64\n",
      " 13  health_worker                25903 non-null  float64\n",
      " 14  health_insurance             14433 non-null  float64\n",
      " 15  opinion_h1n1_vacc_effective  26316 non-null  float64\n",
      " 16  opinion_h1n1_risk            26319 non-null  float64\n",
      " 17  opinion_h1n1_sick_from_vacc  26312 non-null  float64\n",
      " 18  opinion_seas_vacc_effective  26245 non-null  float64\n",
      " 19  opinion_seas_risk            26193 non-null  float64\n",
      " 20  opinion_seas_sick_from_vacc  26170 non-null  float64\n",
      " 21  age_group                    26707 non-null  object \n",
      " 22  education                    25300 non-null  object \n",
      " 23  race                         26707 non-null  object \n",
      " 24  sex                          26707 non-null  object \n",
      " 25  income_poverty               22284 non-null  object \n",
      " 26  marital_status               25299 non-null  object \n",
      " 27  rent_or_own                  24665 non-null  object \n",
      " 28  employment_status            25244 non-null  object \n",
      " 29  hhs_geo_region               26707 non-null  object \n",
      " 30  census_msa                   26707 non-null  object \n",
      " 31  household_adults             26458 non-null  float64\n",
      " 32  household_children           26458 non-null  float64\n",
      " 33  employment_industry          13377 non-null  object \n",
      " 34  employment_occupation        13237 non-null  object \n",
      " 35  h1n1_vaccine                 26707 non-null  int64  \n",
      " 36  seasonal_vaccine             26707 non-null  int64  \n",
      "dtypes: float64(23), int64(2), object(12)\n",
      "memory usage: 7.7+ MB\n"
     ]
    }
   ],
   "source": [
    "data_df.info()"
   ]
  },
  {
   "cell_type": "markdown",
   "metadata": {},
   "source": [
    "## Doctor Recommendations"
   ]
  },
  {
   "cell_type": "code",
   "execution_count": 306,
   "metadata": {
    "ExecuteTime": {
     "end_time": "2022-05-17T20:26:09.833070Z",
     "start_time": "2022-05-17T20:26:09.809344Z"
    }
   },
   "outputs": [],
   "source": [
    "# Change 0 and 1 to No and Yes, respectively\n",
    "data_df['doctor_recc_h1n1'].replace(to_replace=0.0, value='No', inplace=True)\n",
    "data_df['doctor_recc_h1n1'].replace(to_replace=1.0, value='Yes', inplace=True)\n",
    "data_df['doctor_recc_h1n1'].dropna(inplace=True)"
   ]
  },
  {
   "cell_type": "code",
   "execution_count": 307,
   "metadata": {
    "ExecuteTime": {
     "end_time": "2022-05-17T20:26:11.103487Z",
     "start_time": "2022-05-17T20:26:11.078966Z"
    }
   },
   "outputs": [
    {
     "data": {
      "text/html": [
       "<div>\n",
       "<style scoped>\n",
       "    .dataframe tbody tr th:only-of-type {\n",
       "        vertical-align: middle;\n",
       "    }\n",
       "\n",
       "    .dataframe tbody tr th {\n",
       "        vertical-align: top;\n",
       "    }\n",
       "\n",
       "    .dataframe thead th {\n",
       "        text-align: right;\n",
       "    }\n",
       "</style>\n",
       "<table border=\"1\" class=\"dataframe\">\n",
       "  <thead>\n",
       "    <tr style=\"text-align: right;\">\n",
       "      <th>h1n1_vaccine</th>\n",
       "      <th>0</th>\n",
       "      <th>1</th>\n",
       "    </tr>\n",
       "    <tr>\n",
       "      <th>doctor_recc_h1n1</th>\n",
       "      <th></th>\n",
       "      <th></th>\n",
       "    </tr>\n",
       "  </thead>\n",
       "  <tbody>\n",
       "    <tr>\n",
       "      <th>No</th>\n",
       "      <td>16529</td>\n",
       "      <td>2610</td>\n",
       "    </tr>\n",
       "    <tr>\n",
       "      <th>Yes</th>\n",
       "      <td>2529</td>\n",
       "      <td>2879</td>\n",
       "    </tr>\n",
       "  </tbody>\n",
       "</table>\n",
       "</div>"
      ],
      "text/plain": [
       "h1n1_vaccine          0     1\n",
       "doctor_recc_h1n1             \n",
       "No                16529  2610\n",
       "Yes                2529  2879"
      ]
     },
     "execution_count": 307,
     "metadata": {},
     "output_type": "execute_result"
    }
   ],
   "source": [
    "# Create a dataframe of vaccinations by doctor recommendation\n",
    "counts = data_df.groupby('doctor_recc_h1n1')['h1n1_vaccine'].value_counts().unstack()\n",
    "counts"
   ]
  },
  {
   "cell_type": "code",
   "execution_count": 308,
   "metadata": {
    "ExecuteTime": {
     "end_time": "2022-05-17T20:26:12.066287Z",
     "start_time": "2022-05-17T20:26:11.935199Z"
    }
   },
   "outputs": [
    {
     "data": {
      "image/png": "[encoded data removed]",
      "text/plain": [
       "<Figure size 864x576 with 1 Axes>"
      ]
     },
     "metadata": {},
     "output_type": "display_data"
    }
   ],
   "source": [
    "# Plot the vaccinations counts by doctor recommendation\n",
    "fig, ax = plt.subplots(figsize=(12,8))\n",
    "counts.plot(kind='bar', ax=ax, fontsize=15)\n",
    "ax.set_xlabel('Doctor Recommended', fontsize=15)\n",
    "plt.title('Vaccinations by Doctor Recommendation', fontsize=20)\n",
    "plt.xticks(rotation=70);"
   ]
  },
  {
   "cell_type": "code",
   "execution_count": 309,
   "metadata": {
    "ExecuteTime": {
     "end_time": "2022-05-17T20:26:16.818000Z",
     "start_time": "2022-05-17T20:26:16.796568Z"
    },
    "scrolled": true
   },
   "outputs": [
    {
     "data": {
      "text/html": [
       "<div>\n",
       "<style scoped>\n",
       "    .dataframe tbody tr th:only-of-type {\n",
       "        vertical-align: middle;\n",
       "    }\n",
       "\n",
       "    .dataframe tbody tr th {\n",
       "        vertical-align: top;\n",
       "    }\n",
       "\n",
       "    .dataframe thead th {\n",
       "        text-align: right;\n",
       "    }\n",
       "</style>\n",
       "<table border=\"1\" class=\"dataframe\">\n",
       "  <thead>\n",
       "    <tr style=\"text-align: right;\">\n",
       "      <th>h1n1_vaccine</th>\n",
       "      <th>0</th>\n",
       "      <th>1</th>\n",
       "      <th>total</th>\n",
       "      <th>percentage_yes</th>\n",
       "      <th>percentage_no</th>\n",
       "    </tr>\n",
       "    <tr>\n",
       "      <th>doctor_recc_h1n1</th>\n",
       "      <th></th>\n",
       "      <th></th>\n",
       "      <th></th>\n",
       "      <th></th>\n",
       "      <th></th>\n",
       "    </tr>\n",
       "  </thead>\n",
       "  <tbody>\n",
       "    <tr>\n",
       "      <th>No</th>\n",
       "      <td>16529</td>\n",
       "      <td>2610</td>\n",
       "      <td>19139</td>\n",
       "      <td>0.136371</td>\n",
       "      <td>0.863629</td>\n",
       "    </tr>\n",
       "    <tr>\n",
       "      <th>Yes</th>\n",
       "      <td>2529</td>\n",
       "      <td>2879</td>\n",
       "      <td>5408</td>\n",
       "      <td>0.532359</td>\n",
       "      <td>0.467641</td>\n",
       "    </tr>\n",
       "  </tbody>\n",
       "</table>\n",
       "</div>"
      ],
      "text/plain": [
       "h1n1_vaccine          0     1  total  percentage_yes  percentage_no\n",
       "doctor_recc_h1n1                                                   \n",
       "No                16529  2610  19139        0.136371       0.863629\n",
       "Yes                2529  2879   5408        0.532359       0.467641"
      ]
     },
     "execution_count": 309,
     "metadata": {},
     "output_type": "execute_result"
    }
   ],
   "source": [
    "# Create new columns for percentages\n",
    "recc_counts = counts\n",
    "recc_counts['total'] = recc_counts[0]+recc_counts[1]\n",
    "recc_counts['percentage_yes'] = recc_counts[1]/recc_counts['total']\n",
    "recc_counts['percentage_no'] = recc_counts[0]/recc_counts['total']\n",
    "recc_counts"
   ]
  },
  {
   "cell_type": "code",
   "execution_count": 310,
   "metadata": {
    "ExecuteTime": {
     "end_time": "2022-05-17T20:26:17.769601Z",
     "start_time": "2022-05-17T20:26:17.751844Z"
    }
   },
   "outputs": [
    {
     "data": {
      "text/html": [
       "<div>\n",
       "<style scoped>\n",
       "    .dataframe tbody tr th:only-of-type {\n",
       "        vertical-align: middle;\n",
       "    }\n",
       "\n",
       "    .dataframe tbody tr th {\n",
       "        vertical-align: top;\n",
       "    }\n",
       "\n",
       "    .dataframe thead th {\n",
       "        text-align: right;\n",
       "    }\n",
       "</style>\n",
       "<table border=\"1\" class=\"dataframe\">\n",
       "  <thead>\n",
       "    <tr style=\"text-align: right;\">\n",
       "      <th>h1n1_vaccine</th>\n",
       "      <th>doctor_recc_h1n1</th>\n",
       "      <th>0</th>\n",
       "      <th>1</th>\n",
       "      <th>total</th>\n",
       "      <th>percentage_yes</th>\n",
       "      <th>percentage_no</th>\n",
       "    </tr>\n",
       "  </thead>\n",
       "  <tbody>\n",
       "    <tr>\n",
       "      <th>0</th>\n",
       "      <td>No</td>\n",
       "      <td>16529</td>\n",
       "      <td>2610</td>\n",
       "      <td>19139</td>\n",
       "      <td>0.136371</td>\n",
       "      <td>0.863629</td>\n",
       "    </tr>\n",
       "    <tr>\n",
       "      <th>1</th>\n",
       "      <td>Yes</td>\n",
       "      <td>2529</td>\n",
       "      <td>2879</td>\n",
       "      <td>5408</td>\n",
       "      <td>0.532359</td>\n",
       "      <td>0.467641</td>\n",
       "    </tr>\n",
       "  </tbody>\n",
       "</table>\n",
       "</div>"
      ],
      "text/plain": [
       "h1n1_vaccine doctor_recc_h1n1      0     1  total  percentage_yes  \\\n",
       "0                          No  16529  2610  19139        0.136371   \n",
       "1                         Yes   2529  2879   5408        0.532359   \n",
       "\n",
       "h1n1_vaccine  percentage_no  \n",
       "0                  0.863629  \n",
       "1                  0.467641  "
      ]
     },
     "execution_count": 310,
     "metadata": {},
     "output_type": "execute_result"
    }
   ],
   "source": [
    "# Reset the index to prepare for plotting\n",
    "recc_counts.reset_index(inplace=True)\n",
    "recc_counts"
   ]
  },
  {
   "cell_type": "code",
   "execution_count": 311,
   "metadata": {
    "ExecuteTime": {
     "end_time": "2022-05-17T20:26:19.859458Z",
     "start_time": "2022-05-17T20:26:19.740551Z"
    }
   },
   "outputs": [
    {
     "data": {
      "image/png": "[encoded data removed]",
      "text/plain": [
       "<Figure size 864x576 with 1 Axes>"
      ]
     },
     "metadata": {},
     "output_type": "display_data"
    }
   ],
   "source": [
    "# Plot the percentages of vaccinations by doctor recommendation\n",
    "fig, ax = plt.subplots(figsize=(12,8))\n",
    "plt.bar(recc_counts['doctor_recc_h1n1'], \n",
    "        recc_counts['percentage_yes'], \n",
    "        width=.5, \n",
    "        align='edge', \n",
    "        color='orange', \n",
    "        label='Received Vaccine')\n",
    "plt.bar(recc_counts['doctor_recc_h1n1'], \n",
    "        recc_counts['percentage_no'], \n",
    "        width=-.5, \n",
    "        align='edge', \n",
    "        label='Did Not Receive Vaccine')\n",
    "ax.set_xlabel('Doctor Recommended', fontsize=15)\n",
    "plt.title('Vaccination Percentages by Doctor Recommendation', fontsize=20)\n",
    "ax.set_ylabel('Percentage', fontsize=15)\n",
    "ax.legend()\n",
    "plt.xticks(fontsize=15, rotation=70);"
   ]
  },
  {
   "cell_type": "markdown",
   "metadata": {},
   "source": [
    "This plot shows the huge difference that a doctor's recommendation makes.  People are much more likely to get vaccinated if it is recommended by their doctor."
   ]
  },
  {
   "cell_type": "markdown",
   "metadata": {},
   "source": [
    "## Education Level"
   ]
  },
  {
   "cell_type": "code",
   "execution_count": 312,
   "metadata": {
    "ExecuteTime": {
     "end_time": "2022-05-17T20:26:45.447072Z",
     "start_time": "2022-05-17T20:26:45.423981Z"
    }
   },
   "outputs": [
    {
     "data": {
      "text/html": [
       "<div>\n",
       "<style scoped>\n",
       "    .dataframe tbody tr th:only-of-type {\n",
       "        vertical-align: middle;\n",
       "    }\n",
       "\n",
       "    .dataframe tbody tr th {\n",
       "        vertical-align: top;\n",
       "    }\n",
       "\n",
       "    .dataframe thead th {\n",
       "        text-align: right;\n",
       "    }\n",
       "</style>\n",
       "<table border=\"1\" class=\"dataframe\">\n",
       "  <thead>\n",
       "    <tr style=\"text-align: right;\">\n",
       "      <th>h1n1_vaccine</th>\n",
       "      <th>0</th>\n",
       "      <th>1</th>\n",
       "    </tr>\n",
       "    <tr>\n",
       "      <th>education</th>\n",
       "      <th></th>\n",
       "      <th></th>\n",
       "    </tr>\n",
       "  </thead>\n",
       "  <tbody>\n",
       "    <tr>\n",
       "      <th>12 Years</th>\n",
       "      <td>4726</td>\n",
       "      <td>1071</td>\n",
       "    </tr>\n",
       "    <tr>\n",
       "      <th>&lt; 12 Years</th>\n",
       "      <td>1968</td>\n",
       "      <td>395</td>\n",
       "    </tr>\n",
       "    <tr>\n",
       "      <th>College Graduate</th>\n",
       "      <td>7614</td>\n",
       "      <td>2483</td>\n",
       "    </tr>\n",
       "    <tr>\n",
       "      <th>Some College</th>\n",
       "      <td>5579</td>\n",
       "      <td>1464</td>\n",
       "    </tr>\n",
       "  </tbody>\n",
       "</table>\n",
       "</div>"
      ],
      "text/plain": [
       "h1n1_vaccine         0     1\n",
       "education                   \n",
       "12 Years          4726  1071\n",
       "< 12 Years        1968   395\n",
       "College Graduate  7614  2483\n",
       "Some College      5579  1464"
      ]
     },
     "execution_count": 312,
     "metadata": {},
     "output_type": "execute_result"
    }
   ],
   "source": [
    "# Create a dataframe for vaccinations by education\n",
    "ed_counts = data_df.groupby('education')['h1n1_vaccine'].value_counts().unstack()\n",
    "ed_counts"
   ]
  },
  {
   "cell_type": "code",
   "execution_count": 313,
   "metadata": {
    "ExecuteTime": {
     "end_time": "2022-05-17T20:27:46.469484Z",
     "start_time": "2022-05-17T20:27:46.448564Z"
    }
   },
   "outputs": [
    {
     "data": {
      "text/html": [
       "<div>\n",
       "<style scoped>\n",
       "    .dataframe tbody tr th:only-of-type {\n",
       "        vertical-align: middle;\n",
       "    }\n",
       "\n",
       "    .dataframe tbody tr th {\n",
       "        vertical-align: top;\n",
       "    }\n",
       "\n",
       "    .dataframe thead th {\n",
       "        text-align: right;\n",
       "    }\n",
       "</style>\n",
       "<table border=\"1\" class=\"dataframe\">\n",
       "  <thead>\n",
       "    <tr style=\"text-align: right;\">\n",
       "      <th>h1n1_vaccine</th>\n",
       "      <th>0</th>\n",
       "      <th>1</th>\n",
       "      <th>total</th>\n",
       "      <th>percentage_yes</th>\n",
       "      <th>percentage_no</th>\n",
       "    </tr>\n",
       "    <tr>\n",
       "      <th>education</th>\n",
       "      <th></th>\n",
       "      <th></th>\n",
       "      <th></th>\n",
       "      <th></th>\n",
       "      <th></th>\n",
       "    </tr>\n",
       "  </thead>\n",
       "  <tbody>\n",
       "    <tr>\n",
       "      <th>12 Years</th>\n",
       "      <td>4726</td>\n",
       "      <td>1071</td>\n",
       "      <td>5797</td>\n",
       "      <td>0.184751</td>\n",
       "      <td>0.815249</td>\n",
       "    </tr>\n",
       "    <tr>\n",
       "      <th>&lt; 12 Years</th>\n",
       "      <td>1968</td>\n",
       "      <td>395</td>\n",
       "      <td>2363</td>\n",
       "      <td>0.167160</td>\n",
       "      <td>0.832840</td>\n",
       "    </tr>\n",
       "    <tr>\n",
       "      <th>College Graduate</th>\n",
       "      <td>7614</td>\n",
       "      <td>2483</td>\n",
       "      <td>10097</td>\n",
       "      <td>0.245915</td>\n",
       "      <td>0.754085</td>\n",
       "    </tr>\n",
       "    <tr>\n",
       "      <th>Some College</th>\n",
       "      <td>5579</td>\n",
       "      <td>1464</td>\n",
       "      <td>7043</td>\n",
       "      <td>0.207866</td>\n",
       "      <td>0.792134</td>\n",
       "    </tr>\n",
       "  </tbody>\n",
       "</table>\n",
       "</div>"
      ],
      "text/plain": [
       "h1n1_vaccine         0     1  total  percentage_yes  percentage_no\n",
       "education                                                         \n",
       "12 Years          4726  1071   5797        0.184751       0.815249\n",
       "< 12 Years        1968   395   2363        0.167160       0.832840\n",
       "College Graduate  7614  2483  10097        0.245915       0.754085\n",
       "Some College      5579  1464   7043        0.207866       0.792134"
      ]
     },
     "execution_count": 313,
     "metadata": {},
     "output_type": "execute_result"
    }
   ],
   "source": [
    "# Create new columns for percentages\n",
    "ed_counts['total'] = ed_counts[0]+ed_counts[1]\n",
    "ed_counts['percentage_yes'] = ed_counts[1]/ed_counts['total']\n",
    "ed_counts['percentage_no'] = ed_counts[0]/ed_counts['total']\n",
    "ed_counts"
   ]
  },
  {
   "cell_type": "code",
   "execution_count": 314,
   "metadata": {
    "ExecuteTime": {
     "end_time": "2022-05-17T20:28:03.616290Z",
     "start_time": "2022-05-17T20:28:03.600625Z"
    }
   },
   "outputs": [
    {
     "data": {
      "text/html": [
       "<div>\n",
       "<style scoped>\n",
       "    .dataframe tbody tr th:only-of-type {\n",
       "        vertical-align: middle;\n",
       "    }\n",
       "\n",
       "    .dataframe tbody tr th {\n",
       "        vertical-align: top;\n",
       "    }\n",
       "\n",
       "    .dataframe thead th {\n",
       "        text-align: right;\n",
       "    }\n",
       "</style>\n",
       "<table border=\"1\" class=\"dataframe\">\n",
       "  <thead>\n",
       "    <tr style=\"text-align: right;\">\n",
       "      <th>h1n1_vaccine</th>\n",
       "      <th>0</th>\n",
       "      <th>1</th>\n",
       "      <th>total</th>\n",
       "      <th>percentage_yes</th>\n",
       "      <th>percentage_no</th>\n",
       "    </tr>\n",
       "    <tr>\n",
       "      <th>education</th>\n",
       "      <th></th>\n",
       "      <th></th>\n",
       "      <th></th>\n",
       "      <th></th>\n",
       "      <th></th>\n",
       "    </tr>\n",
       "  </thead>\n",
       "  <tbody>\n",
       "    <tr>\n",
       "      <th>&lt; 12 Years</th>\n",
       "      <td>1968</td>\n",
       "      <td>395</td>\n",
       "      <td>2363</td>\n",
       "      <td>0.167160</td>\n",
       "      <td>0.832840</td>\n",
       "    </tr>\n",
       "    <tr>\n",
       "      <th>12 Years</th>\n",
       "      <td>4726</td>\n",
       "      <td>1071</td>\n",
       "      <td>5797</td>\n",
       "      <td>0.184751</td>\n",
       "      <td>0.815249</td>\n",
       "    </tr>\n",
       "    <tr>\n",
       "      <th>Some College</th>\n",
       "      <td>5579</td>\n",
       "      <td>1464</td>\n",
       "      <td>7043</td>\n",
       "      <td>0.207866</td>\n",
       "      <td>0.792134</td>\n",
       "    </tr>\n",
       "    <tr>\n",
       "      <th>College Graduate</th>\n",
       "      <td>7614</td>\n",
       "      <td>2483</td>\n",
       "      <td>10097</td>\n",
       "      <td>0.245915</td>\n",
       "      <td>0.754085</td>\n",
       "    </tr>\n",
       "  </tbody>\n",
       "</table>\n",
       "</div>"
      ],
      "text/plain": [
       "h1n1_vaccine         0     1  total  percentage_yes  percentage_no\n",
       "education                                                         \n",
       "< 12 Years        1968   395   2363        0.167160       0.832840\n",
       "12 Years          4726  1071   5797        0.184751       0.815249\n",
       "Some College      5579  1464   7043        0.207866       0.792134\n",
       "College Graduate  7614  2483  10097        0.245915       0.754085"
      ]
     },
     "execution_count": 314,
     "metadata": {},
     "output_type": "execute_result"
    }
   ],
   "source": [
    "# Sort the values by percentage of those who did receive the vaccine\n",
    "ed_counts = ed_counts.sort_values('percentage_yes')\n",
    "ed_counts"
   ]
  },
  {
   "cell_type": "code",
   "execution_count": 315,
   "metadata": {
    "ExecuteTime": {
     "end_time": "2022-05-17T20:28:17.332443Z",
     "start_time": "2022-05-17T20:28:17.316776Z"
    }
   },
   "outputs": [
    {
     "data": {
      "text/html": [
       "<div>\n",
       "<style scoped>\n",
       "    .dataframe tbody tr th:only-of-type {\n",
       "        vertical-align: middle;\n",
       "    }\n",
       "\n",
       "    .dataframe tbody tr th {\n",
       "        vertical-align: top;\n",
       "    }\n",
       "\n",
       "    .dataframe thead th {\n",
       "        text-align: right;\n",
       "    }\n",
       "</style>\n",
       "<table border=\"1\" class=\"dataframe\">\n",
       "  <thead>\n",
       "    <tr style=\"text-align: right;\">\n",
       "      <th>h1n1_vaccine</th>\n",
       "      <th>education</th>\n",
       "      <th>0</th>\n",
       "      <th>1</th>\n",
       "      <th>total</th>\n",
       "      <th>percentage_yes</th>\n",
       "      <th>percentage_no</th>\n",
       "    </tr>\n",
       "  </thead>\n",
       "  <tbody>\n",
       "    <tr>\n",
       "      <th>0</th>\n",
       "      <td>&lt; 12 Years</td>\n",
       "      <td>1968</td>\n",
       "      <td>395</td>\n",
       "      <td>2363</td>\n",
       "      <td>0.167160</td>\n",
       "      <td>0.832840</td>\n",
       "    </tr>\n",
       "    <tr>\n",
       "      <th>1</th>\n",
       "      <td>12 Years</td>\n",
       "      <td>4726</td>\n",
       "      <td>1071</td>\n",
       "      <td>5797</td>\n",
       "      <td>0.184751</td>\n",
       "      <td>0.815249</td>\n",
       "    </tr>\n",
       "    <tr>\n",
       "      <th>2</th>\n",
       "      <td>Some College</td>\n",
       "      <td>5579</td>\n",
       "      <td>1464</td>\n",
       "      <td>7043</td>\n",
       "      <td>0.207866</td>\n",
       "      <td>0.792134</td>\n",
       "    </tr>\n",
       "    <tr>\n",
       "      <th>3</th>\n",
       "      <td>College Graduate</td>\n",
       "      <td>7614</td>\n",
       "      <td>2483</td>\n",
       "      <td>10097</td>\n",
       "      <td>0.245915</td>\n",
       "      <td>0.754085</td>\n",
       "    </tr>\n",
       "  </tbody>\n",
       "</table>\n",
       "</div>"
      ],
      "text/plain": [
       "h1n1_vaccine         education     0     1  total  percentage_yes  \\\n",
       "0                   < 12 Years  1968   395   2363        0.167160   \n",
       "1                     12 Years  4726  1071   5797        0.184751   \n",
       "2                 Some College  5579  1464   7043        0.207866   \n",
       "3             College Graduate  7614  2483  10097        0.245915   \n",
       "\n",
       "h1n1_vaccine  percentage_no  \n",
       "0                  0.832840  \n",
       "1                  0.815249  \n",
       "2                  0.792134  \n",
       "3                  0.754085  "
      ]
     },
     "execution_count": 315,
     "metadata": {},
     "output_type": "execute_result"
    }
   ],
   "source": [
    "# Reset the index \n",
    "ed_counts.reset_index(inplace=True)\n",
    "ed_counts"
   ]
  },
  {
   "cell_type": "code",
   "execution_count": 316,
   "metadata": {
    "ExecuteTime": {
     "end_time": "2022-05-17T20:28:31.951125Z",
     "start_time": "2022-05-17T20:28:31.834019Z"
    },
    "scrolled": true
   },
   "outputs": [
    {
     "data": {
      "image/png": "[encoded data removed]",
      "text/plain": [
       "<Figure size 864x576 with 1 Axes>"
      ]
     },
     "metadata": {},
     "output_type": "display_data"
    }
   ],
   "source": [
    "# Plot the vaccination percentages by education\n",
    "fig, ax = plt.subplots(figsize=(12,8))\n",
    "plt.bar(ed_counts['education'], \n",
    "        ed_counts['percentage_yes'], \n",
    "        width=.5, \n",
    "        label='Received Vaccine')\n",
    "ax.set_xlabel('Education Level', fontsize=15)\n",
    "plt.title('Vaccination Percentages by Education Level', fontsize=20)\n",
    "ax.set_ylabel('Percentage', fontsize=15)\n",
    "plt.xticks(rotation=70);"
   ]
  },
  {
   "cell_type": "markdown",
   "metadata": {},
   "source": [
    "This plot illustrates that more people with a higher level education get vaccinated than people whose education is at a lower level."
   ]
  },
  {
   "cell_type": "markdown",
   "metadata": {},
   "source": [
    "## H1N1 Knowledge"
   ]
  },
  {
   "cell_type": "code",
   "execution_count": 317,
   "metadata": {
    "ExecuteTime": {
     "end_time": "2022-05-17T20:28:51.359416Z",
     "start_time": "2022-05-17T20:28:51.335698Z"
    }
   },
   "outputs": [
    {
     "data": {
      "text/html": [
       "<div>\n",
       "<style scoped>\n",
       "    .dataframe tbody tr th:only-of-type {\n",
       "        vertical-align: middle;\n",
       "    }\n",
       "\n",
       "    .dataframe tbody tr th {\n",
       "        vertical-align: top;\n",
       "    }\n",
       "\n",
       "    .dataframe thead th {\n",
       "        text-align: right;\n",
       "    }\n",
       "</style>\n",
       "<table border=\"1\" class=\"dataframe\">\n",
       "  <thead>\n",
       "    <tr style=\"text-align: right;\">\n",
       "      <th>h1n1_vaccine</th>\n",
       "      <th>0</th>\n",
       "      <th>1</th>\n",
       "    </tr>\n",
       "    <tr>\n",
       "      <th>h1n1_knowledge</th>\n",
       "      <th></th>\n",
       "      <th></th>\n",
       "    </tr>\n",
       "  </thead>\n",
       "  <tbody>\n",
       "    <tr>\n",
       "      <th>0.0</th>\n",
       "      <td>2145</td>\n",
       "      <td>361</td>\n",
       "    </tr>\n",
       "    <tr>\n",
       "      <th>1.0</th>\n",
       "      <td>11945</td>\n",
       "      <td>2653</td>\n",
       "    </tr>\n",
       "    <tr>\n",
       "      <th>2.0</th>\n",
       "      <td>6849</td>\n",
       "      <td>2638</td>\n",
       "    </tr>\n",
       "  </tbody>\n",
       "</table>\n",
       "</div>"
      ],
      "text/plain": [
       "h1n1_vaccine        0     1\n",
       "h1n1_knowledge             \n",
       "0.0              2145   361\n",
       "1.0             11945  2653\n",
       "2.0              6849  2638"
      ]
     },
     "execution_count": 317,
     "metadata": {},
     "output_type": "execute_result"
    }
   ],
   "source": [
    "# Create a dataframe for vaccinations by h1n1 knowledge\n",
    "h1n1_counts = data_df.groupby('h1n1_knowledge')['h1n1_vaccine'].value_counts().unstack()\n",
    "h1n1_counts"
   ]
  },
  {
   "cell_type": "code",
   "execution_count": 318,
   "metadata": {
    "ExecuteTime": {
     "end_time": "2022-05-17T20:29:44.035227Z",
     "start_time": "2022-05-17T20:29:44.012500Z"
    }
   },
   "outputs": [
    {
     "data": {
      "text/html": [
       "<div>\n",
       "<style scoped>\n",
       "    .dataframe tbody tr th:only-of-type {\n",
       "        vertical-align: middle;\n",
       "    }\n",
       "\n",
       "    .dataframe tbody tr th {\n",
       "        vertical-align: top;\n",
       "    }\n",
       "\n",
       "    .dataframe thead th {\n",
       "        text-align: right;\n",
       "    }\n",
       "</style>\n",
       "<table border=\"1\" class=\"dataframe\">\n",
       "  <thead>\n",
       "    <tr style=\"text-align: right;\">\n",
       "      <th>h1n1_vaccine</th>\n",
       "      <th>0</th>\n",
       "      <th>1</th>\n",
       "      <th>total</th>\n",
       "      <th>percentage_yes</th>\n",
       "      <th>percentage_no</th>\n",
       "    </tr>\n",
       "    <tr>\n",
       "      <th>h1n1_knowledge</th>\n",
       "      <th></th>\n",
       "      <th></th>\n",
       "      <th></th>\n",
       "      <th></th>\n",
       "      <th></th>\n",
       "    </tr>\n",
       "  </thead>\n",
       "  <tbody>\n",
       "    <tr>\n",
       "      <th>0.0</th>\n",
       "      <td>2145</td>\n",
       "      <td>361</td>\n",
       "      <td>2506</td>\n",
       "      <td>0.144054</td>\n",
       "      <td>0.855946</td>\n",
       "    </tr>\n",
       "    <tr>\n",
       "      <th>1.0</th>\n",
       "      <td>11945</td>\n",
       "      <td>2653</td>\n",
       "      <td>14598</td>\n",
       "      <td>0.181737</td>\n",
       "      <td>0.818263</td>\n",
       "    </tr>\n",
       "    <tr>\n",
       "      <th>2.0</th>\n",
       "      <td>6849</td>\n",
       "      <td>2638</td>\n",
       "      <td>9487</td>\n",
       "      <td>0.278065</td>\n",
       "      <td>0.721935</td>\n",
       "    </tr>\n",
       "  </tbody>\n",
       "</table>\n",
       "</div>"
      ],
      "text/plain": [
       "h1n1_vaccine        0     1  total  percentage_yes  percentage_no\n",
       "h1n1_knowledge                                                   \n",
       "0.0              2145   361   2506        0.144054       0.855946\n",
       "1.0             11945  2653  14598        0.181737       0.818263\n",
       "2.0              6849  2638   9487        0.278065       0.721935"
      ]
     },
     "execution_count": 318,
     "metadata": {},
     "output_type": "execute_result"
    }
   ],
   "source": [
    "# Create columns for percentages\n",
    "h1n1_counts['total'] = h1n1_counts[0]+h1n1_counts[1]\n",
    "h1n1_counts['percentage_yes'] = h1n1_counts[1]/h1n1_counts['total']\n",
    "h1n1_counts['percentage_no'] = h1n1_counts[0]/h1n1_counts['total']\n",
    "h1n1_counts"
   ]
  },
  {
   "cell_type": "code",
   "execution_count": 319,
   "metadata": {
    "ExecuteTime": {
     "end_time": "2022-05-17T20:29:56.914033Z",
     "start_time": "2022-05-17T20:29:56.897957Z"
    }
   },
   "outputs": [
    {
     "data": {
      "text/html": [
       "<div>\n",
       "<style scoped>\n",
       "    .dataframe tbody tr th:only-of-type {\n",
       "        vertical-align: middle;\n",
       "    }\n",
       "\n",
       "    .dataframe tbody tr th {\n",
       "        vertical-align: top;\n",
       "    }\n",
       "\n",
       "    .dataframe thead th {\n",
       "        text-align: right;\n",
       "    }\n",
       "</style>\n",
       "<table border=\"1\" class=\"dataframe\">\n",
       "  <thead>\n",
       "    <tr style=\"text-align: right;\">\n",
       "      <th>h1n1_vaccine</th>\n",
       "      <th>h1n1_knowledge</th>\n",
       "      <th>0</th>\n",
       "      <th>1</th>\n",
       "      <th>total</th>\n",
       "      <th>percentage_yes</th>\n",
       "      <th>percentage_no</th>\n",
       "    </tr>\n",
       "  </thead>\n",
       "  <tbody>\n",
       "    <tr>\n",
       "      <th>0</th>\n",
       "      <td>0.0</td>\n",
       "      <td>2145</td>\n",
       "      <td>361</td>\n",
       "      <td>2506</td>\n",
       "      <td>0.144054</td>\n",
       "      <td>0.855946</td>\n",
       "    </tr>\n",
       "    <tr>\n",
       "      <th>1</th>\n",
       "      <td>1.0</td>\n",
       "      <td>11945</td>\n",
       "      <td>2653</td>\n",
       "      <td>14598</td>\n",
       "      <td>0.181737</td>\n",
       "      <td>0.818263</td>\n",
       "    </tr>\n",
       "    <tr>\n",
       "      <th>2</th>\n",
       "      <td>2.0</td>\n",
       "      <td>6849</td>\n",
       "      <td>2638</td>\n",
       "      <td>9487</td>\n",
       "      <td>0.278065</td>\n",
       "      <td>0.721935</td>\n",
       "    </tr>\n",
       "  </tbody>\n",
       "</table>\n",
       "</div>"
      ],
      "text/plain": [
       "h1n1_vaccine  h1n1_knowledge      0     1  total  percentage_yes  \\\n",
       "0                        0.0   2145   361   2506        0.144054   \n",
       "1                        1.0  11945  2653  14598        0.181737   \n",
       "2                        2.0   6849  2638   9487        0.278065   \n",
       "\n",
       "h1n1_vaccine  percentage_no  \n",
       "0                  0.855946  \n",
       "1                  0.818263  \n",
       "2                  0.721935  "
      ]
     },
     "execution_count": 319,
     "metadata": {},
     "output_type": "execute_result"
    }
   ],
   "source": [
    "# Reset the index for plotting\n",
    "h1n1_counts.reset_index(inplace=True)\n",
    "h1n1_counts"
   ]
  },
  {
   "cell_type": "code",
   "execution_count": 320,
   "metadata": {
    "ExecuteTime": {
     "end_time": "2022-05-17T20:30:09.241621Z",
     "start_time": "2022-05-17T20:30:09.112393Z"
    }
   },
   "outputs": [
    {
     "data": {
      "image/png": "[encoded data removed]",
      "text/plain": [
       "<Figure size 864x576 with 1 Axes>"
      ]
     },
     "metadata": {},
     "output_type": "display_data"
    }
   ],
   "source": [
    "# Plot the vaccination percentages by h1n1 knowledge\n",
    "fig, ax = plt.subplots(figsize=(12,8))\n",
    "plt.bar(h1n1_counts['h1n1_knowledge'], \n",
    "        h1n1_counts['percentage_yes'], \n",
    "        width=.5, \n",
    "        label='Received Vaccine')\n",
    "ax.set_xlabel('H1N1 Knowledge Level', fontsize=15)\n",
    "plt.title('Vaccination Percentages by H1N1 Knowledge Level', fontsize=20)\n",
    "ax.set_ylabel('Percentage', fontsize=15)\n",
    "plt.xticks(rotation=70);"
   ]
  },
  {
   "cell_type": "markdown",
   "metadata": {},
   "source": [
    "As expected, those that have more knowledge about the H1N1 virus are more likely to be vaccinated than those with little or no knowledge."
   ]
  },
  {
   "cell_type": "code",
   "execution_count": null,
   "metadata": {},
   "outputs": [],
   "source": []
  }
 ],
 "metadata": {
  "kernelspec": {
   "display_name": "Python 3",
   "language": "python",
   "name": "python3"
  },
  "language_info": {
   "codemirror_mode": {
    "name": "ipython",
    "version": 3
   },
   "file_extension": ".py",
   "mimetype": "text/x-python",
   "name": "python",
   "nbconvert_exporter": "python",
   "pygments_lexer": "ipython3",
   "version": "3.8.5"
  },
  "toc": {
   "base_numbering": 1,
   "nav_menu": {},
   "number_sections": false,
   "sideBar": true,
   "skip_h1_title": false,
   "title_cell": "Table of Contents",
   "title_sidebar": "Contents",
   "toc_cell": false,
   "toc_position": {},
   "toc_section_display": true,
   "toc_window_display": false
  }
 },
 "nbformat": 4,
 "nbformat_minor": 4
}
