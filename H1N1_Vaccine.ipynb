{
 "cells": [
  {
   "cell_type": "markdown",
   "metadata": {},
   "source": [
    "# Import the Necessary Libraries and Data"
   ]
  },
  {
   "cell_type": "code",
   "execution_count": 373,
   "metadata": {
    "ExecuteTime": {
     "end_time": "2022-05-15T15:39:42.822476Z",
     "start_time": "2022-05-15T15:39:42.579027Z"
    }
   },
   "outputs": [],
   "source": [
    "import numpy as np\n",
    "import pandas as pd\n",
    "import matplotlib.pyplot as plt\n",
    "from sklearn.model_selection import train_test_split, GridSearchCV\n",
    "from sklearn.preprocessing import OneHotEncoder\n",
    "from sklearn.tree import DecisionTreeClassifier\n",
    "from sklearn.metrics import accuracy_score, classification_report\n",
    "from sklearn import tree\n",
    "from imblearn.over_sampling import SMOTE\n",
    "from sklearn.ensemble import RandomForestClassifier\n",
    "from xgboost import XGBClassifier\n",
    "import seaborn as sns"
   ]
  },
  {
   "cell_type": "code",
   "execution_count": 270,
   "metadata": {
    "ExecuteTime": {
     "end_time": "2022-05-14T18:54:23.504917Z",
     "start_time": "2022-05-14T18:54:23.391638Z"
    },
    "scrolled": true
   },
   "outputs": [],
   "source": [
    "training_labels = pd.read_csv('Data/training_set_labels.csv', index_col='respondent_id')\n",
    "training_features = pd.read_csv('Data/training_set_features.csv', index_col='respondent_id')"
   ]
  },
  {
   "cell_type": "markdown",
   "metadata": {},
   "source": [
    "# Explore the Data"
   ]
  },
  {
   "cell_type": "code",
   "execution_count": 271,
   "metadata": {
    "ExecuteTime": {
     "end_time": "2022-05-14T18:54:23.800603Z",
     "start_time": "2022-05-14T18:54:23.787166Z"
    },
    "scrolled": true
   },
   "outputs": [
    {
     "name": "stdout",
     "output_type": "stream",
     "text": [
      "<class 'pandas.core.frame.DataFrame'>\n",
      "Int64Index: 26707 entries, 0 to 26706\n",
      "Data columns (total 2 columns):\n",
      " #   Column            Non-Null Count  Dtype\n",
      "---  ------            --------------  -----\n",
      " 0   h1n1_vaccine      26707 non-null  int64\n",
      " 1   seasonal_vaccine  26707 non-null  int64\n",
      "dtypes: int64(2)\n",
      "memory usage: 625.9 KB\n"
     ]
    }
   ],
   "source": [
    "training_labels.info()"
   ]
  },
  {
   "cell_type": "code",
   "execution_count": 272,
   "metadata": {
    "ExecuteTime": {
     "end_time": "2022-05-14T18:54:24.013963Z",
     "start_time": "2022-05-14T18:54:24.003360Z"
    }
   },
   "outputs": [
    {
     "data": {
      "text/plain": [
       "0    21033\n",
       "1     5674\n",
       "Name: h1n1_vaccine, dtype: int64"
      ]
     },
     "execution_count": 272,
     "metadata": {},
     "output_type": "execute_result"
    }
   ],
   "source": [
    "training_labels.h1n1_vaccine.value_counts()"
   ]
  },
  {
   "cell_type": "code",
   "execution_count": 273,
   "metadata": {
    "ExecuteTime": {
     "end_time": "2022-05-14T18:54:24.242806Z",
     "start_time": "2022-05-14T18:54:24.203895Z"
    },
    "scrolled": true
   },
   "outputs": [
    {
     "name": "stdout",
     "output_type": "stream",
     "text": [
      "<class 'pandas.core.frame.DataFrame'>\n",
      "Int64Index: 26707 entries, 0 to 26706\n",
      "Data columns (total 35 columns):\n",
      " #   Column                       Non-Null Count  Dtype  \n",
      "---  ------                       --------------  -----  \n",
      " 0   h1n1_concern                 26615 non-null  float64\n",
      " 1   h1n1_knowledge               26591 non-null  float64\n",
      " 2   behavioral_antiviral_meds    26636 non-null  float64\n",
      " 3   behavioral_avoidance         26499 non-null  float64\n",
      " 4   behavioral_face_mask         26688 non-null  float64\n",
      " 5   behavioral_wash_hands        26665 non-null  float64\n",
      " 6   behavioral_large_gatherings  26620 non-null  float64\n",
      " 7   behavioral_outside_home      26625 non-null  float64\n",
      " 8   behavioral_touch_face        26579 non-null  float64\n",
      " 9   doctor_recc_h1n1             24547 non-null  float64\n",
      " 10  doctor_recc_seasonal         24547 non-null  float64\n",
      " 11  chronic_med_condition        25736 non-null  float64\n",
      " 12  child_under_6_months         25887 non-null  float64\n",
      " 13  health_worker                25903 non-null  float64\n",
      " 14  health_insurance             14433 non-null  float64\n",
      " 15  opinion_h1n1_vacc_effective  26316 non-null  float64\n",
      " 16  opinion_h1n1_risk            26319 non-null  float64\n",
      " 17  opinion_h1n1_sick_from_vacc  26312 non-null  float64\n",
      " 18  opinion_seas_vacc_effective  26245 non-null  float64\n",
      " 19  opinion_seas_risk            26193 non-null  float64\n",
      " 20  opinion_seas_sick_from_vacc  26170 non-null  float64\n",
      " 21  age_group                    26707 non-null  object \n",
      " 22  education                    25300 non-null  object \n",
      " 23  race                         26707 non-null  object \n",
      " 24  sex                          26707 non-null  object \n",
      " 25  income_poverty               22284 non-null  object \n",
      " 26  marital_status               25299 non-null  object \n",
      " 27  rent_or_own                  24665 non-null  object \n",
      " 28  employment_status            25244 non-null  object \n",
      " 29  hhs_geo_region               26707 non-null  object \n",
      " 30  census_msa                   26707 non-null  object \n",
      " 31  household_adults             26458 non-null  float64\n",
      " 32  household_children           26458 non-null  float64\n",
      " 33  employment_industry          13377 non-null  object \n",
      " 34  employment_occupation        13237 non-null  object \n",
      "dtypes: float64(23), object(12)\n",
      "memory usage: 7.3+ MB\n"
     ]
    }
   ],
   "source": [
    "training_features.info()"
   ]
  },
  {
   "cell_type": "code",
   "execution_count": 274,
   "metadata": {
    "ExecuteTime": {
     "end_time": "2022-05-14T18:54:24.403578Z",
     "start_time": "2022-05-14T18:54:24.385810Z"
    }
   },
   "outputs": [],
   "source": [
    "data_df = pd.concat([training_features, training_labels], axis=1)"
   ]
  },
  {
   "cell_type": "code",
   "execution_count": 275,
   "metadata": {
    "ExecuteTime": {
     "end_time": "2022-05-14T18:54:24.602636Z",
     "start_time": "2022-05-14T18:54:24.567707Z"
    }
   },
   "outputs": [
    {
     "data": {
      "text/html": [
       "<div>\n",
       "<style scoped>\n",
       "    .dataframe tbody tr th:only-of-type {\n",
       "        vertical-align: middle;\n",
       "    }\n",
       "\n",
       "    .dataframe tbody tr th {\n",
       "        vertical-align: top;\n",
       "    }\n",
       "\n",
       "    .dataframe thead th {\n",
       "        text-align: right;\n",
       "    }\n",
       "</style>\n",
       "<table border=\"1\" class=\"dataframe\">\n",
       "  <thead>\n",
       "    <tr style=\"text-align: right;\">\n",
       "      <th></th>\n",
       "      <th>h1n1_concern</th>\n",
       "      <th>h1n1_knowledge</th>\n",
       "      <th>behavioral_antiviral_meds</th>\n",
       "      <th>behavioral_avoidance</th>\n",
       "      <th>behavioral_face_mask</th>\n",
       "      <th>behavioral_wash_hands</th>\n",
       "      <th>behavioral_large_gatherings</th>\n",
       "      <th>behavioral_outside_home</th>\n",
       "      <th>behavioral_touch_face</th>\n",
       "      <th>doctor_recc_h1n1</th>\n",
       "      <th>...</th>\n",
       "      <th>rent_or_own</th>\n",
       "      <th>employment_status</th>\n",
       "      <th>hhs_geo_region</th>\n",
       "      <th>census_msa</th>\n",
       "      <th>household_adults</th>\n",
       "      <th>household_children</th>\n",
       "      <th>employment_industry</th>\n",
       "      <th>employment_occupation</th>\n",
       "      <th>h1n1_vaccine</th>\n",
       "      <th>seasonal_vaccine</th>\n",
       "    </tr>\n",
       "    <tr>\n",
       "      <th>respondent_id</th>\n",
       "      <th></th>\n",
       "      <th></th>\n",
       "      <th></th>\n",
       "      <th></th>\n",
       "      <th></th>\n",
       "      <th></th>\n",
       "      <th></th>\n",
       "      <th></th>\n",
       "      <th></th>\n",
       "      <th></th>\n",
       "      <th></th>\n",
       "      <th></th>\n",
       "      <th></th>\n",
       "      <th></th>\n",
       "      <th></th>\n",
       "      <th></th>\n",
       "      <th></th>\n",
       "      <th></th>\n",
       "      <th></th>\n",
       "      <th></th>\n",
       "      <th></th>\n",
       "    </tr>\n",
       "  </thead>\n",
       "  <tbody>\n",
       "    <tr>\n",
       "      <th>0</th>\n",
       "      <td>1.0</td>\n",
       "      <td>0.0</td>\n",
       "      <td>0.0</td>\n",
       "      <td>0.0</td>\n",
       "      <td>0.0</td>\n",
       "      <td>0.0</td>\n",
       "      <td>0.0</td>\n",
       "      <td>1.0</td>\n",
       "      <td>1.0</td>\n",
       "      <td>0.0</td>\n",
       "      <td>...</td>\n",
       "      <td>Own</td>\n",
       "      <td>Not in Labor Force</td>\n",
       "      <td>oxchjgsf</td>\n",
       "      <td>Non-MSA</td>\n",
       "      <td>0.0</td>\n",
       "      <td>0.0</td>\n",
       "      <td>NaN</td>\n",
       "      <td>NaN</td>\n",
       "      <td>0</td>\n",
       "      <td>0</td>\n",
       "    </tr>\n",
       "    <tr>\n",
       "      <th>1</th>\n",
       "      <td>3.0</td>\n",
       "      <td>2.0</td>\n",
       "      <td>0.0</td>\n",
       "      <td>1.0</td>\n",
       "      <td>0.0</td>\n",
       "      <td>1.0</td>\n",
       "      <td>0.0</td>\n",
       "      <td>1.0</td>\n",
       "      <td>1.0</td>\n",
       "      <td>0.0</td>\n",
       "      <td>...</td>\n",
       "      <td>Rent</td>\n",
       "      <td>Employed</td>\n",
       "      <td>bhuqouqj</td>\n",
       "      <td>MSA, Not Principle  City</td>\n",
       "      <td>0.0</td>\n",
       "      <td>0.0</td>\n",
       "      <td>pxcmvdjn</td>\n",
       "      <td>xgwztkwe</td>\n",
       "      <td>0</td>\n",
       "      <td>1</td>\n",
       "    </tr>\n",
       "    <tr>\n",
       "      <th>2</th>\n",
       "      <td>1.0</td>\n",
       "      <td>1.0</td>\n",
       "      <td>0.0</td>\n",
       "      <td>1.0</td>\n",
       "      <td>0.0</td>\n",
       "      <td>0.0</td>\n",
       "      <td>0.0</td>\n",
       "      <td>0.0</td>\n",
       "      <td>0.0</td>\n",
       "      <td>NaN</td>\n",
       "      <td>...</td>\n",
       "      <td>Own</td>\n",
       "      <td>Employed</td>\n",
       "      <td>qufhixun</td>\n",
       "      <td>MSA, Not Principle  City</td>\n",
       "      <td>2.0</td>\n",
       "      <td>0.0</td>\n",
       "      <td>rucpziij</td>\n",
       "      <td>xtkaffoo</td>\n",
       "      <td>0</td>\n",
       "      <td>0</td>\n",
       "    </tr>\n",
       "    <tr>\n",
       "      <th>3</th>\n",
       "      <td>1.0</td>\n",
       "      <td>1.0</td>\n",
       "      <td>0.0</td>\n",
       "      <td>1.0</td>\n",
       "      <td>0.0</td>\n",
       "      <td>1.0</td>\n",
       "      <td>1.0</td>\n",
       "      <td>0.0</td>\n",
       "      <td>0.0</td>\n",
       "      <td>0.0</td>\n",
       "      <td>...</td>\n",
       "      <td>Rent</td>\n",
       "      <td>Not in Labor Force</td>\n",
       "      <td>lrircsnp</td>\n",
       "      <td>MSA, Principle City</td>\n",
       "      <td>0.0</td>\n",
       "      <td>0.0</td>\n",
       "      <td>NaN</td>\n",
       "      <td>NaN</td>\n",
       "      <td>0</td>\n",
       "      <td>1</td>\n",
       "    </tr>\n",
       "    <tr>\n",
       "      <th>4</th>\n",
       "      <td>2.0</td>\n",
       "      <td>1.0</td>\n",
       "      <td>0.0</td>\n",
       "      <td>1.0</td>\n",
       "      <td>0.0</td>\n",
       "      <td>1.0</td>\n",
       "      <td>1.0</td>\n",
       "      <td>0.0</td>\n",
       "      <td>1.0</td>\n",
       "      <td>0.0</td>\n",
       "      <td>...</td>\n",
       "      <td>Own</td>\n",
       "      <td>Employed</td>\n",
       "      <td>qufhixun</td>\n",
       "      <td>MSA, Not Principle  City</td>\n",
       "      <td>1.0</td>\n",
       "      <td>0.0</td>\n",
       "      <td>wxleyezf</td>\n",
       "      <td>emcorrxb</td>\n",
       "      <td>0</td>\n",
       "      <td>0</td>\n",
       "    </tr>\n",
       "  </tbody>\n",
       "</table>\n",
       "<p>5 rows × 37 columns</p>\n",
       "</div>"
      ],
      "text/plain": [
       "               h1n1_concern  h1n1_knowledge  behavioral_antiviral_meds  \\\n",
       "respondent_id                                                            \n",
       "0                       1.0             0.0                        0.0   \n",
       "1                       3.0             2.0                        0.0   \n",
       "2                       1.0             1.0                        0.0   \n",
       "3                       1.0             1.0                        0.0   \n",
       "4                       2.0             1.0                        0.0   \n",
       "\n",
       "               behavioral_avoidance  behavioral_face_mask  \\\n",
       "respondent_id                                               \n",
       "0                               0.0                   0.0   \n",
       "1                               1.0                   0.0   \n",
       "2                               1.0                   0.0   \n",
       "3                               1.0                   0.0   \n",
       "4                               1.0                   0.0   \n",
       "\n",
       "               behavioral_wash_hands  behavioral_large_gatherings  \\\n",
       "respondent_id                                                       \n",
       "0                                0.0                          0.0   \n",
       "1                                1.0                          0.0   \n",
       "2                                0.0                          0.0   \n",
       "3                                1.0                          1.0   \n",
       "4                                1.0                          1.0   \n",
       "\n",
       "               behavioral_outside_home  behavioral_touch_face  \\\n",
       "respondent_id                                                   \n",
       "0                                  1.0                    1.0   \n",
       "1                                  1.0                    1.0   \n",
       "2                                  0.0                    0.0   \n",
       "3                                  0.0                    0.0   \n",
       "4                                  0.0                    1.0   \n",
       "\n",
       "               doctor_recc_h1n1  ...  rent_or_own   employment_status  \\\n",
       "respondent_id                    ...                                    \n",
       "0                           0.0  ...          Own  Not in Labor Force   \n",
       "1                           0.0  ...         Rent            Employed   \n",
       "2                           NaN  ...          Own            Employed   \n",
       "3                           0.0  ...         Rent  Not in Labor Force   \n",
       "4                           0.0  ...          Own            Employed   \n",
       "\n",
       "               hhs_geo_region                census_msa  household_adults  \\\n",
       "respondent_id                                                               \n",
       "0                    oxchjgsf                   Non-MSA               0.0   \n",
       "1                    bhuqouqj  MSA, Not Principle  City               0.0   \n",
       "2                    qufhixun  MSA, Not Principle  City               2.0   \n",
       "3                    lrircsnp       MSA, Principle City               0.0   \n",
       "4                    qufhixun  MSA, Not Principle  City               1.0   \n",
       "\n",
       "               household_children  employment_industry  employment_occupation  \\\n",
       "respondent_id                                                                   \n",
       "0                             0.0                  NaN                    NaN   \n",
       "1                             0.0             pxcmvdjn               xgwztkwe   \n",
       "2                             0.0             rucpziij               xtkaffoo   \n",
       "3                             0.0                  NaN                    NaN   \n",
       "4                             0.0             wxleyezf               emcorrxb   \n",
       "\n",
       "               h1n1_vaccine  seasonal_vaccine  \n",
       "respondent_id                                  \n",
       "0                         0                 0  \n",
       "1                         0                 1  \n",
       "2                         0                 0  \n",
       "3                         0                 1  \n",
       "4                         0                 0  \n",
       "\n",
       "[5 rows x 37 columns]"
      ]
     },
     "execution_count": 275,
     "metadata": {},
     "output_type": "execute_result"
    }
   ],
   "source": [
    "data_df.head()"
   ]
  },
  {
   "cell_type": "code",
   "execution_count": 276,
   "metadata": {
    "ExecuteTime": {
     "end_time": "2022-05-14T18:54:24.795268Z",
     "start_time": "2022-05-14T18:54:24.759268Z"
    }
   },
   "outputs": [
    {
     "data": {
      "text/plain": [
       "h1n1_concern                      92\n",
       "h1n1_knowledge                   116\n",
       "behavioral_antiviral_meds         71\n",
       "behavioral_avoidance             208\n",
       "behavioral_face_mask              19\n",
       "behavioral_wash_hands             42\n",
       "behavioral_large_gatherings       87\n",
       "behavioral_outside_home           82\n",
       "behavioral_touch_face            128\n",
       "doctor_recc_h1n1                2160\n",
       "doctor_recc_seasonal            2160\n",
       "chronic_med_condition            971\n",
       "child_under_6_months             820\n",
       "health_worker                    804\n",
       "health_insurance               12274\n",
       "opinion_h1n1_vacc_effective      391\n",
       "opinion_h1n1_risk                388\n",
       "opinion_h1n1_sick_from_vacc      395\n",
       "opinion_seas_vacc_effective      462\n",
       "opinion_seas_risk                514\n",
       "opinion_seas_sick_from_vacc      537\n",
       "age_group                          0\n",
       "education                       1407\n",
       "race                               0\n",
       "sex                                0\n",
       "income_poverty                  4423\n",
       "marital_status                  1408\n",
       "rent_or_own                     2042\n",
       "employment_status               1463\n",
       "hhs_geo_region                     0\n",
       "census_msa                         0\n",
       "household_adults                 249\n",
       "household_children               249\n",
       "employment_industry            13330\n",
       "employment_occupation          13470\n",
       "h1n1_vaccine                       0\n",
       "seasonal_vaccine                   0\n",
       "dtype: int64"
      ]
     },
     "execution_count": 276,
     "metadata": {},
     "output_type": "execute_result"
    }
   ],
   "source": [
    "data_df.isna().sum()"
   ]
  },
  {
   "cell_type": "markdown",
   "metadata": {},
   "source": [
    "# Clean the Data"
   ]
  },
  {
   "cell_type": "markdown",
   "metadata": {},
   "source": [
    "## Remove Unnecessary Columns"
   ]
  },
  {
   "cell_type": "code",
   "execution_count": 277,
   "metadata": {
    "ExecuteTime": {
     "end_time": "2022-05-14T18:54:25.393510Z",
     "start_time": "2022-05-14T18:54:25.335525Z"
    }
   },
   "outputs": [
    {
     "name": "stdout",
     "output_type": "stream",
     "text": [
      "<class 'pandas.core.frame.DataFrame'>\n",
      "Int64Index: 26707 entries, 0 to 26706\n",
      "Data columns (total 29 columns):\n",
      " #   Column                       Non-Null Count  Dtype  \n",
      "---  ------                       --------------  -----  \n",
      " 0   h1n1_concern                 26615 non-null  float64\n",
      " 1   h1n1_knowledge               26591 non-null  float64\n",
      " 2   behavioral_antiviral_meds    26636 non-null  float64\n",
      " 3   behavioral_avoidance         26499 non-null  float64\n",
      " 4   behavioral_face_mask         26688 non-null  float64\n",
      " 5   behavioral_wash_hands        26665 non-null  float64\n",
      " 6   behavioral_large_gatherings  26620 non-null  float64\n",
      " 7   behavioral_outside_home      26625 non-null  float64\n",
      " 8   behavioral_touch_face        26579 non-null  float64\n",
      " 9   doctor_recc_h1n1             24547 non-null  float64\n",
      " 10  chronic_med_condition        25736 non-null  float64\n",
      " 11  child_under_6_months         25887 non-null  float64\n",
      " 12  health_worker                25903 non-null  float64\n",
      " 13  opinion_h1n1_vacc_effective  26316 non-null  float64\n",
      " 14  opinion_h1n1_risk            26319 non-null  float64\n",
      " 15  opinion_h1n1_sick_from_vacc  26312 non-null  float64\n",
      " 16  age_group                    26707 non-null  object \n",
      " 17  education                    25300 non-null  object \n",
      " 18  race                         26707 non-null  object \n",
      " 19  sex                          26707 non-null  object \n",
      " 20  income_poverty               22284 non-null  object \n",
      " 21  marital_status               25299 non-null  object \n",
      " 22  rent_or_own                  24665 non-null  object \n",
      " 23  employment_status            25244 non-null  object \n",
      " 24  hhs_geo_region               26707 non-null  object \n",
      " 25  census_msa                   26707 non-null  object \n",
      " 26  household_adults             26458 non-null  float64\n",
      " 27  household_children           26458 non-null  float64\n",
      " 28  h1n1_vaccine                 26707 non-null  int64  \n",
      "dtypes: float64(18), int64(1), object(10)\n",
      "memory usage: 6.1+ MB\n"
     ]
    }
   ],
   "source": [
    "h1n1_df = data_df.drop(['health_insurance',\n",
    "                              'opinion_seas_vacc_effective',\n",
    "                              'opinion_seas_risk',\n",
    "                              'opinion_seas_sick_from_vacc',\n",
    "                              'doctor_recc_seasonal',\n",
    "                              'employment_industry',\n",
    "                              'employment_occupation',\n",
    "                              'seasonal_vaccine'], axis=1)\n",
    "h1n1_df.info()"
   ]
  },
  {
   "cell_type": "markdown",
   "metadata": {},
   "source": [
    "## Dealing with Missing Data"
   ]
  },
  {
   "cell_type": "code",
   "execution_count": 278,
   "metadata": {
    "ExecuteTime": {
     "end_time": "2022-05-14T18:54:25.720089Z",
     "start_time": "2022-05-14T18:54:25.687572Z"
    }
   },
   "outputs": [
    {
     "name": "stdout",
     "output_type": "stream",
     "text": [
      "Missing Data: \n",
      " h1n1_concern                     92\n",
      "h1n1_knowledge                  116\n",
      "behavioral_antiviral_meds        71\n",
      "behavioral_avoidance            208\n",
      "behavioral_face_mask             19\n",
      "behavioral_wash_hands            42\n",
      "behavioral_large_gatherings      87\n",
      "behavioral_outside_home          82\n",
      "behavioral_touch_face           128\n",
      "doctor_recc_h1n1               2160\n",
      "chronic_med_condition           971\n",
      "child_under_6_months            820\n",
      "health_worker                   804\n",
      "opinion_h1n1_vacc_effective     391\n",
      "opinion_h1n1_risk               388\n",
      "opinion_h1n1_sick_from_vacc     395\n",
      "age_group                         0\n",
      "education                      1407\n",
      "race                              0\n",
      "sex                               0\n",
      "income_poverty                 4423\n",
      "marital_status                 1408\n",
      "rent_or_own                    2042\n",
      "employment_status              1463\n",
      "hhs_geo_region                    0\n",
      "census_msa                        0\n",
      "household_adults                249\n",
      "household_children              249\n",
      "h1n1_vaccine                      0\n",
      "dtype: int64\n"
     ]
    }
   ],
   "source": [
    "print('Missing Data: \\n',h1n1_df.isna().sum())"
   ]
  },
  {
   "cell_type": "code",
   "execution_count": 279,
   "metadata": {
    "ExecuteTime": {
     "end_time": "2022-05-14T18:54:25.863285Z",
     "start_time": "2022-05-14T18:54:25.855871Z"
    }
   },
   "outputs": [
    {
     "name": "stdout",
     "output_type": "stream",
     "text": [
      "5% of data: 1335.35\n",
      "10% of data: 2670.7\n",
      "30% of data: 8012.1\n"
     ]
    }
   ],
   "source": [
    "print('5% of data:', round(26707*.05, 2))\n",
    "print('10% of data:', round(26707*.1, 2))\n",
    "print('30% of data:', round(26707*.3, 2))"
   ]
  },
  {
   "cell_type": "markdown",
   "metadata": {},
   "source": [
    "Create a new category \"unknown\" for the columns with 1000+ missing entries.\n",
    "Drop rows if the column is missing less than 1000 entries.\n",
    "Columns to adjust: doctor_recc_h1n1, education, income_poverty, marital_status, rent_or_own, employment_status."
   ]
  },
  {
   "cell_type": "code",
   "execution_count": 280,
   "metadata": {
    "ExecuteTime": {
     "end_time": "2022-05-14T18:54:26.263026Z",
     "start_time": "2022-05-14T18:54:26.235557Z"
    }
   },
   "outputs": [],
   "source": [
    "need_new_category = ['doctor_recc_h1n1', \n",
    "                     'education', \n",
    "                     'income_poverty', \n",
    "                     'marital_status', \n",
    "                     'rent_or_own', \n",
    "                     'employment_status']\n",
    "for column in need_new_category:\n",
    "    h1n1_df[column].fillna(value='unknown', inplace=True)"
   ]
  },
  {
   "cell_type": "code",
   "execution_count": 281,
   "metadata": {
    "ExecuteTime": {
     "end_time": "2022-05-14T18:54:26.476220Z",
     "start_time": "2022-05-14T18:54:26.440584Z"
    }
   },
   "outputs": [
    {
     "data": {
      "text/plain": [
       "h1n1_concern                    92\n",
       "h1n1_knowledge                 116\n",
       "behavioral_antiviral_meds       71\n",
       "behavioral_avoidance           208\n",
       "behavioral_face_mask            19\n",
       "behavioral_wash_hands           42\n",
       "behavioral_large_gatherings     87\n",
       "behavioral_outside_home         82\n",
       "behavioral_touch_face          128\n",
       "doctor_recc_h1n1                 0\n",
       "chronic_med_condition          971\n",
       "child_under_6_months           820\n",
       "health_worker                  804\n",
       "opinion_h1n1_vacc_effective    391\n",
       "opinion_h1n1_risk              388\n",
       "opinion_h1n1_sick_from_vacc    395\n",
       "age_group                        0\n",
       "education                        0\n",
       "race                             0\n",
       "sex                              0\n",
       "income_poverty                   0\n",
       "marital_status                   0\n",
       "rent_or_own                      0\n",
       "employment_status                0\n",
       "hhs_geo_region                   0\n",
       "census_msa                       0\n",
       "household_adults               249\n",
       "household_children             249\n",
       "h1n1_vaccine                     0\n",
       "dtype: int64"
      ]
     },
     "execution_count": 281,
     "metadata": {},
     "output_type": "execute_result"
    }
   ],
   "source": [
    "h1n1_df.isna().sum()"
   ]
  },
  {
   "cell_type": "code",
   "execution_count": 282,
   "metadata": {
    "ExecuteTime": {
     "end_time": "2022-05-14T18:54:26.672705Z",
     "start_time": "2022-05-14T18:54:26.610750Z"
    }
   },
   "outputs": [
    {
     "data": {
      "text/plain": [
       "h1n1_concern                   0\n",
       "h1n1_knowledge                 0\n",
       "behavioral_antiviral_meds      0\n",
       "behavioral_avoidance           0\n",
       "behavioral_face_mask           0\n",
       "behavioral_wash_hands          0\n",
       "behavioral_large_gatherings    0\n",
       "behavioral_outside_home        0\n",
       "behavioral_touch_face          0\n",
       "doctor_recc_h1n1               0\n",
       "chronic_med_condition          0\n",
       "child_under_6_months           0\n",
       "health_worker                  0\n",
       "opinion_h1n1_vacc_effective    0\n",
       "opinion_h1n1_risk              0\n",
       "opinion_h1n1_sick_from_vacc    0\n",
       "age_group                      0\n",
       "education                      0\n",
       "race                           0\n",
       "sex                            0\n",
       "income_poverty                 0\n",
       "marital_status                 0\n",
       "rent_or_own                    0\n",
       "employment_status              0\n",
       "hhs_geo_region                 0\n",
       "census_msa                     0\n",
       "household_adults               0\n",
       "household_children             0\n",
       "h1n1_vaccine                   0\n",
       "dtype: int64"
      ]
     },
     "execution_count": 282,
     "metadata": {},
     "output_type": "execute_result"
    }
   ],
   "source": [
    "h1n1_df.dropna(inplace=True)\n",
    "h1n1_df.isna().sum()"
   ]
  },
  {
   "cell_type": "code",
   "execution_count": 283,
   "metadata": {
    "ExecuteTime": {
     "end_time": "2022-05-14T18:54:26.823751Z",
     "start_time": "2022-05-14T18:54:26.811777Z"
    }
   },
   "outputs": [],
   "source": [
    "h1n1_features = h1n1_df.drop('h1n1_vaccine', axis=1)\n",
    "h1n1_labels = h1n1_df['h1n1_vaccine']"
   ]
  },
  {
   "cell_type": "code",
   "execution_count": 284,
   "metadata": {
    "ExecuteTime": {
     "end_time": "2022-05-14T18:54:27.058254Z",
     "start_time": "2022-05-14T18:54:27.023180Z"
    },
    "scrolled": true
   },
   "outputs": [
    {
     "data": {
      "text/html": [
       "<div>\n",
       "<style scoped>\n",
       "    .dataframe tbody tr th:only-of-type {\n",
       "        vertical-align: middle;\n",
       "    }\n",
       "\n",
       "    .dataframe tbody tr th {\n",
       "        vertical-align: top;\n",
       "    }\n",
       "\n",
       "    .dataframe thead th {\n",
       "        text-align: right;\n",
       "    }\n",
       "</style>\n",
       "<table border=\"1\" class=\"dataframe\">\n",
       "  <thead>\n",
       "    <tr style=\"text-align: right;\">\n",
       "      <th></th>\n",
       "      <th>h1n1_concern</th>\n",
       "      <th>h1n1_knowledge</th>\n",
       "      <th>behavioral_antiviral_meds</th>\n",
       "      <th>behavioral_avoidance</th>\n",
       "      <th>behavioral_face_mask</th>\n",
       "      <th>behavioral_wash_hands</th>\n",
       "      <th>behavioral_large_gatherings</th>\n",
       "      <th>behavioral_outside_home</th>\n",
       "      <th>behavioral_touch_face</th>\n",
       "      <th>doctor_recc_h1n1</th>\n",
       "      <th>...</th>\n",
       "      <th>race</th>\n",
       "      <th>sex</th>\n",
       "      <th>income_poverty</th>\n",
       "      <th>marital_status</th>\n",
       "      <th>rent_or_own</th>\n",
       "      <th>employment_status</th>\n",
       "      <th>hhs_geo_region</th>\n",
       "      <th>census_msa</th>\n",
       "      <th>household_adults</th>\n",
       "      <th>household_children</th>\n",
       "    </tr>\n",
       "    <tr>\n",
       "      <th>respondent_id</th>\n",
       "      <th></th>\n",
       "      <th></th>\n",
       "      <th></th>\n",
       "      <th></th>\n",
       "      <th></th>\n",
       "      <th></th>\n",
       "      <th></th>\n",
       "      <th></th>\n",
       "      <th></th>\n",
       "      <th></th>\n",
       "      <th></th>\n",
       "      <th></th>\n",
       "      <th></th>\n",
       "      <th></th>\n",
       "      <th></th>\n",
       "      <th></th>\n",
       "      <th></th>\n",
       "      <th></th>\n",
       "      <th></th>\n",
       "      <th></th>\n",
       "      <th></th>\n",
       "    </tr>\n",
       "  </thead>\n",
       "  <tbody>\n",
       "    <tr>\n",
       "      <th>0</th>\n",
       "      <td>1.0</td>\n",
       "      <td>0.0</td>\n",
       "      <td>0.0</td>\n",
       "      <td>0.0</td>\n",
       "      <td>0.0</td>\n",
       "      <td>0.0</td>\n",
       "      <td>0.0</td>\n",
       "      <td>1.0</td>\n",
       "      <td>1.0</td>\n",
       "      <td>0</td>\n",
       "      <td>...</td>\n",
       "      <td>White</td>\n",
       "      <td>Female</td>\n",
       "      <td>Below Poverty</td>\n",
       "      <td>Not Married</td>\n",
       "      <td>Own</td>\n",
       "      <td>Not in Labor Force</td>\n",
       "      <td>oxchjgsf</td>\n",
       "      <td>Non-MSA</td>\n",
       "      <td>0.0</td>\n",
       "      <td>0.0</td>\n",
       "    </tr>\n",
       "    <tr>\n",
       "      <th>1</th>\n",
       "      <td>3.0</td>\n",
       "      <td>2.0</td>\n",
       "      <td>0.0</td>\n",
       "      <td>1.0</td>\n",
       "      <td>0.0</td>\n",
       "      <td>1.0</td>\n",
       "      <td>0.0</td>\n",
       "      <td>1.0</td>\n",
       "      <td>1.0</td>\n",
       "      <td>0</td>\n",
       "      <td>...</td>\n",
       "      <td>White</td>\n",
       "      <td>Male</td>\n",
       "      <td>Below Poverty</td>\n",
       "      <td>Not Married</td>\n",
       "      <td>Rent</td>\n",
       "      <td>Employed</td>\n",
       "      <td>bhuqouqj</td>\n",
       "      <td>MSA, Not Principle  City</td>\n",
       "      <td>0.0</td>\n",
       "      <td>0.0</td>\n",
       "    </tr>\n",
       "    <tr>\n",
       "      <th>2</th>\n",
       "      <td>1.0</td>\n",
       "      <td>1.0</td>\n",
       "      <td>0.0</td>\n",
       "      <td>1.0</td>\n",
       "      <td>0.0</td>\n",
       "      <td>0.0</td>\n",
       "      <td>0.0</td>\n",
       "      <td>0.0</td>\n",
       "      <td>0.0</td>\n",
       "      <td>unknown</td>\n",
       "      <td>...</td>\n",
       "      <td>White</td>\n",
       "      <td>Male</td>\n",
       "      <td>&lt;= $75,000, Above Poverty</td>\n",
       "      <td>Not Married</td>\n",
       "      <td>Own</td>\n",
       "      <td>Employed</td>\n",
       "      <td>qufhixun</td>\n",
       "      <td>MSA, Not Principle  City</td>\n",
       "      <td>2.0</td>\n",
       "      <td>0.0</td>\n",
       "    </tr>\n",
       "    <tr>\n",
       "      <th>3</th>\n",
       "      <td>1.0</td>\n",
       "      <td>1.0</td>\n",
       "      <td>0.0</td>\n",
       "      <td>1.0</td>\n",
       "      <td>0.0</td>\n",
       "      <td>1.0</td>\n",
       "      <td>1.0</td>\n",
       "      <td>0.0</td>\n",
       "      <td>0.0</td>\n",
       "      <td>0</td>\n",
       "      <td>...</td>\n",
       "      <td>White</td>\n",
       "      <td>Female</td>\n",
       "      <td>Below Poverty</td>\n",
       "      <td>Not Married</td>\n",
       "      <td>Rent</td>\n",
       "      <td>Not in Labor Force</td>\n",
       "      <td>lrircsnp</td>\n",
       "      <td>MSA, Principle City</td>\n",
       "      <td>0.0</td>\n",
       "      <td>0.0</td>\n",
       "    </tr>\n",
       "    <tr>\n",
       "      <th>4</th>\n",
       "      <td>2.0</td>\n",
       "      <td>1.0</td>\n",
       "      <td>0.0</td>\n",
       "      <td>1.0</td>\n",
       "      <td>0.0</td>\n",
       "      <td>1.0</td>\n",
       "      <td>1.0</td>\n",
       "      <td>0.0</td>\n",
       "      <td>1.0</td>\n",
       "      <td>0</td>\n",
       "      <td>...</td>\n",
       "      <td>White</td>\n",
       "      <td>Female</td>\n",
       "      <td>&lt;= $75,000, Above Poverty</td>\n",
       "      <td>Married</td>\n",
       "      <td>Own</td>\n",
       "      <td>Employed</td>\n",
       "      <td>qufhixun</td>\n",
       "      <td>MSA, Not Principle  City</td>\n",
       "      <td>1.0</td>\n",
       "      <td>0.0</td>\n",
       "    </tr>\n",
       "  </tbody>\n",
       "</table>\n",
       "<p>5 rows × 28 columns</p>\n",
       "</div>"
      ],
      "text/plain": [
       "               h1n1_concern  h1n1_knowledge  behavioral_antiviral_meds  \\\n",
       "respondent_id                                                            \n",
       "0                       1.0             0.0                        0.0   \n",
       "1                       3.0             2.0                        0.0   \n",
       "2                       1.0             1.0                        0.0   \n",
       "3                       1.0             1.0                        0.0   \n",
       "4                       2.0             1.0                        0.0   \n",
       "\n",
       "               behavioral_avoidance  behavioral_face_mask  \\\n",
       "respondent_id                                               \n",
       "0                               0.0                   0.0   \n",
       "1                               1.0                   0.0   \n",
       "2                               1.0                   0.0   \n",
       "3                               1.0                   0.0   \n",
       "4                               1.0                   0.0   \n",
       "\n",
       "               behavioral_wash_hands  behavioral_large_gatherings  \\\n",
       "respondent_id                                                       \n",
       "0                                0.0                          0.0   \n",
       "1                                1.0                          0.0   \n",
       "2                                0.0                          0.0   \n",
       "3                                1.0                          1.0   \n",
       "4                                1.0                          1.0   \n",
       "\n",
       "               behavioral_outside_home  behavioral_touch_face  \\\n",
       "respondent_id                                                   \n",
       "0                                  1.0                    1.0   \n",
       "1                                  1.0                    1.0   \n",
       "2                                  0.0                    0.0   \n",
       "3                                  0.0                    0.0   \n",
       "4                                  0.0                    1.0   \n",
       "\n",
       "              doctor_recc_h1n1  ...   race     sex             income_poverty  \\\n",
       "respondent_id                   ...                                             \n",
       "0                            0  ...  White  Female              Below Poverty   \n",
       "1                            0  ...  White    Male              Below Poverty   \n",
       "2                      unknown  ...  White    Male  <= $75,000, Above Poverty   \n",
       "3                            0  ...  White  Female              Below Poverty   \n",
       "4                            0  ...  White  Female  <= $75,000, Above Poverty   \n",
       "\n",
       "               marital_status  rent_or_own   employment_status hhs_geo_region  \\\n",
       "respondent_id                                                                   \n",
       "0                 Not Married          Own  Not in Labor Force       oxchjgsf   \n",
       "1                 Not Married         Rent            Employed       bhuqouqj   \n",
       "2                 Not Married          Own            Employed       qufhixun   \n",
       "3                 Not Married         Rent  Not in Labor Force       lrircsnp   \n",
       "4                     Married          Own            Employed       qufhixun   \n",
       "\n",
       "                             census_msa household_adults household_children  \n",
       "respondent_id                                                                \n",
       "0                               Non-MSA              0.0                0.0  \n",
       "1              MSA, Not Principle  City              0.0                0.0  \n",
       "2              MSA, Not Principle  City              2.0                0.0  \n",
       "3                   MSA, Principle City              0.0                0.0  \n",
       "4              MSA, Not Principle  City              1.0                0.0  \n",
       "\n",
       "[5 rows x 28 columns]"
      ]
     },
     "execution_count": 284,
     "metadata": {},
     "output_type": "execute_result"
    }
   ],
   "source": [
    "h1n1_features.head()"
   ]
  },
  {
   "cell_type": "code",
   "execution_count": 285,
   "metadata": {
    "ExecuteTime": {
     "end_time": "2022-05-14T18:54:27.322342Z",
     "start_time": "2022-05-14T18:54:27.312421Z"
    }
   },
   "outputs": [
    {
     "data": {
      "text/plain": [
       "respondent_id\n",
       "0    0\n",
       "1    0\n",
       "2    0\n",
       "3    0\n",
       "4    0\n",
       "Name: h1n1_vaccine, dtype: int64"
      ]
     },
     "execution_count": 285,
     "metadata": {},
     "output_type": "execute_result"
    }
   ],
   "source": [
    "h1n1_labels.head()"
   ]
  },
  {
   "cell_type": "markdown",
   "metadata": {},
   "source": [
    "## Encoding Categorical Columns"
   ]
  },
  {
   "cell_type": "code",
   "execution_count": 286,
   "metadata": {
    "ExecuteTime": {
     "end_time": "2022-05-14T18:54:27.822856Z",
     "start_time": "2022-05-14T18:54:27.805308Z"
    }
   },
   "outputs": [
    {
     "data": {
      "text/plain": [
       "0.0        17890\n",
       "1.0         5110\n",
       "unknown     1828\n",
       "Name: doctor_recc_h1n1, dtype: int64"
      ]
     },
     "execution_count": 286,
     "metadata": {},
     "output_type": "execute_result"
    }
   ],
   "source": [
    "h1n1_features['doctor_recc_h1n1'].value_counts()"
   ]
  },
  {
   "cell_type": "code",
   "execution_count": 287,
   "metadata": {
    "ExecuteTime": {
     "end_time": "2022-05-14T18:54:28.155042Z",
     "start_time": "2022-05-14T18:54:28.143521Z"
    },
    "scrolled": false
   },
   "outputs": [],
   "source": [
    "h1n1_features['doctor_recc_h1n1'].replace(to_replace=0.0, value='No', inplace=True)\n",
    "h1n1_features['doctor_recc_h1n1'].replace(to_replace=1.0, value='Yes', inplace=True)"
   ]
  },
  {
   "cell_type": "code",
   "execution_count": 288,
   "metadata": {
    "ExecuteTime": {
     "end_time": "2022-05-14T18:54:28.499131Z",
     "start_time": "2022-05-14T18:54:28.443165Z"
    }
   },
   "outputs": [],
   "source": [
    "h1n1_final = pd.get_dummies(h1n1_features)"
   ]
  },
  {
   "cell_type": "code",
   "execution_count": 289,
   "metadata": {
    "ExecuteTime": {
     "end_time": "2022-05-14T18:54:28.739966Z",
     "start_time": "2022-05-14T18:54:28.711659Z"
    }
   },
   "outputs": [
    {
     "name": "stdout",
     "output_type": "stream",
     "text": [
      "<class 'pandas.core.frame.DataFrame'>\n",
      "Int64Index: 24828 entries, 0 to 26706\n",
      "Data columns (total 63 columns):\n",
      " #   Column                                    Non-Null Count  Dtype  \n",
      "---  ------                                    --------------  -----  \n",
      " 0   h1n1_concern                              24828 non-null  float64\n",
      " 1   h1n1_knowledge                            24828 non-null  float64\n",
      " 2   behavioral_antiviral_meds                 24828 non-null  float64\n",
      " 3   behavioral_avoidance                      24828 non-null  float64\n",
      " 4   behavioral_face_mask                      24828 non-null  float64\n",
      " 5   behavioral_wash_hands                     24828 non-null  float64\n",
      " 6   behavioral_large_gatherings               24828 non-null  float64\n",
      " 7   behavioral_outside_home                   24828 non-null  float64\n",
      " 8   behavioral_touch_face                     24828 non-null  float64\n",
      " 9   chronic_med_condition                     24828 non-null  float64\n",
      " 10  child_under_6_months                      24828 non-null  float64\n",
      " 11  health_worker                             24828 non-null  float64\n",
      " 12  opinion_h1n1_vacc_effective               24828 non-null  float64\n",
      " 13  opinion_h1n1_risk                         24828 non-null  float64\n",
      " 14  opinion_h1n1_sick_from_vacc               24828 non-null  float64\n",
      " 15  household_adults                          24828 non-null  float64\n",
      " 16  household_children                        24828 non-null  float64\n",
      " 17  doctor_recc_h1n1_No                       24828 non-null  uint8  \n",
      " 18  doctor_recc_h1n1_Yes                      24828 non-null  uint8  \n",
      " 19  doctor_recc_h1n1_unknown                  24828 non-null  uint8  \n",
      " 20  age_group_18 - 34 Years                   24828 non-null  uint8  \n",
      " 21  age_group_35 - 44 Years                   24828 non-null  uint8  \n",
      " 22  age_group_45 - 54 Years                   24828 non-null  uint8  \n",
      " 23  age_group_55 - 64 Years                   24828 non-null  uint8  \n",
      " 24  age_group_65+ Years                       24828 non-null  uint8  \n",
      " 25  education_12 Years                        24828 non-null  uint8  \n",
      " 26  education_< 12 Years                      24828 non-null  uint8  \n",
      " 27  education_College Graduate                24828 non-null  uint8  \n",
      " 28  education_Some College                    24828 non-null  uint8  \n",
      " 29  education_unknown                         24828 non-null  uint8  \n",
      " 30  race_Black                                24828 non-null  uint8  \n",
      " 31  race_Hispanic                             24828 non-null  uint8  \n",
      " 32  race_Other or Multiple                    24828 non-null  uint8  \n",
      " 33  race_White                                24828 non-null  uint8  \n",
      " 34  sex_Female                                24828 non-null  uint8  \n",
      " 35  sex_Male                                  24828 non-null  uint8  \n",
      " 36  income_poverty_<= $75,000, Above Poverty  24828 non-null  uint8  \n",
      " 37  income_poverty_> $75,000                  24828 non-null  uint8  \n",
      " 38  income_poverty_Below Poverty              24828 non-null  uint8  \n",
      " 39  income_poverty_unknown                    24828 non-null  uint8  \n",
      " 40  marital_status_Married                    24828 non-null  uint8  \n",
      " 41  marital_status_Not Married                24828 non-null  uint8  \n",
      " 42  marital_status_unknown                    24828 non-null  uint8  \n",
      " 43  rent_or_own_Own                           24828 non-null  uint8  \n",
      " 44  rent_or_own_Rent                          24828 non-null  uint8  \n",
      " 45  rent_or_own_unknown                       24828 non-null  uint8  \n",
      " 46  employment_status_Employed                24828 non-null  uint8  \n",
      " 47  employment_status_Not in Labor Force      24828 non-null  uint8  \n",
      " 48  employment_status_Unemployed              24828 non-null  uint8  \n",
      " 49  employment_status_unknown                 24828 non-null  uint8  \n",
      " 50  hhs_geo_region_atmpeygn                   24828 non-null  uint8  \n",
      " 51  hhs_geo_region_bhuqouqj                   24828 non-null  uint8  \n",
      " 52  hhs_geo_region_dqpwygqj                   24828 non-null  uint8  \n",
      " 53  hhs_geo_region_fpwskwrf                   24828 non-null  uint8  \n",
      " 54  hhs_geo_region_kbazzjca                   24828 non-null  uint8  \n",
      " 55  hhs_geo_region_lrircsnp                   24828 non-null  uint8  \n",
      " 56  hhs_geo_region_lzgpxyit                   24828 non-null  uint8  \n",
      " 57  hhs_geo_region_mlyzmhmf                   24828 non-null  uint8  \n",
      " 58  hhs_geo_region_oxchjgsf                   24828 non-null  uint8  \n",
      " 59  hhs_geo_region_qufhixun                   24828 non-null  uint8  \n",
      " 60  census_msa_MSA, Not Principle  City       24828 non-null  uint8  \n",
      " 61  census_msa_MSA, Principle City            24828 non-null  uint8  \n",
      " 62  census_msa_Non-MSA                        24828 non-null  uint8  \n",
      "dtypes: float64(17), uint8(46)\n",
      "memory usage: 4.5 MB\n"
     ]
    }
   ],
   "source": [
    "h1n1_final.info()"
   ]
  },
  {
   "cell_type": "markdown",
   "metadata": {},
   "source": [
    "We will have to rename some of these columns so they are usable in later code (for XG Boost)."
   ]
  },
  {
   "cell_type": "code",
   "execution_count": 292,
   "metadata": {
    "ExecuteTime": {
     "end_time": "2022-05-14T18:55:54.879559Z",
     "start_time": "2022-05-14T18:55:54.869351Z"
    }
   },
   "outputs": [],
   "source": [
    "h1n1_final.rename(columns = {'age_group_18 - 34 Years' : 'age_group_18_34',\n",
    "                            'age_group_35 - 44 Years' : 'age_group_35_44',\n",
    "                            'age_group_45 - 54 Years' : 'age_group_45_54',\n",
    "                            'age_group_55 - 64 Years' : 'age_group_55_64',\n",
    "                            'age_group_65+ Years' : 'age_group_over_65',\n",
    "                            'education_12 Years' : 'education_12_years',\n",
    "                            'education_< 12 Years' : 'education_less_than_12',\n",
    "                            'education_College Graduate' : 'education_college_grad',\n",
    "                            'education_Some College': 'education_some_college',\n",
    "                            'race_Other or Multiple' : 'race_other',\n",
    "                            'income_poverty_<= $75,000, Above Poverty' : 'income_poverty_lessorequal_75k',\n",
    "                            'income_poverty_> $75,000' : 'income_poverty_morethan_75k',\n",
    "                            'income_poverty_Below Poverty' : 'income_poverty_below_poverty',\n",
    "                            'marital_status_Not Married': 'marital_status_Unmarried',\n",
    "                            'employment_status_Not in Labor Force' : 'employment_status_not_in_labor_force',\n",
    "                            'census_msa_MSA, Not Principle  City' : 'census_msa_not_in_principle',\n",
    "                            'census_msa_MSA, Principle City' : 'census_msa_in_principle',\n",
    "                            'census_msa_Non-MSA' : 'census_msa_non_msa'},\n",
    "                 inplace=True)"
   ]
  },
  {
   "cell_type": "code",
   "execution_count": 293,
   "metadata": {
    "ExecuteTime": {
     "end_time": "2022-05-14T18:55:55.765708Z",
     "start_time": "2022-05-14T18:55:55.739711Z"
    }
   },
   "outputs": [
    {
     "name": "stdout",
     "output_type": "stream",
     "text": [
      "<class 'pandas.core.frame.DataFrame'>\n",
      "Int64Index: 24828 entries, 0 to 26706\n",
      "Data columns (total 63 columns):\n",
      " #   Column                                Non-Null Count  Dtype  \n",
      "---  ------                                --------------  -----  \n",
      " 0   h1n1_concern                          24828 non-null  float64\n",
      " 1   h1n1_knowledge                        24828 non-null  float64\n",
      " 2   behavioral_antiviral_meds             24828 non-null  float64\n",
      " 3   behavioral_avoidance                  24828 non-null  float64\n",
      " 4   behavioral_face_mask                  24828 non-null  float64\n",
      " 5   behavioral_wash_hands                 24828 non-null  float64\n",
      " 6   behavioral_large_gatherings           24828 non-null  float64\n",
      " 7   behavioral_outside_home               24828 non-null  float64\n",
      " 8   behavioral_touch_face                 24828 non-null  float64\n",
      " 9   chronic_med_condition                 24828 non-null  float64\n",
      " 10  child_under_6_months                  24828 non-null  float64\n",
      " 11  health_worker                         24828 non-null  float64\n",
      " 12  opinion_h1n1_vacc_effective           24828 non-null  float64\n",
      " 13  opinion_h1n1_risk                     24828 non-null  float64\n",
      " 14  opinion_h1n1_sick_from_vacc           24828 non-null  float64\n",
      " 15  household_adults                      24828 non-null  float64\n",
      " 16  household_children                    24828 non-null  float64\n",
      " 17  doctor_recc_h1n1_No                   24828 non-null  uint8  \n",
      " 18  doctor_recc_h1n1_Yes                  24828 non-null  uint8  \n",
      " 19  doctor_recc_h1n1_unknown              24828 non-null  uint8  \n",
      " 20  age_group_18_34                       24828 non-null  uint8  \n",
      " 21  age_group_35_44                       24828 non-null  uint8  \n",
      " 22  age_group_45_54                       24828 non-null  uint8  \n",
      " 23  age_group_55_64                       24828 non-null  uint8  \n",
      " 24  age_group_over_65                     24828 non-null  uint8  \n",
      " 25  education_12_years                    24828 non-null  uint8  \n",
      " 26  education_less_than_12                24828 non-null  uint8  \n",
      " 27  education_college_grad                24828 non-null  uint8  \n",
      " 28  education_some_college                24828 non-null  uint8  \n",
      " 29  education_unknown                     24828 non-null  uint8  \n",
      " 30  race_Black                            24828 non-null  uint8  \n",
      " 31  race_Hispanic                         24828 non-null  uint8  \n",
      " 32  race_other                            24828 non-null  uint8  \n",
      " 33  race_White                            24828 non-null  uint8  \n",
      " 34  sex_Female                            24828 non-null  uint8  \n",
      " 35  sex_Male                              24828 non-null  uint8  \n",
      " 36  income_poverty_lessorequal_75k        24828 non-null  uint8  \n",
      " 37  income_poverty_morethan_75k           24828 non-null  uint8  \n",
      " 38  income_poverty_below_poverty          24828 non-null  uint8  \n",
      " 39  income_poverty_unknown                24828 non-null  uint8  \n",
      " 40  marital_status_Married                24828 non-null  uint8  \n",
      " 41  marital_status_Unmarried              24828 non-null  uint8  \n",
      " 42  marital_status_unknown                24828 non-null  uint8  \n",
      " 43  rent_or_own_Own                       24828 non-null  uint8  \n",
      " 44  rent_or_own_Rent                      24828 non-null  uint8  \n",
      " 45  rent_or_own_unknown                   24828 non-null  uint8  \n",
      " 46  employment_status_Employed            24828 non-null  uint8  \n",
      " 47  employment_status_not_in_labor_force  24828 non-null  uint8  \n",
      " 48  employment_status_Unemployed          24828 non-null  uint8  \n",
      " 49  employment_status_unknown             24828 non-null  uint8  \n",
      " 50  hhs_geo_region_atmpeygn               24828 non-null  uint8  \n",
      " 51  hhs_geo_region_bhuqouqj               24828 non-null  uint8  \n",
      " 52  hhs_geo_region_dqpwygqj               24828 non-null  uint8  \n",
      " 53  hhs_geo_region_fpwskwrf               24828 non-null  uint8  \n",
      " 54  hhs_geo_region_kbazzjca               24828 non-null  uint8  \n",
      " 55  hhs_geo_region_lrircsnp               24828 non-null  uint8  \n",
      " 56  hhs_geo_region_lzgpxyit               24828 non-null  uint8  \n",
      " 57  hhs_geo_region_mlyzmhmf               24828 non-null  uint8  \n",
      " 58  hhs_geo_region_oxchjgsf               24828 non-null  uint8  \n",
      " 59  hhs_geo_region_qufhixun               24828 non-null  uint8  \n",
      " 60  census_msa_not_in_principle           24828 non-null  uint8  \n",
      " 61  census_msa_in_principle               24828 non-null  uint8  \n",
      " 62  census_msa_non_msa                    24828 non-null  uint8  \n",
      "dtypes: float64(17), uint8(46)\n",
      "memory usage: 4.5 MB\n"
     ]
    }
   ],
   "source": [
    "h1n1_final.info()"
   ]
  },
  {
   "cell_type": "markdown",
   "metadata": {},
   "source": [
    "## Splitting the Data and Fixing the Class Imbalance"
   ]
  },
  {
   "cell_type": "code",
   "execution_count": 294,
   "metadata": {
    "ExecuteTime": {
     "end_time": "2022-05-14T18:56:05.013685Z",
     "start_time": "2022-05-14T18:56:04.995096Z"
    }
   },
   "outputs": [],
   "source": [
    "X_train, X_test, y_train, y_test = train_test_split(h1n1_final, \n",
    "                                                    h1n1_labels, \n",
    "                                                    test_size=.25, \n",
    "                                                    random_state=42)"
   ]
  },
  {
   "cell_type": "code",
   "execution_count": 295,
   "metadata": {
    "ExecuteTime": {
     "end_time": "2022-05-14T18:56:05.853318Z",
     "start_time": "2022-05-14T18:56:05.843459Z"
    },
    "scrolled": true
   },
   "outputs": [
    {
     "data": {
      "text/plain": [
       "0    14615\n",
       "1     4006\n",
       "Name: h1n1_vaccine, dtype: int64"
      ]
     },
     "execution_count": 295,
     "metadata": {},
     "output_type": "execute_result"
    }
   ],
   "source": [
    "y_train.value_counts()"
   ]
  },
  {
   "cell_type": "code",
   "execution_count": 314,
   "metadata": {
    "ExecuteTime": {
     "end_time": "2022-05-14T19:03:15.583437Z",
     "start_time": "2022-05-14T19:03:14.636498Z"
    }
   },
   "outputs": [],
   "source": [
    "smote = SMOTE(random_state=42)\n",
    "X_train_resampled, y_train_resampled = smote.fit_sample(X_train, y_train)"
   ]
  },
  {
   "cell_type": "code",
   "execution_count": 315,
   "metadata": {
    "ExecuteTime": {
     "end_time": "2022-05-14T19:03:17.068573Z",
     "start_time": "2022-05-14T19:03:17.058250Z"
    }
   },
   "outputs": [
    {
     "data": {
      "text/plain": [
       "1    14615\n",
       "0    14615\n",
       "Name: h1n1_vaccine, dtype: int64"
      ]
     },
     "execution_count": 315,
     "metadata": {},
     "output_type": "execute_result"
    }
   ],
   "source": [
    "y_train_resampled.value_counts()"
   ]
  },
  {
   "cell_type": "markdown",
   "metadata": {},
   "source": [
    "Now that our data is cleaned, we can begin creating models."
   ]
  },
  {
   "cell_type": "markdown",
   "metadata": {},
   "source": [
    "# Creating Models"
   ]
  },
  {
   "cell_type": "markdown",
   "metadata": {},
   "source": [
    "## Baseline Model"
   ]
  },
  {
   "cell_type": "code",
   "execution_count": 322,
   "metadata": {
    "ExecuteTime": {
     "end_time": "2022-05-14T19:03:57.551196Z",
     "start_time": "2022-05-14T19:03:57.337287Z"
    }
   },
   "outputs": [
    {
     "data": {
      "text/plain": [
       "DecisionTreeClassifier(random_state=42)"
      ]
     },
     "execution_count": 322,
     "metadata": {},
     "output_type": "execute_result"
    }
   ],
   "source": [
    "clf = DecisionTreeClassifier(random_state=42)\n",
    "clf.fit(X_train_resampled, y_train_resampled)"
   ]
  },
  {
   "cell_type": "code",
   "execution_count": 323,
   "metadata": {
    "ExecuteTime": {
     "end_time": "2022-05-14T19:03:58.389645Z",
     "start_time": "2022-05-14T19:03:58.360978Z"
    }
   },
   "outputs": [
    {
     "name": "stdout",
     "output_type": "stream",
     "text": [
      "Baseline Decision Tree Scores: \n",
      "               precision    recall  f1-score   support\n",
      "\n",
      "           0       0.85      0.83      0.84      4898\n",
      "           1       0.42      0.46      0.44      1309\n",
      "\n",
      "    accuracy                           0.75      6207\n",
      "   macro avg       0.64      0.65      0.64      6207\n",
      "weighted avg       0.76      0.75      0.76      6207\n",
      "\n"
     ]
    }
   ],
   "source": [
    "print('Baseline Decision Tree Scores: \\n', classification_report(y_test, clf.predict(X_test)))"
   ]
  },
  {
   "cell_type": "markdown",
   "metadata": {},
   "source": [
    "This model is fairly good at predicting a negative outcome, but less reliable for predicting a positive outcome.  Our next step will be to use a Grid Search to find the best parameters for this first model to see if that impacts our results."
   ]
  },
  {
   "cell_type": "code",
   "execution_count": 324,
   "metadata": {
    "ExecuteTime": {
     "end_time": "2022-05-14T19:04:06.010685Z",
     "start_time": "2022-05-14T19:04:01.884074Z"
    }
   },
   "outputs": [
    {
     "data": {
      "text/plain": [
       "GridSearchCV(cv=3, estimator=DecisionTreeClassifier(random_state=42),\n",
       "             param_grid={'criterion': ['gini', 'entropy'],\n",
       "                         'max_depth': [1, 2, 5, 10],\n",
       "                         'min_samples_split': [2, 3, 10, 20]})"
      ]
     },
     "execution_count": 324,
     "metadata": {},
     "output_type": "execute_result"
    }
   ],
   "source": [
    "param_grid = {'criterion': ['gini', 'entropy'],\n",
    "             'max_depth' : [1, 2, 5, 10],\n",
    "             'min_samples_split' : [2, 3, 10, 20]}\n",
    "\n",
    "gs_tree = GridSearchCV(clf, param_grid, cv=3)\n",
    "gs_tree.fit(X_train_resampled, y_train_resampled)"
   ]
  },
  {
   "cell_type": "code",
   "execution_count": 325,
   "metadata": {
    "ExecuteTime": {
     "end_time": "2022-05-14T19:04:06.013787Z",
     "start_time": "2022-05-14T19:04:06.011785Z"
    }
   },
   "outputs": [
    {
     "data": {
      "text/plain": [
       "{'criterion': 'entropy', 'max_depth': 10, 'min_samples_split': 3}"
      ]
     },
     "execution_count": 325,
     "metadata": {},
     "output_type": "execute_result"
    }
   ],
   "source": [
    "gs_tree.best_params_"
   ]
  },
  {
   "cell_type": "markdown",
   "metadata": {},
   "source": [
    "Since one of our best parameters, max depth, is the highest value from our grid search, we will try another one to make sure that value is the one we actually want to use."
   ]
  },
  {
   "cell_type": "code",
   "execution_count": 328,
   "metadata": {
    "ExecuteTime": {
     "end_time": "2022-05-14T19:06:08.615401Z",
     "start_time": "2022-05-14T19:06:07.585505Z"
    }
   },
   "outputs": [
    {
     "data": {
      "text/plain": [
       "GridSearchCV(cv=3, estimator=DecisionTreeClassifier(random_state=42),\n",
       "             param_grid={'criterion': ['entropy'], 'max_depth': [10, 15, 20],\n",
       "                         'min_samples_split': [3]})"
      ]
     },
     "execution_count": 328,
     "metadata": {},
     "output_type": "execute_result"
    }
   ],
   "source": [
    "param_grid_2 = {'criterion' : ['entropy'],\n",
    "               'max_depth' : [10, 15, 20],\n",
    "               'min_samples_split' : [3]}\n",
    "\n",
    "gs_tree_2 = GridSearchCV(clf, param_grid_2, cv=3)\n",
    "gs_tree_2.fit(X_train_resampled, y_train_resampled)"
   ]
  },
  {
   "cell_type": "code",
   "execution_count": 329,
   "metadata": {
    "ExecuteTime": {
     "end_time": "2022-05-14T19:06:10.882860Z",
     "start_time": "2022-05-14T19:06:10.875739Z"
    }
   },
   "outputs": [
    {
     "data": {
      "text/plain": [
       "{'criterion': 'entropy', 'max_depth': 10, 'min_samples_split': 3}"
      ]
     },
     "execution_count": 329,
     "metadata": {},
     "output_type": "execute_result"
    }
   ],
   "source": [
    "gs_tree_2.best_params_"
   ]
  },
  {
   "cell_type": "markdown",
   "metadata": {},
   "source": [
    "We will use these best parameters to create a new model."
   ]
  },
  {
   "cell_type": "code",
   "execution_count": 330,
   "metadata": {
    "ExecuteTime": {
     "end_time": "2022-05-14T19:06:32.251471Z",
     "start_time": "2022-05-14T19:06:32.093627Z"
    }
   },
   "outputs": [
    {
     "data": {
      "text/plain": [
       "DecisionTreeClassifier(criterion='entropy', max_depth=10, min_samples_split=3,\n",
       "                       random_state=42)"
      ]
     },
     "execution_count": 330,
     "metadata": {},
     "output_type": "execute_result"
    }
   ],
   "source": [
    "clf_2 = DecisionTreeClassifier(criterion='entropy', max_depth=10, min_samples_split=3, random_state=42)\n",
    "clf_2.fit(X_train_resampled, y_train_resampled)"
   ]
  },
  {
   "cell_type": "code",
   "execution_count": 331,
   "metadata": {
    "ExecuteTime": {
     "end_time": "2022-05-14T19:06:34.227457Z",
     "start_time": "2022-05-14T19:06:34.199076Z"
    }
   },
   "outputs": [
    {
     "name": "stdout",
     "output_type": "stream",
     "text": [
      "Second Decision Tree Scores: \n",
      "               precision    recall  f1-score   support\n",
      "\n",
      "           0       0.89      0.87      0.88      4898\n",
      "           1       0.55      0.59      0.57      1309\n",
      "\n",
      "    accuracy                           0.81      6207\n",
      "   macro avg       0.72      0.73      0.73      6207\n",
      "weighted avg       0.82      0.81      0.82      6207\n",
      "\n"
     ]
    }
   ],
   "source": [
    "print(\"Second Decision Tree Scores: \\n\", classification_report(y_test, clf_2.predict(X_test)))"
   ]
  },
  {
   "cell_type": "markdown",
   "metadata": {},
   "source": [
    "This second model has improved our results, but not as drastically as we would like. The next classifier we will try in order to create a more accurate model will be Random Forests."
   ]
  },
  {
   "cell_type": "markdown",
   "metadata": {},
   "source": [
    "## Random Forests Model"
   ]
  },
  {
   "cell_type": "code",
   "execution_count": 332,
   "metadata": {
    "ExecuteTime": {
     "end_time": "2022-05-14T19:06:48.836672Z",
     "start_time": "2022-05-14T19:06:46.755887Z"
    }
   },
   "outputs": [
    {
     "data": {
      "text/plain": [
       "RandomForestClassifier(random_state=42)"
      ]
     },
     "execution_count": 332,
     "metadata": {},
     "output_type": "execute_result"
    }
   ],
   "source": [
    "forest = RandomForestClassifier(random_state=42)\n",
    "forest.fit(X_train_resampled, y_train_resampled)"
   ]
  },
  {
   "cell_type": "code",
   "execution_count": 333,
   "metadata": {
    "ExecuteTime": {
     "end_time": "2022-05-14T19:06:50.128011Z",
     "start_time": "2022-05-14T19:06:49.978004Z"
    }
   },
   "outputs": [
    {
     "name": "stdout",
     "output_type": "stream",
     "text": [
      "Default Forest Model Scores: \n",
      "               precision    recall  f1-score   support\n",
      "\n",
      "           0       0.87      0.93      0.90      4898\n",
      "           1       0.64      0.48      0.55      1309\n",
      "\n",
      "    accuracy                           0.83      6207\n",
      "   macro avg       0.76      0.71      0.72      6207\n",
      "weighted avg       0.82      0.83      0.83      6207\n",
      "\n"
     ]
    }
   ],
   "source": [
    "print('Default Forest Model Scores: \\n', classification_report(y_test, forest.predict(X_test)))"
   ]
  },
  {
   "cell_type": "markdown",
   "metadata": {},
   "source": [
    "This model is already performing better than our tuned Decision Tree.  Lets use Grid Search to take it a step further."
   ]
  },
  {
   "cell_type": "code",
   "execution_count": 334,
   "metadata": {
    "ExecuteTime": {
     "end_time": "2022-05-14T19:10:54.269185Z",
     "start_time": "2022-05-14T19:06:56.098969Z"
    }
   },
   "outputs": [
    {
     "data": {
      "text/plain": [
       "GridSearchCV(cv=3, estimator=RandomForestClassifier(random_state=42),\n",
       "             param_grid={'criterion': ['gini', 'entropy'],\n",
       "                         'max_depth': [2, 5, 10, 20],\n",
       "                         'min_samples_split': [2, 5, 10, 20],\n",
       "                         'n_estimators': [50, 100, 150]})"
      ]
     },
     "execution_count": 334,
     "metadata": {},
     "output_type": "execute_result"
    }
   ],
   "source": [
    "forest_param_grid = {'n_estimators' : [50, 100, 150],\n",
    "                    'criterion' : ['gini', 'entropy'],\n",
    "                    'max_depth' : [2, 5, 10, 20],\n",
    "                    'min_samples_split' : [2, 5, 10, 20]}\n",
    "\n",
    "forest_gs = GridSearchCV(forest, forest_param_grid, cv=3)\n",
    "forest_gs.fit(X_train_resampled, y_train_resampled)"
   ]
  },
  {
   "cell_type": "code",
   "execution_count": 335,
   "metadata": {
    "ExecuteTime": {
     "end_time": "2022-05-14T19:10:54.273352Z",
     "start_time": "2022-05-14T19:10:54.270364Z"
    }
   },
   "outputs": [
    {
     "data": {
      "text/plain": [
       "{'criterion': 'gini',\n",
       " 'max_depth': 20,\n",
       " 'min_samples_split': 2,\n",
       " 'n_estimators': 150}"
      ]
     },
     "execution_count": 335,
     "metadata": {},
     "output_type": "execute_result"
    }
   ],
   "source": [
    "forest_gs.best_params_"
   ]
  },
  {
   "cell_type": "code",
   "execution_count": 336,
   "metadata": {
    "ExecuteTime": {
     "end_time": "2022-05-14T19:12:46.500482Z",
     "start_time": "2022-05-14T19:11:23.537586Z"
    }
   },
   "outputs": [
    {
     "data": {
      "text/plain": [
       "GridSearchCV(cv=3, estimator=RandomForestClassifier(random_state=42),\n",
       "             param_grid={'criterion': ['gini'], 'max_depth': [20, 30, 40],\n",
       "                         'min_samples_split': [2],\n",
       "                         'n_estimators': [150, 200, 250]})"
      ]
     },
     "execution_count": 336,
     "metadata": {},
     "output_type": "execute_result"
    }
   ],
   "source": [
    "forest_param_grid_2 = {'n_estimators' : [150, 200, 250],\n",
    "                      'criterion' : ['gini'],\n",
    "                      'max_depth' : [20, 30, 40],\n",
    "                      'min_samples_split' : [2]}\n",
    "\n",
    "forest_gs_2 = GridSearchCV(forest, forest_param_grid_2, cv=3)\n",
    "forest_gs_2.fit(X_train_resampled, y_train_resampled)"
   ]
  },
  {
   "cell_type": "code",
   "execution_count": 337,
   "metadata": {
    "ExecuteTime": {
     "end_time": "2022-05-14T19:12:46.504020Z",
     "start_time": "2022-05-14T19:12:46.501721Z"
    }
   },
   "outputs": [
    {
     "data": {
      "text/plain": [
       "{'criterion': 'gini',\n",
       " 'max_depth': 40,\n",
       " 'min_samples_split': 2,\n",
       " 'n_estimators': 200}"
      ]
     },
     "execution_count": 337,
     "metadata": {},
     "output_type": "execute_result"
    }
   ],
   "source": [
    "forest_gs_2.best_params_"
   ]
  },
  {
   "cell_type": "code",
   "execution_count": 338,
   "metadata": {
    "ExecuteTime": {
     "end_time": "2022-05-14T19:13:00.923181Z",
     "start_time": "2022-05-14T19:12:56.731815Z"
    }
   },
   "outputs": [
    {
     "data": {
      "text/plain": [
       "RandomForestClassifier(max_depth=40, n_estimators=200)"
      ]
     },
     "execution_count": 338,
     "metadata": {},
     "output_type": "execute_result"
    }
   ],
   "source": [
    "forest_2 = RandomForestClassifier(n_estimators = 200, criterion='gini', max_depth=40, min_samples_split=2)\n",
    "forest_2.fit(X_train_resampled, y_train_resampled)"
   ]
  },
  {
   "cell_type": "code",
   "execution_count": 339,
   "metadata": {
    "ExecuteTime": {
     "end_time": "2022-05-14T19:13:02.878841Z",
     "start_time": "2022-05-14T19:13:02.623107Z"
    },
    "scrolled": true
   },
   "outputs": [
    {
     "name": "stdout",
     "output_type": "stream",
     "text": [
      "Second Forest Scores: \n",
      "               precision    recall  f1-score   support\n",
      "\n",
      "           0       0.87      0.93      0.90      4898\n",
      "           1       0.64      0.47      0.54      1309\n",
      "\n",
      "    accuracy                           0.83      6207\n",
      "   macro avg       0.75      0.70      0.72      6207\n",
      "weighted avg       0.82      0.83      0.82      6207\n",
      "\n"
     ]
    }
   ],
   "source": [
    "print('Second Forest Scores: \\n', classification_report(y_test, forest_2.predict(X_test)))"
   ]
  },
  {
   "cell_type": "markdown",
   "metadata": {},
   "source": [
    "Tuning this model does not seem to have much impact on our results.  Our next step will be fitting an XG Boost model."
   ]
  },
  {
   "cell_type": "code",
   "execution_count": 380,
   "metadata": {
    "ExecuteTime": {
     "end_time": "2022-05-15T15:41:20.205501Z",
     "start_time": "2022-05-15T15:41:20.197824Z"
    }
   },
   "outputs": [],
   "source": [
    "def plot_feature_importance(model):\n",
    "    sns.set_style('darkgrid')\n",
    "    importances = model.feature_importances_\n",
    "    sorted_indices = np.argsort(importances)[::-1]\n",
    "    n_features = 10\n",
    "    plt.figure(figsize=(8,8))\n",
    "    plt.barh(range(10), importances[sorted_indices][:10], align = 'center')\n",
    "    plt.yticks(range(n_features), X_train_resampled.columns[sorted_indices][:10])\n",
    "    plt.xlabel('Feature Importance', fontsize=16)\n",
    "    plt.ylabel('Feature', fontsize=16)\n",
    "    plt.title('Model Feature Importances', fontsize=20)"
   ]
  },
  {
   "cell_type": "code",
   "execution_count": 381,
   "metadata": {
    "ExecuteTime": {
     "end_time": "2022-05-15T15:41:20.684149Z",
     "start_time": "2022-05-15T15:41:20.517967Z"
    }
   },
   "outputs": [
    {
     "data": {
      "image/png": "[encoded data removed]",
      "text/plain": [
       "<Figure size 576x576 with 1 Axes>"
      ]
     },
     "metadata": {},
     "output_type": "display_data"
    }
   ],
   "source": [
    "plot_feature_importance(forest_2)"
   ]
  },
  {
   "cell_type": "markdown",
   "metadata": {},
   "source": [
    "## XG Boost Model"
   ]
  },
  {
   "cell_type": "code",
   "execution_count": 344,
   "metadata": {
    "ExecuteTime": {
     "end_time": "2022-05-14T22:18:28.736750Z",
     "start_time": "2022-05-14T22:18:26.454005Z"
    }
   },
   "outputs": [
    {
     "data": {
      "text/plain": [
       "XGBClassifier(base_score=0.5, booster='gbtree', colsample_bylevel=1,\n",
       "              colsample_bynode=1, colsample_bytree=1, gamma=0, gpu_id=-1,\n",
       "              importance_type='gain', interaction_constraints='',\n",
       "              learning_rate=0.300000012, max_delta_step=0, max_depth=6,\n",
       "              min_child_weight=1, missing=nan, monotone_constraints='()',\n",
       "              n_estimators=100, n_jobs=0, num_parallel_tree=1, random_state=42,\n",
       "              reg_alpha=0, reg_lambda=1, scale_pos_weight=1, subsample=1,\n",
       "              tree_method='exact', validate_parameters=1, verbosity=None)"
      ]
     },
     "execution_count": 344,
     "metadata": {},
     "output_type": "execute_result"
    }
   ],
   "source": [
    "boost = XGBClassifier(random_state=42)\n",
    "boost.fit(X_train_resampled, y_train_resampled)"
   ]
  },
  {
   "cell_type": "code",
   "execution_count": 345,
   "metadata": {
    "ExecuteTime": {
     "end_time": "2022-05-14T22:18:28.766793Z",
     "start_time": "2022-05-14T22:18:28.738445Z"
    }
   },
   "outputs": [
    {
     "name": "stdout",
     "output_type": "stream",
     "text": [
      "XG Boost Model Scores: \n",
      "               precision    recall  f1-score   support\n",
      "\n",
      "           0       0.87      0.93      0.90      4898\n",
      "           1       0.63      0.48      0.54      1309\n",
      "\n",
      "    accuracy                           0.83      6207\n",
      "   macro avg       0.75      0.70      0.72      6207\n",
      "weighted avg       0.82      0.83      0.82      6207\n",
      "\n"
     ]
    }
   ],
   "source": [
    "print('XG Boost Model Scores: \\n', classification_report(y_test, boost.predict(X_test)))"
   ]
  },
  {
   "cell_type": "markdown",
   "metadata": {},
   "source": [
    "This model performs just as well as our tuned random forests model.  Lets see if we can improve the performance by tuning the model."
   ]
  },
  {
   "cell_type": "code",
   "execution_count": 346,
   "metadata": {
    "ExecuteTime": {
     "end_time": "2022-05-14T22:26:53.401094Z",
     "start_time": "2022-05-14T22:18:32.944208Z"
    }
   },
   "outputs": [
    {
     "data": {
      "text/plain": [
       "GridSearchCV(cv=3,\n",
       "             estimator=XGBClassifier(base_score=0.5, booster='gbtree',\n",
       "                                     colsample_bylevel=1, colsample_bynode=1,\n",
       "                                     colsample_bytree=1, gamma=0, gpu_id=-1,\n",
       "                                     importance_type='gain',\n",
       "                                     interaction_constraints='',\n",
       "                                     learning_rate=0.300000012,\n",
       "                                     max_delta_step=0, max_depth=6,\n",
       "                                     min_child_weight=1, missing=nan,\n",
       "                                     monotone_constraints='()',\n",
       "                                     n_estimators=100, n_jobs=0,\n",
       "                                     num_parallel_tree=1, random_state=42,\n",
       "                                     reg_alpha=0, reg_lambda=1,\n",
       "                                     scale_pos_weight=1, subsample=1,\n",
       "                                     tree_method='exact', validate_parameters=1,\n",
       "                                     verbosity=None),\n",
       "             param_grid={'learning_rate': [0.1, 0.2, 0.3],\n",
       "                         'max_depth': [4, 5, 6],\n",
       "                         'min_child_weight': [0.5, 0.7, 1],\n",
       "                         'n_estimators': [100, 150, 200]})"
      ]
     },
     "execution_count": 346,
     "metadata": {},
     "output_type": "execute_result"
    }
   ],
   "source": [
    "boost_param_grid = {'learning_rate' : [.1, .2, .3],\n",
    "                   'max_depth' : [4, 5, 6],\n",
    "                   'min_child_weight' : [.5, .7, 1],\n",
    "                   'n_estimators' : [100, 150, 200]}\n",
    "\n",
    "gs_boost = GridSearchCV(boost, boost_param_grid, cv=3)\n",
    "gs_boost.fit(X_train_resampled, y_train_resampled)"
   ]
  },
  {
   "cell_type": "code",
   "execution_count": 347,
   "metadata": {
    "ExecuteTime": {
     "end_time": "2022-05-14T22:28:19.891028Z",
     "start_time": "2022-05-14T22:28:19.886047Z"
    }
   },
   "outputs": [
    {
     "data": {
      "text/plain": [
       "{'learning_rate': 0.1,\n",
       " 'max_depth': 4,\n",
       " 'min_child_weight': 0.5,\n",
       " 'n_estimators': 100}"
      ]
     },
     "execution_count": 347,
     "metadata": {},
     "output_type": "execute_result"
    }
   ],
   "source": [
    "gs_boost.best_params_"
   ]
  },
  {
   "cell_type": "code",
   "execution_count": 349,
   "metadata": {
    "ExecuteTime": {
     "end_time": "2022-05-14T22:33:19.035358Z",
     "start_time": "2022-05-14T22:33:17.613125Z"
    }
   },
   "outputs": [
    {
     "data": {
      "text/plain": [
       "XGBClassifier(base_score=0.5, booster='gbtree', colsample_bylevel=1,\n",
       "              colsample_bynode=1, colsample_bytree=1, gamma=0, gpu_id=-1,\n",
       "              importance_type='gain', interaction_constraints='',\n",
       "              learning_rate=0.1, max_delta_step=0, max_depth=4,\n",
       "              min_child_weight=0.5, missing=nan, monotone_constraints='()',\n",
       "              n_estimators=100, n_jobs=0, num_parallel_tree=1, random_state=42,\n",
       "              reg_alpha=0, reg_lambda=1, scale_pos_weight=1, subsample=1,\n",
       "              tree_method='exact', validate_parameters=1, verbosity=None)"
      ]
     },
     "execution_count": 349,
     "metadata": {},
     "output_type": "execute_result"
    }
   ],
   "source": [
    "boost_2 = XGBClassifier(random_state=42, \n",
    "                            learning_rate=.1, \n",
    "                            max_depth = 4, \n",
    "                            min_child_weight = .5, \n",
    "                            n_estimators = 100)\n",
    "boost_2.fit(X_train_resampled, y_train_resampled)"
   ]
  },
  {
   "cell_type": "code",
   "execution_count": 350,
   "metadata": {
    "ExecuteTime": {
     "end_time": "2022-05-14T22:34:28.122352Z",
     "start_time": "2022-05-14T22:34:28.080170Z"
    }
   },
   "outputs": [
    {
     "name": "stdout",
     "output_type": "stream",
     "text": [
      "Second Boost Model Scores: \n",
      "               precision    recall  f1-score   support\n",
      "\n",
      "           0       0.88      0.92      0.90      4898\n",
      "           1       0.63      0.51      0.56      1309\n",
      "\n",
      "    accuracy                           0.83      6207\n",
      "   macro avg       0.75      0.72      0.73      6207\n",
      "weighted avg       0.82      0.83      0.83      6207\n",
      "\n"
     ]
    }
   ],
   "source": [
    "print('Second Boost Model Scores: \\n', classification_report(y_test, boost_2.predict(X_test)))"
   ]
  },
  {
   "cell_type": "code",
   "execution_count": 382,
   "metadata": {
    "ExecuteTime": {
     "end_time": "2022-05-15T15:42:17.774103Z",
     "start_time": "2022-05-15T15:42:17.615150Z"
    }
   },
   "outputs": [
    {
     "data": {
      "image/png": "[encoded data removed]",
      "text/plain": [
       "<Figure size 576x576 with 1 Axes>"
      ]
     },
     "metadata": {},
     "output_type": "display_data"
    }
   ],
   "source": [
    "plot_feature_importance(boost_2)"
   ]
  },
  {
   "cell_type": "code",
   "execution_count": null,
   "metadata": {},
   "outputs": [],
   "source": []
  }
 ],
 "metadata": {
  "kernelspec": {
   "display_name": "Python 3",
   "language": "python",
   "name": "python3"
  },
  "language_info": {
   "codemirror_mode": {
    "name": "ipython",
    "version": 3
   },
   "file_extension": ".py",
   "mimetype": "text/x-python",
   "name": "python",
   "nbconvert_exporter": "python",
   "pygments_lexer": "ipython3",
   "version": "3.8.5"
  },
  "toc": {
   "base_numbering": 1,
   "nav_menu": {},
   "number_sections": true,
   "sideBar": true,
   "skip_h1_title": false,
   "title_cell": "Table of Contents",
   "title_sidebar": "Contents",
   "toc_cell": false,
   "toc_position": {},
   "toc_section_display": true,
   "toc_window_display": false
  }
 },
 "nbformat": 4,
 "nbformat_minor": 4
}
